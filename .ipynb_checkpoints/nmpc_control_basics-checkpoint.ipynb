{
 "cells": [
  {
   "cell_type": "code",
   "execution_count": 15,
   "id": "e4df5703-f653-41df-bcad-fe2d46638439",
   "metadata": {
    "tags": []
   },
   "outputs": [],
   "source": [
    "import numpy as np \n",
    "import scipy as sp\n",
    "\n",
    "import control as ct\n",
    "from core.utility import Output_Con"
   ]
  },
  {
   "cell_type": "code",
   "execution_count": 16,
   "id": "da29dcd5-78cc-4969-90e5-4fbf223a25ca",
   "metadata": {
    "tags": []
   },
   "outputs": [],
   "source": [
    "A = np.array([[0, 1,0],\n",
    "             [0, 0, 1],\n",
    "             [0, -2, -3]])\n",
    "B = np.array([[0],[0],[1]]).reshape(-1,1)\n",
    "C = np.eye(3)"
   ]
  },
  {
   "cell_type": "code",
   "execution_count": 17,
   "id": "c35b1141-09f0-4548-bf2e-75a76b8f82ae",
   "metadata": {
    "tags": []
   },
   "outputs": [],
   "source": [
    "dt = 0.1"
   ]
  },
  {
   "cell_type": "code",
   "execution_count": 18,
   "id": "d2289bc3-0475-4efa-9ac1-1e2333dd3260",
   "metadata": {
    "tags": []
   },
   "outputs": [],
   "source": [
    "Ad = A*dt + np.eye(A.shape[0])\n",
    "Bd = B*dt\n",
    "Cd  = C"
   ]
  },
  {
   "cell_type": "code",
   "execution_count": 19,
   "id": "94daff81-cb57-45bb-8172-087563fa3d55",
   "metadata": {
    "tags": []
   },
   "outputs": [
    {
     "name": "stdout",
     "output_type": "stream",
     "text": [
      "Rank for state Controllability : 3\n",
      "Rank for Output Controllability : 3\n"
     ]
    }
   ],
   "source": [
    "Con = ct.ctrb(A,B)\n",
    "print(\"Rank for state Controllability :\", np.linalg.matrix_rank(Con))\n",
    "\n",
    "Out_con, Out_rank = Output_Con(A, B, C)\n",
    "print(\"Rank for Output Controllability :\", Out_rank)\n"
   ]
  },
  {
   "cell_type": "code",
   "execution_count": 20,
   "id": "e46da173-35a1-46f2-9a94-5d1f447666d9",
   "metadata": {
    "tags": []
   },
   "outputs": [],
   "source": [
    "# import the libraries\n",
    "from control_files.nmpc_osqp import NonlinearMPCController\n",
    "from dynamics.learned_models_control.linear_dynamics import linear_Dynamics"
   ]
  },
  {
   "cell_type": "code",
   "execution_count": 21,
   "id": "423ecfa7-6726-41d5-876a-7f01493be8e4",
   "metadata": {
    "tags": []
   },
   "outputs": [],
   "source": [
    "linear_model = linear_Dynamics(sp.sparse.csc_matrix(Ad), sp.sparse.csc_matrix(Bd), Cd)"
   ]
  },
  {
   "cell_type": "code",
   "execution_count": 22,
   "id": "f6f08f05-6c3f-4d9a-ab42-876cbc706cc3",
   "metadata": {
    "tags": []
   },
   "outputs": [],
   "source": [
    "solver_settings = {}\n",
    "solver_settings['gen_embedded_ctrl'] = False\n",
    "solver_settings['warm_start'] = True\n",
    "solver_settings['polish'] = True\n",
    "solver_settings['polish_refine_iter'] = 3\n",
    "solver_settings['scaling'] = True\n",
    "solver_settings['adaptive_rho'] = False\n",
    "solver_settings['check_termination'] = 25\n",
    "solver_settings['max_iter'] = 1000\n",
    "solver_settings['eps_abs'] = 1e-6\n",
    "solver_settings['eps_rel'] = 1e-6\n",
    "solver_settings['eps_prim_inf'] = 1e-4\n",
    "solver_settings['eps_dual_inf'] = 1e-4\n",
    "solver_settings['linsys_solver'] = 'qdldl'"
   ]
  },
  {
   "cell_type": "code",
   "execution_count": 23,
   "id": "484af9a5-c09d-438f-8e2e-1197b01b6c7c",
   "metadata": {
    "tags": []
   },
   "outputs": [],
   "source": [
    "# closed loop evaluevation parameters\n",
    "traj_length = 2000\n",
    "max_iter = 100\n",
    "N = 1\n",
    "t_eval = dt*np.arange(traj_length+1)\n",
    "num_input = 1"
   ]
  },
  {
   "cell_type": "code",
   "execution_count": 24,
   "id": "e2e69a06-25fd-4af7-9b0a-1f64da9e260b",
   "metadata": {
    "tags": []
   },
   "outputs": [],
   "source": [
    "Q_mpc = sp.sparse.diags([100,100,100])\n",
    "QN_mpc = sp.sparse.diags([1e3,1e3,1e3])\n",
    "R_mpc = 1*sp.sparse.eye(num_input)                                     # Actuation penalty matrix, trajectory generation\n",
    "R0_mpc = sp.sparse.csc_matrix(np.zeros(num_input))"
   ]
  },
  {
   "cell_type": "code",
   "execution_count": 25,
   "id": "663383ad-8af8-4f79-a4d9-dc42ec7dafc7",
   "metadata": {
    "tags": []
   },
   "outputs": [],
   "source": [
    "\n",
    "# Design trajectory:\n",
    "x0 = np.array([-0.2, 0.1, 0.3])                   # Initial value, closed loop trajectory\n",
    "set_pt = np.array([0, 0, 0])              # Desired final value, closed loop trajectory\n",
    "x_ref = np.tile(set_pt.reshape(-1,1), (1, traj_length))\n",
    "xmax = np.array([5, 5,5])                          # State constraints, trajectory generation\n",
    "xmin = -xmax\n",
    "umax = 10\n",
    "umin = -umax\n",
    "\n",
    "# Define initial solution for SQP algorithm:\n",
    "x_init = np.linspace(x0, x0, N+1)\n",
    "u_init = 1*np.ones((num_input, N)).T\n",
    "z_init = x_init"
   ]
  },
  {
   "cell_type": "code",
   "execution_count": 26,
   "id": "0473c12e-f707-47c7-81f6-a5c3f7bf34b7",
   "metadata": {
    "tags": []
   },
   "outputs": [
    {
     "name": "stdout",
     "output_type": "stream",
     "text": [
      "(6, 6) (0, 6) (6, 6)\n"
     ]
    },
    {
     "ename": "ValueError",
     "evalue": "Incorrect dimension of l",
     "output_type": "error",
     "traceback": [
      "\u001b[0;31m---------------------------------------------------------------------------\u001b[0m",
      "\u001b[0;31mValueError\u001b[0m                                Traceback (most recent call last)",
      "Cell \u001b[0;32mIn [26], line 2\u001b[0m\n\u001b[1;32m      1\u001b[0m controller_nmpc \u001b[38;5;241m=\u001b[39m NonlinearMPCController(linear_model, N, dt, umin, umax, xmin, xmax, Q_mpc, R_mpc, QN_mpc, solver_settings)\n\u001b[0;32m----> 2\u001b[0m \u001b[43mcontroller_nmpc\u001b[49m\u001b[38;5;241;43m.\u001b[39;49m\u001b[43mconstruct_controller\u001b[49m\u001b[43m(\u001b[49m\u001b[43mz_init\u001b[49m\u001b[43m,\u001b[49m\u001b[43m \u001b[49m\u001b[43mu_init\u001b[49m\u001b[43m,\u001b[49m\u001b[43mx_ref\u001b[49m\u001b[43m[\u001b[49m\u001b[43m:\u001b[49m\u001b[43m,\u001b[49m\u001b[38;5;241;43m0\u001b[39;49m\u001b[43m]\u001b[49m\u001b[43m)\u001b[49m\n",
      "File \u001b[0;32m~/Adaptive-koopman/control_files/nmpc_osqp.py:87\u001b[0m, in \u001b[0;36mNonlinearMPCController.construct_controller\u001b[0;34m(self, z_init, u_init, x_ref)\u001b[0m\n\u001b[1;32m     85\u001b[0m \u001b[38;5;66;03m# Create an OSQP object and setup workspace\u001b[39;00m\n\u001b[1;32m     86\u001b[0m \u001b[38;5;28mself\u001b[39m\u001b[38;5;241m.\u001b[39mprob \u001b[38;5;241m=\u001b[39m osqp\u001b[38;5;241m.\u001b[39mOSQP()\n\u001b[0;32m---> 87\u001b[0m \u001b[38;5;28;43mself\u001b[39;49m\u001b[38;5;241;43m.\u001b[39;49m\u001b[43mprob\u001b[49m\u001b[38;5;241;43m.\u001b[39;49m\u001b[43msetup\u001b[49m\u001b[43m(\u001b[49m\u001b[43mP\u001b[49m\u001b[38;5;241;43m=\u001b[39;49m\u001b[38;5;28;43mself\u001b[39;49m\u001b[38;5;241;43m.\u001b[39;49m\u001b[43m_osqp_P\u001b[49m\u001b[43m,\u001b[49m\u001b[43m \u001b[49m\u001b[43mq\u001b[49m\u001b[38;5;241;43m=\u001b[39;49m\u001b[38;5;28;43mself\u001b[39;49m\u001b[38;5;241;43m.\u001b[39;49m\u001b[43m_osqp_q\u001b[49m\u001b[43m,\u001b[49m\u001b[43m \u001b[49m\u001b[43mA\u001b[49m\u001b[38;5;241;43m=\u001b[39;49m\u001b[38;5;28;43mself\u001b[39;49m\u001b[38;5;241;43m.\u001b[39;49m\u001b[43m_osqp_A\u001b[49m\u001b[43m,\u001b[49m\u001b[43m \u001b[49m\u001b[43ml\u001b[49m\u001b[38;5;241;43m=\u001b[39;49m\u001b[38;5;28;43mself\u001b[39;49m\u001b[38;5;241;43m.\u001b[39;49m\u001b[43m_osqp_l\u001b[49m\u001b[43m,\u001b[49m\u001b[43m \u001b[49m\u001b[43mu\u001b[49m\u001b[38;5;241;43m=\u001b[39;49m\u001b[38;5;28;43mself\u001b[39;49m\u001b[38;5;241;43m.\u001b[39;49m\u001b[43m_osqp_u\u001b[49m\u001b[43m,\u001b[49m\u001b[43m \u001b[49m\u001b[43mverbose\u001b[49m\u001b[38;5;241;43m=\u001b[39;49m\u001b[38;5;28;43;01mFalse\u001b[39;49;00m\u001b[43m,\u001b[49m\n\u001b[1;32m     88\u001b[0m \u001b[43m                \u001b[49m\u001b[43mwarm_start\u001b[49m\u001b[38;5;241;43m=\u001b[39;49m\u001b[38;5;28;43mself\u001b[39;49m\u001b[38;5;241;43m.\u001b[39;49m\u001b[43msolver_settings\u001b[49m\u001b[43m[\u001b[49m\u001b[38;5;124;43m'\u001b[39;49m\u001b[38;5;124;43mwarm_start\u001b[39;49m\u001b[38;5;124;43m'\u001b[39;49m\u001b[43m]\u001b[49m\u001b[43m,\u001b[49m\n\u001b[1;32m     89\u001b[0m \u001b[43m                \u001b[49m\u001b[43mpolish\u001b[49m\u001b[38;5;241;43m=\u001b[39;49m\u001b[38;5;28;43mself\u001b[39;49m\u001b[38;5;241;43m.\u001b[39;49m\u001b[43msolver_settings\u001b[49m\u001b[43m[\u001b[49m\u001b[38;5;124;43m'\u001b[39;49m\u001b[38;5;124;43mpolish\u001b[39;49m\u001b[38;5;124;43m'\u001b[39;49m\u001b[43m]\u001b[49m\u001b[43m,\u001b[49m\n\u001b[1;32m     90\u001b[0m \u001b[43m                \u001b[49m\u001b[43mpolish_refine_iter\u001b[49m\u001b[38;5;241;43m=\u001b[39;49m\u001b[38;5;28;43mself\u001b[39;49m\u001b[38;5;241;43m.\u001b[39;49m\u001b[43msolver_settings\u001b[49m\u001b[43m[\u001b[49m\u001b[38;5;124;43m'\u001b[39;49m\u001b[38;5;124;43mpolish_refine_iter\u001b[39;49m\u001b[38;5;124;43m'\u001b[39;49m\u001b[43m]\u001b[49m\u001b[43m,\u001b[49m\n\u001b[1;32m     91\u001b[0m \u001b[43m                \u001b[49m\u001b[43mcheck_termination\u001b[49m\u001b[38;5;241;43m=\u001b[39;49m\u001b[38;5;28;43mself\u001b[39;49m\u001b[38;5;241;43m.\u001b[39;49m\u001b[43msolver_settings\u001b[49m\u001b[43m[\u001b[49m\u001b[38;5;124;43m'\u001b[39;49m\u001b[38;5;124;43mcheck_termination\u001b[39;49m\u001b[38;5;124;43m'\u001b[39;49m\u001b[43m]\u001b[49m\u001b[43m,\u001b[49m\n\u001b[1;32m     92\u001b[0m \u001b[43m                \u001b[49m\u001b[43meps_abs\u001b[49m\u001b[38;5;241;43m=\u001b[39;49m\u001b[38;5;28;43mself\u001b[39;49m\u001b[38;5;241;43m.\u001b[39;49m\u001b[43msolver_settings\u001b[49m\u001b[43m[\u001b[49m\u001b[38;5;124;43m'\u001b[39;49m\u001b[38;5;124;43meps_abs\u001b[39;49m\u001b[38;5;124;43m'\u001b[39;49m\u001b[43m]\u001b[49m\u001b[43m,\u001b[49m\n\u001b[1;32m     93\u001b[0m \u001b[43m                \u001b[49m\u001b[43meps_rel\u001b[49m\u001b[38;5;241;43m=\u001b[39;49m\u001b[38;5;28;43mself\u001b[39;49m\u001b[38;5;241;43m.\u001b[39;49m\u001b[43msolver_settings\u001b[49m\u001b[43m[\u001b[49m\u001b[38;5;124;43m'\u001b[39;49m\u001b[38;5;124;43meps_rel\u001b[39;49m\u001b[38;5;124;43m'\u001b[39;49m\u001b[43m]\u001b[49m\u001b[43m,\u001b[49m\n\u001b[1;32m     94\u001b[0m \u001b[43m                \u001b[49m\u001b[43meps_prim_inf\u001b[49m\u001b[38;5;241;43m=\u001b[39;49m\u001b[38;5;28;43mself\u001b[39;49m\u001b[38;5;241;43m.\u001b[39;49m\u001b[43msolver_settings\u001b[49m\u001b[43m[\u001b[49m\u001b[38;5;124;43m'\u001b[39;49m\u001b[38;5;124;43meps_prim_inf\u001b[39;49m\u001b[38;5;124;43m'\u001b[39;49m\u001b[43m]\u001b[49m\u001b[43m,\u001b[49m\n\u001b[1;32m     95\u001b[0m \u001b[43m                \u001b[49m\u001b[43meps_dual_inf\u001b[49m\u001b[38;5;241;43m=\u001b[39;49m\u001b[38;5;28;43mself\u001b[39;49m\u001b[38;5;241;43m.\u001b[39;49m\u001b[43msolver_settings\u001b[49m\u001b[43m[\u001b[49m\u001b[38;5;124;43m'\u001b[39;49m\u001b[38;5;124;43meps_dual_inf\u001b[39;49m\u001b[38;5;124;43m'\u001b[39;49m\u001b[43m]\u001b[49m\u001b[43m,\u001b[49m\n\u001b[1;32m     96\u001b[0m \u001b[43m                \u001b[49m\u001b[43mlinsys_solver\u001b[49m\u001b[38;5;241;43m=\u001b[39;49m\u001b[38;5;28;43mself\u001b[39;49m\u001b[38;5;241;43m.\u001b[39;49m\u001b[43msolver_settings\u001b[49m\u001b[43m[\u001b[49m\u001b[38;5;124;43m'\u001b[39;49m\u001b[38;5;124;43mlinsys_solver\u001b[39;49m\u001b[38;5;124;43m'\u001b[39;49m\u001b[43m]\u001b[49m\u001b[43m,\u001b[49m\n\u001b[1;32m     97\u001b[0m \u001b[43m                \u001b[49m\u001b[43madaptive_rho\u001b[49m\u001b[38;5;241;43m=\u001b[39;49m\u001b[38;5;28;43mself\u001b[39;49m\u001b[38;5;241;43m.\u001b[39;49m\u001b[43msolver_settings\u001b[49m\u001b[43m[\u001b[49m\u001b[38;5;124;43m'\u001b[39;49m\u001b[38;5;124;43madaptive_rho\u001b[39;49m\u001b[38;5;124;43m'\u001b[39;49m\u001b[43m]\u001b[49m\u001b[43m)\u001b[49m\n",
      "File \u001b[0;32m~/.local/lib/python3.8/site-packages/osqp/interface.py:36\u001b[0m, in \u001b[0;36mOSQP.setup\u001b[0;34m(self, P, q, A, l, u, **settings)\u001b[0m\n\u001b[1;32m     33\u001b[0m \u001b[38;5;66;03m# TODO(bart): this will be unnecessary when the derivative will be in C\u001b[39;00m\n\u001b[1;32m     34\u001b[0m \u001b[38;5;28mself\u001b[39m\u001b[38;5;241m.\u001b[39m_derivative_cache \u001b[38;5;241m=\u001b[39m {\u001b[38;5;124m'\u001b[39m\u001b[38;5;124mP\u001b[39m\u001b[38;5;124m'\u001b[39m: P, \u001b[38;5;124m'\u001b[39m\u001b[38;5;124mq\u001b[39m\u001b[38;5;124m'\u001b[39m: q, \u001b[38;5;124m'\u001b[39m\u001b[38;5;124mA\u001b[39m\u001b[38;5;124m'\u001b[39m: A, \u001b[38;5;124m'\u001b[39m\u001b[38;5;124ml\u001b[39m\u001b[38;5;124m'\u001b[39m: l, \u001b[38;5;124m'\u001b[39m\u001b[38;5;124mu\u001b[39m\u001b[38;5;124m'\u001b[39m: u}\n\u001b[0;32m---> 36\u001b[0m unpacked_data, settings \u001b[38;5;241m=\u001b[39m \u001b[43mutils\u001b[49m\u001b[38;5;241;43m.\u001b[39;49m\u001b[43mprepare_data\u001b[49m\u001b[43m(\u001b[49m\u001b[43mP\u001b[49m\u001b[43m,\u001b[49m\u001b[43m \u001b[49m\u001b[43mq\u001b[49m\u001b[43m,\u001b[49m\u001b[43m \u001b[49m\u001b[43mA\u001b[49m\u001b[43m,\u001b[49m\u001b[43m \u001b[49m\u001b[43ml\u001b[49m\u001b[43m,\u001b[49m\u001b[43m \u001b[49m\u001b[43mu\u001b[49m\u001b[43m,\u001b[49m\u001b[43m \u001b[49m\u001b[38;5;241;43m*\u001b[39;49m\u001b[38;5;241;43m*\u001b[39;49m\u001b[43msettings\u001b[49m\u001b[43m)\u001b[49m\n\u001b[1;32m     37\u001b[0m \u001b[38;5;28mself\u001b[39m\u001b[38;5;241m.\u001b[39m_model\u001b[38;5;241m.\u001b[39msetup(\u001b[38;5;241m*\u001b[39munpacked_data, \u001b[38;5;241m*\u001b[39m\u001b[38;5;241m*\u001b[39msettings)\n",
      "File \u001b[0;32m~/.local/lib/python3.8/site-packages/osqp/utils.py:98\u001b[0m, in \u001b[0;36mprepare_data\u001b[0;34m(P, q, A, l, u, **settings)\u001b[0m\n\u001b[1;32m     96\u001b[0m     \u001b[38;5;28;01mraise\u001b[39;00m \u001b[38;5;167;01mValueError\u001b[39;00m(\u001b[38;5;124m\"\u001b[39m\u001b[38;5;124mIncorrect dimension of q\u001b[39m\u001b[38;5;124m\"\u001b[39m)\n\u001b[1;32m     97\u001b[0m \u001b[38;5;28;01mif\u001b[39;00m \u001b[38;5;28mlen\u001b[39m(l) \u001b[38;5;241m!=\u001b[39m m:\n\u001b[0;32m---> 98\u001b[0m     \u001b[38;5;28;01mraise\u001b[39;00m \u001b[38;5;167;01mValueError\u001b[39;00m(\u001b[38;5;124m\"\u001b[39m\u001b[38;5;124mIncorrect dimension of l\u001b[39m\u001b[38;5;124m\"\u001b[39m)\n\u001b[1;32m     99\u001b[0m \u001b[38;5;28;01mif\u001b[39;00m \u001b[38;5;28mlen\u001b[39m(u) \u001b[38;5;241m!=\u001b[39m m:\n\u001b[1;32m    100\u001b[0m     \u001b[38;5;28;01mraise\u001b[39;00m \u001b[38;5;167;01mValueError\u001b[39;00m(\u001b[38;5;124m\"\u001b[39m\u001b[38;5;124mIncorrect dimension of u\u001b[39m\u001b[38;5;124m\"\u001b[39m)\n",
      "\u001b[0;31mValueError\u001b[0m: Incorrect dimension of l"
     ]
    }
   ],
   "source": [
    "controller_nmpc = NonlinearMPCController(linear_model, N, dt, umin, umax, xmin, xmax, Q_mpc, R_mpc, QN_mpc, solver_settings)\n",
    "controller_nmpc.construct_controller(z_init, u_init,x_ref[:,0])"
   ]
  },
  {
   "cell_type": "code",
   "execution_count": 27,
   "id": "fee6e6ff-b78e-47f9-a3ec-6bcc807abedf",
   "metadata": {
    "tags": []
   },
   "outputs": [
    {
     "name": "stdout",
     "output_type": "stream",
     "text": [
      "(12, 6)\n",
      "(13,)\n",
      "(7, 7)\n",
      "(7,)\n"
     ]
    }
   ],
   "source": [
    "print(controller_nmpc._osqp_A.shape)\n",
    "print(controller_nmpc._osqp_l.shape)\n",
    "print(controller_nmpc._osqp_P.shape)\n",
    "print(controller_nmpc._osqp_q.shape)"
   ]
  },
  {
   "cell_type": "code",
   "execution_count": 28,
   "id": "11288fd6-7d60-4899-97ef-6254b4bf525e",
   "metadata": {},
   "outputs": [
    {
     "name": "stdout",
     "output_type": "stream",
     "text": [
      "3\n",
      "3\n",
      "0\n"
     ]
    }
   ],
   "source": [
    "print(controller_nmpc.nz)\n",
    "print(controller_nmpc.nx)\n",
    "print(controller_nmpc.nu)"
   ]
  },
  {
   "cell_type": "code",
   "execution_count": null,
   "id": "56bf6df6-d7a5-458e-99bd-3d3e1108d4ea",
   "metadata": {},
   "outputs": [],
   "source": [
    "A"
   ]
  },
  {
   "cell_type": "code",
   "execution_count": null,
   "id": "e8f74955-2b19-49c9-bd1a-121a426125aa",
   "metadata": {},
   "outputs": [],
   "source": []
  },
  {
   "cell_type": "code",
   "execution_count": null,
   "id": "e82b2b8e-c01f-4159-93fb-e5edb50eb5f3",
   "metadata": {},
   "outputs": [],
   "source": []
  }
 ],
 "metadata": {
  "kernelspec": {
   "display_name": "Python 3 (ipykernel)",
   "language": "python",
   "name": "python3"
  },
  "language_info": {
   "codemirror_mode": {
    "name": "ipython",
    "version": 3
   },
   "file_extension": ".py",
   "mimetype": "text/x-python",
   "name": "python",
   "nbconvert_exporter": "python",
   "pygments_lexer": "ipython3",
   "version": "3.8.10"
  }
 },
 "nbformat": 4,
 "nbformat_minor": 5
}
