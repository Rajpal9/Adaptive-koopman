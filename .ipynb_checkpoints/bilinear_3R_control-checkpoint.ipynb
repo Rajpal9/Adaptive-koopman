{
 "cells": [
  {
   "cell_type": "code",
   "execution_count": 1,
   "id": "47410caf",
   "metadata": {
    "pycharm": {
     "name": "#%%\n"
    },
    "tags": []
   },
   "outputs": [],
   "source": [
    "# import libraries\n",
    "import math\n",
    "\n",
    "import numpy as np\n",
    "import matplotlib.pyplot as plt\n",
    "import sklearn.preprocessing\n",
    "import itertools\n",
    "import torch\n",
    "\n",
    "from core.koopman_core import KoopDNN,KoopmanNet,KoopmanNetCtrl\n",
    "from models.koop_model import model_matricies,lift\n",
    "from core.adapt_net import AdaptNet\n",
    "\n",
    "from dynamics.robot_3R import dynamics_3R, dynamics_3R_data_gen, forward_map_3R, get_robot_params\n",
    "import time"
   ]
  },
  {
   "cell_type": "code",
   "execution_count": 2,
   "id": "b2f0569f",
   "metadata": {
    "pycharm": {
     "name": "#%%\n"
    },
    "tags": []
   },
   "outputs": [],
   "source": [
    "dt = 0.005 #time step\n",
    "num_snaps = 1000 # no. of snapshots\n",
    "T = np.linspace(0,num_snaps*dt, num_snaps+1)\n",
    "num_train = 100 # no. of training examples\n",
    "num_val = int(0.25*num_train) # no of testing examples\n",
    "num_traj = num_train+num_val #no of trajectories\n",
    "num_states = 6 # no. of states\n",
    "num_inputs = 3 # no. of inputs"
   ]
  },
  {
   "cell_type": "code",
   "execution_count": 3,
   "id": "120f4664",
   "metadata": {
    "collapsed": false,
    "jupyter": {
     "outputs_hidden": false
    },
    "pycharm": {
     "name": "#%%\n"
    },
    "tags": []
   },
   "outputs": [],
   "source": [
    "# Oscillator parameters\n",
    "robot_pars = {}\n",
    "# link lengths\n",
    "robot_pars['a1'] = 0.33\n",
    "robot_pars['a2'] = 0.33\n",
    "robot_pars['a3'] = 0.33\n",
    "\n",
    "robot_pars['del_a1'] = 0.\n",
    "robot_pars['del_a2'] = 0.\n",
    "robot_pars['del_a3'] = 0.\n",
    "\n",
    "\n",
    "#link masses\n",
    "robot_pars['m1'] = 0.1\n",
    "robot_pars['m2'] = 0.1\n",
    "robot_pars['m3'] = 0.1\n",
    "\n",
    "robot_pars['del_m1'] = 0.1\n",
    "robot_pars['del_m2'] = 0.1\n",
    "robot_pars['del_m3'] = 0.1\n",
    "\n",
    "# link inertias\n",
    "robot_pars['I1'] = 1\n",
    "robot_pars['I2'] = 1\n",
    "robot_pars['I3'] = 1\n",
    "\n",
    "robot_pars['del_I1'] = 0.5\n",
    "robot_pars['del_I2'] = 0.5\n",
    "robot_pars['del_I3'] = 0.5\n",
    "\n",
    "#position of CM\n",
    "robot_pars['l1'] = 0.33/2\n",
    "robot_pars['l2'] = 0.33/2\n",
    "robot_pars['l3'] = 0.33/2\n",
    "\n",
    "robot_pars['del_l1'] = 0\n",
    "robot_pars['del_l2'] = 0\n",
    "robot_pars['del_l3'] = 0\n",
    "\n",
    "#dynamic friction coefficient\n",
    "robot_pars['fd'] = 0.1\n",
    "\n",
    "robot_pars['del_fd'] = 0\n",
    "\n",
    "\n",
    "robot_pars['delay'] = False\n",
    "robot_pars['delay_time'] = 5\n",
    "robot_pars['cont_unc_type'] = 'constant'"
   ]
  },
  {
   "cell_type": "code",
   "execution_count": 4,
   "id": "f84ce89d",
   "metadata": {
    "collapsed": false,
    "jupyter": {
     "outputs_hidden": false
    },
    "pycharm": {
     "name": "#%%\n"
    },
    "tags": []
   },
   "outputs": [
    {
     "name": "stdout",
     "output_type": "stream",
     "text": [
      "(125, 1001, 6) (125, 1000, 3)\n"
     ]
    }
   ],
   "source": [
    "X_end_changed,X_changed, X_end_unchanged, X_unchanged, U = dynamics_3R_data_gen(dt,num_traj, num_snaps,num_states,num_inputs,robot_pars)\n",
    "\n",
    "print(X_changed.shape, U.shape)"
   ]
  },
  {
   "cell_type": "code",
   "execution_count": 5,
   "id": "8e3ac8ca",
   "metadata": {
    "collapsed": false,
    "jupyter": {
     "outputs_hidden": false
    },
    "pycharm": {
     "name": "#%%\n"
    },
    "tags": []
   },
   "outputs": [
    {
     "name": "stdout",
     "output_type": "stream",
     "text": [
      "0\n",
      "0\n"
     ]
    }
   ],
   "source": [
    "# Check for nan values\n",
    "print(sum(sum(sum(np.isnan(X_changed)))))\n",
    "print(sum(sum(sum(np.isnan(X_unchanged)))))"
   ]
  },
  {
   "cell_type": "code",
   "execution_count": 6,
   "id": "b9d952f1",
   "metadata": {
    "collapsed": false,
    "jupyter": {
     "outputs_hidden": false
    },
    "pycharm": {
     "name": "#%%\n"
    },
    "tags": []
   },
   "outputs": [
    {
     "name": "stdout",
     "output_type": "stream",
     "text": [
      "l2_diff =  0.042233058945620926\n"
     ]
    }
   ],
   "source": [
    "l2_diff = np.linalg.norm(X_changed-X_unchanged)/((X_changed.size)**(1/2))\n",
    "print('l2_diff = ', l2_diff)"
   ]
  },
  {
   "cell_type": "code",
   "execution_count": 7,
   "id": "b12219f8",
   "metadata": {
    "collapsed": false,
    "jupyter": {
     "outputs_hidden": false
    },
    "pycharm": {
     "name": "#%%\n"
    },
    "tags": []
   },
   "outputs": [
    {
     "name": "stdout",
     "output_type": "stream",
     "text": [
      "fraction of change in dynamics =  0.16382602796997256\n"
     ]
    }
   ],
   "source": [
    "change_in_dym = np.linalg.norm((X_changed-X_unchanged)/X_changed)/X_changed.size\n",
    "print('fraction of change in dynamics = ', change_in_dym)"
   ]
  },
  {
   "cell_type": "code",
   "execution_count": 8,
   "id": "f6e41e81",
   "metadata": {
    "collapsed": false,
    "jupyter": {
     "outputs_hidden": false
    },
    "pycharm": {
     "name": "#%%\n"
    },
    "tags": []
   },
   "outputs": [
    {
     "ename": "ValueError",
     "evalue": "Format 'jpg' is not supported (supported formats: eps, pdf, pgf, png, ps, raw, rgba, svg, svgz)",
     "output_type": "error",
     "traceback": [
      "\u001b[0;31m---------------------------------------------------------------------------\u001b[0m",
      "\u001b[0;31mValueError\u001b[0m                                Traceback (most recent call last)",
      "Cell \u001b[0;32mIn [8], line 12\u001b[0m\n\u001b[1;32m     10\u001b[0m     axs[\u001b[38;5;241m0\u001b[39m]\u001b[38;5;241m.\u001b[39mplot(X_end_unchanged[i,:,\u001b[38;5;241m0\u001b[39m], X_end_unchanged[i,:,\u001b[38;5;241m1\u001b[39m])\n\u001b[1;32m     11\u001b[0m     axs[\u001b[38;5;241m1\u001b[39m]\u001b[38;5;241m.\u001b[39mplot(X_end_changed[i,:,\u001b[38;5;241m0\u001b[39m], X_end_changed[i,:,\u001b[38;5;241m1\u001b[39m])\n\u001b[0;32m---> 12\u001b[0m \u001b[43mplt\u001b[49m\u001b[38;5;241;43m.\u001b[39;49m\u001b[43msavefig\u001b[49m\u001b[43m(\u001b[49m\u001b[38;5;124;43m'\u001b[39;49m\u001b[38;5;124;43mphase_plot_duffing.jpg\u001b[39;49m\u001b[38;5;124;43m'\u001b[39;49m\u001b[43m)\u001b[49m\n",
      "File \u001b[0;32m/usr/lib/python3/dist-packages/matplotlib/pyplot.py:722\u001b[0m, in \u001b[0;36msavefig\u001b[0;34m(*args, **kwargs)\u001b[0m\n\u001b[1;32m    719\u001b[0m \u001b[38;5;129m@docstring\u001b[39m\u001b[38;5;241m.\u001b[39mcopy(Figure\u001b[38;5;241m.\u001b[39msavefig)\n\u001b[1;32m    720\u001b[0m \u001b[38;5;28;01mdef\u001b[39;00m \u001b[38;5;21msavefig\u001b[39m(\u001b[38;5;241m*\u001b[39margs, \u001b[38;5;241m*\u001b[39m\u001b[38;5;241m*\u001b[39mkwargs):\n\u001b[1;32m    721\u001b[0m     fig \u001b[38;5;241m=\u001b[39m gcf()\n\u001b[0;32m--> 722\u001b[0m     res \u001b[38;5;241m=\u001b[39m \u001b[43mfig\u001b[49m\u001b[38;5;241;43m.\u001b[39;49m\u001b[43msavefig\u001b[49m\u001b[43m(\u001b[49m\u001b[38;5;241;43m*\u001b[39;49m\u001b[43margs\u001b[49m\u001b[43m,\u001b[49m\u001b[43m \u001b[49m\u001b[38;5;241;43m*\u001b[39;49m\u001b[38;5;241;43m*\u001b[39;49m\u001b[43mkwargs\u001b[49m\u001b[43m)\u001b[49m\n\u001b[1;32m    723\u001b[0m     fig\u001b[38;5;241m.\u001b[39mcanvas\u001b[38;5;241m.\u001b[39mdraw_idle()   \u001b[38;5;66;03m# need this if 'transparent=True' to reset colors\u001b[39;00m\n\u001b[1;32m    724\u001b[0m     \u001b[38;5;28;01mreturn\u001b[39;00m res\n",
      "File \u001b[0;32m/usr/lib/python3/dist-packages/matplotlib/figure.py:2180\u001b[0m, in \u001b[0;36mFigure.savefig\u001b[0;34m(self, fname, transparent, **kwargs)\u001b[0m\n\u001b[1;32m   2177\u001b[0m     original_frameon \u001b[38;5;241m=\u001b[39m \u001b[38;5;28mself\u001b[39m\u001b[38;5;241m.\u001b[39mpatch\u001b[38;5;241m.\u001b[39mget_visible()\n\u001b[1;32m   2178\u001b[0m     \u001b[38;5;28mself\u001b[39m\u001b[38;5;241m.\u001b[39mpatch\u001b[38;5;241m.\u001b[39mset_visible(frameon)\n\u001b[0;32m-> 2180\u001b[0m \u001b[38;5;28;43mself\u001b[39;49m\u001b[38;5;241;43m.\u001b[39;49m\u001b[43mcanvas\u001b[49m\u001b[38;5;241;43m.\u001b[39;49m\u001b[43mprint_figure\u001b[49m\u001b[43m(\u001b[49m\u001b[43mfname\u001b[49m\u001b[43m,\u001b[49m\u001b[43m \u001b[49m\u001b[38;5;241;43m*\u001b[39;49m\u001b[38;5;241;43m*\u001b[39;49m\u001b[43mkwargs\u001b[49m\u001b[43m)\u001b[49m\n\u001b[1;32m   2182\u001b[0m \u001b[38;5;28;01mif\u001b[39;00m frameon:\n\u001b[1;32m   2183\u001b[0m     \u001b[38;5;28mself\u001b[39m\u001b[38;5;241m.\u001b[39mpatch\u001b[38;5;241m.\u001b[39mset_visible(original_frameon)\n",
      "File \u001b[0;32m/usr/lib/python3/dist-packages/matplotlib/backend_bases.py:2021\u001b[0m, in \u001b[0;36mFigureCanvasBase.print_figure\u001b[0;34m(self, filename, dpi, facecolor, edgecolor, orientation, format, bbox_inches, **kwargs)\u001b[0m\n\u001b[1;32m   2018\u001b[0m \u001b[38;5;28mformat\u001b[39m \u001b[38;5;241m=\u001b[39m \u001b[38;5;28mformat\u001b[39m\u001b[38;5;241m.\u001b[39mlower()\n\u001b[1;32m   2020\u001b[0m \u001b[38;5;66;03m# get canvas object and print method for format\u001b[39;00m\n\u001b[0;32m-> 2021\u001b[0m canvas \u001b[38;5;241m=\u001b[39m \u001b[38;5;28;43mself\u001b[39;49m\u001b[38;5;241;43m.\u001b[39;49m\u001b[43m_get_output_canvas\u001b[49m\u001b[43m(\u001b[49m\u001b[38;5;28;43mformat\u001b[39;49m\u001b[43m)\u001b[49m\n\u001b[1;32m   2022\u001b[0m print_method \u001b[38;5;241m=\u001b[39m \u001b[38;5;28mgetattr\u001b[39m(canvas, \u001b[38;5;124m'\u001b[39m\u001b[38;5;124mprint_\u001b[39m\u001b[38;5;132;01m%s\u001b[39;00m\u001b[38;5;124m'\u001b[39m \u001b[38;5;241m%\u001b[39m \u001b[38;5;28mformat\u001b[39m)\n\u001b[1;32m   2024\u001b[0m \u001b[38;5;28;01mif\u001b[39;00m dpi \u001b[38;5;129;01mis\u001b[39;00m \u001b[38;5;28;01mNone\u001b[39;00m:\n",
      "File \u001b[0;32m/usr/lib/python3/dist-packages/matplotlib/backend_bases.py:1961\u001b[0m, in \u001b[0;36mFigureCanvasBase._get_output_canvas\u001b[0;34m(self, fmt)\u001b[0m\n\u001b[1;32m   1959\u001b[0m     \u001b[38;5;28;01mreturn\u001b[39;00m \u001b[38;5;28mself\u001b[39m\u001b[38;5;241m.\u001b[39mswitch_backends(canvas_class)\n\u001b[1;32m   1960\u001b[0m \u001b[38;5;66;03m# Else report error for unsupported format.\u001b[39;00m\n\u001b[0;32m-> 1961\u001b[0m \u001b[38;5;28;01mraise\u001b[39;00m \u001b[38;5;167;01mValueError\u001b[39;00m(\n\u001b[1;32m   1962\u001b[0m     \u001b[38;5;124m\"\u001b[39m\u001b[38;5;124mFormat \u001b[39m\u001b[38;5;132;01m{!r}\u001b[39;00m\u001b[38;5;124m is not supported (supported formats: \u001b[39m\u001b[38;5;132;01m{}\u001b[39;00m\u001b[38;5;124m)\u001b[39m\u001b[38;5;124m\"\u001b[39m\n\u001b[1;32m   1963\u001b[0m     \u001b[38;5;241m.\u001b[39mformat(fmt, \u001b[38;5;124m\"\u001b[39m\u001b[38;5;124m, \u001b[39m\u001b[38;5;124m\"\u001b[39m\u001b[38;5;241m.\u001b[39mjoin(\u001b[38;5;28msorted\u001b[39m(\u001b[38;5;28mself\u001b[39m\u001b[38;5;241m.\u001b[39mget_supported_filetypes()))))\n",
      "\u001b[0;31mValueError\u001b[0m: Format 'jpg' is not supported (supported formats: eps, pdf, pgf, png, ps, raw, rgba, svg, svgz)"
     ]
    },
    {
     "data": {
      "image/png": "[encoded data removed]",
      "text/plain": [
       "<Figure size 1200x700 with 2 Axes>"
      ]
     },
     "metadata": {},
     "output_type": "display_data"
    }
   ],
   "source": [
    "# plot dataset\n",
    "fig, axs = plt.subplots(1,2,figsize=(12,7))\n",
    "axs[0].set_title(\"end effector trajectory for unchanged dynamics\")\n",
    "axs[1].set_title(\"end effector trajectory for changed dynamics\")\n",
    "\n",
    "axs[0].set(xlabel = 'x1', ylabel = 'x2')\n",
    "axs[1].set(xlabel = 'x1', ylabel = 'x2')\n",
    "\n",
    "for i in range(num_traj):\n",
    "    axs[0].plot(X_end_unchanged[i,:,0], X_end_unchanged[i,:,1])\n",
    "    axs[1].plot(X_end_changed[i,:,0], X_end_changed[i,:,1])"
   ]
  },
  {
   "cell_type": "code",
   "execution_count": null,
   "id": "7b99cdcf",
   "metadata": {
    "collapsed": false,
    "jupyter": {
     "outputs_hidden": false
    },
    "pycharm": {
     "name": "#%%\n"
    },
    "tags": []
   },
   "outputs": [],
   "source": [
    "plt.figure()\n",
    "\n",
    "j = 10\n",
    "for i in range(int(num_states/2)):\n",
    "    plt.subplot(3,1,i+1)\n",
    "    plt.xlabel(\"t\")\n",
    "    plt.ylabel(\"th\"+str(i+1))\n",
    "    plt.plot(T,X_unchanged[j,:,i], label = 'unchanged')\n",
    "    plt.plot(T,X_changed[j,:,i], label = 'changed')\n",
    "    plt.legend()\n",
    "        \n"
   ]
  },
  {
   "cell_type": "code",
   "execution_count": null,
   "id": "8f57f5ec",
   "metadata": {
    "collapsed": false,
    "jupyter": {
     "outputs_hidden": false
    },
    "pycharm": {
     "name": "#%%\n"
    },
    "tags": []
   },
   "outputs": [],
   "source": [
    "j = 10\n",
    "for i in range(int(num_states/2)):\n",
    "    plt.subplot(3,1,i+1)\n",
    "    plt.xlabel(\"t\")\n",
    "    plt.ylabel(\"th dot \"+str(i+1))\n",
    "    plt.plot(T,X_unchanged[j,:,3+i], label = 'unchanged')\n",
    "    plt.plot(T,X_changed[j,:,3+i], label = 'changed')\n",
    "    plt.legend()"
   ]
  },
  {
   "cell_type": "code",
   "execution_count": null,
   "id": "5448c574",
   "metadata": {
    "collapsed": false,
    "jupyter": {
     "outputs_hidden": false
    },
    "pycharm": {
     "name": "#%%\n"
    },
    "tags": []
   },
   "outputs": [],
   "source": [
    "# split training and vaidation datasets\n",
    "xs_train, us_train = X_unchanged[:num_train,:,:],U[:num_train,:,:]\n",
    "xs_val, us_val = X_unchanged[num_train:,:,:],U[num_train:,:,:]"
   ]
  },
  {
   "cell_type": "markdown",
   "id": "199cbdb3",
   "metadata": {
    "pycharm": {
     "name": "#%% md\n"
    }
   },
   "source": [
    "***Koopman bilinear Models***"
   ]
  },
  {
   "cell_type": "code",
   "execution_count": null,
   "id": "74b3c970",
   "metadata": {
    "collapsed": false,
    "jupyter": {
     "outputs_hidden": false
    },
    "pycharm": {
     "name": "#%%\n"
    },
    "tags": []
   },
   "outputs": [],
   "source": [
    "# auto encoder parameters\n",
    "\n",
    "net_params = {}\n",
    "net_params['state_dim'] = num_states\n",
    "net_params['ctrl_dim'] = num_inputs\n",
    "net_params['encoder_hidden_width'] = 30\n",
    "net_params['encoder_hidden_depth'] = 2\n",
    "net_params['encoder_output_dim'] = 10\n",
    "net_params['optimizer'] = 'adam'\n",
    "net_params['activation_type'] = 'tanh'\n",
    "net_params['lr'] = 5e-4 # 5e-4\n",
    "net_params['epochs'] = 200\n",
    "net_params['batch_size'] = 256\n",
    "net_params['lifted_loss_penalty'] = 0.3\n",
    "net_params['l2_reg'] = 0.0         \n",
    "net_params['l1_reg'] = 0.0\n",
    "net_params['first_obs_const'] = True\n",
    "net_params['override_C'] = True # this makes the state a part of lifted state\n",
    "net_params['dt'] = dt"
   ]
  },
  {
   "cell_type": "code",
   "execution_count": null,
   "id": "ea177e28",
   "metadata": {
    "collapsed": false,
    "jupyter": {
     "outputs_hidden": false
    },
    "pycharm": {
     "is_executing": true,
     "name": "#%%\n"
    },
    "tags": []
   },
   "outputs": [],
   "source": [
    "train = False\n",
    "file = 'saved_models/manipulators/3R/bilinear/3R_0_01_dim10.pth'\n",
    "if train == True:\n",
    "\n",
    "    net = KoopmanNetCtrl(net_params)\n",
    "    model_koop_dnn = KoopDNN(net)\n",
    "    model_koop_dnn.set_datasets(xs_train, u_train=us_train, x_val=xs_val, u_val=us_val)\n",
    "    model_koop_dnn.model_pipeline(net_params)\n",
    "    model_koop_dnn.construct_koopman_model()\n",
    "    torch.save(model_koop_dnn,file)\n",
    "else:\n",
    "    model_koop_dnn = torch.load(file)"
   ]
  },
  {
   "cell_type": "code",
   "execution_count": null,
   "id": "8feadb05",
   "metadata": {
    "collapsed": false,
    "jupyter": {
     "outputs_hidden": false
    },
    "pycharm": {
     "name": "#%%\n"
    },
    "tags": []
   },
   "outputs": [],
   "source": [
    "train_loss = [l[0] for l in model_koop_dnn.train_loss_hist]\n",
    "train_pred_loss = [l[1] for l in model_koop_dnn.train_loss_hist]\n",
    "train_lifted_loss = [l[2] for l in model_koop_dnn.train_loss_hist]\n",
    "val_loss = [l[0] for l in model_koop_dnn.val_loss_hist]\n",
    "val_pred_loss = [l[1] for l in model_koop_dnn.val_loss_hist]\n",
    "val_lifted_loss = [l[2] for l in model_koop_dnn.val_loss_hist]\n",
    "epochs = np.arange(0, net_params['epochs'])\n",
    "\n",
    "plt.figure(figsize=(15,8))\n",
    "plt.plot(epochs, train_loss, color='tab:orange', label='Training loss')\n",
    "plt.plot(epochs, train_pred_loss, '--', color='tab:orange', label='Training prediction loss')\n",
    "plt.plot(epochs, train_lifted_loss, ':', color='tab:orange', label='Training lifted loss')\n",
    "plt.plot(epochs, val_loss, color='tab:blue', label='Validation loss')\n",
    "plt.plot(epochs, val_pred_loss, '--', color='tab:blue', label='Validation prediction loss')\n",
    "plt.plot(epochs, val_lifted_loss, ':', color='tab:blue', label='Validation lifted loss')\n",
    "plt.legend()\n",
    "plt.xlabel('Epoch')\n",
    "plt.ylabel('Loss')\n",
    "plt.yscale('log')\n",
    "plt.show()"
   ]
  },
  {
   "cell_type": "markdown",
   "id": "deda4deb",
   "metadata": {
    "pycharm": {
     "name": "#%% md\n"
    }
   },
   "source": [
    "# Learned Model Parameters"
   ]
  },
  {
   "cell_type": "markdown",
   "id": "1690159b",
   "metadata": {
    "pycharm": {
     "name": "#%% md\n"
    }
   },
   "source": [
    "## Bilinear Model Parameters"
   ]
  },
  {
   "cell_type": "code",
   "execution_count": null,
   "id": "3c081c33",
   "metadata": {
    "collapsed": false,
    "jupyter": {
     "outputs_hidden": false
    },
    "pycharm": {
     "name": "#%%\n"
    },
    "tags": []
   },
   "outputs": [],
   "source": [
    "A = np.array(model_koop_dnn.A)\n",
    "#B = np.array(model_koop_dnn.B).reshape(-1,num_inputs*n_obs)\n",
    "B = np.array(model_koop_dnn.B)\n",
    "#B_tensor = np.empty((num_inputs,n_obs, n_obs))\n",
    "#for ii, b in enumerate(B):\n",
    "    #B_tensor[ii] = b\n",
    "C = np.array(model_koop_dnn.C)\n",
    "\n",
    "print(A.shape, B.shape, C.shape)"
   ]
  },
  {
   "cell_type": "code",
   "execution_count": null,
   "id": "84e71a32",
   "metadata": {
    "collapsed": false,
    "jupyter": {
     "outputs_hidden": false
    },
    "pycharm": {
     "name": "#%%\n"
    },
    "tags": []
   },
   "outputs": [],
   "source": [
    "# # SAVE MATRIX PARAMETERS AS MATLAB FILE\n",
    "# import scipy.io\n",
    "#\n",
    "# dyn_matrices = {\"A\": A, \"B\": B, \"C\": C}\n",
    "# scipy.io.savemat(\"dyn_mat.mat\", dyn_matrices)\n",
    "# #save encoder parameters\n",
    "# scipy.io.savemat(\"in_weights.mat\", {\"encode_in_weights\": model_koop_dnn.net.encoder_fc_in.weight.detach().numpy()})\n",
    "# scipy.io.savemat(\"in_bias.mat\", {\"encode_in_bias\": model_koop_dnn.net.encoder_fc_in.bias.detach().numpy()})\n",
    "#\n",
    "# scipy.io.savemat(\"hidden_weights_1.mat\",\n",
    "#                  {\"encode_hidden_weights_1\": model_koop_dnn.net.encoder_fc_hid[0].weight.detach().numpy()})\n",
    "# scipy.io.savemat(\"hidden_bias_1.mat\",\n",
    "#                  {\"encode_hidden_bias_1\": model_koop_dnn.net.encoder_fc_hid[0].bias.detach().numpy()})\n",
    "#\n",
    "# scipy.io.savemat(\"out_weights.mat\", {\"encode_out_weights\": model_koop_dnn.net.encoder_fc_out.weight.detach().numpy()})\n",
    "# scipy.io.savemat(\"out_bias.mat\", {\"encode_out_bias\": model_koop_dnn.net.encoder_fc_out.bias.detach().numpy()})"
   ]
  },
  {
   "cell_type": "markdown",
   "id": "8582d148",
   "metadata": {
    "pycharm": {
     "name": "#%% md\n"
    }
   },
   "source": [
    "## Lifting function"
   ]
  },
  {
   "cell_type": "markdown",
   "id": "55e413dd",
   "metadata": {
    "pycharm": {
     "name": "#%% md\n"
    }
   },
   "source": [
    "# Testing"
   ]
  },
  {
   "cell_type": "markdown",
   "id": "922a2ee9",
   "metadata": {
    "pycharm": {
     "name": "#%% md\n"
    }
   },
   "source": [
    "## Parameters"
   ]
  },
  {
   "cell_type": "code",
   "execution_count": null,
   "id": "8dd2a1c4",
   "metadata": {
    "collapsed": false,
    "jupyter": {
     "outputs_hidden": false
    },
    "pycharm": {
     "name": "#%%\n"
    },
    "tags": []
   },
   "outputs": [],
   "source": [
    "# test data parameters\n",
    "num_snaps_test = 2000 # no. of snapshots\n",
    "T_test = np.linspace(0,num_snaps_test*dt, num_snaps_test+1)\n",
    "num_traj_test = 1 # no. of training examples\n",
    "first_obs_const = int(net_params['first_obs_const']) #only one state\n",
    "override_C = net_params['override_C']\n",
    "if override_C:\n",
    "    n_obs = int(net_params['encoder_output_dim']) + num_states + first_obs_const \n",
    "else:\n",
    "    n_obs = int(net_params['encoder_output_dim']) + first_obs_const "
   ]
  },
  {
   "cell_type": "markdown",
   "id": "42c3c522",
   "metadata": {
    "pycharm": {
     "name": "#%% md\n"
    }
   },
   "source": [
    "## Testing Data"
   ]
  },
  {
   "cell_type": "code",
   "execution_count": null,
   "id": "78818827",
   "metadata": {
    "collapsed": false,
    "jupyter": {
     "outputs_hidden": false
    },
    "pycharm": {
     "name": "#%%\n"
    },
    "tags": []
   },
   "outputs": [],
   "source": [
    "x_end_changed_test,x_changed_test,x_end_unchanged_test, x_unchanged_test, u_test = dynamics_3R_data_gen(dt, num_traj_test, num_snaps_test,num_states, num_inputs, robot_pars)\n",
    "print(model_koop_dnn.test_loss(x_unchanged_test,u_test = u_test))"
   ]
  },
  {
   "cell_type": "code",
   "execution_count": null,
   "id": "005feb8c",
   "metadata": {
    "collapsed": false,
    "jupyter": {
     "outputs_hidden": false
    },
    "pycharm": {
     "name": "#%%\n"
    },
    "tags": []
   },
   "outputs": [],
   "source": [
    "x_unchanged_test.shape"
   ]
  },
  {
   "cell_type": "code",
   "execution_count": null,
   "id": "dae83890",
   "metadata": {
    "collapsed": false,
    "jupyter": {
     "outputs_hidden": false
    },
    "pycharm": {
     "name": "#%%\n"
    },
    "tags": []
   },
   "outputs": [],
   "source": [
    "# Use the preprocessing if available\n",
    "X_unchanged,_ = model_koop_dnn.net.process(x_unchanged_test,data_u = u_test)\n",
    "X_changed,_ = model_koop_dnn.net.process(x_changed_test,data_u = u_test)"
   ]
  },
  {
   "cell_type": "code",
   "execution_count": null,
   "id": "50d0ba08",
   "metadata": {
    "collapsed": false,
    "jupyter": {
     "outputs_hidden": false
    },
    "pycharm": {
     "name": "#%%\n"
    },
    "tags": []
   },
   "outputs": [],
   "source": [
    "X_changed.shape"
   ]
  },
  {
   "cell_type": "code",
   "execution_count": null,
   "id": "8c87d89c",
   "metadata": {
    "collapsed": false,
    "jupyter": {
     "outputs_hidden": false
    },
    "pycharm": {
     "name": "#%%\n"
    },
    "tags": []
   },
   "outputs": [],
   "source": [
    "# flatten vector\n",
    "x_unchanged = X_unchanged[:, :num_states]\n",
    "u = X_unchanged[:, num_states:num_states+num_inputs]\n",
    "x_unchanged_prime = X_unchanged[:,num_states+num_inputs:]\n",
    "\n",
    "x_changed = X_changed[:, :num_states]\n",
    "x_changed_prime = X_changed[:,num_states+num_inputs:]\n",
    "\n",
    "x_changed_dot = (x_changed_prime-x_changed)/dt\n",
    "print(x_changed.shape, u.shape, x_changed_prime.shape)"
   ]
  },
  {
   "cell_type": "markdown",
   "id": "875d2a05",
   "metadata": {
    "pycharm": {
     "name": "#%% md\n"
    }
   },
   "source": [
    "# Lifting of states"
   ]
  },
  {
   "cell_type": "code",
   "execution_count": null,
   "id": "d159b937",
   "metadata": {
    "collapsed": false,
    "jupyter": {
     "outputs_hidden": false
    },
    "pycharm": {
     "name": "#%%\n"
    },
    "tags": []
   },
   "outputs": [],
   "source": [
    "# initialize states\n",
    "# initialize the matricies\n",
    "z_unchanged = np.empty((n_obs,num_snaps_test+1)).T   #lifted state\n",
    "x_unchanged_est = np.zeros((num_states,num_snaps_test+1)).T #estimated values"
   ]
  },
  {
   "cell_type": "code",
   "execution_count": null,
   "id": "3d71dc99",
   "metadata": {
    "collapsed": false,
    "jupyter": {
     "outputs_hidden": false
    },
    "pycharm": {
     "name": "#%%\n"
    },
    "tags": []
   },
   "outputs": [],
   "source": [
    "x_unchanged[0,:].shape"
   ]
  },
  {
   "cell_type": "code",
   "execution_count": null,
   "id": "36c32c4c",
   "metadata": {
    "collapsed": false,
    "jupyter": {
     "outputs_hidden": false
    },
    "pycharm": {
     "name": "#%%\n"
    },
    "tags": []
   },
   "outputs": [],
   "source": [
    "# actual lift\n",
    "z_unchanged[0,:] = lift(x_unchanged[0,:],model_koop_dnn, net_params)\n",
    "x_unchanged_est[0,:] = x_unchanged[0,:]"
   ]
  },
  {
   "cell_type": "markdown",
   "id": "c51fe4aa",
   "metadata": {
    "pycharm": {
     "name": "#%% md\n"
    }
   },
   "source": [
    "# Time Evolution"
   ]
  },
  {
   "cell_type": "code",
   "execution_count": null,
   "id": "903bf2de",
   "metadata": {
    "collapsed": false,
    "jupyter": {
     "outputs_hidden": false
    },
    "pycharm": {
     "name": "#%%\n"
    },
    "tags": []
   },
   "outputs": [],
   "source": [
    "for i in range(num_snaps_test):\n",
    "  #bilinear\n",
    "    z_unchanged[i+1,:] = np.matmul(z_unchanged[i,:],A.T)+np.matmul(np.kron(u[i,:],z_unchanged[i,:]),B.T)\n",
    "    x_unchanged_est[i+1,:] = np.matmul(z_unchanged[i+1,:],C.T)"
   ]
  },
  {
   "cell_type": "markdown",
   "id": "ca99822c",
   "metadata": {
    "pycharm": {
     "name": "#%% md\n"
    }
   },
   "source": [
    "# Plotting"
   ]
  },
  {
   "cell_type": "markdown",
   "id": "e7c5d2b9",
   "metadata": {
    "pycharm": {
     "name": "#%% md\n"
    }
   },
   "source": [
    "## Lifting performance"
   ]
  },
  {
   "cell_type": "code",
   "execution_count": null,
   "id": "e1617a81",
   "metadata": {
    "collapsed": false,
    "jupyter": {
     "outputs_hidden": false
    },
    "pycharm": {
     "name": "#%%\n"
    },
    "tags": []
   },
   "outputs": [],
   "source": [
    "plt.figure(figsize=(18, 6)) \n",
    "plt.subplot(1,3,1)\n",
    "plt.plot(T_test[:-1],x_unchanged[:,0],label ='Test unchanged data')\n",
    "plt.plot(T_test,x_unchanged_est[:,0],label = 'estimated unchanged dyn (bilinear)')\n",
    "plt.xlabel('t')\n",
    "plt.ylabel('theta_1')\n",
    "plt.title('theta_1 Comparison')\n",
    "plt.legend()\n",
    "\n",
    "plt.subplot(1,3,2)\n",
    "plt.plot(T_test[:-1],x_unchanged[:,1],label ='Test unchanged data')\n",
    "plt.plot(T_test,x_unchanged_est[:,1],label = 'estimated unchanged dyn (bilinear)')\n",
    "plt.title('Theta_2')\n",
    "plt.xlabel('t')\n",
    "plt.ylabel('Theta_2_comparison')\n",
    "plt.legend()\n",
    "\n",
    "plt.subplot(1,3,3)\n",
    "plt.plot(T_test[:-1],x_unchanged[:,2],label ='Test unchanged data')\n",
    "plt.plot(T_test,x_unchanged_est[:,2],label = 'estimated unchanged dyn (bilinear)')\n",
    "plt.title('Theta_3')\n",
    "plt.xlabel('t')\n",
    "plt.ylabel('theta_3')\n",
    "plt.legend()"
   ]
  },
  {
   "cell_type": "code",
   "execution_count": null,
   "id": "e1b04482",
   "metadata": {
    "collapsed": false,
    "jupyter": {
     "outputs_hidden": false
    },
    "pycharm": {
     "name": "#%%\n"
    },
    "tags": []
   },
   "outputs": [],
   "source": [
    "plt.figure(figsize=(18, 6)) \n",
    "plt.subplot(1,3,1)\n",
    "plt.plot(T_test[:-1],x_unchanged[:,3],label ='Test unchanged data')\n",
    "plt.plot(T_test,x_unchanged_est[:,3],label = 'estimated unchanged dyn (bilinear)')\n",
    "plt.xlabel('t')\n",
    "plt.ylabel('theta_1_dot')\n",
    "plt.title('theta_1_dot Comparison')\n",
    "plt.legend()\n",
    "\n",
    "plt.subplot(1,3,2)\n",
    "plt.plot(T_test[:-1],x_unchanged[:,4],label ='Test unchanged data')\n",
    "plt.plot(T_test,x_unchanged_est[:,4],label = 'estimated unchanged dyn (bilinear)')\n",
    "plt.title('Theta_2_dot')\n",
    "plt.xlabel('t')\n",
    "plt.ylabel('Theta_2_dot_comparison')\n",
    "plt.legend()\n",
    "\n",
    "plt.subplot(1,3,3)\n",
    "plt.plot(T_test[:-1],x_unchanged[:,5],label ='Test unchanged data')\n",
    "plt.plot(T_test,x_unchanged_est[:,5],label = 'estimated unchanged dyn (bilinear)')\n",
    "plt.title('Theta_3_dot')\n",
    "plt.xlabel('t')\n",
    "plt.ylabel('theta_3_dot')\n",
    "plt.legend()"
   ]
  },
  {
   "cell_type": "markdown",
   "id": "3ec8f66c",
   "metadata": {
    "pycharm": {
     "name": "#%% md\n"
    }
   },
   "source": [
    "### Error Evolution"
   ]
  },
  {
   "cell_type": "code",
   "execution_count": null,
   "id": "d9b46a6e",
   "metadata": {
    "collapsed": false,
    "jupyter": {
     "outputs_hidden": false
    },
    "pycharm": {
     "name": "#%%\n"
    },
    "tags": []
   },
   "outputs": [],
   "source": [
    "error_model = np.linalg.norm((x_unchanged_est[:-1,:]-x_unchanged[:,:]),axis=1)\n",
    "error_dynamics_no_adapt = np.linalg.norm((x_changed[:,:]-x_unchanged[:,:]),axis=1)"
   ]
  },
  {
   "cell_type": "code",
   "execution_count": null,
   "id": "0f080b4b",
   "metadata": {
    "collapsed": false,
    "jupyter": {
     "outputs_hidden": false
    },
    "pycharm": {
     "name": "#%%\n"
    },
    "tags": []
   },
   "outputs": [],
   "source": [
    "plt.figure()\n",
    "plt.plot(T_test[:-1],error_model)\n",
    "plt.xlabel('t')\n",
    "plt.ylabel('e')\n",
    "plt.title('Model error evolution')\n",
    "plt.show()"
   ]
  },
  {
   "cell_type": "markdown",
   "id": "f018b61b",
   "metadata": {
    "pycharm": {
     "name": "#%% md\n"
    }
   },
   "source": [
    "## Deviation from Actual Dynamics"
   ]
  },
  {
   "cell_type": "code",
   "execution_count": null,
   "id": "aaa00110",
   "metadata": {
    "collapsed": false,
    "jupyter": {
     "outputs_hidden": false
    },
    "pycharm": {
     "name": "#%%\n"
    },
    "tags": []
   },
   "outputs": [],
   "source": [
    "plt.figure(figsize=(18, 6)) \n",
    "plt.subplot(1,3,1)\n",
    "plt.plot(T_test[:-1],x_changed[:,0],label ='Test data (changed dynamics)')\n",
    "plt.plot(T_test[:-1],x_unchanged[:,0],label ='Test unchanged data')\n",
    "plt.plot(T_test,x_unchanged_est[:,0],label = 'estimated unchanged dyn (bilinear)')\n",
    "\n",
    "plt.xlabel('t')\n",
    "plt.ylabel('theta_1')\n",
    "plt.title('theta_1 Comparison')\n",
    "plt.legend()\n",
    "\n",
    "plt.subplot(1,3,2)\n",
    "plt.plot(T_test[:-1],x_changed[:,1],label ='Test data (changed dynamics)')\n",
    "plt.plot(T_test[:-1],x_unchanged[:,1],label ='Test unchanged data')\n",
    "plt.plot(T_test,x_unchanged_est[:,1],label = 'estimated unchanged dyn (bilinear)')\n",
    "plt.title('Theta_2')\n",
    "plt.xlabel('t')\n",
    "plt.ylabel('Theta_2_comparison')\n",
    "plt.legend()\n",
    "\n",
    "plt.subplot(1,3,3)\n",
    "plt.plot(T_test[:-1],x_changed[:,2],label ='Test data (changed dynamics)')\n",
    "plt.plot(T_test[:-1],x_unchanged[:,2],label ='Test unchanged data')\n",
    "plt.plot(T_test,x_unchanged_est[:,2],label = 'estimated unchanged dyn (bilinear)')\n",
    "plt.title('Theta_3')\n",
    "plt.xlabel('t')\n",
    "plt.ylabel('theta_3')\n",
    "plt.legend()\n",
    "\n",
    "\n"
   ]
  },
  {
   "cell_type": "code",
   "execution_count": null,
   "id": "a1202a9d",
   "metadata": {
    "collapsed": false,
    "jupyter": {
     "outputs_hidden": false
    },
    "pycharm": {
     "name": "#%%\n"
    },
    "tags": []
   },
   "outputs": [],
   "source": [
    "plt.figure(figsize=(18, 6)) \n",
    "plt.subplot(1,3,1)\n",
    "plt.plot(T_test[:-1],x_changed[:,3],label ='Test data (changed dynamics)')\n",
    "plt.plot(T_test[:-1],x_unchanged[:,3],label ='Test unchanged data')\n",
    "plt.plot(T_test,x_unchanged_est[:,3],label = 'estimated unchanged dyn (bilinear)')\n",
    "plt.xlabel('t')\n",
    "plt.ylabel('theta_1_dot')\n",
    "plt.title('theta_1_dot Comparison')\n",
    "plt.legend()\n",
    "\n",
    "plt.subplot(1,3,2)\n",
    "plt.plot(T_test[:-1],x_changed[:,4],label ='Test data (changed dynamics)')\n",
    "plt.plot(T_test[:-1],x_unchanged[:,4],label ='Test unchanged data')\n",
    "plt.plot(T_test,x_unchanged_est[:,4],label = 'estimated unchanged dyn (bilinear)')\n",
    "plt.title('Theta_2_dot')\n",
    "plt.xlabel('t')\n",
    "plt.ylabel('Theta_2_dot_comparison')\n",
    "plt.legend()\n",
    "\n",
    "plt.subplot(1,3,3)\n",
    "plt.plot(T_test[:-1],x_changed[:,5],label ='Test data (changed dynamics)')\n",
    "plt.plot(T_test[:-1],x_unchanged[:,5],label ='Test unchanged data')\n",
    "plt.plot(T_test,x_unchanged_est[:,5],label = 'estimated unchanged dyn (bilinear)')\n",
    "plt.title('Theta_3_dot')\n",
    "plt.xlabel('t')\n",
    "plt.ylabel('theta_3_dot')\n",
    "plt.legend()"
   ]
  },
  {
   "cell_type": "code",
   "execution_count": null,
   "id": "5d3f48fd",
   "metadata": {
    "collapsed": false,
    "jupyter": {
     "outputs_hidden": false
    },
    "pycharm": {
     "name": "#%%\n"
    },
    "tags": []
   },
   "outputs": [],
   "source": [
    "plt.figure()\n",
    "plt.plot(T_test[:-1],error_dynamics_no_adapt)\n",
    "plt.xlabel('t')\n",
    "plt.ylabel('e')\n",
    "plt.title('Dynamics error evolution')\n",
    "plt.show()"
   ]
  },
  {
   "cell_type": "markdown",
   "id": "42156aff",
   "metadata": {
    "pycharm": {
     "name": "#%% md\n"
    }
   },
   "source": [
    "# Adaptation"
   ]
  },
  {
   "cell_type": "markdown",
   "id": "8f41788f",
   "metadata": {
    "pycharm": {
     "name": "#%% md\n"
    }
   },
   "source": [
    "## Data Preprocessing"
   ]
  },
  {
   "cell_type": "markdown",
   "id": "8a030b28",
   "metadata": {
    "pycharm": {
     "name": "#%% md\n"
    }
   },
   "source": [
    "# Adaptive Time evolution"
   ]
  },
  {
   "cell_type": "code",
   "execution_count": null,
   "id": "0fc3c778",
   "metadata": {
    "collapsed": false,
    "jupyter": {
     "outputs_hidden": false
    },
    "pycharm": {
     "name": "#%%\n"
    },
    "tags": []
   },
   "outputs": [],
   "source": [
    "adap_window = 5 #hyperparameter\n",
    "\n",
    "adapt_net_params = {}\n",
    "adapt_net_params['state_dim'] = num_states\n",
    "adapt_net_params['ctrl_dim'] = num_inputs\n",
    "adapt_net_params['lift_dim'] = net_params[\"encoder_output_dim\"]\n",
    "adapt_net_params['optimizer'] = 'adam'\n",
    "adapt_net_params['lr'] = 5e-4 # 5e-4\n",
    "adapt_net_params['epochs'] = 8\n",
    "adapt_net_params['batch_size'] = adap_window\n",
    "adapt_net_params['l2_reg'] = 5e-1\n",
    "adapt_net_params['l1_reg'] = 5e-1\n",
    "adapt_net_params['first_obs_const'] = net_params[\"first_obs_const\"]\n",
    "adapt_net_params['override_C'] = net_params[\"override_C\"] # this makes the state a part of lifted state\n",
    "\n",
    "del_A = np.zeros_like(A)\n",
    "del_B = np.zeros_like(B)"
   ]
  },
  {
   "cell_type": "code",
   "execution_count": null,
   "id": "257b3852",
   "metadata": {
    "collapsed": false,
    "jupyter": {
     "outputs_hidden": false
    },
    "pycharm": {
     "name": "#%%\n"
    },
    "tags": []
   },
   "outputs": [],
   "source": [
    "from control_files.nmpc_osqp_adapt import NonlinearMPCController\n",
    "from dynamics.learned_models_control.bilinear_dynamics import bilinear_Dynamics\n",
    "import scipy"
   ]
  },
  {
   "cell_type": "code",
   "execution_count": null,
   "id": "342cdef5",
   "metadata": {
    "collapsed": false,
    "jupyter": {
     "outputs_hidden": false
    },
    "pycharm": {
     "name": "#%%\n"
    },
    "tags": []
   },
   "outputs": [],
   "source": [
    "bilinear_model = bilinear_Dynamics(scipy.sparse.csc_matrix(A),scipy.sparse.csc_matrix(B), C)\n",
    "bilinear_model_no_adapt = bilinear_Dynamics(scipy.sparse.csc_matrix(A),scipy.sparse.csc_matrix(B), C)"
   ]
  },
  {
   "cell_type": "code",
   "execution_count": null,
   "id": "9542321a-e8f5-499e-b77a-32088f3b3ea3",
   "metadata": {
    "tags": []
   },
   "outputs": [],
   "source": [
    "bilinear_model.A"
   ]
  },
  {
   "cell_type": "code",
   "execution_count": null,
   "id": "a0c196e8",
   "metadata": {
    "collapsed": false,
    "jupyter": {
     "outputs_hidden": false
    },
    "pycharm": {
     "name": "#%%\n"
    },
    "tags": []
   },
   "outputs": [],
   "source": [
    "solver_settings = {}\n",
    "solver_settings['gen_embedded_ctrl'] = False\n",
    "solver_settings['warm_start'] = True\n",
    "solver_settings['polish'] = True\n",
    "solver_settings['polish_refine_iter'] = 3\n",
    "solver_settings['scaling'] = True\n",
    "solver_settings['adaptive_rho'] = False\n",
    "solver_settings['check_termination'] = 25\n",
    "solver_settings['max_iter'] = 1000\n",
    "solver_settings['eps_abs'] = 1e-5\n",
    "solver_settings['eps_rel'] = 1e-6\n",
    "solver_settings['eps_prim_inf'] = 1e-4\n",
    "solver_settings['eps_dual_inf'] = 1e-4\n",
    "solver_settings['linsys_solver'] = 'qdldl'"
   ]
  },
  {
   "cell_type": "code",
   "execution_count": null,
   "id": "f47a87ad-22f9-40a8-93c9-9570ff6726c6",
   "metadata": {},
   "outputs": [],
   "source": [
    "#Closed loop performance evaluation parameters:\n",
    "traj_length = 1000\n",
    "max_iter = 200\n",
    "N = 15 #length of horizon\n",
    "t_eval = dt * np.arange(traj_length+1)                       # Simulation time points, closed loop\n",
    "Q_mpc = 200*scipy.sparse.diags(np.ones(num_states))                       # State penalty matrix, trajectory generation\n",
    "QN_mpc = 1e3*scipy.sparse.diags(np.ones(num_states))         # Final state penalty matrix, trajectory generation\n",
    "R_mpc = 0.1*scipy.sparse.eye(num_inputs)                                     # Actuation penalty matrix, trajectory generation\n",
    "R0_mpc = scipy.sparse.csc_matrix(np.zeros(num_inputs))"
   ]
  },
  {
   "cell_type": "code",
   "execution_count": null,
   "id": "29975d1b-2e41-4f74-85cf-c4c919e674b7",
   "metadata": {
    "tags": []
   },
   "outputs": [],
   "source": [
    "## linear path\n",
    "# x_ref = np.vstack((np.vstack((np.linspace(0,np.pi,num_snaps_ctrl),np.linspace(0,np.pi/2,num_snaps_ctrl))),np.linspace(0,np.pi,num_snaps_ctrl)))\n",
    "# x_ref_dot = np.vstack((np.vstack(((np.pi/10)*np.ones(num_snaps_ctrl),(np.pi/20)*np.ones(num_snaps_ctrl))),(np.pi/10)*np.ones(num_snaps_ctrl)))\n",
    "# x_ref_ddot = np.vstack((np.vstack((np.zeros(num_snaps_ctrl),np.zeros(num_snaps_ctrl))),np.zeros(num_snaps_ctrl)))\n",
    "\n",
    "def gen_desired_path(num_states,num_snaps, t_end,shape):\n",
    "    \n",
    "    x_ref = np.empty((int(num_states),num_snaps))\n",
    "    x_ref_dot = np.empty_like(x_ref)\n",
    "    x_ref_ddot = np.empty_like(x_ref)\n",
    "    \n",
    "    arg = np.linspace(0,np.pi,num_snaps)\n",
    "    \n",
    "    for i in range(num_snaps):\n",
    "        if shape == 'linear':\n",
    "            x_ref[:,i] = np.array([arg[i], arg[i]/2, arg[i]])\n",
    "            x_ref_dot[:,i] = np.array([arg[-1]/t_end, arg[-1]/(2*t_end), arg[-1]/(t_end)])\n",
    "            x_ref_ddot[:,i] = np.zeros(num_states,)\n",
    "            \n",
    "        if shape == 'sinosoidal':\n",
    "            x_ref[:,i] = np.array([np.sin(2*arg[i]),np.sin(2*arg[i]) , np.sin(2*arg[i])])\n",
    "            x_ref_dot[:,i] = np.array([(2*arg[-1]/t_end)*np.cos(2*arg[i]),(2*arg[-1]/t_end)*np.cos(2*arg[i]),\n",
    "                                      (2*arg[-1]/t_end)*np.cos(2*arg[i])])\n",
    "            x_ref_ddot[:,i] = np.array([-((2*arg[-1]/t_end)**2)*np.cos(2*arg[i]),-((2*arg[-1]/t_end)**2)*np.sin(2*arg[i]),\n",
    "                                      -((2*arg[-1]/t_end)**2)*np.sin(2*arg[i])])\n",
    "        else:\n",
    "            print('Shape is not defined')\n",
    "            break\n",
    "            \n",
    "            \n",
    "    return x_ref, x_ref_dot, x_ref_ddot"
   ]
  },
  {
   "cell_type": "code",
   "execution_count": null,
   "id": "0e09607d",
   "metadata": {
    "collapsed": false,
    "jupyter": {
     "outputs_hidden": false
    },
    "pycharm": {
     "name": "#%%\n"
    },
    "tags": []
   },
   "outputs": [],
   "source": [
    "x_ref_pos, x_ref_dot,_  = gen_desired_path(int(num_states/2),traj_length+1, t_eval[-1],'sinosoidal')"
   ]
  },
  {
   "cell_type": "code",
   "execution_count": null,
   "id": "974eb1f3-1e6a-46df-bce1-af59bedfd7b2",
   "metadata": {
    "tags": []
   },
   "outputs": [],
   "source": [
    "x_ref = np.vstack((x_ref_pos, x_ref_dot))\n",
    "x_ref.shape"
   ]
  },
  {
   "cell_type": "code",
   "execution_count": null,
   "id": "f1bfcfd5",
   "metadata": {
    "collapsed": false,
    "jupyter": {
     "outputs_hidden": false
    },
    "pycharm": {
     "name": "#%%\n"
    },
    "tags": []
   },
   "outputs": [],
   "source": [
    "# Design trajectory:\n",
    "xt = np.empty((traj_length+1, num_states))\n",
    "xt[0,:] = x_ref[:,0]               # Initial value, closed loop trajectory\n",
    "\n",
    "# x_r = np.array([0., 0.])              # Desired final value, closed loop trajectory\n",
    "# x_ref = np.tile(x_r.reshape(-1,1), (1, traj_length))\n",
    "umax = 10*np.array([1, 1, 1])\n",
    "umin = -umax\n",
    "\n",
    "xmax =  10*np.array([1, 1, 1, 1, 1, 1])\n",
    "xmin = -xmax\n",
    "\n",
    "# Define initial solution for SQP algorithm:\n",
    "x_init = np.linspace(xt[0,:], xt[0,:], N+1)\n",
    "u_init = 1*np.ones((num_inputs, N)).T"
   ]
  },
  {
   "cell_type": "code",
   "execution_count": null,
   "id": "85ed74cf",
   "metadata": {
    "collapsed": false,
    "jupyter": {
     "outputs_hidden": false
    },
    "pycharm": {
     "name": "#%%\n"
    },
    "tags": []
   },
   "outputs": [],
   "source": [
    "n_lift = A.shape[0]\n",
    "z_init = np.empty((N+1, n_lift))\n",
    "z0 = lift(xt[0,:], model_koop_dnn, net_params)\n",
    "for i in range(N+1):\n",
    "    z_init[i,:] = lift(x_init[i,:], model_koop_dnn, net_params)\n"
   ]
  },
  {
   "cell_type": "code",
   "execution_count": null,
   "id": "57a65924",
   "metadata": {
    "collapsed": false,
    "jupyter": {
     "outputs_hidden": false
    },
    "pycharm": {
     "name": "#%%\n"
    },
    "tags": []
   },
   "outputs": [],
   "source": [
    "# initialize state matricies\n",
    "u = np.empty((traj_length, num_inputs))\n",
    "z_new_dyn = np.empty((n_obs, traj_length+1)).T   #lifted state\n",
    "zt_old_dyn = np.empty((n_obs, traj_length+1)).T #actual lifted state\n",
    "del_z_prime = np.empty((n_obs, traj_length)).T\n",
    "zu_old_dyn = np.empty((n_obs*num_inputs, traj_length)).T\n",
    "x_new_dyn = np.empty((num_states, traj_length+1)).T #estimated values\n",
    "xt_old = np.empty((num_states, traj_length+1)).T\n",
    "del_A_norm = np.zeros((traj_length,1))\n",
    "del_B_norm = np.zeros((traj_length,1))\n",
    "\n",
    "# initialize\n",
    "z_new_dyn[0,:] = zt_old_dyn[0,:] = z0\n",
    "x_new_dyn[0,:] = xt_old[0,:] = xt[0,:]\n"
   ]
  },
  {
   "cell_type": "code",
   "execution_count": null,
   "id": "0118aa62",
   "metadata": {
    "collapsed": false,
    "jupyter": {
     "outputs_hidden": false
    },
    "pycharm": {
     "name": "#%%\n"
    },
    "tags": []
   },
   "outputs": [],
   "source": [
    "controller_nmpc_adapt = NonlinearMPCController(bilinear_model, N, dt, umin, umax, xmin, xmax, Q_mpc, R_mpc, QN_mpc, solver_settings)\n",
    "controller_nmpc_adapt.construct_controller(z_init, u_init, x_ref[:,0])"
   ]
  },
  {
   "cell_type": "code",
   "execution_count": null,
   "id": "2f9a2b96",
   "metadata": {
    "collapsed": false,
    "jupyter": {
     "outputs_hidden": false
    },
    "pycharm": {
     "name": "#%%\n"
    },
    "tags": []
   },
   "outputs": [],
   "source": [
    "start_time = time.time()\n",
    "for i in range(traj_length):\n",
    "  # incorrect dynamics\n",
    "    z_new_dyn[i,:] = lift(x_new_dyn[i,:], model_koop_dnn, net_params)\n",
    "    \n",
    "    del_z_prime[i,:] = z_new_dyn[i,:] - zt_old_dyn[i,:]\n",
    "    zu_old_dyn[i,:] = np.kron(u[i,:], zt_old_dyn[i,:])\n",
    "\n",
    "    if i < adap_window + 1 :\n",
    "        del_A = np.zeros_like(A)\n",
    "        del_B = np.zeros_like(B)\n",
    "    else:\n",
    "        del_Z_prime = del_z_prime[i-adap_window:i,:].T\n",
    "        Z_old = zt_old_dyn[i-(adap_window+1):i-1].T\n",
    "        ZU_old = zu_old_dyn[i-(adap_window+1):i-1].T\n",
    "\n",
    "        #invoke neural net for adapation\n",
    "        adapt_network = AdaptNet(adapt_net_params)\n",
    "\n",
    "        adapt_network.model_pipeline(Z_old, ZU_old, del_Z_prime, print_epoch = True)\n",
    "\n",
    "        del_A, del_B = adapt_network.get_del_matrices()\n",
    "\n",
    "    del_A_norm[i] = np.linalg.norm(del_A)\n",
    "    del_B_norm[i] = np.linalg.norm(del_B)\n",
    "\n",
    "    bilinear_model.A = scipy.sparse.csc_matrix(bilinear_model.A.toarray() + del_A)\n",
    "    bilinear_model.B = scipy.sparse.csc_matrix(bilinear_model.B.toarray() + del_B)\n",
    "\n",
    "    controller_nmpc_adapt.solve_to_convergence(x_ref[:,i+1], zt_old_dyn[i,:], controller_nmpc_adapt.z_init, controller_nmpc_adapt.u_init, max_iter = max_iter, eps = 1e-3)\n",
    "    controller_nmpc_adapt.update_initial_guess_()\n",
    "    u[i,:] = controller_nmpc_adapt.cur_u[0,:]\n",
    "    if sum(np.isnan(u[i,:])) > 0:\n",
    "        break\n",
    "\n",
    "    # adapted model\n",
    "    zt_old_dyn[i+1,:] = controller_nmpc_adapt.z_N0\n",
    "    xt[i+1,:] = np.matmul(zt_old_dyn[i+1,:],C.T)\n",
    "    \n",
    "    pars_changed, pars_unchanged = get_robot_params(robot_pars, t_eval[i])\n",
    "    # X_incor[i,j+1,0:3], X_incor[i,j+1,3:6] = dynamics_3R(dt, U[i,j,:], X_incor[i,j,0:3],  X_incor[i,j,3:6], pars_incor)\n",
    "    xt_old[i+1,0:3],xt_old[i+1,3:]= dynamics_3R(dt, u[i,:], xt_old[i,0:3], xt_old[i,3:6], pars_unchanged)\n",
    "    x_new_dyn[i+1,0:3],x_new_dyn[i+1,3:]= dynamics_3R(dt, u[i,:], xt[i,0:3], xt[i,3:6], pars_changed)\n",
    "    \n",
    "end_time = time.time()\n",
    "total_time = end_time-start_time\n",
    "print(\"Time Taken\", total_time)"
   ]
  },
  {
   "cell_type": "code",
   "execution_count": null,
   "id": "a3171aac",
   "metadata": {
    "collapsed": false,
    "jupyter": {
     "outputs_hidden": false
    },
    "pycharm": {
     "name": "#%%\n"
    },
    "tags": []
   },
   "outputs": [],
   "source": [
    "#controller that works on old model (unadapted)\n",
    "N_noadapt = 15 #length of horizon\n",
    "Q_mpc_noadapt = 200*scipy.sparse.diags(np.ones(num_states))                       # State penalty matrix, trajectory generation\n",
    "QN_mpc_noadapt = 1e3*scipy.sparse.diags(np.ones(num_states))         # Final state penalty matrix, trajectory generation\n",
    "R_mpc_noadapt = 0.1*scipy.sparse.eye(num_inputs)                                     # Actuation penalty matrix, trajectory generation\n",
    "R0_mpc_noadapt = scipy.sparse.csc_matrix(np.zeros(num_inputs))\n",
    "\n",
    "# x_r = np.array([0., 0.])              # Desired final value, closed loop trajectory\n",
    "# x_ref = np.tile(x_r.reshape(-1,1), (1, traj_length))\n",
    "umax_noadapt = 10*np.array([1, 1, 1])\n",
    "umin_noadapt = -umax\n",
    "\n",
    "xmax_noadapt =  10*np.array([1, 1, 1, 1, 1, 1])\n",
    "xmin_noadapt = -xmax"
   ]
  },
  {
   "cell_type": "code",
   "execution_count": null,
   "id": "0451fafe-321c-41b0-96b7-cc2bb365b9ae",
   "metadata": {
    "tags": []
   },
   "outputs": [],
   "source": [
    "controller_nmpc_noadapt = NonlinearMPCController(bilinear_model_no_adapt, N_noadapt, dt, umin_noadapt, umax_noadapt, xmin_noadapt, xmax_noadapt, Q_mpc_noadapt, R_mpc_noadapt, QN_mpc_noadapt, solver_settings)\n",
    "controller_nmpc_noadapt.construct_controller(z_init, u_init, x_ref[:,0])\n",
    "# controller_nmpc_noadapt.trajectory_tracking(xt[0,:], z0, x_ref.T, max_iter)"
   ]
  },
  {
   "cell_type": "code",
   "execution_count": null,
   "id": "9903eedc-4eb8-4f3e-a316-1153f4dfc6db",
   "metadata": {
    "tags": []
   },
   "outputs": [],
   "source": [
    "xt_no_adapt = np.empty((num_states,traj_length+1)).T\n",
    "x_new_noadapt = np.empty((num_states,traj_length+1)).T\n",
    "xt_no_adapt[0,:] = x_new_noadapt[0,:] = xt[0,:]\n",
    "u_no_adapt = np.empty((num_inputs, traj_length)).T\n",
    "z_no_adapt = np.empty((n_obs, traj_length+1)).T\n",
    "\n",
    "for i in range(traj_length):\n",
    "    # incorrect dynamics\n",
    "    z_no_adapt[i,:] = lift(x_new_noadapt[i,:], model_koop_dnn, net_params)\n",
    "\n",
    "    controller_nmpc_noadapt.solve_to_convergence(x_ref[:,i+1], z_no_adapt[i,:], controller_nmpc_noadapt.z_init, controller_nmpc_noadapt.u_init, max_iter = max_iter, eps = 1e-3)\n",
    "    controller_nmpc_noadapt.update_initial_guess_()\n",
    "    u_no_adapt[i,:] = controller_nmpc_noadapt.cur_u[0,:]\n",
    "    \n",
    "    \n",
    "    pars_changed, pars_unchanged = get_robot_params(robot_pars, t_eval[i])\n",
    "    # adapted model\n",
    "    \n",
    "    xt_no_adapt[i+1,:] = np.matmul(controller_nmpc_noadapt.z_N0, C.T)\n",
    "    x_new_noadapt[i+1,0:3],x_new_noadapt[i+1,3:]= dynamics_3R(dt, u_no_adapt[i,:], xt_no_adapt[i,0:3], xt_no_adapt[i,3:6], pars_changed)\n",
    "    \n",
    "    "
   ]
  },
  {
   "cell_type": "markdown",
   "id": "2967694e",
   "metadata": {
    "pycharm": {
     "name": "#%% md\n"
    }
   },
   "source": [
    "# Performance Plotting"
   ]
  },
  {
   "cell_type": "code",
   "execution_count": null,
   "id": "3a897a38",
   "metadata": {
    "collapsed": false,
    "jupyter": {
     "outputs_hidden": false
    },
    "pycharm": {
     "name": "#%%\n"
    },
    "tags": []
   },
   "outputs": [],
   "source": [
    "plt.figure(figsize=(18, 6)) \n",
    "plt.subplot(1,3,1)\n",
    "plt.plot(t_eval, xt[:,0],label ='path traced (with adapt)')\n",
    "plt.plot(t_eval, x_ref[0,:], label=\"reference\")\n",
    "plt.plot(t_eval, xt_no_adapt[:,0], label='path traced (without adapt)')\n",
    "plt.xlabel('t')\n",
    "plt.ylabel('theta_1')\n",
    "plt.title('theta_1 Comparison')\n",
    "plt.legend()\n",
    "\n",
    "plt.subplot(1,3,2)\n",
    "plt.plot(t_eval, xt[:,1],label ='path traced (with adapt)')\n",
    "plt.plot(t_eval, x_ref[1,:], label=\"reference\")\n",
    "plt.plot(t_eval, xt_no_adapt[:,1], label='path traced (without adapt)')\n",
    "plt.xlabel('t')\n",
    "plt.ylabel('theta_2')\n",
    "plt.title('theta_2 Comparison')\n",
    "plt.legend()\n",
    "\n",
    "plt.subplot(1,3,3)\n",
    "plt.plot(t_eval, xt[:,2],label ='path traced (with adapt)')\n",
    "plt.plot(t_eval, x_ref[2,:], label=\"reference\")\n",
    "plt.plot(t_eval, xt_no_adapt[:,2], label='path traced (without adapt)')\n",
    "plt.xlabel('t')\n",
    "plt.ylabel('theta_3')\n",
    "plt.title('theta_3 Comparison')\n",
    "plt.legend()"
   ]
  },
  {
   "cell_type": "code",
   "execution_count": null,
   "id": "92b6473a",
   "metadata": {
    "collapsed": false,
    "jupyter": {
     "outputs_hidden": false
    },
    "pycharm": {
     "name": "#%%\n"
    },
    "tags": []
   },
   "outputs": [],
   "source": [
    "plt.figure(figsize=(18, 6)) \n",
    "plt.subplot(1,3,1)\n",
    "plt.plot(t_eval, xt[:,3],label ='path traced (with adapt)')\n",
    "plt.plot(t_eval, x_ref[3,:], label=\"reference\")\n",
    "plt.plot(t_eval, xt_no_adapt[:,3], label='path traced (without adapt)')\n",
    "plt.xlabel('t')\n",
    "plt.ylabel('theta_1_dot')\n",
    "plt.title('theta_1_dot Comparison')\n",
    "plt.legend()\n",
    "\n",
    "plt.subplot(1,3,2)\n",
    "plt.plot(t_eval, xt[:,4],label ='path traced (with adapt)')\n",
    "plt.plot(t_eval, x_ref[4,:], label=\"reference\")\n",
    "plt.plot(t_eval, xt_no_adapt[:,4], label='path traced (without adapt)')\n",
    "plt.xlabel('t')\n",
    "plt.ylabel('theta_2_dot')\n",
    "plt.title('theta_2_dot Comparison')\n",
    "plt.legend()\n",
    "\n",
    "plt.subplot(1,3,3)\n",
    "plt.plot(t_eval, xt[:,5],label ='path traced (with adapt)')\n",
    "plt.plot(t_eval, x_ref[5,:], label=\"reference\")\n",
    "plt.plot(t_eval, xt_no_adapt[:,5], label='path traced (without adapt)')\n",
    "plt.xlabel('t')\n",
    "plt.ylabel('theta_3_dot')\n",
    "plt.title('theta_3_dot Comparison')\n",
    "plt.legend()"
   ]
  },
  {
   "cell_type": "code",
   "execution_count": null,
   "id": "e4d8d656",
   "metadata": {
    "collapsed": false,
    "jupyter": {
     "outputs_hidden": false
    },
    "pycharm": {
     "name": "#%%\n"
    },
    "tags": []
   },
   "outputs": [],
   "source": [
    "plt.figure()\n",
    "plt.plot(t_eval[0:-1], u,label ='u_1')\n",
    "plt.xlabel('T')\n",
    "plt.ylabel(\"u\")\n",
    "plt.legend()\n",
    "plt.savefig('control.pdf')"
   ]
  },
  {
   "cell_type": "code",
   "execution_count": null,
   "id": "f229a5df-4995-4a60-a4cf-572737e5bbef",
   "metadata": {
    "tags": []
   },
   "outputs": [],
   "source": [
    "plt.figure()\n",
    "plt.plot(t_eval[0:-1], u_no_adapt,label ='u')\n",
    "plt.xlabel('T')\n",
    "plt.ylabel(\"u\")\n",
    "plt.legend()\n",
    "plt.savefig('control.pdf')"
   ]
  },
  {
   "cell_type": "code",
   "execution_count": null,
   "id": "196a8237",
   "metadata": {
    "collapsed": false,
    "jupyter": {
     "outputs_hidden": false
    },
    "pycharm": {
     "name": "#%%\n"
    },
    "tags": []
   },
   "outputs": [],
   "source": [
    "fig, axs = plt.subplots(1,2,figsize=(12,7))\n",
    "axs[0].set_title(\" ||del_A|| Evolution\")\n",
    "axs[1].set_title(\"||del_B|| Evolution\")\n",
    "\n",
    "axs[0].set(xlabel = 't', ylabel = '||del_A||')\n",
    "axs[1].set(xlabel = 't', ylabel = '||del_B||')\n",
    "\n",
    "\n",
    "axs[0].plot(t_eval[:-1],del_A_norm)\n",
    "\n",
    "axs[1].plot(t_eval[:-1],del_B_norm)\n",
    "plt.show()"
   ]
  },
  {
   "cell_type": "markdown",
   "id": "87e07f93",
   "metadata": {
    "pycharm": {
     "name": "#%% md\n"
    }
   },
   "source": [
    "# Error Comparisons"
   ]
  },
  {
   "cell_type": "code",
   "execution_count": null,
   "id": "c9866b84-d428-476a-afff-3e8698490093",
   "metadata": {
    "tags": []
   },
   "outputs": [],
   "source": [
    "\n",
    "error_dynamics_adapt = np.linalg.norm((xt.T-x_ref),axis=0)\n",
    "error_dynamics_no_adapt = np.linalg.norm((xt_no_adapt.T-x_ref),axis=0)"
   ]
  },
  {
   "cell_type": "code",
   "execution_count": null,
   "id": "18ed2d8e",
   "metadata": {
    "collapsed": false,
    "jupyter": {
     "outputs_hidden": false
    },
    "pycharm": {
     "name": "#%%\n"
    },
    "tags": []
   },
   "outputs": [],
   "source": [
    "fig, axs = plt.subplots(1,2,figsize=(12,7))\n",
    "axs[0].set_title(\"Error in Adaptive Model\")\n",
    "axs[1].set_title(\"Error in Non-Adaptive Model\")\n",
    "\n",
    "axs[0].set(xlabel = 't', ylabel = 'error')\n",
    "axs[1].set(xlabel = 't', ylabel = 'error')\n",
    "\n",
    "\n",
    "axs[0].plot(t_eval,error_dynamics_adapt)\n",
    "\n",
    "axs[1].plot(t_eval,error_dynamics_no_adapt)\n",
    "\n",
    "plt.savefig('adap_error_comp.pdf')"
   ]
  }
 ],
 "metadata": {
  "kernelspec": {
   "display_name": "Python 3 (ipykernel)",
   "language": "python",
   "name": "python3"
  },
  "language_info": {
   "codemirror_mode": {
    "name": "ipython",
    "version": 3
   },
   "file_extension": ".py",
   "mimetype": "text/x-python",
   "name": "python",
   "nbconvert_exporter": "python",
   "pygments_lexer": "ipython3",
   "version": "3.8.10"
  }
 },
 "nbformat": 4,
 "nbformat_minor": 5
}
