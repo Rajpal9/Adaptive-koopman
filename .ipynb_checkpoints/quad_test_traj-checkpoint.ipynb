{
 "cells": [
  {
   "cell_type": "code",
   "execution_count": 1,
   "id": "cd87bd06-b759-40d7-a233-59aa719de770",
   "metadata": {},
   "outputs": [],
   "source": [
    "import math\n",
    "import numpy as np\n",
    "import matplotlib.pyplot as plt\n",
    "import sklearn.preprocessing\n",
    "import itertools\n",
    "import torch\n",
    "import random\n",
    "import time\n",
    "import os\n",
    "import gym\n",
    "import tqdm\n",
    "\n",
    "# import Koopman Libraries\n",
    "from core.koopman_core_linear import KoopDNN_linear, KoopmanNet_linear, KoopmanNetCtrl_linear\n",
    "from sklearn import preprocessing\n",
    "from core.util import fit_standardizer\n",
    "from models.koop_model import model_matricies,lift\n",
    "\n",
    "# drone_dynamics\n",
    "from dynamics.quadsim_2d import QuadSim"
   ]
  },
  {
   "cell_type": "code",
   "execution_count": 2,
   "id": "3e57f3fb-2551-4e6e-ad6d-d3608990e1b9",
   "metadata": {},
   "outputs": [],
   "source": [
    "quad_params = {}\n",
    "quad_params['m'] = 2\n",
    "quad_params[\"g\"] = 9.81\n",
    "quad_params[\"L\"] = 0.2\n",
    "quad_params['Ixx'] = 1 #0.02"
   ]
  },
  {
   "cell_type": "code",
   "execution_count": null,
   "id": "66e542ed-6691-41b5-ad6b-83aea7537281",
   "metadata": {},
   "outputs": [
    {
     "name": "stdout",
     "output_type": "stream",
     "text": [
      "8.059941316630987\n"
     ]
    },
    {
     "name": "stderr",
     "output_type": "stream",
     "text": [
      "/home/rajpal/.local/lib/python3.8/site-packages/gym/spaces/box.py:127: UserWarning: \u001b[33mWARN: Box bound precision lowered by casting to float32\u001b[0m\n",
      "  logger.warn(f\"Box bound precision lowered by casting to {self.dtype}\")\n"
     ]
    }
   ],
   "source": [
    "env = QuadSim(quad_params)\n",
    "traj_length = 1000\n",
    "####generate data\n",
    "num_states = 6\n",
    "num_inputs = 2\n",
    "x_ref = np.empty((num_states, traj_length+1)) # cartesian state matrix\n",
    "\n",
    "obs = env.reset(traj = 'star')\n",
    "done = False\n",
    "    \n",
    "for j in range(traj_length):\n",
    "    action = env.action_space.sample()\n",
    "    obs, reward, done, info = env.step(action)\n",
    "    if j == 0:\n",
    "        x_ref[:,j] = env.Quadrotor.get_state()   \n",
    "    x_ref[:,j+1] = env.Quadrotor.get_state() \n",
    "env.close()\n",
    "\n",
    "# x_ref = np.load('quad_path.npy')"
   ]
  },
  {
   "cell_type": "code",
   "execution_count": null,
   "id": "29fcc356-fd35-4efe-a899-d2b4f190e40e",
   "metadata": {},
   "outputs": [],
   "source": [
    "plt.figure(figsize=(10, 10) )\n",
    "plt.plot(x_ref[0,:], x_ref[1,:], label='reference',linewidth = 2.0)\n",
    "plt.plot(x_ref[0,0], x_ref[1,0], label='Start Point',linewidth = 2.0)\n",
    "plt.plot(x_ref[0,-1], x_ref[1,-1], label='End Point',linewidth = 2.0)\n",
    "plt.legend()"
   ]
  },
  {
   "cell_type": "code",
   "execution_count": null,
   "id": "25a80449-ec90-4059-ad97-e3df13c6a83f",
   "metadata": {},
   "outputs": [],
   "source": []
  },
  {
   "cell_type": "code",
   "execution_count": null,
   "id": "1b59aa9f-e116-4921-ab1f-a7eb36afbaf3",
   "metadata": {},
   "outputs": [],
   "source": []
  }
 ],
 "metadata": {
  "kernelspec": {
   "display_name": "Python 3 (ipykernel)",
   "language": "python",
   "name": "python3"
  },
  "language_info": {
   "codemirror_mode": {
    "name": "ipython",
    "version": 3
   },
   "file_extension": ".py",
   "mimetype": "text/x-python",
   "name": "python",
   "nbconvert_exporter": "python",
   "pygments_lexer": "ipython3",
   "version": "3.8.10"
  }
 },
 "nbformat": 4,
 "nbformat_minor": 5
}
