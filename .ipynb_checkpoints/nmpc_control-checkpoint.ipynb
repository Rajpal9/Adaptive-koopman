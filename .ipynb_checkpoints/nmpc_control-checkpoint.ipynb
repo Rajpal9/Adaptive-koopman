{
 "cells": [
  {
   "cell_type": "code",
   "execution_count": 1,
   "id": "e5f8da23-7f1f-4011-bb40-a269e2b87a63",
   "metadata": {
    "pycharm": {
     "name": "#%%\n"
    }
   },
   "outputs": [],
   "source": [
    "# import libraries\n",
    "import numpy as np\n",
    "import matplotlib.pyplot as plt\n",
    "import sklearn.preprocessing\n",
    "import itertools\n",
    "import torch\n",
    "\n",
    "from core.koopman_core import KoopDNN,KoopmanNet,KoopmanNetCtrl\n",
    "from models.koop_model import model_matricies,lift\n",
    "from dynamics.duffing import dynamics_duff\n",
    "from dynamics.Vanpol import dynamics_vanpol\n"
   ]
  },
  {
   "cell_type": "code",
   "execution_count": 2,
   "id": "b58957f0",
   "metadata": {
    "collapsed": false,
    "jupyter": {
     "outputs_hidden": false
    },
    "pycharm": {
     "name": "#%%\n"
    },
    "tags": []
   },
   "outputs": [],
   "source": [
    "# Base Parameters\n",
    "dt = 0.01 #time step\n",
    "num_states = 2 # no. of states\n",
    "num_inputs = 1 # no. of inputs"
   ]
  },
  {
   "cell_type": "code",
   "execution_count": 3,
   "id": "9658fad3-b0f7-4dc3-ac41-803de56bd83a",
   "metadata": {
    "tags": []
   },
   "outputs": [],
   "source": [
    "file = 'saved_models/duff_best.pth'\n",
    "model_koop_dnn = torch.load(file)"
   ]
  },
  {
   "cell_type": "code",
   "execution_count": 4,
   "id": "f3fd3e25",
   "metadata": {
    "collapsed": false,
    "jupyter": {
     "outputs_hidden": false
    },
    "pycharm": {
     "name": "#%%\n"
    }
   },
   "outputs": [
    {
     "name": "stdout",
     "output_type": "stream",
     "text": [
      "(13, 13) (13, 13) (2, 13)\n"
     ]
    }
   ],
   "source": [
    "A = np.array(model_koop_dnn.A)\n",
    "#B = np.array(model_koop_dnn.B).reshape(-1,num_inputs*n_obs)\n",
    "B = np.array(model_koop_dnn.B)\n",
    "#B_tensor = np.empty((num_inputs,n_obs, n_obs))\n",
    "#for ii, b in enumerate(B):\n",
    "    #B_tensor[ii] = b\n",
    "C = np.array(model_koop_dnn.C)\n",
    "n_lift = A.shape[0]\n",
    "print(A.shape, B.shape, C.shape)\n",
    "\n",
    "net_params = model_koop_dnn.net_params"
   ]
  },
  {
   "cell_type": "code",
   "execution_count": 5,
   "id": "939216b4",
   "metadata": {
    "collapsed": false,
    "jupyter": {
     "outputs_hidden": false
    },
    "pycharm": {
     "name": "#%%\n"
    },
    "tags": []
   },
   "outputs": [],
   "source": [
    "class Dynamics:\n",
    "\n",
    "    \"\"\"\n",
    "    this class defines the dynamics of a linear system\n",
    "\n",
    "    \"\"\"\n",
    "    def __init__(self, A, B, C):\n",
    "        \"\"\"\n",
    "        :param Ad: discrete drift matrix\n",
    "        :param Bd: discrete activation matrix\n",
    "        \"\"\"\n",
    "        self.A = A\n",
    "        self.B = B\n",
    "        self.C = C\n",
    "        self.nz = A.shape[0]  # number of states\n",
    "        self.nx = C.shape[0]\n",
    "        self.m = int(B.shape[1]/self.nz)  #number of control signals\n",
    "\n",
    "    def eval_dot(self, z, u, t = None):\n",
    "        \"\"\"\n",
    "        computes z_k+1\n",
    "        :param z: current state\n",
    "        :param u: control input\n",
    "        :return:\n",
    "        \"\"\"\n",
    "        return self.A @ z + self.B @ np.kron(z, u)\n",
    "\n",
    "    def get_linearization(self, z0, z1, u):\n",
    "        \"\"\"\n",
    "        this computes the linearization matrix of the dynamics\n",
    "        :return: A_lin, B_lin\n",
    "        \"\"\"\n",
    "\n",
    "        A_lin = self.A.toarray() + self.B.toarray() @ np.kron(np.eye(self.nz), u.reshape((self.m, 1)))\n",
    "        B_lin = self.B.toarray() @ np.kron(z0.reshape((self.nz, 1)), np.eye(self.m))\n",
    "\n",
    "        z_next = self.eval_dot(z0, u)\n",
    "\n",
    "        r_lin = z_next - z1\n",
    "\n",
    "        return A_lin, B_lin, r_lin"
   ]
  },
  {
   "cell_type": "code",
   "execution_count": 6,
   "id": "096b224e",
   "metadata": {
    "collapsed": false,
    "jupyter": {
     "outputs_hidden": false
    },
    "pycharm": {
     "name": "#%%\n"
    },
    "tags": []
   },
   "outputs": [],
   "source": [
    "from control_files.nmpc_osqp import NonlinearMPCController\n",
    "import scipy"
   ]
  },
  {
   "cell_type": "code",
   "execution_count": null,
   "id": "d4e8ffcf-81b6-41d1-ac76-dc04daba8b42",
   "metadata": {
    "tags": []
   },
   "outputs": [],
   "source": []
  },
  {
   "cell_type": "code",
   "execution_count": 7,
   "id": "c9d971b9",
   "metadata": {
    "collapsed": false,
    "jupyter": {
     "outputs_hidden": false
    },
    "pycharm": {
     "name": "#%%\n"
    }
   },
   "outputs": [],
   "source": [
    "bilinear_model = Dynamics(scipy.sparse.csc_matrix(A),scipy.sparse.csc_matrix(B), C)"
   ]
  },
  {
   "cell_type": "code",
   "execution_count": 8,
   "id": "db8b370c",
   "metadata": {
    "collapsed": false,
    "jupyter": {
     "outputs_hidden": false
    },
    "pycharm": {
     "name": "#%%\n"
    }
   },
   "outputs": [],
   "source": [
    "solver_settings = {}\n",
    "solver_settings['gen_embedded_ctrl'] = False\n",
    "solver_settings['warm_start'] = True\n",
    "solver_settings['polish'] = True\n",
    "solver_settings['polish_refine_iter'] = 3\n",
    "solver_settings['scaling'] = True\n",
    "solver_settings['adaptive_rho'] = False\n",
    "solver_settings['check_termination'] = 25\n",
    "solver_settings['max_iter'] = 1000\n",
    "solver_settings['eps_abs'] = 1e-6\n",
    "solver_settings['eps_rel'] = 1e-6\n",
    "solver_settings['eps_prim_inf'] = 1e-4\n",
    "solver_settings['eps_dual_inf'] = 1e-4\n",
    "solver_settings['linsys_solver'] = 'qdldl'"
   ]
  },
  {
   "cell_type": "code",
   "execution_count": 9,
   "id": "7f84df15",
   "metadata": {
    "collapsed": false,
    "jupyter": {
     "outputs_hidden": false
    },
    "pycharm": {
     "name": "#%%\n"
    }
   },
   "outputs": [],
   "source": [
    "#Closed loop performance evaluation parameters:\n",
    "traj_length = 2000\n",
    "max_iter = 100\n",
    "N = 5 #length of horizon\n",
    "t_eval = dt * np.arange(traj_length+1)                       # Simulation time points, closed loop\n",
    "Q_mpc = scipy.sparse.diags([10,10])                       # State penalty matrix, trajectory generation\n",
    "QN_mpc = scipy.sparse.diags([1e3,1e3])         # Final state penalty matrix, trajectory generation\n",
    "R_mpc = 1*scipy.sparse.eye(num_inputs)                                     # Actuation penalty matrix, trajectory generation\n",
    "R0_mpc = scipy.sparse.csc_matrix(np.zeros(num_inputs))\n",
    "\n",
    "# Design trajectory:\n",
    "x0 = np.array([-0.2, 0.1])                   # Initial value, closed loop trajectory\n",
    "set_pt = np.array([0., 0.])              # Desired final value, closed loop trajectory\n",
    "x_ref = np.tile(set_pt.reshape(-1,1), (1, traj_length))\n",
    "xmax = np.array([5, 5])                          # State constraints, trajectory generation\n",
    "xmin = -xmax\n",
    "umax = 1\n",
    "umin = -umax\n",
    "\n",
    "# Define initial solution for SQP algorithm:\n",
    "x_init = np.linspace(x0, x0, N+1)\n",
    "u_init = 1*np.ones((num_inputs, N)).T"
   ]
  },
  {
   "cell_type": "code",
   "execution_count": 10,
   "id": "690faea1",
   "metadata": {
    "collapsed": false,
    "jupyter": {
     "outputs_hidden": false
    },
    "pycharm": {
     "name": "#%%\n"
    }
   },
   "outputs": [
    {
     "data": {
      "text/plain": [
       "(2, 2000)"
      ]
     },
     "execution_count": 10,
     "metadata": {},
     "output_type": "execute_result"
    }
   ],
   "source": [
    "x_ref.shape"
   ]
  },
  {
   "cell_type": "code",
   "execution_count": 11,
   "id": "06ba520d",
   "metadata": {
    "collapsed": false,
    "jupyter": {
     "outputs_hidden": false
    },
    "pycharm": {
     "name": "#%%\n"
    }
   },
   "outputs": [
    {
     "ename": "NameError",
     "evalue": "name 'net_params' is not defined",
     "output_type": "error",
     "traceback": [
      "\u001b[0;31m---------------------------------------------------------------------------\u001b[0m",
      "\u001b[0;31mNameError\u001b[0m                                 Traceback (most recent call last)",
      "Cell \u001b[0;32mIn[11], line 2\u001b[0m\n\u001b[1;32m      1\u001b[0m z_init \u001b[38;5;241m=\u001b[39m np\u001b[38;5;241m.\u001b[39mempty((N\u001b[38;5;241m+\u001b[39m\u001b[38;5;241m1\u001b[39m,n_lift))\n\u001b[0;32m----> 2\u001b[0m z0 \u001b[38;5;241m=\u001b[39m lift(x0, model_koop_dnn, \u001b[43mnet_params\u001b[49m)\n\u001b[1;32m      3\u001b[0m \u001b[38;5;28;01mfor\u001b[39;00m i \u001b[38;5;129;01min\u001b[39;00m \u001b[38;5;28mrange\u001b[39m(N\u001b[38;5;241m+\u001b[39m\u001b[38;5;241m1\u001b[39m):\n\u001b[1;32m      4\u001b[0m     z_init[i,:] \u001b[38;5;241m=\u001b[39m lift(x_init[i,:], model_koop_dnn, net_params)\n",
      "\u001b[0;31mNameError\u001b[0m: name 'net_params' is not defined"
     ]
    }
   ],
   "source": [
    "z_init = np.empty((N+1,n_lift))\n",
    "z0 = lift(x0, model_koop_dnn, net_params)\n",
    "for i in range(N+1):\n",
    "    z_init[i,:] = lift(x_init[i,:], model_koop_dnn, net_params)\n"
   ]
  },
  {
   "cell_type": "code",
   "execution_count": null,
   "id": "7e61d3b6",
   "metadata": {
    "collapsed": false,
    "jupyter": {
     "outputs_hidden": false
    },
    "pycharm": {
     "name": "#%%\n"
    }
   },
   "outputs": [],
   "source": [
    "controller_nmpc = NonlinearMPCController(bilinear_model, N, dt, umin, umax, xmin, xmax, Q_mpc, R_mpc, QN_mpc, solver_settings)\n",
    "controller_nmpc.construct_controller(z_init, u_init,x_ref[:,0])"
   ]
  },
  {
   "cell_type": "code",
   "execution_count": null,
   "id": "0c3fd5c5",
   "metadata": {
    "collapsed": false,
    "jupyter": {
     "outputs_hidden": false
    },
    "pycharm": {
     "name": "#%%\n"
    }
   },
   "outputs": [],
   "source": [
    "controller_nmpc.trajectory_tracking(x0, z0, x_ref.T, max_iter)"
   ]
  },
  {
   "cell_type": "code",
   "execution_count": null,
   "id": "dc58b61b",
   "metadata": {
    "collapsed": false,
    "jupyter": {
     "outputs_hidden": false
    },
    "pycharm": {
     "name": "#%%\n"
    }
   },
   "outputs": [],
   "source": [
    "plt.figure()\n",
    "plt.plot(t_eval, controller_nmpc.x_traced[:,0],label ='x1')\n",
    "plt.plot(t_eval, controller_nmpc.x_traced[:,1],label = 'x2')\n",
    "plt.xlabel('t')\n",
    "plt.ylabel('x')\n",
    "plt.title('states')\n",
    "plt.legend()\n",
    "plt.show()"
   ]
  },
  {
   "cell_type": "code",
   "execution_count": null,
   "id": "1bbf3559",
   "metadata": {
    "collapsed": false,
    "jupyter": {
     "outputs_hidden": false
    },
    "pycharm": {
     "name": "#%%\n"
    },
    "tags": []
   },
   "outputs": [],
   "source": [
    "plt.figure()\n",
    "plt.plot(t_eval[:-1], controller_nmpc.controls,label ='u')\n",
    "plt.xlabel('t')\n",
    "plt.ylabel('u')\n",
    "plt.title('Controls')\n",
    "plt.legend()\n",
    "plt.show()"
   ]
  }
 ],
 "metadata": {
  "kernelspec": {
   "display_name": "Python 3 (ipykernel)",
   "language": "python",
   "name": "python3"
  },
  "language_info": {
   "codemirror_mode": {
    "name": "ipython",
    "version": 3
   },
   "file_extension": ".py",
   "mimetype": "text/x-python",
   "name": "python",
   "nbconvert_exporter": "python",
   "pygments_lexer": "ipython3",
   "version": "3.8.10"
  }
 },
 "nbformat": 4,
 "nbformat_minor": 5
}
