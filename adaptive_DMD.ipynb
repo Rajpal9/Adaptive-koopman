{
 "cells": [
  {
   "cell_type": "code",
   "execution_count": 123,
   "id": "e5f8da23-7f1f-4011-bb40-a269e2b87a63",
   "metadata": {
    "pycharm": {
     "name": "#%%\n"
    }
   },
   "outputs": [],
   "source": [
    "# import libraries\n",
    "import numpy as np\n",
    "import matplotlib.pyplot as plt\n",
    "import sklearn.preprocessing\n",
    "import itertools\n",
    "import torch\n",
    "\n",
    "from core.koopman_core import KoopDNN,KoopmanNet,KoopmanNetCtrl\n",
    "from models.koop_model import model_matricies,lift\n",
    "from dynamics.duffing import dynamics_duff\n",
    "from dynamics.Vanpol import dynamics_vanpol\n"
   ]
  },
  {
   "cell_type": "code",
   "execution_count": 124,
   "id": "5de24c1a-d019-416f-9e14-f2099ca3e1a5",
   "metadata": {
    "pycharm": {
     "name": "#%%\n"
    }
   },
   "outputs": [],
   "source": [
    "# Base Parameters\n",
    "dt = 0.005 #time step\n",
    "num_snaps = 2000 # no. of snapshots\n",
    "T = np.linspace(0,num_snaps*dt, num_snaps+1)\n",
    "num_train = 200 # no. of training examples\n",
    "num_val = int(0.25*num_train) # no of testing examples\n",
    "num_traj = num_train+num_val #no of trajectories\n",
    "num_states = 2 # no. of states\n",
    "num_inputs = 1 # no. of inputs"
   ]
  },
  {
   "cell_type": "code",
   "execution_count": null,
   "outputs": [],
   "source": [
    "# Oscillator parameters\n",
    "dyn_pars = {}\n",
    "\n",
    "dyn_pars['a'] = 1\n",
    "dyn_pars['b'] = 4\n",
    "dyn_pars['c'] = 0.5\n",
    "dyn_pars['d'] = 0.5\n",
    "\n",
    "dyn_pars['del_a'] = 1.2\n",
    "dyn_pars['del_b'] = 4.8\n",
    "dyn_pars['del_c'] = 5\n",
    "dyn_pars['del_d'] = 1\n",
    "dyn_pars['delay'] = False\n",
    "dyn_pars['delay_time'] = 5\n",
    "dyn_pars['cont_unc_type'] = 'sinusoidal'"
   ],
   "metadata": {
    "collapsed": false,
    "pycharm": {
     "name": "#%%\n"
    }
   }
  },
  {
   "cell_type": "code",
   "execution_count": null,
   "outputs": [],
   "source": [
    "X_changed, X_unchanged, U = dynamics_duff(dt, num_traj, num_snaps, num_states, num_inputs, dyn_pars)\n",
    "\n",
    "print(X_changed.shape, U.shape)"
   ],
   "metadata": {
    "collapsed": false,
    "pycharm": {
     "name": "#%%\n"
    }
   }
  },
  {
   "cell_type": "code",
   "execution_count": null,
   "outputs": [],
   "source": [
    "# Check for nan values\n",
    "print(sum(sum(sum(np.isnan(X_changed)))))\n",
    "print(sum(sum(sum(np.isnan(X_unchanged)))))"
   ],
   "metadata": {
    "collapsed": false,
    "pycharm": {
     "name": "#%%\n"
    }
   }
  },
  {
   "cell_type": "code",
   "execution_count": null,
   "outputs": [],
   "source": [
    "l2_diff = np.linalg.norm(X_changed-X_unchanged)/((X_changed.size)**(1/2))\n",
    "print('l2_diff = ', l2_diff)"
   ],
   "metadata": {
    "collapsed": false,
    "pycharm": {
     "name": "#%%\n"
    }
   }
  },
  {
   "cell_type": "code",
   "execution_count": null,
   "outputs": [],
   "source": [
    "change_in_dym = np.linalg.norm((X_changed-X_unchanged)/X_changed)/X_changed.size\n",
    "print('fraction of change in dynamics = ', change_in_dym)"
   ],
   "metadata": {
    "collapsed": false,
    "pycharm": {
     "name": "#%%\n"
    }
   }
  },
  {
   "cell_type": "code",
   "execution_count": null,
   "outputs": [],
   "source": [
    "# plot dataset\n",
    "fig, axs = plt.subplots(1,2,figsize=(12,7))\n",
    "axs[0].set_title(\"Phase plot for unchanged dynamics\")\n",
    "axs[1].set_title(\"Phase plot for changed dynamics\")\n",
    "\n",
    "axs[0].set(xlabel = 'x1', ylabel = 'x2')\n",
    "axs[1].set(xlabel = 'x1', ylabel = 'x2')\n",
    "\n",
    "for i in range(num_traj):\n",
    "    axs[0].plot(X_unchanged[i,:,0], X_unchanged[i,:,1])\n",
    "    axs[1].plot(X_changed[i,:,0], X_changed[i,:,1])\n",
    "plt.savefig('phase_plot_duffing.jpg')"
   ],
   "metadata": {
    "collapsed": false,
    "pycharm": {
     "name": "#%%\n"
    }
   }
  },
  {
   "cell_type": "code",
   "execution_count": null,
   "outputs": [],
   "source": [
    "plt.figure()\n",
    "\n",
    "plt.title('Comparison of Phase plot')\n",
    "plt.plot(X_unchanged[4,:,0], X_unchanged[4,:,1], label = 'unchanged')\n",
    "plt.plot(X_changed[4,:,0], X_changed[4,:,1], label = 'changed')\n",
    "\n",
    "plt.legend()\n",
    "plt.savefig('phase_plot_duffing_single_traj.jpg')\n",
    "plt.show()\n"
   ],
   "metadata": {
    "collapsed": false,
    "pycharm": {
     "name": "#%%\n"
    }
   }
  },
  {
   "cell_type": "code",
   "execution_count": null,
   "outputs": [],
   "source": [
    "# plot dataset\n",
    "fig, axs = plt.subplots(1,2,figsize=(12,7))\n",
    "axs[0].set_title(\"Error in position\")\n",
    "axs[1].set_title(\"Error in velocity\")\n",
    "\n",
    "axs[0].set(xlabel = 't', ylabel = 'x1')\n",
    "axs[1].set(xlabel = 't', ylabel = 'x2')\n",
    "\n",
    "\n",
    "axs[0].plot(T, X_unchanged[4,:,0], label = 'unchanged')\n",
    "axs[0].plot(T, X_changed[4,:,0], label = 'changed')\n",
    "axs[0].legend()\n",
    "\n",
    "axs[1].plot(T, X_unchanged[4,:,1], label = 'unchanged')\n",
    "axs[1].plot(T, X_changed[4,:,1], label = 'changed')\n",
    "axs[1].legend()\n",
    "\n",
    "plt.savefig('vel_pos_err_duffing_single_traj.jpg')"
   ],
   "metadata": {
    "collapsed": false,
    "pycharm": {
     "name": "#%%\n"
    }
   }
  },
  {
   "cell_type": "code",
   "execution_count": null,
   "outputs": [],
   "source": [
    "# split training and vaidation datasets\n",
    "xs_train, us_train = X_unchanged[:num_train,:,:],U[:num_train,:,:]\n",
    "xs_val, us_val = X_unchanged[num_train:,:,:],U[num_train:,:,:]"
   ],
   "metadata": {
    "collapsed": false,
    "pycharm": {
     "name": "#%%\n"
    }
   }
  },
  {
   "cell_type": "markdown",
   "source": [
    "***Koopman bilinear Models***"
   ],
   "metadata": {
    "collapsed": false,
    "pycharm": {
     "name": "#%% md\n"
    }
   }
  },
  {
   "cell_type": "code",
   "execution_count": null,
   "outputs": [],
   "source": [
    "# auto encoder parameters\n",
    "\n",
    "net_params = {}\n",
    "net_params['state_dim'] = num_states\n",
    "net_params['ctrl_dim'] = num_inputs\n",
    "net_params['encoder_hidden_width'] = 30\n",
    "net_params['encoder_hidden_depth'] = 2\n",
    "net_params['encoder_output_dim'] = 20\n",
    "net_params['optimizer'] = 'adam'\n",
    "net_params['activation_type'] = 'tanh'\n",
    "net_params['lr'] = 2e-4 # 5e-4\n",
    "net_params['epochs'] = 200\n",
    "net_params['batch_size'] = 256\n",
    "net_params['lifted_loss_penalty'] = 0.3\n",
    "net_params['l2_reg'] = 0.0         \n",
    "net_params['l1_reg'] = 0.0\n",
    "net_params['first_obs_const'] = True\n",
    "net_params['override_C'] = True # this makes the state a part of lifted state\n",
    "net_params['dt'] = dt"
   ],
   "metadata": {
    "collapsed": false,
    "pycharm": {
     "name": "#%%\n"
    }
   }
  },
  {
   "cell_type": "code",
   "execution_count": null,
   "outputs": [],
   "source": [
    "train = False\n",
    "\n",
    "if train == True:\n",
    "    file = 'duff.pth'\n",
    "    net = KoopmanNetCtrl(net_params)\n",
    "    model_koop_dnn = KoopDNN(net)\n",
    "    model_koop_dnn.set_datasets(xs_train, u_train=us_train, x_val=xs_val, u_val=us_val)\n",
    "    model_koop_dnn.model_pipeline(net_params)\n",
    "    model_koop_dnn.construct_koopman_model()\n",
    "    torch.save(model_koop_dnn,file)\n",
    "else:\n",
    "    file = 'duff_best.pth'\n",
    "    model_koop_dnn = torch.load(file)"
   ],
   "metadata": {
    "collapsed": false,
    "pycharm": {
     "name": "#%%\n"
    }
   }
  },
  {
   "cell_type": "code",
   "execution_count": null,
   "outputs": [],
   "source": [
    "train_loss = [l[0] for l in model_koop_dnn.train_loss_hist]\n",
    "train_pred_loss = [l[1] for l in model_koop_dnn.train_loss_hist]\n",
    "train_lifted_loss = [l[2] for l in model_koop_dnn.train_loss_hist]\n",
    "val_loss = [l[0] for l in model_koop_dnn.val_loss_hist]\n",
    "val_pred_loss = [l[1] for l in model_koop_dnn.val_loss_hist]\n",
    "val_lifted_loss = [l[2] for l in model_koop_dnn.val_loss_hist]\n",
    "epochs = np.arange(0, net_params['epochs'])\n",
    "\n",
    "plt.figure(figsize=(15,8))\n",
    "plt.plot(epochs, train_loss, color='tab:orange', label='Training loss')\n",
    "plt.plot(epochs, train_pred_loss, '--', color='tab:orange', label='Training prediction loss')\n",
    "plt.plot(epochs, train_lifted_loss, ':', color='tab:orange', label='Training lifted loss')\n",
    "plt.plot(epochs, val_loss, color='tab:blue', label='Validation loss')\n",
    "plt.plot(epochs, val_pred_loss, '--', color='tab:blue', label='Validation prediction loss')\n",
    "plt.plot(epochs, val_lifted_loss, ':', color='tab:blue', label='Validation lifted loss')\n",
    "plt.legend()\n",
    "plt.xlabel('Epoch')\n",
    "plt.ylabel('Loss')\n",
    "plt.yscale('log')\n",
    "plt.show()"
   ],
   "metadata": {
    "collapsed": false,
    "pycharm": {
     "name": "#%%\n"
    }
   }
  },
  {
   "cell_type": "markdown",
   "source": [
    "# Learned Model Parameters"
   ],
   "metadata": {
    "collapsed": false,
    "pycharm": {
     "name": "#%% md\n"
    }
   }
  },
  {
   "cell_type": "markdown",
   "source": [
    "## Bilinear Model Parameters"
   ],
   "metadata": {
    "collapsed": false,
    "pycharm": {
     "name": "#%% md\n"
    }
   }
  },
  {
   "cell_type": "code",
   "execution_count": null,
   "outputs": [],
   "source": [
    "A = np.array(model_koop_dnn.A)\n",
    "#B = np.array(model_koop_dnn.B).reshape(-1,num_inputs*n_obs)\n",
    "B = np.array(model_koop_dnn.B)\n",
    "#B_tensor = np.empty((num_inputs,n_obs, n_obs))\n",
    "#for ii, b in enumerate(B):\n",
    "    #B_tensor[ii] = b\n",
    "C = np.array(model_koop_dnn.C)\n",
    "\n",
    "print(A.shape, B.shape, C.shape)"
   ],
   "metadata": {
    "collapsed": false,
    "pycharm": {
     "name": "#%%\n"
    }
   }
  },
  {
   "cell_type": "markdown",
   "source": [
    "## Lifting function"
   ],
   "metadata": {
    "collapsed": false,
    "pycharm": {
     "name": "#%% md\n"
    }
   }
  },
  {
   "cell_type": "markdown",
   "source": [
    "# Testing"
   ],
   "metadata": {
    "collapsed": false,
    "pycharm": {
     "name": "#%% md\n"
    }
   }
  },
  {
   "cell_type": "markdown",
   "source": [
    "## Parameters"
   ],
   "metadata": {
    "collapsed": false,
    "pycharm": {
     "name": "#%% md\n"
    }
   }
  },
  {
   "cell_type": "code",
   "execution_count": null,
   "outputs": [],
   "source": [
    "# test data parameters\n",
    "num_snaps_test = 3000 # no. of snapshots\n",
    "T_test = np.linspace(0,num_snaps_test*dt, num_snaps_test+1)\n",
    "num_traj_test = 1 # no. of training examples\n",
    "first_obs_const = int(net_params['first_obs_const']) #only one state\n",
    "override_C = net_params['override_C']\n",
    "if override_C:\n",
    "    n_obs = int(net_params['encoder_output_dim']) + num_states + first_obs_const \n",
    "else:\n",
    "    n_obs = int(net_params['encoder_output_dim']) + first_obs_const "
   ],
   "metadata": {
    "collapsed": false,
    "pycharm": {
     "name": "#%%\n"
    }
   }
  },
  {
   "cell_type": "markdown",
   "source": [
    "## Testing Data"
   ],
   "metadata": {
    "collapsed": false,
    "pycharm": {
     "name": "#%% md\n"
    }
   }
  },
  {
   "cell_type": "code",
   "execution_count": null,
   "outputs": [],
   "source": [
    "x_changed_test, x_unchanged_test, u_test = dynamics_duff(dt, num_traj_test, num_snaps_test,num_states, num_inputs, dyn_pars)\n",
    "print(model_koop_dnn.test_loss(x_unchanged_test,u_test = u_test))"
   ],
   "metadata": {
    "collapsed": false,
    "pycharm": {
     "name": "#%%\n"
    }
   }
  },
  {
   "cell_type": "code",
   "execution_count": null,
   "outputs": [],
   "source": [
    "x_unchanged_test.shape"
   ],
   "metadata": {
    "collapsed": false,
    "pycharm": {
     "name": "#%%\n"
    }
   }
  },
  {
   "cell_type": "code",
   "execution_count": null,
   "outputs": [],
   "source": [
    "# Use the preprocessing if available\n",
    "X_unchanged,_ = model_koop_dnn.net.process(x_unchanged_test,data_u = u_test)\n",
    "X_changed,_ = model_koop_dnn.net.process(x_changed_test,data_u = u_test)"
   ],
   "metadata": {
    "collapsed": false,
    "pycharm": {
     "name": "#%%\n"
    }
   }
  },
  {
   "cell_type": "code",
   "execution_count": null,
   "outputs": [],
   "source": [
    "X_changed.shape"
   ],
   "metadata": {
    "collapsed": false,
    "pycharm": {
     "name": "#%%\n"
    }
   }
  },
  {
   "cell_type": "code",
   "execution_count": null,
   "outputs": [],
   "source": [
    "# flatten vector\n",
    "x_unchanged = X_unchanged[:, :num_states]\n",
    "u = X_unchanged[:, num_states:num_states+num_inputs]\n",
    "x_unchanged_prime = X_unchanged[:,num_states+num_inputs:]\n",
    "\n",
    "x_changed = X_changed[:, :num_states]\n",
    "x_changed_prime = X_changed[:,num_states+num_inputs:]\n",
    "\n",
    "x_changed_dot = (x_changed_prime-x_changed)/dt\n",
    "print(x_changed.shape, u.shape, x_changed_prime.shape)"
   ],
   "metadata": {
    "collapsed": false,
    "pycharm": {
     "name": "#%%\n"
    }
   }
  },
  {
   "cell_type": "markdown",
   "source": [
    "# Lifting of states"
   ],
   "metadata": {
    "collapsed": false,
    "pycharm": {
     "name": "#%% md\n"
    }
   }
  },
  {
   "cell_type": "code",
   "execution_count": null,
   "outputs": [],
   "source": [
    "# initialize states\n",
    "# initialize the matricies\n",
    "z_unchanged = np.empty((n_obs,num_snaps_test+1)).T   #lifted state\n",
    "x_unchanged_est = np.zeros((num_states,num_snaps_test+1)).T #estimated values"
   ],
   "metadata": {
    "collapsed": false,
    "pycharm": {
     "name": "#%%\n"
    }
   }
  },
  {
   "cell_type": "code",
   "execution_count": null,
   "outputs": [],
   "source": [
    "# actual lift\n",
    "z_unchanged[0,:] = lift(x_unchanged[0,:],model_koop_dnn, net_params)\n",
    "x_unchanged_est[0,:] = x_unchanged[0,:]"
   ],
   "metadata": {
    "collapsed": false,
    "pycharm": {
     "name": "#%%\n"
    }
   }
  },
  {
   "cell_type": "markdown",
   "source": [
    "# Time Evolution"
   ],
   "metadata": {
    "collapsed": false,
    "pycharm": {
     "name": "#%% md\n"
    }
   }
  },
  {
   "cell_type": "code",
   "execution_count": null,
   "outputs": [],
   "source": [
    "for i in range(num_snaps_test):\n",
    "  #bilinear\n",
    "    z_unchanged[i+1,:] = np.matmul(z_unchanged[i,:],A.T)+np.matmul(np.kron(u[i,:],z_unchanged[i,:]),B.T)\n",
    "    x_unchanged_est[i+1,:] = np.matmul(z_unchanged[i+1,:],C.T)"
   ],
   "metadata": {
    "collapsed": false,
    "pycharm": {
     "name": "#%%\n"
    }
   }
  },
  {
   "cell_type": "markdown",
   "source": [
    "# Plotting"
   ],
   "metadata": {
    "collapsed": false,
    "pycharm": {
     "name": "#%% md\n"
    }
   }
  },
  {
   "cell_type": "markdown",
   "source": [
    "## Lifting performance"
   ],
   "metadata": {
    "collapsed": false,
    "pycharm": {
     "name": "#%% md\n"
    }
   }
  },
  {
   "cell_type": "code",
   "execution_count": null,
   "outputs": [],
   "source": [
    "plt.figure()\n",
    "plt.plot(T_test[:-1], x_unchanged[:,0],label ='Test unchanged data')\n",
    "plt.plot(T_test, x_unchanged_est[:,0],label = 'estimated unchanged dyn (bilinear)')\n",
    "plt.xlabel('t')\n",
    "plt.ylabel('x1')\n",
    "plt.title('Position Comparison')\n",
    "plt.legend()\n",
    "plt.show()"
   ],
   "metadata": {
    "collapsed": false,
    "pycharm": {
     "name": "#%%\n"
    }
   }
  },
  {
   "cell_type": "code",
   "execution_count": null,
   "outputs": [],
   "source": [
    "plt.figure()\n",
    "plt.plot(T_test[:-1],x_unchanged[:,1],label ='Test data')\n",
    "plt.plot(T_test,x_unchanged_est[:,1],label = 'esimated unchanged dyn (bilinear)')\n",
    "plt.xlabel('t')\n",
    "plt.ylabel('x2')\n",
    "plt.title('Velocity Comparison')\n",
    "plt.legend()\n",
    "plt.show()"
   ],
   "metadata": {
    "collapsed": false,
    "pycharm": {
     "name": "#%%\n"
    }
   }
  },
  {
   "cell_type": "code",
   "execution_count": null,
   "outputs": [],
   "source": [
    "plt.figure()\n",
    "plt.plot(x_unchanged[:,0],x_unchanged[:,1],label ='Test data')\n",
    "plt.plot(x_unchanged_est[:,0],x_unchanged_est[:,1],label = 'esimated unchanged dyn (bilinear)')\n",
    "plt.xlabel('x1')\n",
    "plt.ylabel('x2')\n",
    "plt.title('Phase Space trajectory Comparison')\n",
    "plt.legend()\n",
    "plt.show()"
   ],
   "metadata": {
    "collapsed": false,
    "pycharm": {
     "name": "#%%\n"
    }
   }
  },
  {
   "cell_type": "markdown",
   "source": [
    "### Error Evolution"
   ],
   "metadata": {
    "collapsed": false,
    "pycharm": {
     "name": "#%% md\n"
    }
   }
  },
  {
   "cell_type": "code",
   "execution_count": null,
   "outputs": [],
   "source": [
    "error_model = np.linalg.norm((x_unchanged_est[:-1,:]-x_unchanged[:,:]),axis=1)\n",
    "error_dynamics_no_adapt = np.linalg.norm((x_changed[:,:]-x_unchanged[:,:]),axis=1)"
   ],
   "metadata": {
    "collapsed": false,
    "pycharm": {
     "name": "#%%\n"
    }
   }
  },
  {
   "cell_type": "code",
   "execution_count": null,
   "outputs": [],
   "source": [
    "plt.figure()\n",
    "plt.plot(T_test[:-1],error_model)\n",
    "plt.xlabel('t')\n",
    "plt.ylabel('e')\n",
    "plt.title('Model error evolution')\n",
    "plt.show()"
   ],
   "metadata": {
    "collapsed": false,
    "pycharm": {
     "name": "#%%\n"
    }
   }
  },
  {
   "cell_type": "markdown",
   "source": [
    "## Deviation from Actual Dynamics"
   ],
   "metadata": {
    "collapsed": false,
    "pycharm": {
     "name": "#%% md\n"
    }
   }
  },
  {
   "cell_type": "code",
   "execution_count": null,
   "outputs": [],
   "source": [
    "plt.figure()\n",
    "plt.plot(T_test[:-1],x_changed[:,0],label ='Test data (changed dynamics)')\n",
    "plt.plot(T_test[:-1],x_unchanged[:,0],label ='Test data (unchanged dynamics)')\n",
    "plt.plot(T_test,x_unchanged_est[:,0],label = 'esimated unchanged dyn (bilinear)')\n",
    "plt.xlabel('t')\n",
    "plt.ylabel('x1')\n",
    "plt.title('Position Comparison')\n",
    "plt.legend()\n",
    "plt.show()"
   ],
   "metadata": {
    "collapsed": false,
    "pycharm": {
     "name": "#%%\n"
    }
   }
  },
  {
   "cell_type": "code",
   "execution_count": null,
   "outputs": [],
   "source": [
    "plt.figure()\n",
    "plt.plot(T_test[:-1],x_changed[:,1],label ='Test data (changed model)')\n",
    "plt.plot(T_test[:-1],x_unchanged[:,1],label ='Test data (unchanged model)')\n",
    "plt.plot(T_test,x_unchanged_est[:,1],label = 'esimated unchanged dyn (bilinear)')\n",
    "plt.xlabel('t')\n",
    "plt.ylabel('x1')\n",
    "plt.title('Velocity Comparison')\n",
    "plt.legend()\n",
    "plt.show()"
   ],
   "metadata": {
    "collapsed": false,
    "pycharm": {
     "name": "#%%\n"
    }
   }
  },
  {
   "cell_type": "code",
   "execution_count": null,
   "outputs": [],
   "source": [
    "plt.figure()\n",
    "plt.plot(x_changed[:,0],x_changed[:,1],label ='Test data (changed dyn)')\n",
    "plt.plot(x_unchanged[:,0],x_unchanged[:,1],label ='Test data (unchanged dyn)')\n",
    "plt.plot(x_unchanged_est[:,0],x_unchanged_est[:,1],label = 'esimated unchanged dyn (bilinear)')\n",
    "plt.xlabel('x1')\n",
    "plt.ylabel('x2')\n",
    "plt.title('Phase Space trajectory Comparison')\n",
    "plt.legend()\n",
    "plt.show()"
   ],
   "metadata": {
    "collapsed": false,
    "pycharm": {
     "name": "#%%\n"
    }
   }
  },
  {
   "cell_type": "code",
   "execution_count": null,
   "outputs": [],
   "source": [
    "plt.figure()\n",
    "plt.plot(T_test[:-1],error_dynamics_no_adapt)\n",
    "plt.xlabel('t')\n",
    "plt.ylabel('e')\n",
    "plt.title('Dynamics error evolution')\n",
    "plt.show()"
   ],
   "metadata": {
    "collapsed": false,
    "pycharm": {
     "name": "#%%\n"
    }
   }
  },
  {
   "cell_type": "markdown",
   "source": [
    "# Adaptation"
   ],
   "metadata": {
    "collapsed": false,
    "pycharm": {
     "name": "#%% md\n"
    }
   }
  },
  {
   "cell_type": "markdown",
   "source": [
    "## Data Preprocessing"
   ],
   "metadata": {
    "collapsed": false,
    "pycharm": {
     "name": "#%% md\n"
    }
   }
  },
  {
   "cell_type": "code",
   "execution_count": null,
   "outputs": [],
   "source": [
    "# initialize state matricies\n",
    "z_adap = np.empty((n_obs,num_snaps_test+1)).T   #lifted state\n",
    "z_changed = np.empty((n_obs,num_snaps_test)).T #actual lifted state\n",
    "del_z_prime = np.empty((n_obs,num_snaps_test)).T\n",
    "zu_unchanged = np.empty((n_obs*num_inputs,num_snaps_test)).T\n",
    "x_adap_est = np.zeros((num_states,num_snaps_test+1)).T #estimated values\n",
    "del_A_norm = np.zeros((num_snaps_test,1))\n",
    "del_B_norm = np.zeros((num_snaps_test,1))\n",
    "# initialize\n",
    "z_adap[0,:] = z_unchanged[0,:]\n",
    "zu_unchanged[0,:] = np.kron(u[0,:],z_unchanged[0,:])\n",
    "x_adap_est[0,:] = x_unchanged[0,:]\n",
    "\n",
    "#\n",
    "adap_window = 11 #hyperparameter\n",
    "adap_factor = 5e-1 #hyperparameter"
   ],
   "metadata": {
    "collapsed": false,
    "pycharm": {
     "name": "#%%\n"
    }
   }
  },
  {
   "cell_type": "markdown",
   "source": [
    "# Adaptive Time evolution"
   ],
   "metadata": {
    "collapsed": false,
    "pycharm": {
     "name": "#%% md\n"
    }
   }
  },
  {
   "cell_type": "code",
   "execution_count": null,
   "outputs": [],
   "source": [
    "for i in range(num_snaps_test):\n",
    "  # incorrect dynamics\n",
    "    zu_unchanged[i,:] = np.kron(u[i,:],z_adap[i,:])\n",
    "    z_unchanged[i+1,:] = np.matmul(z_adap[i,:],A.T)+np.matmul(zu_unchanged[i,:],B.T)\n",
    "    \n",
    "    z_changed[i,:] = lift(x_changed[i,:],model_koop_dnn, net_params)\n",
    "    \n",
    "    del_z_prime[i,:] = z_changed[i,:] - z_unchanged[i,:]\n",
    "    if i < adap_window + 1 :\n",
    "        del_A = np.zeros_like(A)\n",
    "        del_B = np.zeros_like(B)\n",
    "    else:\n",
    "        del_Z_prime = del_z_prime[i-adap_window:i,:].T\n",
    "        Z_unchanged = z_unchanged[i-(adap_window+1):i-1].T\n",
    "        ZU_unchanged = zu_unchanged[i-(adap_window+1):i-1].T\n",
    "        Omega = np.vstack((Z_unchanged, ZU_unchanged))\n",
    "        G = np.matmul(del_Z_prime, np.linalg.pinv(Omega))\n",
    "        del_A = G[0:n_obs,0:n_obs]\n",
    "        del_B = G[0:n_obs,n_obs:n_obs*(num_inputs+1)]\n",
    "\n",
    "    del_A_norm[i] = np.linalg.norm(del_A)\n",
    "    del_B_norm[i] = np.linalg.norm(del_B)\n",
    "    \n",
    "    if del_B_norm[i] < np.linalg.norm(B):\n",
    "        B_factor = adap_factor\n",
    "    else:\n",
    "        B_factor = adap_factor*np.linalg.norm(B)/del_B_norm[i]\n",
    "\n",
    "    if del_A_norm[i] < np.linalg.norm(A):\n",
    "        A_factor = adap_factor\n",
    "    else:\n",
    "        A_factor = adap_factor*np.linalg.norm(A)/del_A_norm[i]\n",
    "\n",
    "    del_A = A_factor*del_A\n",
    "    del_B = B_factor*del_B\n",
    "    \n",
    "    # adapted model\n",
    "    z_adap[i+1,:] = np.matmul(z_adap[i,:],A.T+del_A.T)+np.matmul(np.kron(u[i,:],z_adap[i,:]),B + del_B.T )\n",
    "    x_adap_est[i+1,:] = np.matmul(z_adap[i+1,:],C.T)"
   ],
   "metadata": {
    "collapsed": false,
    "pycharm": {
     "name": "#%%\n"
    }
   }
  },
  {
   "cell_type": "markdown",
   "source": [
    "# Performance Plotting"
   ],
   "metadata": {
    "collapsed": false,
    "pycharm": {
     "name": "#%% md\n"
    }
   }
  },
  {
   "cell_type": "code",
   "execution_count": null,
   "outputs": [],
   "source": [
    "plt.figure()\n",
    "plt.plot(T_test[:-1],x_changed[:,0],label ='Test data from changed dynamics')\n",
    "plt.plot(T_test[:],x_unchanged_est[:,0],label ='estimated (no adapt)')\n",
    "plt.plot(T_test,x_adap_est[:,0],label = 'esimated (adapt)')\n",
    "plt.xlabel('t')\n",
    "plt.ylabel('x1')\n",
    "plt.title('Position Comparison')\n",
    "plt.legend()\n",
    "plt.savefig('adap_pos.jpg')"
   ],
   "metadata": {
    "collapsed": false,
    "pycharm": {
     "name": "#%%\n"
    }
   }
  },
  {
   "cell_type": "code",
   "execution_count": null,
   "outputs": [],
   "source": [
    "plt.figure()\n",
    "plt.plot(T_test[:-1],x_changed[:,1],label ='Test data from changed dynamics')\n",
    "plt.plot(T_test[:],x_unchanged_est[:,1],label ='estimated (no adapt)')\n",
    "plt.plot(T_test,x_adap_est[:,1],label = 'esimated (adapt)')\n",
    "plt.xlabel('t')\n",
    "plt.ylabel('x2')\n",
    "plt.title('Velocity Comparison')\n",
    "plt.legend()\n",
    "plt.savefig('adap_vel.jpg')"
   ],
   "metadata": {
    "collapsed": false,
    "pycharm": {
     "name": "#%%\n"
    }
   }
  },
  {
   "cell_type": "code",
   "execution_count": null,
   "outputs": [],
   "source": [
    "plt.figure()\n",
    "plt.plot(x_changed[:,0],x_changed[:,1],label ='Test data from changed dynamics')\n",
    "plt.plot(x_unchanged_est[:,0],x_unchanged_est[:,1],label ='estimated (no adapt)')\n",
    "plt.plot(x_adap_est[:,0],x_adap_est[:,1],label = 'estimated (adapt)')\n",
    "plt.xlabel('x1')\n",
    "plt.ylabel('x2')\n",
    "plt.title('Position Comparison')\n",
    "plt.legend()\n",
    "plt.savefig('adap_phase.jpg')"
   ],
   "metadata": {
    "collapsed": false,
    "pycharm": {
     "name": "#%%\n"
    }
   }
  },
  {
   "cell_type": "markdown",
   "source": [
    "# Error Comparisons"
   ],
   "metadata": {
    "collapsed": false,
    "pycharm": {
     "name": "#%% md\n"
    }
   }
  },
  {
   "cell_type": "code",
   "execution_count": null,
   "outputs": [],
   "source": [
    "error_dynamics_adap = np.linalg.norm((x_adap_est[:-1,:]-x_changed[:,:]), axis=1)"
   ],
   "metadata": {
    "collapsed": false,
    "pycharm": {
     "name": "#%%\n"
    }
   }
  },
  {
   "cell_type": "code",
   "execution_count": null,
   "outputs": [],
   "source": [
    "fig, axs = plt.subplots(1,2,figsize=(12,7))\n",
    "axs[0].set_title(\"Error in Adaptive Model\")\n",
    "axs[1].set_title(\"Error in Non-Adaptive Model\")\n",
    "\n",
    "axs[0].set(xlabel = 't', ylabel = 'error')\n",
    "axs[1].set(xlabel = 't', ylabel = 'error')\n",
    "\n",
    "\n",
    "axs[0].plot(T_test[:-1],error_dynamics_adap)\n",
    "\n",
    "axs[1].plot(T_test[:-1],error_dynamics_no_adapt)\n",
    "\n",
    "plt.savefig('adap_error_comp.jpg')"
   ],
   "metadata": {
    "collapsed": false,
    "pycharm": {
     "name": "#%%\n"
    }
   }
  },
  {
   "cell_type": "markdown",
   "source": [
    "## Norm evolutions"
   ],
   "metadata": {
    "collapsed": false,
    "pycharm": {
     "name": "#%% md\n"
    }
   }
  },
  {
   "cell_type": "code",
   "execution_count": null,
   "outputs": [],
   "source": [
    "fig, axs = plt.subplots(1,2,figsize=(12,7))\n",
    "axs[0].set_title(\" ||del_A|| Evolution\")\n",
    "axs[1].set_title(\"||del_B|| Evolution\")\n",
    "\n",
    "axs[0].set(xlabel = 't', ylabel = '||del_A||')\n",
    "axs[1].set(xlabel = 't', ylabel = '||del_B||')\n",
    "\n",
    "\n",
    "axs[0].plot(T_test[:-1],del_A_norm)\n",
    "\n",
    "axs[1].plot(T_test[:-1],del_B_norm)\n",
    "plt.show()"
   ],
   "metadata": {
    "collapsed": false,
    "pycharm": {
     "name": "#%%\n"
    }
   }
  },
  {
   "cell_type": "code",
   "execution_count": null,
   "outputs": [],
   "source": [
    "fig, axs = plt.subplots(1,2,figsize=(12,7))\n",
    "axs[0].set_title(\" ||del_A|| Evolution\")\n",
    "axs[1].set_title(\"||del_B|| Evolution\")\n",
    "\n",
    "axs[0].set(xlabel = 't', ylabel = '||del_A||')\n",
    "axs[1].set(xlabel = 't', ylabel = '||del_B||')\n",
    "\n",
    "\n",
    "axs[0].plot(T_test[:-1],del_A_norm)\n",
    "\n",
    "axs[1].plot(T_test[:-1],del_B_norm)\n",
    "plt.show()"
   ],
   "metadata": {
    "collapsed": false,
    "pycharm": {
     "name": "#%%\n"
    }
   }
  },
  {
   "cell_type": "code",
   "execution_count": null,
   "outputs": [],
   "source": [
    "np.linalg.norm(A)"
   ],
   "metadata": {
    "collapsed": false,
    "pycharm": {
     "name": "#%%\n"
    }
   }
  },
  {
   "cell_type": "code",
   "execution_count": null,
   "outputs": [],
   "source": [
    "np.linalg.norm(A)"
   ],
   "metadata": {
    "collapsed": false,
    "pycharm": {
     "name": "#%%\n"
    }
   }
  },
  {
   "cell_type": "code",
   "execution_count": null,
   "outputs": [],
   "source": [
    "np.linalg.norm(B)"
   ],
   "metadata": {
    "collapsed": false,
    "pycharm": {
     "name": "#%%\n"
    }
   }
  },
  {
   "cell_type": "code",
   "execution_count": null,
   "outputs": [],
   "source": [
    "np.linalg.norm(B)"
   ],
   "metadata": {
    "collapsed": false,
    "pycharm": {
     "name": "#%%\n"
    }
   }
  },
  {
   "cell_type": "code",
   "execution_count": null,
   "outputs": [],
   "source": [],
   "metadata": {
    "collapsed": false,
    "pycharm": {
     "name": "#%%\n"
    }
   }
  },
  {
   "cell_type": "code",
   "execution_count": 165,
   "id": "f5033cf0-3c86-464f-92bc-0e6c5175e0f0",
   "metadata": {
    "pycharm": {
     "name": "#%%\n"
    }
   },
   "outputs": [],
   "source": []
  }
 ],
 "metadata": {
  "kernelspec": {
   "display_name": "Python 3 (ipykernel)",
   "language": "python",
   "name": "python3"
  },
  "language_info": {
   "codemirror_mode": {
    "name": "ipython",
    "version": 3
   },
   "file_extension": ".py",
   "mimetype": "text/x-python",
   "name": "python",
   "nbconvert_exporter": "python",
   "pygments_lexer": "ipython3",
   "version": "3.8.10"
  }
 },
 "nbformat": 4,
 "nbformat_minor": 5
}