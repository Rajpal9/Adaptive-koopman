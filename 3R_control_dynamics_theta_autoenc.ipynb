{
 "cells": [
  {
   "cell_type": "markdown",
   "metadata": {
    "id": "32dW0yJtRt71",
    "pycharm": {
     "name": "#%% md\n"
    }
   },
   "source": [
    "***Import Libraries***"
   ]
  },
  {
   "cell_type": "code",
   "execution_count": 23,
   "metadata": {
    "id": "iK3pcqmbq78v",
    "pycharm": {
     "name": "#%%\n"
    }
   },
   "outputs": [],
   "source": [
    "\"\"\"This program bilinearizes 3R planar dyanmics using koopman theory and autoencoder to map\"\"\"\n",
    "import numpy as np\n",
    "import matplotlib.pyplot as plt\n",
    "import sklearn.preprocessing\n",
    "import itertools\n",
    "\n",
    "import tensorflow as tf"
   ]
  },
  {
   "cell_type": "markdown",
   "metadata": {
    "id": "LyK0JbXORz_Q",
    "pycharm": {
     "name": "#%% md\n"
    }
   },
   "source": [
    "***Simulation Parameters***"
   ]
  },
  {
   "cell_type": "code",
   "execution_count": 24,
   "metadata": {
    "id": "mr0jiBXxrPaL",
    "pycharm": {
     "name": "#%%\n"
    }
   },
   "outputs": [],
   "source": [
    "dt = 0.005 #time step\n",
    "num_snaps = 1000 # no. of snapshots\n",
    "T = np.linspace(0,num_snaps*dt, num_snaps+1)\n",
    "num_train = 100 # no. of training examples\n",
    "num_val = int(0.25*num_train) # no of testing examples\n",
    "num_traj = num_train+num_val #no of trajectories\n",
    "num_states = 6 # no. of states\n",
    "num_inputs = 3 # no. of inputs"
   ]
  },
  {
   "cell_type": "markdown",
   "metadata": {
    "id": "ul9xHx5UcMK6",
    "pycharm": {
     "name": "#%% md\n"
    }
   },
   "source": [
    "***Robot Parameters***"
   ]
  },
  {
   "cell_type": "code",
   "execution_count": 25,
   "metadata": {
    "collapsed": false,
    "jupyter": {
     "outputs_hidden": false
    },
    "pycharm": {
     "name": "#%%\n"
    }
   },
   "outputs": [],
   "source": [
    "robot_pars = {}\n",
    "# link lengths\n",
    "robot_pars['a1'] = 0.33\n",
    "robot_pars['a2'] = 0.33\n",
    "robot_pars['a3'] = 0.33\n",
    "\n",
    "#link masses\n",
    "robot_pars['m1'] = 0.1\n",
    "robot_pars['m2'] = 0.1\n",
    "robot_pars['m3'] = 0.1\n",
    "\n",
    "# link inertias\n",
    "robot_pars['I1'] = 1\n",
    "robot_pars['I2'] = 1\n",
    "robot_pars['I3'] = 1\n",
    "\n",
    "#position of CM\n",
    "robot_pars['l1'] = 0.33/2\n",
    "robot_pars['l2'] = 0.33/2\n",
    "robot_pars['l3'] = 0.33/2\n",
    "\n",
    "#dynamic friction coefficient\n",
    "robot_pars['fd'] = 0.1\n"
   ]
  },
  {
   "cell_type": "markdown",
   "metadata": {
    "pycharm": {
     "name": "#%% md\n"
    }
   },
   "source": [
    "***Data Generation for 3R***"
   ]
  },
  {
   "cell_type": "markdown",
   "metadata": {
    "pycharm": {
     "name": "#%% md\n"
    }
   },
   "source": [
    "***Plotting the trajectories***"
   ]
  },
  {
   "cell_type": "code",
   "execution_count": 26,
   "metadata": {
    "collapsed": false,
    "jupyter": {
     "outputs_hidden": false
    },
    "pycharm": {
     "name": "#%%\n"
    }
   },
   "outputs": [],
   "source": [
    "# Function for dynamics\n",
    "def dataset_dyn_gen_3R(dt,num_traj,num_snaps,num_states,num_inputs, robot_pars):\n",
    "  #define parameters\n",
    "  # link lengths\n",
    "  a1 = robot_pars['a1']\n",
    "  a2 = robot_pars['a2']\n",
    "  a3 = robot_pars['a3']\n",
    "\n",
    "  #link masses\n",
    "  m1 = robot_pars['m1']\n",
    "  m2 = robot_pars['m2']\n",
    "  m3 = robot_pars['m3']\n",
    "\n",
    "  # link inertias\n",
    "  I1 = robot_pars['I1']\n",
    "  I2 = robot_pars['I2']\n",
    "  I3 = robot_pars['I3']\n",
    "\n",
    "  #position of CM\n",
    "  l1 = robot_pars['l1']\n",
    "  l2 = robot_pars['l2']\n",
    "  l3 = robot_pars['l3']\n",
    "\n",
    "  #dynamic friction coefficient\n",
    "  fd = robot_pars['fd']\n",
    "\n",
    "  # gravity\n",
    "  g = 9.81*0\n",
    "\n",
    "  # matrix initializations\n",
    "  X = np.empty((num_traj,num_snaps+1,num_states)) # cartesian state matrix\n",
    "  U = np.empty((num_traj,num_snaps,num_inputs)) # input matrix\n",
    "  x_end = np.empty((num_traj,num_snaps+1,2)) # position of end effector\n",
    "\n",
    "  for i in range(num_traj):\n",
    "    # initialize the values for the trajectory\n",
    "      # joint angles\n",
    "    X[i,0,0:3] = np.pi*(2*np.random.rand(1,1,3)-1) # theta values\n",
    "      # joint velocities\n",
    "    X[i,0,3:6] = 0.1*(2*np.random.rand(1,1,3)-1) # theta values\n",
    "    x_end[i,0,0]= a1*np.cos(X[i,0,0])+a2*np.cos(X[i,0,0]+X[i,0,1])+a3*np.cos(X[i,0,0]+X[i,0,1]+X[i,0,2])\n",
    "    x_end[i,0,1]= a1*np.sin(X[i,0,0])+a2*np.sin(X[i,0,0]+X[i,0,1])+a3*np.sin(X[i,0,0]+X[i,0,1]+X[i,0,2])\n",
    "\n",
    "\n",
    "    for j in range(num_snaps):\n",
    "\n",
    "        #define thetas and theta_dots for convenience\n",
    "        th1 = X[i,j,0]\n",
    "        th2 = X[i,j,1]\n",
    "        th3 = X[i,j,2]\n",
    "        th1_dot = X[i,j,3]\n",
    "        th2_dot = X[i,j,4]\n",
    "        th3_dot = X[i,j,5]\n",
    "\n",
    "        theta_dot = X[i,j,3:6].reshape(num_inputs,1)\n",
    "\n",
    "\n",
    "        # mass matrix\n",
    "        m11 = I1+I2+I3+m1*l1**2+m2*(a1**2+l2**2+2*a1*l2*np.cos(th2))+m3*(a1**2+a2**2+l3**2+2*a1*a2*np.cos(th2)+2*a1*l3*np.cos(th2+th3)+2*a2*l3*np.cos(th3))\n",
    "        m22 = I2+I3+m2*l2**2+m3*(a2**2+l3**2+2*a2*l3*np.cos(th3))\n",
    "        m33 = I3+m3*l3**2\n",
    "        m12 = I2+I3+m2*(l2**2+a1*l2*np.cos(th2))+m3*(a2**2+l3**2+a1*a2*np.cos(th2)+a1*l3*np.cos(th2+th3)+2*a2*l3*np.cos(th3))\n",
    "        m21 = m12\n",
    "        m13 = I3+m3*(l3**2+a1*l3*np.cos(th2+th3)+a2*l3*np.cos(th3))\n",
    "        m31 = m13\n",
    "        m23 = I3+m3*(l3**2+a2*l3*np.cos(th3))\n",
    "        m32 = m23\n",
    "\n",
    "\n",
    "        M = np.array([[m11,m12,m13],[m21,m22,m23],[m31,m32,m33]])\n",
    "              \n",
    "        # coriolis terms\n",
    "        c11 = -(m3*a1*l3*np.sin(th2+th3)+m3*a2*l3*np.sin(th3))*th3_dot-(m2+m3*a1*a2*np.sin(th2)+a1*l2*np.sin(th2)+m3*a1*l3*np.sin(th2+th3))*th2_dot\n",
    "        c22 = -m3*a2*l3*np.sin(th3)*th3_dot\n",
    "        c33 = -(m3*a1*a2*np.sin(th2))*th2_dot-(m3*a2*l3*np.sin(th3))*th3_dot\n",
    "        c12 = -(m2*a1*l2*np.sin(th2)+m3*a1*l3*np.sin(th2+th3)+m3*a1*a2*np.sin(th2))*th1_dot-(m3*a1*a2*np.sin(th2)+m3*a1*l3*np.sin(th2+th3)+m2*a1*l2*np.sin(th2))*th2_dot-(m3*a2*l3*np.sin(th3)+m3*a1*l3*np.sin(th2+th3))*th3_dot\n",
    "        c13 = -(m3*a1*l3*np.sin(th2+th3)+m3*a2*l3*np.sin(th3))*th1_dot-(m3*a1*l3*np.sin(th2+th3)+m3*a2*l3*np.sin(th3))*th2_dot-(m3*a2*l3*np.sin(th2)+m3*a1*l3*np.sin(th2+th3))*th3_dot\n",
    "        c21 = (m2*a1*l2*np.sin(th2)+m3*a1*a2*np.sin(th2)+m3*a1*l3*np.sin(th2+th3))*th1_dot-(m3*a2*l3*np.sin(th3))*th3_dot\n",
    "        c23 = -(m3*a2*l3*np.sin(th3))*th1_dot-(m3*a2*l3*np.sin(th3))*th2_dot-(m3*a2*l3*np.sin(th3))*th3_dot\n",
    "        c31 = (m3*a1*l3*np.sin(th2+th3)+m3*a2*l3*np.sin(th3))*th1_dot+(m3*a2*l3*np.sin(th3))*th2_dot\n",
    "        c32 = (m3*a2*l3*np.sin(th3))*th1_dot+(m3*a2*l3*np.sin(th3))*th2_dot-(m3*a2*l3*np.sin(th3))*th3_dot\n",
    "\n",
    "        C = np.array([[c11,c12,c13],[c21,c22,c23],[c31,c32,c33]])\n",
    "\n",
    "\n",
    "        # gravity terms\n",
    "        g1 = (m2*l2+m3*a2)*g*np.cos(th1+th2)+m3*l3*g*np.cos(th1+th2+th3)+(m1*l1+m3*a1+m2*a1)*g*np.cos(th1)\n",
    "        g2 = (m2*l2+m3*a2)*g*np.cos(th1+th2)+m3*l3*g*np.cos(th1+th2+th3)\n",
    "        g3 = m3*l3*g*np.cos(th1+th2+th3)\n",
    "\n",
    "              \n",
    "        G = np.array([[g1],[g2],[g3]])\n",
    "\n",
    "        # inputs\n",
    "        U[i,j,:] = 1*(2*np.random.rand(1,1,3)-1)\n",
    "        tau = np.array([[U[i,j,0]],[U[i,j,1]],[U[i,j,2]]])\n",
    "\n",
    "        # theta evolution\n",
    "        th_ddot = np.matmul(np.linalg.inv(M),(tau-G-np.matmul(C,theta_dot)-(fd*theta_dot))).reshape(1,1,3)\n",
    "        X[i,j+1,3:6] = X[i,j,3:6] + th_ddot*dt\n",
    "        X[i,j+1,0:3] = X[i,j,0:3] + X[i,j,3:6]*dt +(1/2)*th_ddot*dt**2\n",
    "\n",
    "        x_end[i,j+1,0]= a1*np.cos(X[i,j+1,0])+a2*np.cos(X[i,j+1,0]+X[i,j+1,1])+a3*np.cos(X[i,j+1,0]+X[i,j+1,1]+X[i,j+1,2])\n",
    "        x_end[i,j+1,1]= a1*np.sin(X[i,j+1,0])+a2*np.sin(X[i,j+1,0]+X[i,j+1,1])+a3*np.sin(X[i,j+1,0]+X[i,j+1,1]+X[i,j+1,2])\n",
    "\n",
    "\n",
    "\n",
    "  return x_end,X,U"
   ]
  },
  {
   "cell_type": "code",
   "execution_count": 27,
   "metadata": {
    "collapsed": false,
    "jupyter": {
     "outputs_hidden": false
    },
    "pycharm": {
     "name": "#%%\n"
    }
   },
   "outputs": [
    {
     "name": "stdout",
     "output_type": "stream",
     "text": [
      "(125, 1001, 2) (125, 1001, 6) (125, 1000, 3)\n"
     ]
    }
   ],
   "source": [
    "# Trajectories\n",
    "X_end,X_full, U_full = dataset_dyn_gen_3R(dt,num_traj, num_snaps,num_states,num_inputs,robot_pars)\n",
    "print(X_end.shape, X_full.shape,U_full.shape)"
   ]
  },
  {
   "cell_type": "code",
   "execution_count": 28,
   "metadata": {
    "collapsed": false,
    "jupyter": {
     "outputs_hidden": false
    },
    "pycharm": {
     "name": "#%%\n"
    }
   },
   "outputs": [
    {
     "data": {
      "text/plain": [
       "(6, 1001, 125)"
      ]
     },
     "execution_count": 28,
     "metadata": {},
     "output_type": "execute_result"
    }
   ],
   "source": [
    "X_full.T.shape"
   ]
  },
  {
   "cell_type": "code",
   "execution_count": 29,
   "metadata": {
    "collapsed": false,
    "jupyter": {
     "outputs_hidden": false
    },
    "pycharm": {
     "name": "#%%\n"
    }
   },
   "outputs": [
    {
     "data": {
      "image/png": "[encoded data removed]",
      "text/plain": [
       "<Figure size 432x288 with 6 Axes>"
      ]
     },
     "metadata": {
      "needs_background": "light"
     },
     "output_type": "display_data"
    }
   ],
   "source": [
    "\"\"\"Training dataset visualization\"\"\"\n",
    "#theta1 theta2 plot\n",
    "plt.subplot(2,3,1)\n",
    "plt.title(\"Trajectory Plot\")\n",
    "plt.xlabel(\"th1\")\n",
    "plt.ylabel(\"th2\")\n",
    "for i in range(num_traj):\n",
    "  plt.plot(X_full[i,:,0],X_full[i,:,1])\n",
    "\n",
    "#theta2 theta3 plot\n",
    "plt.subplot(2,3,2)\n",
    "plt.xlabel(\"th2\")\n",
    "plt.ylabel(\"th3\")\n",
    "for i in range(num_traj):\n",
    "    plt.plot(X_full[i,:,1],X_full[i,:,2])\n",
    "\n",
    "#theta1 theta3 plot\n",
    "plt.subplot(2,3,3)\n",
    "plt.xlabel(\"th1\")\n",
    "plt.ylabel(\"th3\")\n",
    "for i in range(num_traj):\n",
    "    plt.plot(X_full[i,:,0],X_full[i,:,2])\n",
    "\n",
    "#theta1_dot theta2_dot plot\n",
    "plt.subplot(2,3,4)\n",
    "plt.xlabel(\"th1_dot\")\n",
    "plt.ylabel(\"th2_dot\")\n",
    "for i in range(num_traj):\n",
    "    plt.plot(X_full[i,:,3],X_full[i,:,4])\n",
    "\n",
    "#theta2_dot theta3_dot plot\n",
    "plt.subplot(2,3,5)\n",
    "plt.xlabel(\"th2_dot\")\n",
    "plt.ylabel(\"th3_dot\")\n",
    "for i in range(num_traj):\n",
    "    plt.plot(X_full[i,:,4],X_full[i,:,5])\n",
    "\n",
    "#theta1_dot theta3_dot plot\n",
    "plt.subplot(2,3,6)\n",
    "plt.xlabel(\"th1_dot\")\n",
    "plt.ylabel(\"th3_dot\")\n",
    "for i in range(num_traj):\n",
    "    plt.plot(X_full[i,:,3],X_full[i,:,5])"
   ]
  },
  {
   "cell_type": "markdown",
   "metadata": {
    "pycharm": {
     "name": "#%% md\n"
    }
   },
   "source": [
    "***Training and validation datasets***"
   ]
  },
  {
   "cell_type": "code",
   "execution_count": 30,
   "metadata": {
    "collapsed": false,
    "jupyter": {
     "outputs_hidden": false
    },
    "pycharm": {
     "name": "#%%\n"
    }
   },
   "outputs": [],
   "source": [
    "# split training and vaidation datasets\n",
    "xs_train, us_train = X_full[:num_train,:,:],U_full[:num_train,:,:]\n",
    "xs_val, us_val = X_full[num_train:,:,:],U_full[num_train:,:,:]"
   ]
  },
  {
   "cell_type": "code",
   "execution_count": 31,
   "metadata": {
    "collapsed": false,
    "jupyter": {
     "outputs_hidden": false
    },
    "pycharm": {
     "name": "#%%\n"
    }
   },
   "outputs": [],
   "source": [
    "# import scipy.io\n",
    "# Data_set = {\"x_end\": X_end, \"X_full\": X_full}\n",
    "# scipy.io.savemat(\"Data_set.mat\",Data_set)"
   ]
  },
  {
   "cell_type": "code",
   "execution_count": 32,
   "metadata": {
    "collapsed": false,
    "jupyter": {
     "outputs_hidden": false
    },
    "pycharm": {
     "name": "#%%\n"
    }
   },
   "outputs": [],
   "source": [
    "import torch\n",
    "import torch.nn as nn\n",
    "import torch.nn.functional as F"
   ]
  },
  {
   "cell_type": "markdown",
   "metadata": {
    "pycharm": {
     "name": "#%% md\n"
    }
   },
   "source": [
    "***Classes for Koopman bilinear Models***"
   ]
  },
  {
   "cell_type": "code",
   "execution_count": 33,
   "metadata": {
    "collapsed": false,
    "jupyter": {
     "outputs_hidden": false
    },
    "pycharm": {
     "name": "#%%\n"
    }
   },
   "outputs": [],
   "source": [
    "# base class for koopman net\n",
    "\n",
    "class KoopmanNet(nn.Module):\n",
    "  def __init__(self, net_params, standardizer_x=None, standardizer_u=None):\n",
    "    super(KoopmanNet, self).__init__()\n",
    "    self.net_params = net_params\n",
    "    self.standardizer_x = standardizer_x\n",
    "    self.standardizer_u = standardizer_u\n",
    "    self.encoder = None\n",
    "    self.opt_parameter_encoder = []\n",
    "    self.opt_parameters_dyn_mats = []\n",
    "    self.x_running_mean = None\n",
    "    self.x_running_var = None\n",
    "\n",
    "\n",
    "  def construct_net(self):\n",
    "    pass\n",
    "  \n",
    "  def forward(self, data):\n",
    "    pass\n",
    "\n",
    "  def process(self, data_x, data_u=None, downsample_rate = 1):\n",
    "    pass\n",
    "  \n",
    "  def construct_dyn_mat(self):\n",
    "    pass\n",
    "\n",
    "  def loss(self, outputs, labels):\n",
    "    n = self.net_params['state_dim']\n",
    "    n_z = self.net_params['encoder_output_dim']\n",
    "    override_C = self.net_params['override_C']\n",
    "    \n",
    "    #output = x_proj, x_prime_diff_pred, z_prime_diff_pred, z_prime_diff\n",
    "    #ilabels =  [x,x_prime_diff]\n",
    "\n",
    "    # next time step pred\n",
    "    x_proj = outputs[:,:n]\n",
    "    x = labels[:,:n]\n",
    "    \n",
    "    x_prime_diff_pred = outputs[:,n:2*n]\n",
    "    x_prime_diff = labels[:, n:2*n]\n",
    "\n",
    "    # next time step pred diff in lifted space\n",
    "    z_prime_diff_pred = outputs[:, 2*n:2*n+n_z]\n",
    "    z_prime_diff = outputs[:,2*n+n_z : 2*n+2*n_z]\n",
    "\n",
    "    # l1 regularization\n",
    "    alpha = self.net_params['lifted_loss_penalty']\n",
    "    # criterion\n",
    "    criterion = nn.MSELoss()\n",
    "\n",
    "    #pred_loss = criterion(x_prime_pred,x_prime)\n",
    "    if override_C:\n",
    "        pred_loss = criterion(x_prime_diff_pred,torch.divide(x_prime_diff,self.loss_scaler_x[:n]))\n",
    "    else:\n",
    "        pred_loss = criterion(x_prime_diff_pred,x_prime_diff/self.loss_scaler_z)\n",
    "        \n",
    "\n",
    "    #proj_loss = reconstruction loss\n",
    "    proj_loss = criterion(x_proj, x)\n",
    "\n",
    "    #lifted state loss\n",
    "    lifted_loss = criterion(z_prime_diff_pred, z_prime_diff/self.loss_scaler_z)/(n_z/n)\n",
    "    l1_loss = 0.\n",
    "    # l1 regulaization\n",
    "    if 'l1_reg' in self.net_params and self.net_params['l1_reg'] > 0:\n",
    "      l1_reg = self.net_params['l1_reg']\n",
    "      l1_loss = l1_reg*self.get_l1_norm_()\n",
    "\n",
    "    if override_C:\n",
    "        total_loss = pred_loss + alpha*lifted_loss + l1_loss\n",
    "    else:\n",
    "        total_loss = proj_loss + pred_loss + alpha*lifted_loss + l1_loss\n",
    "    return total_loss, pred_loss, alpha*lifted_loss\n",
    "\n",
    "  # construct the autoencoder part\n",
    "  def construct_encoder_(self):\n",
    "    input_dim = self.net_params['state_dim']\n",
    "    hidden_depth = self.net_params['encoder_hidden_depth']\n",
    "    hidden_width = self.net_params['encoder_hidden_width']\n",
    "    output_dim = self.net_params['encoder_output_dim']\n",
    "    activation_type = self.net_params['activation_type']\n",
    "\n",
    "    if hidden_depth > 0:\n",
    "      # input layer\n",
    "      self.encoder_fc_in = nn.Linear(input_dim,hidden_width)\n",
    "      self.opt_parameter_encoder.append(self.encoder_fc_in.weight)\n",
    "      self.opt_parameter_encoder.append(self.encoder_fc_in.bias)\n",
    "      #the hidden laers will be passed as list elements to this module\n",
    "      self.encoder_fc_hid = nn.ModuleList()\n",
    "\n",
    "      # hidden layers\n",
    "      for i in range(1, hidden_depth):\n",
    "        self.encoder_fc_hid.append(nn.Linear(hidden_width,hidden_width))\n",
    "        self.opt_parameter_encoder.append(self.encoder_fc_hid[-1].weight)\n",
    "        self.opt_parameter_encoder.append(self.encoder_fc_hid[-1].bias)\n",
    "    \n",
    "      self.encoder_fc_out = nn.Linear(hidden_width,output_dim)\n",
    "      self.opt_parameter_encoder.append(self.encoder_fc_out.weight)\n",
    "      self.opt_parameter_encoder.append(self.encoder_fc_out.bias)\n",
    "    \n",
    "    #output layers\n",
    "    else: # no hidden layers\n",
    "      self.encoder_fc_out = nn.Linear(input_dim,output_dim)\n",
    "      self.opt_parameter_encoder.append(self.encoder_fc_out.weight)\n",
    "      self.opt_parameter_encoder.append(self.encoder_fc_out.bias)\n",
    "    \n",
    "\n",
    "    # activation functions\n",
    "    if activation_type == 'relu':\n",
    "      self.activation_fcn = F.relu\n",
    "\n",
    "    if activation_type == 'elu':\n",
    "      self.activation_fcn = nn.relu\n",
    "\n",
    "    if activation_type == 'tanh':\n",
    "      self.activation_fcn = torch.tanh\n",
    "\n",
    "    if activation_type == 'sigmoid':\n",
    "      self.activation_fcn = torch.sigmoid\n",
    "\n",
    "    else:\n",
    "      exit(\"Exit : invalid activation function\")\n",
    "\n",
    "  def encode_forward_(self,x): #encoder_forward_pass\n",
    "    if self.net_params['encoder_hidden_depth'] > 0:\n",
    "      x = self.activation_fcn(self.encoder_fc_in(x))\n",
    "      \n",
    "      for layer in self.encoder_fc_hid:\n",
    "        x = self.activation_fcn(layer(x))\n",
    "    \n",
    "    x = self.encoder_fc_out(x)\n",
    "\n",
    "    return x\n",
    "\n",
    "  def encode(self, x):\n",
    "    first_obs_const = int(self.net_params['first_obs_const'])\n",
    "    n = self.net_params['state_dim']\n",
    "    override_C = self.net_params['override_C']\n",
    "    x_t = torch.from_numpy(x).float\n",
    "    if override_C:\n",
    "        z = np.concatenate((np.ones((x.shape[0], first_obs_const)), x[:, :n], self.encode_forward_(x_t).detach().numpy()), axis=1)\n",
    "    else:\n",
    "        z = np.concatenate((np.ones((x.shape[0], first_obs_const)), self.encode_forward_(x_t).detach().numpy()),  axis=1)\n",
    "    return z\n",
    "  \n",
    "  def preprocess_data(self, data, standardizer):\n",
    "    if standardizer is None:\n",
    "      data_scaled = data\n",
    "    else:\n",
    "      data_scaled = np.array([standardizer.transform(d) for d in data])\n",
    "\n",
    "    return data_scaled\n"
   ]
  },
  {
   "cell_type": "code",
   "execution_count": 34,
   "metadata": {
    "collapsed": false,
    "jupyter": {
     "outputs_hidden": false
    },
    "pycharm": {
     "name": "#%%\n"
    }
   },
   "outputs": [],
   "source": [
    "# class for koopman net with control\n",
    "\n",
    "class KoopmanNetCtrl(KoopmanNet):\n",
    "    def __init__(self, net_params,standardizer_x=None, standardizer_u=None):\n",
    "        super(KoopmanNetCtrl, self).__init__(net_params,standardizer_x=standardizer_x, standardizer_u=standardizer_u)\n",
    "\n",
    "      # define a function to contruct net\n",
    "    def construct_net(self):\n",
    "        n = self.net_params['state_dim']\n",
    "        m = self.net_params['ctrl_dim']\n",
    "        encoder_output_dim = self.net_params['encoder_output_dim']\n",
    "        # include constants in lifted states\n",
    "        first_obs_const = self.net_params['first_obs_const'] #only one state\n",
    "        override_C = self.net_params['override_C']\n",
    "        # total no of lifted staes = states+constants+encoder output\n",
    "        if override_C:\n",
    "            self.n_tot = int(first_obs_const) + encoder_output_dim + n\n",
    "        else:\n",
    "            self.n_tot = int(first_obs_const) + encoder_output_dim\n",
    "\n",
    "        self.construct_encoder_()\n",
    "        # create the linear layer to move the states one step ahead\n",
    "        # for drift\n",
    "        self.koopman_fc_drift = nn.Linear(self.n_tot, self.n_tot-first_obs_const, bias = False)\n",
    "        # actuation\n",
    "        self.koopman_fc_act = nn.Linear(m*self.n_tot, self.n_tot-first_obs_const, bias = False)\n",
    "\n",
    "        # get a fully connected layer to get back x\n",
    "        if override_C:\n",
    "            self.C = torch.cat((torch.zeros((n, first_obs_const)), torch.eye(n),torch.zeros((n, encoder_output_dim))), 1)\n",
    "        else:\n",
    "            self.projection_fc = nn.Linear(self.n_tot, n, bias = False)\n",
    "\n",
    "    def forward(self, data):\n",
    "        # data = [x, u, x_prime]\n",
    "        #output = [x_proj,x_prime_pred, z_prime_pred, z_prime]\n",
    "        n = self.net_params['state_dim']\n",
    "        m = self.net_params['ctrl_dim']\n",
    "        # include constants in lifted states\n",
    "        first_obs_const = int(self.net_params['first_obs_const']) #only one state\n",
    "        override_C = self.net_params['override_C'] \n",
    "\n",
    "        x = data[:, :n]\n",
    "        u = data[:, n:n+m]\n",
    "        x_prime = data[:,n+m:]\n",
    "\n",
    "        # define the lifted states\n",
    "        if override_C:\n",
    "            z = torch.cat((torch.ones((x.shape[0], first_obs_const)),x[:,:n],self.encode_forward_(x)),1)\n",
    "            z_prime_diff = self.encode_forward_(x_prime) - z[:,first_obs_const+n:]\n",
    "        else:\n",
    "            z = torch.cat((torch.ones((x.shape[0], first_obs_const)),self.encode_forward_(x)),1)\n",
    "            z_prime_diff = self.encode_forward_(x_prime) - z[:,first_obs_const:]\n",
    "            \n",
    "        # bilinear states\n",
    "        z_u = torch.cat([torch.transpose(torch.mul(torch.transpose(z, 0, 1), u_i), 0, 1) for u_i in torch.transpose(u, 0, 1)], 1)\n",
    "        drift_matrix, act_matrix = self.construct_drift_act_matrix_()\n",
    "        # predicted z_prime_diff\n",
    "        #z_(k+1) - z_(k) = drift_fun(z_k) + act_fun(z_k*u_k) \n",
    "        z_prime_diff_pred = torch.matmul(z, torch.transpose(drift_matrix, 0, 1)) + torch.matmul(z_u, torch.transpose(act_matrix, 0, 1))\n",
    "\n",
    "        # x_projected\n",
    "        if override_C:\n",
    "            x_proj = torch.matmul(z, torch.transpose(self.C,0,1))\n",
    "            x_prime_diff_pred = torch.matmul(z_prime_diff_pred, torch.transpose(self.C,0,1))\n",
    "            z_prime_diff_pred = z_prime_diff_pred[:,first_obs_const+n:]\n",
    "        else:\n",
    "            x_proj = self.projection_fc(z) \n",
    "            x_prime_diff_pred = self.projection_fc(z_prime_diff_pred)\n",
    "            z_prime_diff_pred = z_prime_diff_pred[:,first_obs_const:]\n",
    "\n",
    "        return torch.cat((x_proj, x_prime_diff_pred, z_prime_diff_pred, z_prime_diff),1)\n",
    "\n",
    "    def construct_drift_act_matrix_(self): \n",
    "        n = self.net_params['state_dim']\n",
    "        m = self.net_params['ctrl_dim']\n",
    "        first_obs_const = int(self.net_params['first_obs_const'])\n",
    "        const_obs_dyn_drift = torch.zeros((first_obs_const, self.n_tot)) # drift for the constant term\n",
    "        drift_matrix = torch.cat((const_obs_dyn_drift, self.koopman_fc_drift.weight), 0)\n",
    "        #drift_matrix = self.koopman_fc_drift.weight\n",
    "        const_obs_dyn_act = torch.zeros((first_obs_const, m*self.n_tot)) # actuation for the constant term\n",
    "        act_matrix = torch.cat((const_obs_dyn_act, self.koopman_fc_act.weight), 0)\n",
    "        #act_matrix = self.koopman_fc_act.weight\n",
    "\n",
    "\n",
    "        return drift_matrix, act_matrix\n",
    "\n",
    "    def process(self, data_x, data_u = None, downsample_rate = 1, train_mode =True):\n",
    "        n = self.net_params['state_dim']\n",
    "        m = self.net_params['ctrl_dim']\n",
    "        n_traj = data_x.shape[0]\n",
    "\n",
    "        data_scaled_x = self.preprocess_data(data_x, self.standardizer_x)\n",
    "        data_scaled_u = self.preprocess_data(data_u, self.standardizer_u)\n",
    "\n",
    "        #data_scaled_x = data_x\n",
    "        #data_scaled_u = data_u\n",
    "\n",
    "        x = data_scaled_x[:, :-1, :]\n",
    "        u = data_scaled_u\n",
    "        x_prime = data_scaled_x[:,1:,:]\n",
    "\n",
    "        order = 'F'\n",
    "        n_data_pts = n_traj * (x.shape[1])\n",
    "        x_flat = x.T.reshape((n, n_data_pts), order=order)\n",
    "        u_flat = u.T.reshape((m, n_data_pts), order=order)\n",
    "        x_prime_flat = x_prime.T.reshape((n, n_data_pts), order=order)\n",
    "\n",
    "        X = np.concatenate((x_flat.T, u_flat.T, x_prime_flat.T), axis=1)\n",
    "        #y = x_prime_flat.T\n",
    "        y = np.concatenate((x_flat.T, x_prime_flat.T-x_flat.T), axis=1)\n",
    "\n",
    "        if train_mode:\n",
    "            self.loss_scaler_x = torch.Tensor(np.std(x_prime_flat[:n, :].T - x_flat[:n, :].T, axis=0))\n",
    "            self.loss_scaler_z = np.std(x_prime_flat.T - x_flat.T)\n",
    "\n",
    "        return X[::downsample_rate,:], y[::downsample_rate,:]\n",
    "\n",
    "\n",
    "    def construct_dyn_mat(self): # take a look again\n",
    "        n = self.net_params['state_dim']\n",
    "        m = self.net_params['ctrl_dim']\n",
    "        encoder_output_dim = self.net_params['encoder_output_dim']\n",
    "        first_obs_const = int(self.net_params['first_obs_const'])\n",
    "        override_C = self.net_params['override_C']\n",
    "        if override_C:\n",
    "            loss_scaler = np.concatenate((np.ones(first_obs_const), self.loss_scaler_x.numpy(), self.loss_scaler_z*np.ones(encoder_output_dim)))\n",
    "        else:\n",
    "            loss_scaler = np.concatenate((np.ones(first_obs_const), self.loss_scaler_z * np.ones(encoder_output_dim)))\n",
    "        drift_matrix, act_matrix = self.construct_drift_act_matrix_()\n",
    "\n",
    "        self.A = drift_matrix.data.numpy()\n",
    "        self.A[first_obs_const:, :] = np.multiply(self.A[first_obs_const:, :],loss_scaler[first_obs_const:].reshape(-1, 1))\n",
    "        self.A += np.eye(self.n_tot)\n",
    "\n",
    "        #B_vec = act_matrix.data.numpy()\n",
    "        #self.B = [np.multiply(B_vec[:, self.n_tot * ii:self.n_tot * (ii + 1)], loss_scaler.reshape(-1,1)) for ii in range(m)]\n",
    "        self.B = act_matrix.data.numpy()\n",
    "        for ii in range(m):\n",
    "            self.B[:, self.n_tot * ii:self.n_tot * (ii + 1)] = np.multiply(self.B[:, self.n_tot * ii:self.n_tot * (ii + 1)], loss_scaler.reshape(-1,1))\n",
    "        \n",
    "        if not override_C:\n",
    "            self.C = self.projection_fc.weight.detach().numpy()\n",
    "\n",
    "    def get_l1_norm_(self):\n",
    "          return torch.norm(self.koopman_fc_drift.weight.view(-1), p=1) + torch.norm(self.koopman_fc_act.weight.view(-1), p=1)"
   ]
  },
  {
   "cell_type": "code",
   "execution_count": 35,
   "metadata": {
    "collapsed": false,
    "jupyter": {
     "outputs_hidden": false
    },
    "pycharm": {
     "name": "#%%\n"
    }
   },
   "outputs": [],
   "source": [
    "import torch.optim as optim\n",
    "from torch.utils.data import random_split"
   ]
  },
  {
   "cell_type": "code",
   "execution_count": 36,
   "metadata": {
    "collapsed": false,
    "jupyter": {
     "outputs_hidden": false
    },
    "pycharm": {
     "name": "#%%\n"
    }
   },
   "outputs": [],
   "source": [
    "\n",
    "import os\n",
    "class KoopDNN():\n",
    "  \"class for nn based learning\"\n",
    "  def __init__(self, net, first_obs_const=True, dt = None):\n",
    "    self.A = None\n",
    "    self.B = None\n",
    "\n",
    "    self.net = net\n",
    "    self.optimizer = None\n",
    "    self.C = None\n",
    "\n",
    "    self.first_obs_const = first_obs_const\n",
    "    self.dt = dt\n",
    "\n",
    "    self.x_train = None\n",
    "    self.u_train = None\n",
    "    self.x_val = None\n",
    "    self.u_val = None\n",
    "\n",
    "  def set_datasets(self, x_train, u_train=None, x_val=None, u_val=None):\n",
    "    self.x_train = x_train\n",
    "    self.u_train = u_train\n",
    "\n",
    "    self.x_val = x_val\n",
    "    self.u_val = u_val\n",
    "\n",
    "  def model_pipeline(self, net_params, print_epoch = True,early_stop=False, plot_data = False):\n",
    "    self.net.net_params = net_params\n",
    "    self.net.construct_net()\n",
    "    self.set_optimizer_()\n",
    "\n",
    "    X_train, y_train = self.net.process(self.x_train, data_u=self.u_train)\n",
    "    X_val, y_val = self.net.process(self.x_val, data_u=self.u_val, train_mode=False)\n",
    "    \n",
    "    if plot_data:\n",
    "      self.plot_train_data(X_train, y_train)\n",
    "\n",
    "    X_train_t, y_train_t = torch.from_numpy(X_train).float(), torch.from_numpy(y_train).float()\n",
    "    X_val_t, y_val_t = torch.from_numpy(X_val).float(), torch.from_numpy(y_val).float()\n",
    "    dataset_train = torch.utils.data.TensorDataset(X_train_t, y_train_t)\n",
    "    dataset_val = torch.utils.data.TensorDataset(X_val_t, y_val_t)\n",
    "\n",
    "    self.train_model(dataset_train, dataset_val, print_epoch=print_epoch)\n",
    "\n",
    "  def train_model(self, dataset_train, dataset_val, print_epoch = True, tune_run = False, early_stop = False,early_stop_crit=1e-3, early_stop_max_count=5,):\n",
    "    trainloader = torch.utils.data.DataLoader(dataset_train, batch_size = self.net.net_params['batch_size'], shuffle = True)\n",
    "    valloader = torch.utils.data.DataLoader(dataset_val, batch_size = self.net.net_params['batch_size'])\n",
    "\n",
    "    val_loss_prev = np.inf\n",
    "    no_improv_counter = 0\n",
    "    self.train_loss_hist = []\n",
    "    self.val_loss_hist = []\n",
    "    for epoch in range(self.net.net_params['epochs']):\n",
    "      running_loss = 0.0\n",
    "      running_pred_loss = 0.0\n",
    "      running_lifted_loss = 0.0\n",
    "      epoch_steps = 0\n",
    "\n",
    "      for data in trainloader:\n",
    "        inputs, labels = data\n",
    "\n",
    "        self.optimizer.zero_grad()\n",
    "        output =self.net(inputs)\n",
    "        loss, pred_loss, lifted_loss = self.net.loss(output, labels)\n",
    "        loss.backward()\n",
    "        self.optimizer.step()\n",
    "\n",
    "        running_loss += loss.detach()\n",
    "        running_pred_loss += pred_loss.detach()\n",
    "        running_lifted_loss += lifted_loss.detach()\n",
    "        epoch_steps += 1\n",
    "\n",
    "      val_loss = 0.0\n",
    "      val_pred_loss = 0.0\n",
    "      val_lifted_loss = 0.0\n",
    "      val_steps =0\n",
    "\n",
    "      for data in valloader:\n",
    "        with torch.no_grad():\n",
    "          inputs, labels = data\n",
    "\n",
    "          output = self.net(inputs)\n",
    "          loss, pred_loss, lifted_loss = self.net.loss(output, labels)\n",
    "\n",
    "          val_loss += float(loss.detach())\n",
    "          val_pred_loss += float(pred_loss.detach())\n",
    "          val_lifted_loss += float(lifted_loss.detach())\n",
    "          val_steps += 1\n",
    "  \n",
    "  # Print epoch loss\n",
    "      self.train_loss_hist.append((running_loss/epoch_steps, running_pred_loss/epoch_steps, running_lifted_loss/epoch_steps))\n",
    "      self.val_loss_hist.append((val_loss/val_steps, val_pred_loss/val_steps, val_lifted_loss/val_steps))\n",
    "      if print_epoch:\n",
    "          print('Epoch %3d: train loss: %.10f, validation loss: %.10f' %(epoch + 1, self.train_loss_hist[-1][0], self.val_loss_hist[-1][0]))\n",
    "\n",
    "      if early_stop:\n",
    "        improvement = (val_loss/val_steps)/val_loss_prev\n",
    "        if improvement >= 1 - early_stop_crit and improvement <= 1+early_stop_crit:\n",
    "            no_improv_counter += 1\n",
    "        else:\n",
    "            no_improv_counter = 0\n",
    "\n",
    "        if no_improv_counter >= early_stop_max_count:\n",
    "            print('Early stopping activated, less than %.4f improvement for the last %2d epochs.'%(early_stop_crit, no_improv_counter))\n",
    "            break\n",
    "        val_loss_prev = val_loss/val_steps\n",
    "\n",
    "    print(\"Finished Training\")\n",
    "\n",
    "  def test_loss(self, x_test, u_test = None):\n",
    "    if u_test is None:\n",
    "      X_test, y_test = self.net.process(x_test, train_model = False)\n",
    "    else:\n",
    "      X_test, y_test = self.net.process(x_test, data_u = u_test, train_mode = False)\n",
    "    \n",
    "    X_t, y_t = torch.from_numpy(X_test).float(), torch.from_numpy(y_test).float()\n",
    "    dataset_test = torch.utils.data.TensorDataset(X_t, y_t)\n",
    "    testloader = torch.utils.data.DataLoader(dataset_test, batch_size=self.net.net_params['batch_size'], shuffle=True)\n",
    "\n",
    "    test_loss = 0.0\n",
    "    test_steps = 0\n",
    "    with torch.no_grad():\n",
    "      for data in testloader:\n",
    "        inputs, labels = data\n",
    "\n",
    "        outputs = self.net(inputs)\n",
    "        loss, _, _ = self.net.loss(outputs, labels)\n",
    "        test_loss += loss.detach()\n",
    "        test_steps += 1\n",
    "\n",
    "    return test_loss/test_steps\n",
    "  \n",
    "  def construct_koopman_model(self):\n",
    "      self.construct_dyn_mat_()\n",
    "\n",
    "  def construct_dyn_mat_(self):\n",
    "      self.net.construct_dyn_mat()\n",
    "      self.A = self.net.A\n",
    "      try:\n",
    "        self.B = self.net.B\n",
    "      except AttributeError:\n",
    "        pass\n",
    "      self.C = self.net.C\n",
    "\n",
    "  def basis_encode(self, x):\n",
    "      if self.net.standardizer_x is None:\n",
    "        x_scaled = np.atleast_2d(x)\n",
    "      else:\n",
    "        x_scaled = self.net.standardizer_x.transform(x)\n",
    "\n",
    "      return self.net.encode(x_scaled)\n",
    "\n",
    "  def set_optimizer_(self):\n",
    "    if self.net.net_params['optimizer'] == 'sgd':\n",
    "        lr = self.net.net_params['lr']\n",
    "        momentum = self.net.net_params['momentum']\n",
    "        self.optimizer_encoder = optim.SGD(self.net.opt_parameters_encoder, lr=lr, momentum=momentum)\n",
    "        self.optimizer_dyn_mats = optim.SGD(self.net.opt_parameters_dyn_mats, lr=lr, momentum=momentum)\n",
    "    elif self.net.net_params['optimizer'] == 'adam':\n",
    "        lr = self.net.net_params['lr']\n",
    "        weight_decay = self.net.net_params['l2_reg']\n",
    "        self.optimizer = optim.Adam(self.net.parameters(), lr=lr, weight_decay=weight_decay)\n",
    "    elif self.net.net_params['optimizer'] == 'adamax':\n",
    "        lr = self.net.net_params['lr']\n",
    "        weight_decay = self.net.net_params['l2_reg']\n",
    "        self.optimizer = optim.Adam(self.net.parameters(), lr=lr, weight_decay=weight_decay)\n",
    "\n",
    "  # plotting methods\n",
    "\n",
    "  def plot_train_data(self, X,y):\n",
    "    import matplotlib.pyplot as plt\n",
    "    from mpl_toolkits.mplot3d import Axes3D\n",
    "\n",
    "    fig = plt.figure(figsize = (15,5))\n",
    "    ax = fig.add_subplot(121, projection = '3d')\n",
    "    ax.scatter(X[:, 2], X[:, 3], y[:, 2], color=\"orange\")\n",
    "    ax.set_xlabel('$x_1$')\n",
    "    ax.set_ylabel('$x_2$')\n",
    "    ax.set_zlabel(\"$x_1'$\")\n",
    "    ax.set_title('One-step-ahead state, $x_1$')\n",
    "    ax.view_init(30, 70)\n",
    "\n",
    "    ax = fig.add_subplot(122, projection='3d')\n",
    "    ax.scatter(X[:, 2], X[:, 3], y[:, 3], color=\"orange\")\n",
    "    ax.set_xlabel('$x_1$')\n",
    "    ax.set_ylabel('$x_2$')\n",
    "    ax.set_zlabel(\"$x_2'$\")\n",
    "    ax.set_title('One-step-ahead state, $x_2$')\n",
    "    ax.view_init(30, 70)\n",
    "    plt.show()\n",
    "\n",
    "  def plot_learning_curve(self):\n",
    "    import matplotlib.pyplot as plt\n",
    "\n",
    "    train_loss = np.array(self.train_loss_hist)  # [[total loss, prediction loss, bilinearity loss]]\n",
    "    val_loss = np.array(self.val_loss_hist)  # [[total loss, prediction loss, bilinearity loss]]\n",
    "    iter = np.arange(train_loss.shape[0])\n",
    "    titles = ['Total loss', 'Prediction loss', 'Bilinearity loss']\n",
    "    plt.figure(figsize=(16,5))\n",
    "    for ii in range(3):\n",
    "      plt.subplot(1,3,ii+1)\n",
    "      plt.plot(iter, train_loss[:, ii], label='training')\n",
    "      plt.plot(iter, val_loss[:, ii], '--', label='validation')\n",
    "      plt.title(titles[ii])\n",
    "      if ii == 2:\n",
    "          plt.legend()\n",
    "      plt.show()"
   ]
  },
  {
   "cell_type": "markdown",
   "metadata": {
    "pycharm": {
     "name": "#%% md\n"
    }
   },
   "source": [
    "***Model Training***"
   ]
  },
  {
   "cell_type": "code",
   "execution_count": 37,
   "metadata": {
    "collapsed": false,
    "jupyter": {
     "outputs_hidden": false
    },
    "pycharm": {
     "name": "#%%\n"
    }
   },
   "outputs": [],
   "source": [
    "net_params = {}\n",
    "net_params['state_dim'] = num_states\n",
    "net_params['ctrl_dim'] = num_inputs\n",
    "net_params['encoder_hidden_width'] = 120\n",
    "net_params['encoder_hidden_depth'] = 3\n",
    "net_params['encoder_output_dim'] = 80\n",
    "net_params['optimizer'] = 'adam'\n",
    "net_params['activation_type'] = 'tanh'\n",
    "net_params['lr'] = 3e-4 # 5e-4\n",
    "net_params['epochs'] = 2\n",
    "net_params['batch_size'] = 128\n",
    "net_params['lifted_loss_penalty'] = 0.4 \n",
    "net_params['l2_reg'] = 0.0         \n",
    "net_params['l1_reg'] = 0.0\n",
    "net_params['first_obs_const'] = True\n",
    "net_params['override_C'] = True # this makes the state a part of lifetd state\n",
    "net_params['dt'] = dt"
   ]
  },
  {
   "cell_type": "code",
   "execution_count": 38,
   "metadata": {
    "collapsed": false,
    "jupyter": {
     "outputs_hidden": false
    },
    "pycharm": {
     "name": "#%%\n"
    }
   },
   "outputs": [
    {
     "name": "stdout",
     "output_type": "stream",
     "text": [
      "Epoch   1: train loss: 0.1353606284, validation loss: 0.0081249449\n",
      "Epoch   2: train loss: 0.0022644098, validation loss: 0.0036179177\n",
      "Finished Training\n"
     ]
    }
   ],
   "source": [
    "train = True\n",
    "\n",
    "if train == True:\n",
    "    file = '3R_koop_th.pth'\n",
    "    net = KoopmanNetCtrl(net_params)\n",
    "    model_koop_dnn = KoopDNN(net)\n",
    "    model_koop_dnn.set_datasets(xs_train, u_train=us_train, x_val=xs_val, u_val=us_val)\n",
    "    model_koop_dnn.model_pipeline(net_params)\n",
    "    model_koop_dnn.construct_koopman_model()\n",
    "    torch.save(model_koop_dnn,file)\n",
    "else:\n",
    "    file = '3R_koop_th_best.pth'\n",
    "    model_koop_dnn = torch.load(file)\n"
   ]
  },
  {
   "cell_type": "code",
   "execution_count": 38,
   "metadata": {
    "collapsed": false,
    "jupyter": {
     "outputs_hidden": false
    },
    "pycharm": {
     "name": "#%%\n"
    }
   },
   "outputs": [],
   "source": []
  },
  {
   "cell_type": "markdown",
   "metadata": {
    "pycharm": {
     "name": "#%% md\n"
    }
   },
   "source": [
    "***Learning Curves***"
   ]
  },
  {
   "cell_type": "code",
   "execution_count": 39,
   "metadata": {
    "collapsed": false,
    "jupyter": {
     "outputs_hidden": false
    },
    "pycharm": {
     "name": "#%%\n"
    }
   },
   "outputs": [
    {
     "data": {
      "image/png": "[encoded data removed]",
      "text/plain": [
       "<Figure size 1080x576 with 1 Axes>"
      ]
     },
     "metadata": {
      "needs_background": "light"
     },
     "output_type": "display_data"
    }
   ],
   "source": [
    "train_loss = [l[0] for l in model_koop_dnn.train_loss_hist]\n",
    "train_pred_loss = [l[1] for l in model_koop_dnn.train_loss_hist]\n",
    "train_lifted_loss = [l[2] for l in model_koop_dnn.train_loss_hist]\n",
    "val_loss = [l[0] for l in model_koop_dnn.val_loss_hist]\n",
    "val_pred_loss = [l[1] for l in model_koop_dnn.val_loss_hist]\n",
    "val_lifted_loss = [l[2] for l in model_koop_dnn.val_loss_hist]\n",
    "epochs = np.arange(0, net_params['epochs'])\n",
    "\n",
    "plt.figure(figsize=(15,8))\n",
    "plt.plot(epochs, train_loss, color='tab:orange', label='Training loss')\n",
    "plt.plot(epochs, train_pred_loss, '--', color='tab:orange', label='Training prediction loss')\n",
    "plt.plot(epochs, train_lifted_loss, ':', color='tab:orange', label='Training lifted loss')\n",
    "plt.plot(epochs, val_loss, color='tab:blue', label='Validation loss')\n",
    "plt.plot(epochs, val_pred_loss, '--', color='tab:blue', label='Validation prediction loss')\n",
    "plt.plot(epochs, val_lifted_loss, ':', color='tab:blue', label='Validation lifted loss')\n",
    "plt.legend()\n",
    "plt.xlabel('Epoch')\n",
    "plt.ylabel('Loss')\n",
    "plt.yscale('log')\n",
    "plt.show()"
   ]
  },
  {
   "cell_type": "code",
   "execution_count": 40,
   "metadata": {
    "collapsed": false,
    "jupyter": {
     "outputs_hidden": false
    },
    "pycharm": {
     "name": "#%%\n"
    }
   },
   "outputs": [],
   "source": [
    "\"\"\"CREATE A NEURAL NETWORK TO MAP FROM THETA TO POSITION OF END EFFECTOR\"\"\"\n",
    "class map_Net(nn.Module):\n",
    "\n",
    "    def __init__(self,map_net_params):\n",
    "        super(map_Net, self).__init__()\n",
    "        self.map_net_params = map_net_params\n",
    "        self.opt_parameters_map = []\n",
    "\n",
    "\n",
    "\n",
    "    def create_model(self):\n",
    "        input_dim = self.map_net_params['input_dim']\n",
    "        hidden_depth = self.map_net_params['hidden_depth']\n",
    "        hidden_width = self.map_net_params['hidden_width']\n",
    "        output_dim = self.map_net_params['output_dim']\n",
    "        activation_type = self.map_net_params['activation_type']\n",
    "\n",
    "\n",
    "        if hidden_depth>0:\n",
    "            #input_layer\n",
    "            self.map_net_in = nn.Linear(input_dim,hidden_width)\n",
    "            self.opt_parameters_map.append(self.map_net_in.weight)\n",
    "            self.opt_parameters_map.append(self.map_net_in.bias)\n",
    "            self.map_net_hid = nn.ModuleList()\n",
    "\n",
    "            #hidden layers\n",
    "            for i in range(1,hidden_depth):\n",
    "                self.map_net_hid.append(nn.Linear(hidden_width,hidden_width))\n",
    "                self.opt_parameters_map.append(self.map_net_hid[-1].weight)\n",
    "                self.opt_parameters_map.append(self.map_net_hid[-1].bias)\n",
    "\n",
    "\n",
    "            self.map_net_out = nn.Linear(hidden_width,output_dim)\n",
    "            self.opt_parameters_map.append(self.map_net_out.weight)\n",
    "            self.opt_parameters_map.append(self.map_net_out.bias)\n",
    "\n",
    "\n",
    "        else: #no hidden layers\n",
    "            self.map_net_out = nn.Linear(input_dim,output_dim)\n",
    "            self.opt_parameters_map.append(self.map_net_out.weight)\n",
    "            self.opt_parameters_map.append(self.map_net_out.bias)\n",
    "\n",
    "\n",
    "        #activation functions\n",
    "        if activation_type == 'relu':\n",
    "            self.activation_fcn = F.relu\n",
    "\n",
    "        if activation_type == 'elu':\n",
    "            self.activation_fcn = nn.ELU\n",
    "\n",
    "        if activation_type == 'tanh':\n",
    "            self.activation_fcn = torch.tanh\n",
    "\n",
    "        if activation_type == 'sigmoid':\n",
    "            self.activation_fcn = torch.sigmoid\n",
    "\n",
    "        else:\n",
    "            exit(\"Exit : invalid activation function\")\n",
    "\n",
    "\n",
    "    def forward(self, theta):\n",
    "        #this computes the forward operations\n",
    "        if self.map_net_params['hidden_depth']>0:\n",
    "            x = self.activation_fcn(self.map_net_in(theta))\n",
    "\n",
    "            for layer in self.map_net_hid:\n",
    "                x = self.activation_fcn(layer(x))\n",
    "\n",
    "        x = self.map_net_out(x)\n",
    "\n",
    "        return x\n",
    "\n",
    "\n",
    "    def set_optimizer(self):\n",
    "        if self.map_net_params['optimizer']=='adam':\n",
    "            lr = self.map_net_params['lr']\n",
    "            weight_decay = self.map_net_params['l2_reg']\n",
    "            self.optimizer = optim.Adam(self.parameters(),lr = lr, weight_decay = weight_decay)\n",
    "        elif self.map_net_params['optimizer']=='adamax':\n",
    "            lr = self.map_net_params['lr']\n",
    "            weight_decay = self.map_net_params['l2_reg']\n",
    "            self.optimizer = optim.Adamax(self.parameters(),lr = lr, weight_decay = weight_decay)\n",
    "\n",
    "\n",
    "    def loss(self,output, label):\n",
    "        criterion = nn.MSELoss()\n",
    "        loss = criterion(output,label)\n",
    "        #l1 regularization\n",
    "        l1_reg = map_net_params['l1_reg']\n",
    "        l1_norm = torch.norm(self.map_net_in.weight.view(-1),p=1)+torch.norm(self.map_net_in.bias.view(-1),p=1)+torch.norm(self.map_net_out.weight.view(-1),p=1)+torch.norm(self.map_net_out.bias.view(-1),p=1)\n",
    "        for i in range(0,self.map_net_params['hidden_depth']-1):\n",
    "            l1_norm+= torch.norm(self.map_net_hid[i].weight.view(-1),p=1)+torch.norm(self.map_net_hid[i].bias.view(-1),p=1)\n",
    "\n",
    "        l1_loss = l1_reg*l1_norm\n",
    "        total_loss = loss+l1_loss\n",
    "\n",
    "        return total_loss\n",
    "\n",
    "\n",
    "    def set_dataset_map(self,xs_map_train,ys_map_train,xs_map_val,ys_map_val):\n",
    "        order = 'F'\n",
    "        n = self.map_net_params['input_dim'] #number of angles\n",
    "        m = self.map_net_params['output_dim'] #x and y position of end effector\n",
    "        n_traj_train = xs_map_train.shape[0]\n",
    "        n_traj_val = int(0.25*n_traj_train)\n",
    "        n_data_pts_train = n_traj_train*xs_map_train.shape[1]\n",
    "        n_data_pts_val = n_traj_val*xs_map_train.shape[1]\n",
    "\n",
    "        self.xs_map_train = xs_map_train.T.reshape((n,n_data_pts_train),order=order)\n",
    "        self.ys_map_train = ys_map_train.T.reshape((m,n_data_pts_train),order=order)\n",
    "        self.xs_map_val = xs_map_val.T.reshape((n,n_data_pts_val),order=order)\n",
    "        self.ys_map_val = ys_map_val.T.reshape((m,n_data_pts_val),order=order)\n",
    "\n",
    "        self.xs_map_train= self.xs_map_train.T\n",
    "        self.xs_map_val= self.xs_map_val.T\n",
    "        self.ys_map_train= self.ys_map_train.T\n",
    "        self.ys_map_val= self.ys_map_val.T\n",
    "\n",
    "    def data_pipeline(self):\n",
    "        self.create_model()\n",
    "        self.set_optimizer()\n",
    "        X_map_train_t, y_map_train_t = torch.from_numpy(self.xs_map_train).float(), torch.from_numpy(self.ys_map_train).float()\n",
    "        X_map_val_t, y_map_val_t = torch.from_numpy(self.xs_map_val).float(), torch.from_numpy(self.ys_map_val).float()\n",
    "        dataset_train = torch.utils.data.TensorDataset(X_map_train_t, y_map_train_t)\n",
    "        dataset_val = torch.utils.data.TensorDataset(X_map_val_t, y_map_val_t)\n",
    "\n",
    "        self.train_map_model(dataset_train,dataset_val)\n",
    "\n",
    "\n",
    "    def train_map_model(self,dataset_train,dataset_val):\n",
    "        # Train Network\n",
    "        trainloader = torch.utils.data.DataLoader(dataset_train, batch_size = self.map_net_params['batch_size'], shuffle = True)\n",
    "        valloader = torch.utils.data.DataLoader(dataset_val, batch_size = self.map_net_params['batch_size'])\n",
    "\n",
    "        val_loss_prev = np.inf\n",
    "        self.train_loss_hist = []\n",
    "        self.val_loss_hist = []\n",
    "        for epoch in range(self.map_net_params['epochs']):\n",
    "            running_loss = 0.0\n",
    "            epoch_steps = 0\n",
    "\n",
    "            for data in trainloader:\n",
    "                inputs, labels = data\n",
    "\n",
    "                self.optimizer.zero_grad()\n",
    "                output = self(inputs)\n",
    "                loss = self.loss(output,labels)\n",
    "                loss.backward()\n",
    "                self.optimizer.step()\n",
    "\n",
    "                running_loss += float(loss.detach())\n",
    "                epoch_steps += 1\n",
    "\n",
    "            val_loss = 0.0\n",
    "            val_steps =0\n",
    "\n",
    "            for data in valloader:\n",
    "                with torch.no_grad():\n",
    "                    inputs, val_labels = data\n",
    "\n",
    "                    val_output = self(inputs)\n",
    "                    loss= self.loss(val_output,val_labels)\n",
    "\n",
    "                    val_loss += float(loss.detach())\n",
    "                    val_steps += 1\n",
    "\n",
    "            #print epoch loss\n",
    "\n",
    "            self.train_loss_hist.append(running_loss/epoch_steps)\n",
    "            self.val_loss_hist.append(val_loss/val_steps)\n",
    "            print('Epoch %3d: train loss: %.10f, validation loss: %.10f' %(epoch + 1, self.train_loss_hist[-1],self.val_loss_hist[-1]))\n",
    "\n",
    "        print(\"Finished training\")\n",
    "\n",
    "    def plot_loss(self):\n",
    "        #plot\n",
    "        epochs = np.arange(0, self.map_net_params['epochs'])\n",
    "        plt.figure(figsize=(15,8))\n",
    "        plt.plot(epochs, self.train_loss_hist, color='tab:orange', label='Training loss')\n",
    "        plt.plot(epochs, self.val_loss_hist, color='tab:blue', label='Validation loss')\n",
    "\n",
    "        plt.legend()\n",
    "        plt.xlabel('Epoch')\n",
    "        plt.ylabel('Loss')\n",
    "        plt.yscale('log')\n",
    "        plt.show()"
   ]
  },
  {
   "cell_type": "code",
   "execution_count": 41,
   "metadata": {
    "collapsed": false,
    "jupyter": {
     "outputs_hidden": false
    },
    "pycharm": {
     "name": "#%%\n"
    }
   },
   "outputs": [],
   "source": [
    "map_net_params = {}\n",
    "map_net_params[\"input_dim\"] = 3 #number of joint angles\n",
    "map_net_params[\"output_dim\"] = 2 #x and y position of the end effector\n",
    "map_net_params[\"hidden_width\"] = 20\n",
    "map_net_params[\"hidden_depth\"] = 2\n",
    "map_net_params[\"batch_size\"] = 200\n",
    "map_net_params[\"epochs\"] = 1000\n",
    "map_net_params[\"activation_type\"] = 'tanh'\n",
    "map_net_params[\"lr\"] = 1e-4\n",
    "map_net_params[\"optimizer\"] = 'adam'\n",
    "map_net_params['l2_reg'] = 0.0\n",
    "map_net_params['l1_reg'] = 0.0"
   ]
  },
  {
   "cell_type": "code",
   "execution_count": 42,
   "metadata": {
    "collapsed": false,
    "jupyter": {
     "outputs_hidden": false
    },
    "pycharm": {
     "name": "#%%\n"
    }
   },
   "outputs": [],
   "source": [
    "#dataset\n",
    "# split training and vaidation datasets\n",
    "xs_map_train, ys_map_train = X_full[:num_train,:,0:3],X_end[:num_train,:,:]\n",
    "xs_map_val, ys_map_val = X_full[num_train:,:,0:3],X_end[num_train:,:,:]"
   ]
  },
  {
   "cell_type": "code",
   "execution_count": 43,
   "metadata": {
    "collapsed": false,
    "jupyter": {
     "outputs_hidden": false
    },
    "pycharm": {
     "name": "#%%\n"
    }
   },
   "outputs": [
    {
     "name": "stdout",
     "output_type": "stream",
     "text": [
      "Epoch   1: train loss: 0.1370559845, validation loss: 0.1443856999\n",
      "Epoch   2: train loss: 0.1097678392, validation loss: 0.1231351088\n",
      "Epoch   3: train loss: 0.0808297389, validation loss: 0.0966761307\n",
      "Epoch   4: train loss: 0.0564881401, validation loss: 0.0770800124\n",
      "Epoch   5: train loss: 0.0433707233, validation loss: 0.0646481888\n",
      "Epoch   6: train loss: 0.0348781811, validation loss: 0.0550232291\n",
      "Epoch   7: train loss: 0.0282183438, validation loss: 0.0478798261\n",
      "Epoch   8: train loss: 0.0228886842, validation loss: 0.0432533126\n",
      "Epoch   9: train loss: 0.0188101988, validation loss: 0.0386074581\n",
      "Epoch  10: train loss: 0.0157215040, validation loss: 0.0351213716\n",
      "Epoch  11: train loss: 0.0131809208, validation loss: 0.0314845088\n",
      "Epoch  12: train loss: 0.0109796245, validation loss: 0.0281095111\n",
      "Epoch  13: train loss: 0.0091412691, validation loss: 0.0263369061\n",
      "Epoch  14: train loss: 0.0076758491, validation loss: 0.0248144032\n",
      "Epoch  15: train loss: 0.0065797943, validation loss: 0.0236951053\n",
      "Epoch  16: train loss: 0.0057694414, validation loss: 0.0225772543\n",
      "Epoch  17: train loss: 0.0051479559, validation loss: 0.0217710577\n",
      "Epoch  18: train loss: 0.0046499792, validation loss: 0.0205772200\n",
      "Epoch  19: train loss: 0.0042294057, validation loss: 0.0196198135\n",
      "Epoch  20: train loss: 0.0038652579, validation loss: 0.0191405278\n",
      "Epoch  21: train loss: 0.0035494916, validation loss: 0.0181766648\n",
      "Epoch  22: train loss: 0.0032725197, validation loss: 0.0179185245\n",
      "Epoch  23: train loss: 0.0030266759, validation loss: 0.0171324371\n",
      "Epoch  24: train loss: 0.0028069132, validation loss: 0.0168985859\n",
      "Epoch  25: train loss: 0.0026095297, validation loss: 0.0162043426\n",
      "Epoch  26: train loss: 0.0024308860, validation loss: 0.0161747589\n",
      "Epoch  27: train loss: 0.0022742667, validation loss: 0.0157240756\n",
      "Epoch  28: train loss: 0.0021273811, validation loss: 0.0151773654\n",
      "Epoch  29: train loss: 0.0019967916, validation loss: 0.0148200024\n",
      "Epoch  30: train loss: 0.0018795529, validation loss: 0.0146489773\n",
      "Epoch  31: train loss: 0.0017751891, validation loss: 0.0141814224\n",
      "Epoch  32: train loss: 0.0016783720, validation loss: 0.0139554108\n",
      "Epoch  33: train loss: 0.0015905962, validation loss: 0.0136091262\n",
      "Epoch  34: train loss: 0.0015131347, validation loss: 0.0131921857\n",
      "Epoch  35: train loss: 0.0014413114, validation loss: 0.0128566971\n",
      "Epoch  36: train loss: 0.0013745081, validation loss: 0.0125713594\n",
      "Epoch  37: train loss: 0.0013137514, validation loss: 0.0120912885\n",
      "Epoch  38: train loss: 0.0012573317, validation loss: 0.0118888796\n",
      "Epoch  39: train loss: 0.0012055694, validation loss: 0.0116252997\n",
      "Epoch  40: train loss: 0.0011568780, validation loss: 0.0113013534\n",
      "Epoch  41: train loss: 0.0011119746, validation loss: 0.0112250271\n",
      "Epoch  42: train loss: 0.0010684178, validation loss: 0.0107605516\n",
      "Epoch  43: train loss: 0.0010293948, validation loss: 0.0106140966\n",
      "Epoch  44: train loss: 0.0009913428, validation loss: 0.0102969918\n",
      "Epoch  45: train loss: 0.0009563851, validation loss: 0.0102013304\n",
      "Epoch  46: train loss: 0.0009227036, validation loss: 0.0099040657\n",
      "Epoch  47: train loss: 0.0008927664, validation loss: 0.0097127394\n",
      "Epoch  48: train loss: 0.0008635668, validation loss: 0.0096328294\n",
      "Epoch  49: train loss: 0.0008372356, validation loss: 0.0093719322\n",
      "Epoch  50: train loss: 0.0008116290, validation loss: 0.0090730439\n",
      "Epoch  51: train loss: 0.0007900561, validation loss: 0.0091825056\n",
      "Epoch  52: train loss: 0.0007666263, validation loss: 0.0088616722\n",
      "Epoch  53: train loss: 0.0007462613, validation loss: 0.0088454520\n",
      "Epoch  54: train loss: 0.0007277595, validation loss: 0.0085078415\n",
      "Epoch  55: train loss: 0.0007087136, validation loss: 0.0086366912\n",
      "Epoch  56: train loss: 0.0006911196, validation loss: 0.0084777389\n",
      "Epoch  57: train loss: 0.0006751214, validation loss: 0.0083453701\n",
      "Epoch  58: train loss: 0.0006589810, validation loss: 0.0081188530\n",
      "Epoch  59: train loss: 0.0006451782, validation loss: 0.0079372004\n",
      "Epoch  60: train loss: 0.0006303485, validation loss: 0.0080356043\n",
      "Epoch  61: train loss: 0.0006168401, validation loss: 0.0079051131\n",
      "Epoch  62: train loss: 0.0006042723, validation loss: 0.0078007991\n",
      "Epoch  63: train loss: 0.0005919486, validation loss: 0.0078083668\n",
      "Epoch  64: train loss: 0.0005798207, validation loss: 0.0077481551\n",
      "Epoch  65: train loss: 0.0005691438, validation loss: 0.0073912353\n",
      "Epoch  66: train loss: 0.0005575518, validation loss: 0.0074992312\n",
      "Epoch  67: train loss: 0.0005475975, validation loss: 0.0073306838\n",
      "Epoch  68: train loss: 0.0005369396, validation loss: 0.0071386388\n",
      "Epoch  69: train loss: 0.0005264463, validation loss: 0.0071410959\n",
      "Epoch  70: train loss: 0.0005178121, validation loss: 0.0070175337\n",
      "Epoch  71: train loss: 0.0005082409, validation loss: 0.0070135546\n",
      "Epoch  72: train loss: 0.0004994460, validation loss: 0.0069319941\n",
      "Epoch  73: train loss: 0.0004925317, validation loss: 0.0069142412\n",
      "Epoch  74: train loss: 0.0004829504, validation loss: 0.0068171970\n",
      "Epoch  75: train loss: 0.0004740057, validation loss: 0.0067050961\n",
      "Epoch  76: train loss: 0.0004664931, validation loss: 0.0066782452\n",
      "Epoch  77: train loss: 0.0004596031, validation loss: 0.0065648233\n",
      "Epoch  78: train loss: 0.0004516135, validation loss: 0.0065999652\n",
      "Epoch  79: train loss: 0.0004436514, validation loss: 0.0064935657\n",
      "Epoch  80: train loss: 0.0004364074, validation loss: 0.0063438083\n",
      "Epoch  81: train loss: 0.0004290151, validation loss: 0.0063376587\n",
      "Epoch  82: train loss: 0.0004220140, validation loss: 0.0063113731\n",
      "Epoch  83: train loss: 0.0004157409, validation loss: 0.0062779125\n",
      "Epoch  84: train loss: 0.0004094005, validation loss: 0.0061516099\n",
      "Epoch  85: train loss: 0.0004028640, validation loss: 0.0061368132\n",
      "Epoch  86: train loss: 0.0003960144, validation loss: 0.0059981458\n",
      "Epoch  87: train loss: 0.0003901182, validation loss: 0.0058869669\n",
      "Epoch  88: train loss: 0.0003839822, validation loss: 0.0059714396\n",
      "Epoch  89: train loss: 0.0003782989, validation loss: 0.0059761087\n",
      "Epoch  90: train loss: 0.0003721954, validation loss: 0.0059751259\n",
      "Epoch  91: train loss: 0.0003670001, validation loss: 0.0057964980\n",
      "Epoch  92: train loss: 0.0003608777, validation loss: 0.0057184601\n",
      "Epoch  93: train loss: 0.0003548824, validation loss: 0.0055483414\n",
      "Epoch  94: train loss: 0.0003497967, validation loss: 0.0057403001\n",
      "Epoch  95: train loss: 0.0003442860, validation loss: 0.0055593014\n",
      "Epoch  96: train loss: 0.0003392361, validation loss: 0.0056050262\n",
      "Epoch  97: train loss: 0.0003337482, validation loss: 0.0054308946\n",
      "Epoch  98: train loss: 0.0003291339, validation loss: 0.0054392275\n",
      "Epoch  99: train loss: 0.0003240282, validation loss: 0.0053532652\n",
      "Epoch 100: train loss: 0.0003195946, validation loss: 0.0053039361\n",
      "Epoch 101: train loss: 0.0003149743, validation loss: 0.0052544311\n",
      "Epoch 102: train loss: 0.0003100607, validation loss: 0.0053186175\n",
      "Epoch 103: train loss: 0.0003049777, validation loss: 0.0052136089\n",
      "Epoch 104: train loss: 0.0003009986, validation loss: 0.0051870280\n",
      "Epoch 105: train loss: 0.0002958557, validation loss: 0.0051432506\n",
      "Epoch 106: train loss: 0.0002917394, validation loss: 0.0051380917\n",
      "Epoch 107: train loss: 0.0002879044, validation loss: 0.0050602156\n",
      "Epoch 108: train loss: 0.0002836070, validation loss: 0.0051409310\n",
      "Epoch 109: train loss: 0.0002796324, validation loss: 0.0051119573\n",
      "Epoch 110: train loss: 0.0002754941, validation loss: 0.0050837497\n",
      "Epoch 111: train loss: 0.0002721755, validation loss: 0.0048828148\n",
      "Epoch 112: train loss: 0.0002681764, validation loss: 0.0050002504\n",
      "Epoch 113: train loss: 0.0002645049, validation loss: 0.0049165293\n",
      "Epoch 114: train loss: 0.0002602617, validation loss: 0.0048855395\n",
      "Epoch 115: train loss: 0.0002570549, validation loss: 0.0048085270\n",
      "Epoch 116: train loss: 0.0002530084, validation loss: 0.0048642757\n",
      "Epoch 117: train loss: 0.0002502797, validation loss: 0.0048242514\n",
      "Epoch 118: train loss: 0.0002467685, validation loss: 0.0046214071\n",
      "Epoch 119: train loss: 0.0002431606, validation loss: 0.0047065079\n",
      "Epoch 120: train loss: 0.0002401986, validation loss: 0.0047612353\n",
      "Epoch 121: train loss: 0.0002370753, validation loss: 0.0046790905\n",
      "Epoch 122: train loss: 0.0002341928, validation loss: 0.0046686646\n",
      "Epoch 123: train loss: 0.0002308303, validation loss: 0.0046035105\n",
      "Epoch 124: train loss: 0.0002277402, validation loss: 0.0045868601\n",
      "Epoch 125: train loss: 0.0002251079, validation loss: 0.0045218083\n",
      "Epoch 126: train loss: 0.0002224220, validation loss: 0.0045685183\n",
      "Epoch 127: train loss: 0.0002193787, validation loss: 0.0044617991\n",
      "Epoch 128: train loss: 0.0002166167, validation loss: 0.0044738344\n",
      "Epoch 129: train loss: 0.0002139409, validation loss: 0.0044811163\n",
      "Epoch 130: train loss: 0.0002114578, validation loss: 0.0044784092\n",
      "Epoch 131: train loss: 0.0002085376, validation loss: 0.0044566512\n",
      "Epoch 132: train loss: 0.0002062756, validation loss: 0.0044428967\n",
      "Epoch 133: train loss: 0.0002039809, validation loss: 0.0044263766\n",
      "Epoch 134: train loss: 0.0002008207, validation loss: 0.0043393650\n",
      "Epoch 135: train loss: 0.0001990336, validation loss: 0.0042769384\n",
      "Epoch 136: train loss: 0.0001964267, validation loss: 0.0044146360\n",
      "Epoch 137: train loss: 0.0001943573, validation loss: 0.0042662979\n",
      "Epoch 138: train loss: 0.0001919229, validation loss: 0.0043253540\n",
      "Epoch 139: train loss: 0.0001896187, validation loss: 0.0042622746\n",
      "Epoch 140: train loss: 0.0001871787, validation loss: 0.0042315620\n",
      "Epoch 141: train loss: 0.0001857484, validation loss: 0.0043000779\n",
      "Epoch 142: train loss: 0.0001837665, validation loss: 0.0041880677\n",
      "Epoch 143: train loss: 0.0001810852, validation loss: 0.0041967743\n",
      "Epoch 144: train loss: 0.0001789648, validation loss: 0.0041826122\n",
      "Epoch 145: train loss: 0.0001773313, validation loss: 0.0042044352\n",
      "Epoch 146: train loss: 0.0001748869, validation loss: 0.0041671955\n",
      "Epoch 147: train loss: 0.0001737111, validation loss: 0.0041431023\n",
      "Epoch 148: train loss: 0.0001710653, validation loss: 0.0041859426\n",
      "Epoch 149: train loss: 0.0001698132, validation loss: 0.0041346670\n",
      "Epoch 150: train loss: 0.0001681161, validation loss: 0.0040972545\n",
      "Epoch 151: train loss: 0.0001662445, validation loss: 0.0040370524\n",
      "Epoch 152: train loss: 0.0001642757, validation loss: 0.0040558303\n",
      "Epoch 153: train loss: 0.0001625404, validation loss: 0.0040508744\n",
      "Epoch 154: train loss: 0.0001610612, validation loss: 0.0040811889\n",
      "Epoch 155: train loss: 0.0001592406, validation loss: 0.0040073985\n",
      "Epoch 156: train loss: 0.0001575250, validation loss: 0.0041122757\n",
      "Epoch 157: train loss: 0.0001562769, validation loss: 0.0039843934\n",
      "Epoch 158: train loss: 0.0001547161, validation loss: 0.0039684272\n",
      "Epoch 159: train loss: 0.0001529056, validation loss: 0.0039698433\n",
      "Epoch 160: train loss: 0.0001510955, validation loss: 0.0039259168\n",
      "Epoch 161: train loss: 0.0001496392, validation loss: 0.0038964364\n",
      "Epoch 162: train loss: 0.0001483102, validation loss: 0.0039665815\n",
      "Epoch 163: train loss: 0.0001468010, validation loss: 0.0039612257\n",
      "Epoch 164: train loss: 0.0001453549, validation loss: 0.0039143741\n",
      "Epoch 165: train loss: 0.0001441918, validation loss: 0.0039105435\n",
      "Epoch 166: train loss: 0.0001427714, validation loss: 0.0038761908\n",
      "Epoch 167: train loss: 0.0001414978, validation loss: 0.0038261725\n",
      "Epoch 168: train loss: 0.0001402103, validation loss: 0.0038756530\n",
      "Epoch 169: train loss: 0.0001383907, validation loss: 0.0037935528\n",
      "Epoch 170: train loss: 0.0001373824, validation loss: 0.0038316397\n",
      "Epoch 171: train loss: 0.0001359639, validation loss: 0.0038371060\n",
      "Epoch 172: train loss: 0.0001347651, validation loss: 0.0037897646\n",
      "Epoch 173: train loss: 0.0001338082, validation loss: 0.0038144955\n",
      "Epoch 174: train loss: 0.0001322980, validation loss: 0.0037572449\n",
      "Epoch 175: train loss: 0.0001314823, validation loss: 0.0037263796\n",
      "Epoch 176: train loss: 0.0001295119, validation loss: 0.0036958746\n",
      "Epoch 177: train loss: 0.0001289820, validation loss: 0.0037687272\n",
      "Epoch 178: train loss: 0.0001277780, validation loss: 0.0037054443\n",
      "Epoch 179: train loss: 0.0001265709, validation loss: 0.0037391271\n",
      "Epoch 180: train loss: 0.0001253387, validation loss: 0.0037277403\n",
      "Epoch 181: train loss: 0.0001240489, validation loss: 0.0036952822\n",
      "Epoch 182: train loss: 0.0001230384, validation loss: 0.0036904794\n",
      "Epoch 183: train loss: 0.0001220016, validation loss: 0.0037073090\n",
      "Epoch 184: train loss: 0.0001210723, validation loss: 0.0036696279\n",
      "Epoch 185: train loss: 0.0001202748, validation loss: 0.0036288411\n",
      "Epoch 186: train loss: 0.0001188277, validation loss: 0.0036829104\n",
      "Epoch 187: train loss: 0.0001176200, validation loss: 0.0036195460\n",
      "Epoch 188: train loss: 0.0001165071, validation loss: 0.0036003756\n",
      "Epoch 189: train loss: 0.0001158396, validation loss: 0.0036790944\n",
      "Epoch 190: train loss: 0.0001151386, validation loss: 0.0036312880\n",
      "Epoch 191: train loss: 0.0001136891, validation loss: 0.0036144100\n",
      "Epoch 192: train loss: 0.0001125788, validation loss: 0.0035805281\n",
      "Epoch 193: train loss: 0.0001120253, validation loss: 0.0036136384\n",
      "Epoch 194: train loss: 0.0001108400, validation loss: 0.0035896434\n",
      "Epoch 195: train loss: 0.0001097417, validation loss: 0.0035945749\n",
      "Epoch 196: train loss: 0.0001093969, validation loss: 0.0035855407\n",
      "Epoch 197: train loss: 0.0001082346, validation loss: 0.0035408175\n",
      "Epoch 198: train loss: 0.0001071415, validation loss: 0.0035222021\n",
      "Epoch 199: train loss: 0.0001070101, validation loss: 0.0034773294\n",
      "Epoch 200: train loss: 0.0001057596, validation loss: 0.0034377964\n",
      "Epoch 201: train loss: 0.0001050099, validation loss: 0.0034215779\n",
      "Epoch 202: train loss: 0.0001040277, validation loss: 0.0034348853\n",
      "Epoch 203: train loss: 0.0001027849, validation loss: 0.0034637205\n",
      "Epoch 204: train loss: 0.0001023891, validation loss: 0.0034230727\n",
      "Epoch 205: train loss: 0.0001012365, validation loss: 0.0034836385\n",
      "Epoch 206: train loss: 0.0001007025, validation loss: 0.0034128436\n",
      "Epoch 207: train loss: 0.0000998391, validation loss: 0.0033967596\n",
      "Epoch 208: train loss: 0.0000993428, validation loss: 0.0033711249\n",
      "Epoch 209: train loss: 0.0000984489, validation loss: 0.0033615283\n",
      "Epoch 210: train loss: 0.0000971960, validation loss: 0.0032987231\n",
      "Epoch 211: train loss: 0.0000968485, validation loss: 0.0033835107\n",
      "Epoch 212: train loss: 0.0000959189, validation loss: 0.0033422365\n",
      "Epoch 213: train loss: 0.0000952668, validation loss: 0.0033283880\n",
      "Epoch 214: train loss: 0.0000944450, validation loss: 0.0033581669\n",
      "Epoch 215: train loss: 0.0000938326, validation loss: 0.0033301065\n",
      "Epoch 216: train loss: 0.0000925994, validation loss: 0.0032722888\n",
      "Epoch 217: train loss: 0.0000923555, validation loss: 0.0032733559\n",
      "Epoch 218: train loss: 0.0000912176, validation loss: 0.0032334373\n",
      "Epoch 219: train loss: 0.0000905780, validation loss: 0.0032238725\n",
      "Epoch 220: train loss: 0.0000901378, validation loss: 0.0032258610\n",
      "Epoch 221: train loss: 0.0000891496, validation loss: 0.0032244241\n",
      "Epoch 222: train loss: 0.0000884714, validation loss: 0.0032321034\n",
      "Epoch 223: train loss: 0.0000883421, validation loss: 0.0031948235\n"
     ]
    },
    {
     "ename": "KeyboardInterrupt",
     "evalue": "",
     "output_type": "error",
     "traceback": [
      "\u001b[1;31m---------------------------------------------------------------------------\u001b[0m",
      "\u001b[1;31mKeyboardInterrupt\u001b[0m                         Traceback (most recent call last)",
      "\u001b[1;32m<ipython-input-43-0a2b3062e354>\u001b[0m in \u001b[0;36m<module>\u001b[1;34m\u001b[0m\n\u001b[0;32m      6\u001b[0m     \u001b[0mmap_net\u001b[0m \u001b[1;33m=\u001b[0m \u001b[0mmap_Net\u001b[0m\u001b[1;33m(\u001b[0m\u001b[0mmap_net_params\u001b[0m\u001b[1;33m)\u001b[0m\u001b[1;33m\u001b[0m\u001b[1;33m\u001b[0m\u001b[0m\n\u001b[0;32m      7\u001b[0m     \u001b[0mmap_net\u001b[0m\u001b[1;33m.\u001b[0m\u001b[0mset_dataset_map\u001b[0m\u001b[1;33m(\u001b[0m\u001b[0mxs_map_train\u001b[0m\u001b[1;33m,\u001b[0m\u001b[0mys_map_train\u001b[0m\u001b[1;33m,\u001b[0m\u001b[0mxs_map_val\u001b[0m\u001b[1;33m,\u001b[0m\u001b[0mys_map_val\u001b[0m\u001b[1;33m)\u001b[0m\u001b[1;33m\u001b[0m\u001b[1;33m\u001b[0m\u001b[0m\n\u001b[1;32m----> 8\u001b[1;33m     \u001b[0mmap_net\u001b[0m\u001b[1;33m.\u001b[0m\u001b[0mdata_pipeline\u001b[0m\u001b[1;33m(\u001b[0m\u001b[1;33m)\u001b[0m\u001b[1;33m\u001b[0m\u001b[1;33m\u001b[0m\u001b[0m\n\u001b[0m\u001b[0;32m      9\u001b[0m     \u001b[0mmap_net\u001b[0m\u001b[1;33m.\u001b[0m\u001b[0mplot_loss\u001b[0m\u001b[1;33m(\u001b[0m\u001b[1;33m)\u001b[0m\u001b[1;33m\u001b[0m\u001b[1;33m\u001b[0m\u001b[0m\n\u001b[0;32m     10\u001b[0m     \u001b[1;31m#torch.save(map_net.state_dict(),file)\u001b[0m\u001b[1;33m\u001b[0m\u001b[1;33m\u001b[0m\u001b[1;33m\u001b[0m\u001b[0m\n",
      "\u001b[1;32m<ipython-input-40-a42b074c8d0d>\u001b[0m in \u001b[0;36mdata_pipeline\u001b[1;34m(self)\u001b[0m\n\u001b[0;32m    125\u001b[0m         \u001b[0mdataset_val\u001b[0m \u001b[1;33m=\u001b[0m \u001b[0mtorch\u001b[0m\u001b[1;33m.\u001b[0m\u001b[0mutils\u001b[0m\u001b[1;33m.\u001b[0m\u001b[0mdata\u001b[0m\u001b[1;33m.\u001b[0m\u001b[0mTensorDataset\u001b[0m\u001b[1;33m(\u001b[0m\u001b[0mX_map_val_t\u001b[0m\u001b[1;33m,\u001b[0m \u001b[0my_map_val_t\u001b[0m\u001b[1;33m)\u001b[0m\u001b[1;33m\u001b[0m\u001b[1;33m\u001b[0m\u001b[0m\n\u001b[0;32m    126\u001b[0m \u001b[1;33m\u001b[0m\u001b[0m\n\u001b[1;32m--> 127\u001b[1;33m         \u001b[0mself\u001b[0m\u001b[1;33m.\u001b[0m\u001b[0mtrain_map_model\u001b[0m\u001b[1;33m(\u001b[0m\u001b[0mdataset_train\u001b[0m\u001b[1;33m,\u001b[0m\u001b[0mdataset_val\u001b[0m\u001b[1;33m)\u001b[0m\u001b[1;33m\u001b[0m\u001b[1;33m\u001b[0m\u001b[0m\n\u001b[0m\u001b[0;32m    128\u001b[0m \u001b[1;33m\u001b[0m\u001b[0m\n\u001b[0;32m    129\u001b[0m \u001b[1;33m\u001b[0m\u001b[0m\n",
      "\u001b[1;32m<ipython-input-40-a42b074c8d0d>\u001b[0m in \u001b[0;36mtrain_map_model\u001b[1;34m(self, dataset_train, dataset_val)\u001b[0m\n\u001b[0;32m    146\u001b[0m                 \u001b[0moutput\u001b[0m \u001b[1;33m=\u001b[0m \u001b[0mself\u001b[0m\u001b[1;33m(\u001b[0m\u001b[0minputs\u001b[0m\u001b[1;33m)\u001b[0m\u001b[1;33m\u001b[0m\u001b[1;33m\u001b[0m\u001b[0m\n\u001b[0;32m    147\u001b[0m                 \u001b[0mloss\u001b[0m \u001b[1;33m=\u001b[0m \u001b[0mself\u001b[0m\u001b[1;33m.\u001b[0m\u001b[0mloss\u001b[0m\u001b[1;33m(\u001b[0m\u001b[0moutput\u001b[0m\u001b[1;33m,\u001b[0m\u001b[0mlabels\u001b[0m\u001b[1;33m)\u001b[0m\u001b[1;33m\u001b[0m\u001b[1;33m\u001b[0m\u001b[0m\n\u001b[1;32m--> 148\u001b[1;33m                 \u001b[0mloss\u001b[0m\u001b[1;33m.\u001b[0m\u001b[0mbackward\u001b[0m\u001b[1;33m(\u001b[0m\u001b[1;33m)\u001b[0m\u001b[1;33m\u001b[0m\u001b[1;33m\u001b[0m\u001b[0m\n\u001b[0m\u001b[0;32m    149\u001b[0m                 \u001b[0mself\u001b[0m\u001b[1;33m.\u001b[0m\u001b[0moptimizer\u001b[0m\u001b[1;33m.\u001b[0m\u001b[0mstep\u001b[0m\u001b[1;33m(\u001b[0m\u001b[1;33m)\u001b[0m\u001b[1;33m\u001b[0m\u001b[1;33m\u001b[0m\u001b[0m\n\u001b[0;32m    150\u001b[0m \u001b[1;33m\u001b[0m\u001b[0m\n",
      "\u001b[1;32m~\\anaconda3\\lib\\site-packages\\torch\\_tensor.py\u001b[0m in \u001b[0;36mbackward\u001b[1;34m(self, gradient, retain_graph, create_graph, inputs)\u001b[0m\n\u001b[0;32m    361\u001b[0m                 \u001b[0mcreate_graph\u001b[0m\u001b[1;33m=\u001b[0m\u001b[0mcreate_graph\u001b[0m\u001b[1;33m,\u001b[0m\u001b[1;33m\u001b[0m\u001b[1;33m\u001b[0m\u001b[0m\n\u001b[0;32m    362\u001b[0m                 inputs=inputs)\n\u001b[1;32m--> 363\u001b[1;33m         \u001b[0mtorch\u001b[0m\u001b[1;33m.\u001b[0m\u001b[0mautograd\u001b[0m\u001b[1;33m.\u001b[0m\u001b[0mbackward\u001b[0m\u001b[1;33m(\u001b[0m\u001b[0mself\u001b[0m\u001b[1;33m,\u001b[0m \u001b[0mgradient\u001b[0m\u001b[1;33m,\u001b[0m \u001b[0mretain_graph\u001b[0m\u001b[1;33m,\u001b[0m \u001b[0mcreate_graph\u001b[0m\u001b[1;33m,\u001b[0m \u001b[0minputs\u001b[0m\u001b[1;33m=\u001b[0m\u001b[0minputs\u001b[0m\u001b[1;33m)\u001b[0m\u001b[1;33m\u001b[0m\u001b[1;33m\u001b[0m\u001b[0m\n\u001b[0m\u001b[0;32m    364\u001b[0m \u001b[1;33m\u001b[0m\u001b[0m\n\u001b[0;32m    365\u001b[0m     \u001b[1;32mdef\u001b[0m \u001b[0mregister_hook\u001b[0m\u001b[1;33m(\u001b[0m\u001b[0mself\u001b[0m\u001b[1;33m,\u001b[0m \u001b[0mhook\u001b[0m\u001b[1;33m)\u001b[0m\u001b[1;33m:\u001b[0m\u001b[1;33m\u001b[0m\u001b[1;33m\u001b[0m\u001b[0m\n",
      "\u001b[1;32m~\\anaconda3\\lib\\site-packages\\torch\\autograd\\__init__.py\u001b[0m in \u001b[0;36mbackward\u001b[1;34m(tensors, grad_tensors, retain_graph, create_graph, grad_variables, inputs)\u001b[0m\n\u001b[0;32m    171\u001b[0m     \u001b[1;31m# some Python versions print out the first line of a multi-line function\u001b[0m\u001b[1;33m\u001b[0m\u001b[1;33m\u001b[0m\u001b[1;33m\u001b[0m\u001b[0m\n\u001b[0;32m    172\u001b[0m     \u001b[1;31m# calls in the traceback and some print out the last line\u001b[0m\u001b[1;33m\u001b[0m\u001b[1;33m\u001b[0m\u001b[1;33m\u001b[0m\u001b[0m\n\u001b[1;32m--> 173\u001b[1;33m     Variable._execution_engine.run_backward(  # Calls into the C++ engine to run the backward pass\n\u001b[0m\u001b[0;32m    174\u001b[0m         \u001b[0mtensors\u001b[0m\u001b[1;33m,\u001b[0m \u001b[0mgrad_tensors_\u001b[0m\u001b[1;33m,\u001b[0m \u001b[0mretain_graph\u001b[0m\u001b[1;33m,\u001b[0m \u001b[0mcreate_graph\u001b[0m\u001b[1;33m,\u001b[0m \u001b[0minputs\u001b[0m\u001b[1;33m,\u001b[0m\u001b[1;33m\u001b[0m\u001b[1;33m\u001b[0m\u001b[0m\n\u001b[0;32m    175\u001b[0m         allow_unreachable=True, accumulate_grad=True)  # Calls into the C++ engine to run the backward pass\n",
      "\u001b[1;31mKeyboardInterrupt\u001b[0m: "
     ]
    }
   ],
   "source": [
    "#Initalize network\n",
    "train = True\n",
    "\n",
    "if train==True:\n",
    "    #file = \"map_net_params2.pth\"\n",
    "    map_net = map_Net(map_net_params)\n",
    "    map_net.set_dataset_map(xs_map_train,ys_map_train,xs_map_val,ys_map_val)\n",
    "    map_net.data_pipeline()\n",
    "    map_net.plot_loss()\n",
    "    #torch.save(map_net.state_dict(),file)\n",
    "else:\n",
    "    file = \"map_net_params2.pth\"\n",
    "    map_net = map_Net(map_net_params)\n",
    "    map_net.load_state_dict(torch.load(file))\n"
   ]
  },
  {
   "cell_type": "code",
   "execution_count": null,
   "metadata": {
    "collapsed": false,
    "jupyter": {
     "outputs_hidden": false
    },
    "pycharm": {
     "name": "#%%\n"
    }
   },
   "outputs": [],
   "source": [
    "import scipy.io\n",
    "\n",
    "#save net parameters\n",
    "scipy.io.savemat(\"map_in_weights.mat\", {\"map_in_weights\": map_net.map_net_in.weight.detach().numpy()})\n",
    "scipy.io.savemat(\"map_in_bias.mat\", {\"map_in_bias\": map_net.map_net_in.bias.detach().numpy()})\n",
    "\n",
    "scipy.io.savemat(\"map_hidden_weights_1.mat\",\n",
    "                 {\"map_hidden_weights_1\": map_net.map_net_hid[0].weight.detach().numpy()})\n",
    "scipy.io.savemat(\"map_hidden_bias_1.mat\",\n",
    "                 {\"map_hidden_bias_1\": map_net.map_net_hid[0].bias.detach().numpy()})\n",
    "\n",
    "scipy.io.savemat(\"map_hidden_weights_2.mat\",\n",
    "                 {\"map_hidden_weights_2\": map_net.map_net_hid[1].weight.detach().numpy()})\n",
    "scipy.io.savemat(\"map_hidden_bias_2.mat\",\n",
    "                 {\"map_hidden_bias_2\": map_net.map_net_hid[1].bias.detach().numpy()})\n",
    "\n",
    "scipy.io.savemat(\"map_hidden_weights_3.mat\",\n",
    "                 {\"map_hidden_weights_3\": map_net.map_net_hid[2].weight.detach().numpy()})\n",
    "scipy.io.savemat(\"map_hidden_bias_3.mat\",\n",
    "                 {\"map_hidden_bias_3\": map_net.map_net_hid[2].bias.detach().numpy()})\n",
    "\n",
    "scipy.io.savemat(\"map_out_weights.mat\", {\"map_out_weights\": map_net.map_net_out.weight.detach().numpy()})\n",
    "scipy.io.savemat(\"map_out_bias.mat\", {\"map_out_bias\": map_net.map_net_out.bias.detach().numpy()})"
   ]
  },
  {
   "cell_type": "markdown",
   "metadata": {
    "pycharm": {
     "name": "#%% md\n"
    }
   },
   "source": []
  },
  {
   "cell_type": "markdown",
   "metadata": {
    "pycharm": {
     "name": "#%% md\n"
    }
   },
   "source": [
    "## Test Data Parameters"
   ]
  },
  {
   "cell_type": "code",
   "execution_count": null,
   "metadata": {
    "collapsed": false,
    "jupyter": {
     "outputs_hidden": false
    },
    "pycharm": {
     "name": "#%%\n"
    }
   },
   "outputs": [],
   "source": [
    "# test data parameters\n",
    "num_snaps_val = 2000 # no. of snapshots\n",
    "T = np.linspace(0,num_snaps_val*dt, num_snaps_val+1)\n",
    "num_traj_val = 1 # no. of training examples\n",
    "first_obs_const = int(net_params['first_obs_const']) #only one state\n",
    "override_C = net_params['override_C']\n",
    "if override_C:\n",
    "    n_obs = int(net_params['encoder_output_dim']) + num_states + first_obs_const \n",
    "else:\n",
    "    n_obs = int(net_params['encoder_output_dim']) + first_obs_const "
   ]
  },
  {
   "cell_type": "markdown",
   "metadata": {
    "pycharm": {
     "name": "#%% md\n"
    }
   },
   "source": [
    "***Koopman Bilinear Model***\n"
   ]
  },
  {
   "cell_type": "code",
   "execution_count": null,
   "metadata": {
    "collapsed": false,
    "jupyter": {
     "outputs_hidden": false
    },
    "pycharm": {
     "name": "#%%\n"
    }
   },
   "outputs": [],
   "source": [
    "A = np.array(model_koop_dnn.A)\n",
    "#B = np.array(model_koop_dnn.B).reshape(-1,num_inputs*n_obs)\n",
    "B = np.array(model_koop_dnn.B)\n",
    "#B_tensor = np.empty((num_inputs,n_obs, n_obs))\n",
    "#for ii, b in enumerate(B):\n",
    "    #B_tensor[ii] = b\n",
    "C = np.array(model_koop_dnn.C)\n",
    "\n",
    "print(A.shape, B.shape, C.shape)"
   ]
  },
  {
   "cell_type": "code",
   "execution_count": null,
   "metadata": {
    "collapsed": false,
    "jupyter": {
     "outputs_hidden": false
    },
    "pycharm": {
     "name": "#%%\n"
    }
   },
   "outputs": [],
   "source": [
    "#SAVE MATRIX PARAMETERS AS MATLAB FILE\n",
    "import scipy.io\n",
    "\n",
    "dyn_matrices = {\"A\": A, \"B\": B, \"C\": C}\n",
    "scipy.io.savemat(\"dyn_mat.mat\", dyn_matrices)\n",
    "#save encoder parameters\n",
    "scipy.io.savemat(\"in_weights.mat\", {\"encode_in_weights\": model_koop_dnn.net.encoder_fc_in.weight.detach().numpy()})\n",
    "scipy.io.savemat(\"in_bias.mat\", {\"encode_in_bias\": model_koop_dnn.net.encoder_fc_in.bias.detach().numpy()})\n",
    "\n",
    "scipy.io.savemat(\"hidden_weights_1.mat\",\n",
    "                 {\"encode_hidden_weights_1\": model_koop_dnn.net.encoder_fc_hid[0].weight.detach().numpy()})\n",
    "scipy.io.savemat(\"hidden_bias_1.mat\",\n",
    "                 {\"encode_hidden_bias_1\": model_koop_dnn.net.encoder_fc_hid[0].bias.detach().numpy()})\n",
    "\n",
    "scipy.io.savemat(\"hidden_weights_2.mat\",\n",
    "                 {\"encode_hidden_weights_2\": model_koop_dnn.net.encoder_fc_hid[1].weight.detach().numpy()})\n",
    "scipy.io.savemat(\"hidden_bias_2.mat\",\n",
    "                 {\"encode_hidden_bias_2\": model_koop_dnn.net.encoder_fc_hid[1].bias.detach().numpy()})\n",
    "\n",
    "scipy.io.savemat(\"out_weights.mat\", {\"encode_out_weights\": model_koop_dnn.net.encoder_fc_out.weight.detach().numpy()})\n",
    "scipy.io.savemat(\"out_bias.mat\", {\"encode_out_bias\": model_koop_dnn.net.encoder_fc_out.bias.detach().numpy()})"
   ]
  },
  {
   "cell_type": "code",
   "execution_count": null,
   "metadata": {
    "collapsed": false,
    "jupyter": {
     "outputs_hidden": false
    },
    "pycharm": {
     "name": "#%%\n"
    }
   },
   "outputs": [],
   "source": [
    "encode_out_bias = model_koop_dnn.net.encoder_fc_out.bias.detach().numpy()\n",
    "encode_out_weights = model_koop_dnn.net.encoder_fc_out.weight.detach().numpy()"
   ]
  },
  {
   "cell_type": "markdown",
   "metadata": {
    "pycharm": {
     "name": "#%% md\n"
    }
   },
   "source": [
    "***Test Data Generation***"
   ]
  },
  {
   "cell_type": "code",
   "execution_count": null,
   "metadata": {
    "collapsed": false,
    "jupyter": {
     "outputs_hidden": false
    },
    "pycharm": {
     "name": "#%%\n"
    }
   },
   "outputs": [],
   "source": [
    "# data_gen\n",
    "xs_end_test,xs_test, us_test = dataset_dyn_gen_3R(dt,num_traj_val, num_snaps_val,num_states,num_inputs, robot_pars)"
   ]
  },
  {
   "cell_type": "code",
   "execution_count": null,
   "metadata": {
    "collapsed": false,
    "jupyter": {
     "outputs_hidden": false
    },
    "pycharm": {
     "name": "#%%\n"
    }
   },
   "outputs": [],
   "source": [
    "print(model_koop_dnn.test_loss(xs_test,u_test = us_test))"
   ]
  },
  {
   "cell_type": "code",
   "execution_count": null,
   "metadata": {
    "collapsed": false,
    "jupyter": {
     "outputs_hidden": false
    },
    "pycharm": {
     "name": "#%%\n"
    }
   },
   "outputs": [],
   "source": [
    "basis = model_koop_dnn.net.encode_forward_"
   ]
  },
  {
   "cell_type": "code",
   "execution_count": null,
   "metadata": {
    "collapsed": false,
    "jupyter": {
     "outputs_hidden": false
    },
    "pycharm": {
     "name": "#%%\n"
    }
   },
   "outputs": [],
   "source": [
    "X,_ = model_koop_dnn.net.process(xs_test,data_u = us_test)\n",
    "print(X.shape)"
   ]
  },
  {
   "cell_type": "code",
   "execution_count": null,
   "metadata": {
    "collapsed": false,
    "jupyter": {
     "outputs_hidden": false
    },
    "pycharm": {
     "name": "#%%\n"
    }
   },
   "outputs": [],
   "source": [
    "x = X[:, :num_states]\n",
    "u = X[:, num_states:num_states+num_inputs]\n",
    "x_prime = X[:,num_states+num_inputs:]\n",
    "\n",
    "print(x.shape, u.shape, x_prime.shape)"
   ]
  },
  {
   "cell_type": "code",
   "execution_count": null,
   "metadata": {
    "collapsed": false,
    "jupyter": {
     "outputs_hidden": false
    },
    "pycharm": {
     "name": "#%%\n"
    }
   },
   "outputs": [],
   "source": []
  },
  {
   "cell_type": "markdown",
   "metadata": {
    "pycharm": {
     "name": "#%% md\n"
    }
   },
   "source": [
    "***Initial Condition Lifting***"
   ]
  },
  {
   "cell_type": "code",
   "execution_count": null,
   "metadata": {
    "collapsed": false,
    "jupyter": {
     "outputs_hidden": false
    },
    "pycharm": {
     "name": "#%%\n"
    }
   },
   "outputs": [],
   "source": [
    "def lift(x,model_koop_dnn, first_obs_const, override_C):\n",
    "    if first_obs_const == 1:\n",
    "        if override_C:\n",
    "            Z = np.concatenate((np.ones((1,)),x,model_koop_dnn.net.encode_forward_(torch.from_numpy(x).float()).detach().numpy()))\n",
    "        else:\n",
    "            Z = np.concatenate((np.ones((1,)),model_koop_dnn.net.encode_forward_(torch.from_numpy(x).float()).detach().numpy()))\n",
    "    else:\n",
    "        if override_C:\n",
    "            Z = np.concatenate((x,model_koop_dnn.net.encode_forward_(torch.from_numpy(x).float()).detach().numpy()))\n",
    "        else:\n",
    "            Z = (model_koop_dnn.net.encode_forward_(torch.from_numpy(x).float()).detach().numpy())\n",
    "    return Z"
   ]
  },
  {
   "cell_type": "code",
   "execution_count": null,
   "metadata": {
    "collapsed": false,
    "jupyter": {
     "outputs_hidden": false
    },
    "pycharm": {
     "name": "#%%\n"
    }
   },
   "outputs": [],
   "source": [
    "# initialize the matricies\n",
    "z = np.empty((n_obs,num_snaps_val+1)).T\n",
    "x_est = np.zeros((num_states,num_snaps_val+1)).T"
   ]
  },
  {
   "cell_type": "code",
   "execution_count": null,
   "metadata": {
    "collapsed": false,
    "jupyter": {
     "outputs_hidden": false
    },
    "pycharm": {
     "name": "#%%\n"
    }
   },
   "outputs": [],
   "source": [
    "z[0,:] = lift(x[0,:],model_koop_dnn, first_obs_const, override_C)\n",
    "x_est[0,:] = x[0,:]"
   ]
  },
  {
   "cell_type": "markdown",
   "metadata": {
    "pycharm": {
     "name": "#%% md\n"
    }
   },
   "source": [
    "***Time Evolution***"
   ]
  },
  {
   "cell_type": "code",
   "execution_count": null,
   "metadata": {
    "collapsed": false,
    "jupyter": {
     "outputs_hidden": false
    },
    "pycharm": {
     "name": "#%%\n"
    }
   },
   "outputs": [],
   "source": [
    "for i in range(num_snaps_val):\n",
    "  #bilinear\n",
    "    z[i+1,:] = np.matmul(z[i,:],A.T)+np.matmul(np.kron(u[i,:],z[i,:]),B.T)\n",
    "    x_est[i+1,:] = np.matmul(z[i+1,:],C.T)     "
   ]
  },
  {
   "cell_type": "code",
   "execution_count": null,
   "metadata": {
    "collapsed": false,
    "jupyter": {
     "outputs_hidden": false
    },
    "pycharm": {
     "name": "#%%\n"
    }
   },
   "outputs": [],
   "source": [
    "# theta to end effector positions\n",
    "# Function for dynamics\n",
    "def cartesian_pos_gen_3R(th_data, robot_pars):\n",
    "    #define parameters\n",
    "    # link lengths\n",
    "    a1 = robot_pars['a1']\n",
    "    a2 = robot_pars['a2']\n",
    "    a3 = robot_pars['a3']\n",
    "    #link masses\n",
    "    m1 = robot_pars['m1']\n",
    "    m2 = robot_pars['m2']\n",
    "    m3 = robot_pars['m3']\n",
    "    # link inertias\n",
    "    I1 = robot_pars['I1']\n",
    "    I2 = robot_pars['I2']\n",
    "    I3 = robot_pars['I3']\n",
    "    #position of CM\n",
    "    l1 = robot_pars['l1']\n",
    "    l2 = robot_pars['l2']\n",
    "    l3 = robot_pars['l3']\n",
    "\n",
    "    \n",
    "    # X  = rows are joint and effector positions and velocities\n",
    "    num_states = 2*th_data.shape[1]\n",
    "    num_snaps = th_data.shape[0]\n",
    "    X = np.empty((num_snaps,num_states)) # cartesian state matrix\n",
    "\n",
    "    for i in range(num_snaps):\n",
    "        # time evolution\n",
    "        X[i,0] = a1*np.cos(th_data[i,0]) + a2*np.cos(th_data[i,0]+th_data[i,1])+a3*np.cos(th_data[i,0]+th_data[i,1]+th_data[i,2]) # end_eff_x\n",
    "        X[i,1] = a1*np.sin(th_data[i,0]) + a2*np.sin(th_data[i,0]+th_data[i,1])+a3*np.sin(th_data[i,0]+th_data[i,1]+th_data[i,2]) # end_eff_y\n",
    "        X[i,2] = a1*np.cos(th_data[i,0]) + a2*np.cos(th_data[i,0]+th_data[i,1]) # jt2_x\n",
    "        X[i,3] = l1*np.sin(th_data[i,0]) + l2*np.sin(th_data[i,0]+th_data[i,1]) # jt2_y\n",
    "        X[i,4] = l1*np.cos(th_data[i,0]) #jt1_x\n",
    "        X[i,5] = l1*np.sin(th_data[i,0]) #jt1_y\n",
    "\n",
    "        #joint velocities\n",
    "        X[i,6] = -a1*np.sin(th_data[i,0])*th_data[i,3] - a2*np.sin(th_data[i,0]+th_data[i,1])*(th_data[i,3]+th_data[i,4])-a3*np.sin(th_data[i,0]+th_data[i,1]+th_data[i,2])*(th_data[i,3]+th_data[i,4]+th_data[i,5]) # end_eff_x\n",
    "        X[i,7] = a1*np.cos(th_data[i,0])*th_data[i,3] + a2*np.cos(th_data[i,0]+th_data[i,1])*(th_data[i,3]+th_data[i,4])+a3*np.cos(th_data[i,0]+th_data[i,1]+th_data[i,2])*(th_data[i,3]+th_data[i,4]+th_data[i,5]) # end_eff_y\n",
    "        X[i,8] = -a1*np.sin(th_data[i,0])*th_data[i,3] - a2*np.sin(th_data[i,0]+th_data[i,1])*(th_data[i,3]+th_data[i,4]) # end_eff_x\n",
    "        X[i,9] = a1*np.cos(th_data[i,0])*th_data[i,3] + a2*np.cos(th_data[i,0]+th_data[i,1])*(th_data[i,3]+th_data[i,4]) # end_eff_y\n",
    "        X[i,10] = -a1*np.sin(th_data[i,0])*th_data[i,3] #jt_x\n",
    "        X[i,11] = a1*np.cos(th_data[i,0])*th_data[i,3] #jt_y\n",
    "    return X"
   ]
  },
  {
   "cell_type": "markdown",
   "metadata": {
    "pycharm": {
     "name": "#%% md\n"
    }
   },
   "source": [
    "# Cartesian Positions"
   ]
  },
  {
   "cell_type": "code",
   "execution_count": null,
   "metadata": {
    "collapsed": false,
    "jupyter": {
     "outputs_hidden": false
    },
    "pycharm": {
     "name": "#%%\n"
    }
   },
   "outputs": [],
   "source": [
    "x_cart = cartesian_pos_gen_3R(x, robot_pars)\n",
    "x_cart_est = cartesian_pos_gen_3R(x_est, robot_pars)"
   ]
  },
  {
   "cell_type": "markdown",
   "metadata": {
    "pycharm": {
     "name": "#%% md\n"
    }
   },
   "source": [
    "***Visualization***"
   ]
  },
  {
   "cell_type": "markdown",
   "metadata": {
    "pycharm": {
     "name": "#%% md\n"
    }
   },
   "source": [
    "# Joint Space"
   ]
  },
  {
   "cell_type": "code",
   "execution_count": null,
   "metadata": {
    "collapsed": false,
    "jupyter": {
     "outputs_hidden": false
    },
    "pycharm": {
     "name": "#%%\n"
    }
   },
   "outputs": [],
   "source": [
    "plt.figure()\n",
    "plt.plot(T[:-1],x[:,0],label ='Actual')\n",
    "plt.plot(T,x_est[:,0],label = 'estimated(bilinear)')\n",
    "plt.xlabel('t')\n",
    "plt.ylabel('theta_1')\n",
    "plt.title('theta_1 Comparison')\n",
    "plt.legend()"
   ]
  },
  {
   "cell_type": "code",
   "execution_count": null,
   "metadata": {
    "collapsed": false,
    "jupyter": {
     "outputs_hidden": false
    },
    "pycharm": {
     "name": "#%%\n"
    }
   },
   "outputs": [],
   "source": [
    "plt.figure()\n",
    "plt.plot(T[:-1],x[:,1],label ='Actual')\n",
    "plt.plot(T,x_est[:,1],label = 'estimated(bilinear)')\n",
    "plt.title('Theta_2')\n",
    "plt.xlabel('t')\n",
    "plt.ylabel('Theta_2_comparison')\n",
    "plt.legend()"
   ]
  },
  {
   "cell_type": "code",
   "execution_count": null,
   "metadata": {
    "collapsed": false,
    "jupyter": {
     "outputs_hidden": false
    },
    "pycharm": {
     "name": "#%%\n"
    }
   },
   "outputs": [],
   "source": [
    "\n",
    "plt.figure()\n",
    "plt.plot(T[:-1],x[:,2],label ='Actual')\n",
    "plt.plot(T,x_est[:,2],label = 'estimated(bilinear)')\n",
    "plt.title('Theta_3')\n",
    "plt.xlabel('t')\n",
    "plt.ylabel('theta_3')\n",
    "plt.legend()"
   ]
  },
  {
   "cell_type": "code",
   "execution_count": null,
   "metadata": {
    "collapsed": false,
    "jupyter": {
     "outputs_hidden": false
    },
    "pycharm": {
     "name": "#%%\n"
    }
   },
   "outputs": [],
   "source": [
    "plt.figure()\n",
    "plt.plot(T[:-1],x[:,3],label ='Actual')\n",
    "plt.plot(T,x_est[:,3],label = 'estimated(bilinear)')\n",
    "plt.title('Theta_1_dot')\n",
    "plt.xlabel('t')\n",
    "plt.ylabel('theta_1_dot')\n",
    "plt.legend()"
   ]
  },
  {
   "cell_type": "code",
   "execution_count": null,
   "metadata": {
    "collapsed": false,
    "jupyter": {
     "outputs_hidden": false
    },
    "pycharm": {
     "name": "#%%\n"
    }
   },
   "outputs": [],
   "source": [
    "plt.figure()\n",
    "plt.plot(T[:-1],x[:,4],label ='Actual')\n",
    "plt.plot(T,x_est[:,4],label = 'estimated(bilinear)')\n",
    "plt.title('Theta_2_dot')\n",
    "plt.xlabel('t')\n",
    "plt.ylabel('theta_2_dot')\n",
    "plt.legend()"
   ]
  },
  {
   "cell_type": "code",
   "execution_count": null,
   "metadata": {
    "collapsed": false,
    "jupyter": {
     "outputs_hidden": false
    },
    "pycharm": {
     "name": "#%%\n"
    }
   },
   "outputs": [],
   "source": [
    "plt.figure()\n",
    "plt.plot(T[:-1],x[:,5],label ='Actual')\n",
    "plt.plot(T,x_est[:,5],label = 'estimated(bilinear)')\n",
    "plt.title('Theta_3_dot')\n",
    "plt.xlabel('t')\n",
    "plt.ylabel('theta_3_dot')\n",
    "plt.legend()"
   ]
  },
  {
   "cell_type": "markdown",
   "metadata": {
    "pycharm": {
     "name": "#%% md\n"
    }
   },
   "source": [
    "# Cartesian Space"
   ]
  },
  {
   "cell_type": "code",
   "execution_count": null,
   "metadata": {
    "collapsed": false,
    "jupyter": {
     "outputs_hidden": false
    },
    "pycharm": {
     "name": "#%%\n"
    }
   },
   "outputs": [],
   "source": [
    "plt.figure()\n",
    "plt.plot(T[:-1],x_cart[:,0],label ='Actual')\n",
    "plt.plot(T[:],x_cart_est[:,0],label = 'estimated(bilinear)')\n",
    "plt.title('end effector x position comparison')\n",
    "plt.xlabel('t')\n",
    "plt.ylabel('x_1')\n",
    "plt.legend()"
   ]
  },
  {
   "cell_type": "code",
   "execution_count": null,
   "metadata": {
    "collapsed": false,
    "jupyter": {
     "outputs_hidden": false
    },
    "pycharm": {
     "name": "#%%\n"
    }
   },
   "outputs": [],
   "source": [
    "plt.figure()\n",
    "plt.plot(T[:-1],x_cart[:,1],label ='Actual')\n",
    "plt.plot(T[:],x_cart_est[:,1],label = 'estimated(bilinear)')\n",
    "plt.title('end effector y position comparison')\n",
    "plt.xlabel('t')\n",
    "plt.ylabel('y_1')\n",
    "plt.legend()"
   ]
  },
  {
   "cell_type": "code",
   "execution_count": null,
   "metadata": {
    "collapsed": false,
    "jupyter": {
     "outputs_hidden": false
    },
    "pycharm": {
     "name": "#%%\n"
    }
   },
   "outputs": [],
   "source": [
    "plt.figure()\n",
    "plt.plot(x_cart[:,0],x_cart[:,1],label ='Actual')\n",
    "plt.plot(x_cart_est[:,0],x_cart_est[:,1],label = 'estimated(bilinear)')\n",
    "plt.xlabel('x')\n",
    "plt.ylabel('y')\n",
    "plt.title('end effector position comparison')\n",
    "plt.legend()"
   ]
  },
  {
   "cell_type": "code",
   "execution_count": null,
   "metadata": {
    "collapsed": false,
    "jupyter": {
     "outputs_hidden": false
    },
    "pycharm": {
     "name": "#%%\n"
    }
   },
   "outputs": [],
   "source": [
    "plt.figure()\n",
    "plt.plot(x_cart[:,2],x_cart[:,3],label ='Actual')\n",
    "plt.plot(x_cart_est[:,2],x_cart_est[:,3],label = 'estimated(bilinear)')\n",
    "plt.xlabel('j2_x')\n",
    "plt.ylabel('j2_y')\n",
    "plt.title('end effector of joint 2 position comparison')\n",
    "plt.legend()"
   ]
  },
  {
   "cell_type": "code",
   "execution_count": null,
   "metadata": {
    "collapsed": false,
    "jupyter": {
     "outputs_hidden": false
    },
    "pycharm": {
     "name": "#%%\n"
    }
   },
   "outputs": [],
   "source": [
    "plt.figure()\n",
    "plt.plot(x_cart[:,4],x_cart[:,5],label ='Actual')\n",
    "plt.plot(x_cart_est[:,4],x_cart_est[:,5],label = 'estimated(bilinear)')\n",
    "plt.xlabel('j3_x')\n",
    "plt.ylabel('j3_y')\n",
    "plt.title('end effector position comparison of joint 3')\n",
    "plt.legend()"
   ]
  },
  {
   "cell_type": "code",
   "execution_count": null,
   "metadata": {
    "collapsed": false,
    "jupyter": {
     "outputs_hidden": false
    },
    "pycharm": {
     "name": "#%%\n"
    }
   },
   "outputs": [],
   "source": [
    "plt.figure()\n",
    "plt.plot(T[:-1],x_cart[:,6],label ='Actual')\n",
    "plt.plot(T[:],x_cart_est[:,6],label = 'estimated(bilinear)')\n",
    "plt.title('end effector x velocity position comparison')\n",
    "plt.xlabel('t')\n",
    "plt.ylabel('x_1_dot')\n",
    "plt.legend()"
   ]
  },
  {
   "cell_type": "code",
   "execution_count": null,
   "metadata": {
    "collapsed": false,
    "jupyter": {
     "outputs_hidden": false
    },
    "pycharm": {
     "name": "#%%\n"
    }
   },
   "outputs": [],
   "source": [
    "plt.figure()\n",
    "plt.plot(T[:-1],x_cart[:,7],label ='Actual')\n",
    "plt.plot(T[:],x_cart_est[:,7],label = 'estimated(bilinear)')\n",
    "plt.title('end effector y velocity position comparison')\n",
    "plt.xlabel('t')\n",
    "plt.ylabel('y_1_dot')\n",
    "plt.legend()"
   ]
  },
  {
   "cell_type": "code",
   "execution_count": null,
   "metadata": {
    "collapsed": false,
    "jupyter": {
     "outputs_hidden": false
    },
    "pycharm": {
     "name": "#%%\n"
    }
   },
   "outputs": [],
   "source": [
    "plt.figure()\n",
    "plt.plot(T[:-1],x_cart[:,8],label ='Actual')\n",
    "plt.plot(T[:],x_cart_est[:,8],label = 'estimated(bilinear)')\n",
    "plt.title('Joint 2 x velocity position comparison')\n",
    "plt.xlabel('t')\n",
    "plt.ylabel('x dot')\n",
    "plt.legend()"
   ]
  },
  {
   "cell_type": "code",
   "execution_count": null,
   "metadata": {
    "collapsed": false,
    "jupyter": {
     "outputs_hidden": false
    },
    "pycharm": {
     "name": "#%%\n"
    }
   },
   "outputs": [],
   "source": [
    "plt.figure()\n",
    "plt.plot(T[:-1],x_cart[:,9],label ='Actual')\n",
    "plt.plot(T[:],x_cart_est[:,9],label = 'estimated(bilinear)')\n",
    "plt.title('Joint 2 y velocity comparison')\n",
    "plt.xlabel('t')\n",
    "plt.ylabel('y dot')\n",
    "plt.legend()"
   ]
  },
  {
   "cell_type": "code",
   "execution_count": null,
   "metadata": {
    "collapsed": false,
    "jupyter": {
     "outputs_hidden": false
    },
    "pycharm": {
     "name": "#%%\n"
    }
   },
   "outputs": [],
   "source": [
    "plt.figure()\n",
    "plt.plot(T[:-1],x_cart[:,10],label ='Actual')\n",
    "plt.plot(T[:],x_cart_est[:,10],label = 'estimated(bilinear)')\n",
    "plt.title('Joint 1 x velocity comparison')\n",
    "plt.xlabel('t')\n",
    "plt.ylabel('x dot')\n",
    "plt.legend()"
   ]
  },
  {
   "cell_type": "code",
   "execution_count": null,
   "metadata": {
    "collapsed": false,
    "jupyter": {
     "outputs_hidden": false
    },
    "pycharm": {
     "name": "#%%\n"
    }
   },
   "outputs": [],
   "source": [
    "plt.figure()\n",
    "plt.plot(T[:-1],x_cart[:,7],label ='Actual')\n",
    "plt.plot(T[:],x_cart_est[:,7],label = 'estimated(bilinear)')\n",
    "plt.title('Joint 1 y velocity position comparison')\n",
    "plt.xlabel('t')\n",
    "plt.ylabel('y dot')\n",
    "plt.legend()"
   ]
  },
  {
   "cell_type": "code",
   "execution_count": null,
   "metadata": {
    "colab": {
     "base_uri": "https://localhost:8080/",
     "height": 295
    },
    "id": "Y4wFCS8cRNn4",
    "outputId": "0b36f8cb-fbed-4e73-8975-8a4985a2fe08",
    "pycharm": {
     "name": "#%%\n"
    }
   },
   "outputs": [],
   "source": [
    "plt.figure()\n",
    "plt.plot(T[:-1],error_mse_joint_tot)\n",
    "plt.xlabel('t')\n",
    "plt.ylabel('error_mse_joint_tot')\n",
    "plt.title('Total Joint space error evolution')\n",
    "plt.savefig(\"output.jpg\",format ='jpg', dpi = 100)"
   ]
  },
  {
   "cell_type": "code",
   "execution_count": null,
   "metadata": {
    "colab": {
     "base_uri": "https://localhost:8080/",
     "height": 295
    },
    "id": "dRBuXphKY1q0",
    "outputId": "7452ee7e-3e8f-4d08-b4e2-fefd6ee944ef",
    "pycharm": {
     "name": "#%%\n"
    }
   },
   "outputs": [],
   "source": [
    "plt.figure()\n",
    "plt.plot(T[:-1],error_mse_joint_pos)\n",
    "plt.xlabel('t')\n",
    "plt.ylabel('error_mse_joint_pos')\n",
    "plt.title('Joint position error evolution')\n",
    "plt.savefig(\"output.jpg\",format ='jpg', dpi = 100)"
   ]
  },
  {
   "cell_type": "code",
   "execution_count": null,
   "metadata": {
    "colab": {
     "base_uri": "https://localhost:8080/",
     "height": 295
    },
    "id": "Ogiei3t7Y1q0",
    "outputId": "2fbbb64d-fa76-4d5b-9020-26fc03dd46ec",
    "pycharm": {
     "name": "#%%\n"
    }
   },
   "outputs": [],
   "source": [
    "plt.figure()\n",
    "plt.plot(T[:-1],error_mse_joint_vel)\n",
    "plt.xlabel('t')\n",
    "plt.ylabel('error_mse_joint_vel')\n",
    "plt.title('Joint vel error evolution')\n",
    "plt.savefig(\"output.jpg\",format ='jpg', dpi = 100)"
   ]
  },
  {
   "cell_type": "code",
   "execution_count": null,
   "metadata": {
    "colab": {
     "base_uri": "https://localhost:8080/",
     "height": 312
    },
    "id": "WPkG2TILY1q0",
    "outputId": "a6e0e347-97ea-482c-b574-384a4b2b879b",
    "pycharm": {
     "name": "#%%\n"
    }
   },
   "outputs": [],
   "source": [
    "plt.figure()\n",
    "plt.plot(T[:-1],error_mse_cart_tot)\n",
    "plt.xlabel('t')\n",
    "plt.ylabel('error_mse_cart_tot')\n",
    "plt.title('Total cartesian space error evolution')"
   ]
  },
  {
   "cell_type": "code",
   "execution_count": null,
   "metadata": {
    "colab": {
     "base_uri": "https://localhost:8080/",
     "height": 312
    },
    "id": "WBPSQZuBY1q0",
    "outputId": "c0f2eb88-f0c4-4169-a263-6ed857d1bc74",
    "pycharm": {
     "name": "#%%\n"
    }
   },
   "outputs": [],
   "source": [
    "plt.figure()\n",
    "plt.plot(T[:-1],error_mse_cart_pos_ef)\n",
    "plt.xlabel('t')\n",
    "plt.ylabel('error_mse_cart_pos_ef')\n",
    "plt.title('End Effector position error evolution')"
   ]
  },
  {
   "cell_type": "code",
   "execution_count": null,
   "metadata": {
    "colab": {
     "base_uri": "https://localhost:8080/",
     "height": 312
    },
    "id": "saUJ85mhY1q0",
    "outputId": "8cd5acd4-53a8-4d7f-d5bb-70c75a0e0a0a",
    "pycharm": {
     "name": "#%%\n"
    }
   },
   "outputs": [],
   "source": [
    "plt.figure()\n",
    "plt.plot(T[:-1],error_mse_cart_vel_ef)\n",
    "plt.xlabel('t')\n",
    "plt.ylabel('error_mse_cart_vel_ef')\n",
    "plt.title('End Effector vel error evolution')"
   ]
  },
  {
   "cell_type": "code",
   "execution_count": null,
   "metadata": {
    "collapsed": false,
    "jupyter": {
     "outputs_hidden": false
    },
    "pycharm": {
     "name": "#%%\n"
    }
   },
   "outputs": [],
   "source": [
    "# data_gen\n",
    "xs_end_test,xs_test, us_test = dataset_dyn_gen_3R(dt,num_traj_val, num_snaps_val,num_states,num_inputs, robot_pars)"
   ]
  },
  {
   "cell_type": "code",
   "execution_count": null,
   "metadata": {
    "collapsed": false,
    "jupyter": {
     "outputs_hidden": false
    },
    "pycharm": {
     "name": "#%%\n"
    }
   },
   "outputs": [],
   "source": [
    "#testing the map network\n",
    "theta_test = xs_test[:,:,0:3]\n",
    "theta_test = theta_test.T.reshape((3,2001),order='F')\n",
    "theta_test = theta_test.T\n",
    "x_end_pred = np.empty((num_snaps_val+1,2))"
   ]
  },
  {
   "cell_type": "code",
   "execution_count": null,
   "metadata": {
    "collapsed": false,
    "jupyter": {
     "outputs_hidden": false
    },
    "pycharm": {
     "name": "#%%\n"
    }
   },
   "outputs": [],
   "source": [
    "for i in range(num_snaps_val):\n",
    "    th_t = torch.from_numpy(theta_test[i,:]).float()\n",
    "    x_end_pred[i,:] = map_net(th_t).detach().numpy()"
   ]
  },
  {
   "cell_type": "code",
   "execution_count": null,
   "metadata": {
    "collapsed": false,
    "jupyter": {
     "outputs_hidden": false
    },
    "pycharm": {
     "name": "#%%\n"
    }
   },
   "outputs": [],
   "source": [
    "\n",
    "#plot\n",
    "plt.figure()\n",
    "plt.plot(T[:-1],xs_end_test[:,0:-1,0].T,label='x end actual')\n",
    "plt.plot(T[:-1],x_end_pred[0:-1,0],label='x end predicted')\n",
    "plt.xlabel('t')\n",
    "plt.ylabel('x end')\n",
    "plt.legend()\n",
    "plt.title('actual and predicted position of end effector')\n",
    "plt.show()"
   ]
  },
  {
   "cell_type": "code",
   "execution_count": null,
   "metadata": {
    "collapsed": false,
    "jupyter": {
     "outputs_hidden": false
    },
    "pycharm": {
     "name": "#%%\n"
    }
   },
   "outputs": [],
   "source": []
  },
  {
   "cell_type": "code",
   "execution_count": null,
   "metadata": {
    "collapsed": false,
    "jupyter": {
     "outputs_hidden": false
    },
    "pycharm": {
     "name": "#%%\n"
    }
   },
   "outputs": [],
   "source": [
    "plt.figure()\n",
    "plt.plot(T[:-1],xs_end_test[:,0:-1,1].T,label='y end actual')\n",
    "plt.plot(T[:-1],x_end_pred[0:-1,1],label='y end predicted')\n",
    "plt.xlabel('t')\n",
    "plt.ylabel('x end')\n",
    "plt.legend()\n",
    "plt.title('actual and predicted position of end effector')\n",
    "plt.show()"
   ]
  },
  {
   "cell_type": "code",
   "execution_count": null,
   "metadata": {
    "collapsed": false,
    "jupyter": {
     "outputs_hidden": false
    },
    "pycharm": {
     "name": "#%%\n"
    }
   },
   "outputs": [],
   "source": [
    "#error plot\n",
    "plt.figure()\n",
    "error_x = xs_end_test[:,0:-1,0]-x_end_pred[0:-1,0]\n",
    "error_y = xs_end_test[:,0:-1,1]-x_end_pred[0:-1,1]\n",
    "plt.plot(T[:-1],error_x.T,label='error in x position')\n",
    "plt.plot(T[:-1],error_y.T,label='error in y position')\n",
    "plt.xlabel('t')\n",
    "plt.ylabel('error')\n",
    "plt.legend()\n",
    "plt.title('x and y error')\n",
    "plt.show()"
   ]
  },
  {
   "cell_type": "markdown",
   "metadata": {
    "pycharm": {
     "name": "#%% md\n"
    }
   },
   "source": [
    "# Control of the bilinear model"
   ]
  },
  {
   "cell_type": "code",
   "execution_count": null,
   "metadata": {
    "pycharm": {
     "name": "#%%\n"
    }
   },
   "outputs": [],
   "source": [
    "# continious matricies\n",
    "# continious matricies\n",
    "Ac = (A-np.eye(n_obs))/dt\n",
    "Bc = B/dt\n",
    "Cc = C\n",
    "Crc = Cc[0:2,:]"
   ]
  },
  {
   "cell_type": "code",
   "execution_count": null,
   "metadata": {
    "pycharm": {
     "name": "#%%\n"
    }
   },
   "outputs": [],
   "source": [
    "# control process pars\n",
    "# test data parameters\n",
    "t_con = 10\n",
    "num_snaps_con = int(t_con/dt) # no. of snapshots\n",
    "T = np.linspace(0,num_snaps_con*dt, num_snaps_con+1)"
   ]
  },
  {
   "cell_type": "code",
   "execution_count": null,
   "metadata": {
    "pycharm": {
     "name": "#%%\n"
    }
   },
   "outputs": [],
   "source": [
    "# comparison of continious and discreate matricies\n",
    "# initilizations\n",
    "z_disc = np.empty((n_obs,num_snaps_con+1)).T\n",
    "z_cont = np.empty((n_obs,num_snaps_con+1)).T\n",
    "u = np.zeros((num_inputs,num_snaps_con)).T\n",
    "# initial values\n",
    "x = np.random.rand(1,num_states)"
   ]
  },
  {
   "cell_type": "code",
   "execution_count": null,
   "metadata": {
    "pycharm": {
     "name": "#%%\n"
    }
   },
   "outputs": [],
   "source": [
    "z_disc[0,:] = lift(x[0,:],model_koop_dnn, first_obs_const, override_C)\n",
    "z_cont[0,:] = z_disc[0,:]\n",
    "u[0,:] = (2*np.random.rand(1,num_inputs)-1)"
   ]
  },
  {
   "cell_type": "code",
   "execution_count": null,
   "metadata": {
    "pycharm": {
     "name": "#%%\n"
    }
   },
   "outputs": [],
   "source": [
    "for i in range(num_snaps_con):\n",
    "  #bilinear\n",
    "    u[i,:] = (2*np.random.rand(1,num_inputs)-1)\n",
    "    z_disc[i+1,:] = np.matmul(z_disc[i,:],A.T)+np.matmul(np.kron(u[i,:],z_disc[i,:]),B.T)\n",
    "    #z[i+1,:] = z[i,:] + z_dot[i,:]\n",
    "    z_dot = np.matmul(z_cont[i,:],Ac.T)+np.matmul(np.kron(u[i,:],z_cont[i,:]),Bc.T)\n",
    "    z_cont[i+1,:] = z_cont[i,:] + z_dot*dt"
   ]
  },
  {
   "cell_type": "code",
   "execution_count": null,
   "metadata": {
    "pycharm": {
     "name": "#%%\n"
    }
   },
   "outputs": [],
   "source": [
    "error_disc = np.sqrt(np.square(z_cont-z_disc).mean(axis=1))"
   ]
  },
  {
   "cell_type": "code",
   "execution_count": null,
   "metadata": {
    "pycharm": {
     "name": "#%%\n"
    }
   },
   "outputs": [],
   "source": [
    "plt.figure()\n",
    "plt.plot(T[:],error_disc)\n",
    "plt.xlabel('t')\n",
    "plt.ylabel('error_disc')\n",
    "plt.title('discreatization error evolution')"
   ]
  },
  {
   "cell_type": "markdown",
   "metadata": {
    "pycharm": {
     "name": "#%% md\n"
    }
   },
   "source": [
    "## Dynamics"
   ]
  },
  {
   "cell_type": "code",
   "execution_count": null,
   "metadata": {
    "id": "ZW6uBvXIY1qx",
    "pycharm": {
     "name": "#%%\n"
    }
   },
   "outputs": [],
   "source": [
    "# theta to end effector positions\n",
    "# Function for dynamics\n",
    "def forward_kinematics_2r(th_data,th_dot_data, robot_pars):\n",
    "    #define parameters\n",
    "    # link lengths\n",
    "    l1 = robot_pars['l1']\n",
    "    l2 = robot_pars['l2']\n",
    "    #link masses\n",
    "    m1 = robot_pars['m1']\n",
    "    m2 = robot_pars['m2']\n",
    "    # link inertias\n",
    "    I1 = robot_pars['I1']\n",
    "    I2 = robot_pars['I1']\n",
    "    # theta_data = (num_snaps, num_states)\n",
    "    \n",
    "    # X  = rows are joint and effector positions and velocities\n",
    "    num_states = 4*th_data.shape[1]\n",
    "    num_snaps = th_data.shape[0]\n",
    "    X = np.empty((num_snaps,num_states)) # cartesian state matrix\n",
    "\n",
    "    for i in range(num_snaps):\n",
    "        # time evolution\n",
    "        X[i,0] = l1*np.cos(th_data[i,0]) + l2*np.cos(th_data[i,0]+th_data[i,1]) # end_eff_x\n",
    "        X[i,1] = l1*np.sin(th_data[i,0]) + l2*np.sin(th_data[i,0]+th_data[i,1]) # end_eff_y\n",
    "        X[i,2] = l1*np.cos(th_data[i,0]) #jt_x\n",
    "        X[i,3] = l1*np.sin(th_data[i,0]) #jt_y\n",
    "        X[i,4] = -l1*np.sin(th_data[i,0])*th_dot_data[i,0] - l2*np.sin(th_data[i,0]+th_data[i,1])*(th_dot_data[i,0]+th_dot_data[i,1]) # end_eff_x\n",
    "        X[i,5] = l1*np.cos(th_data[i,0])*th_dot_data[i,0] + l2*np.cos(th_data[i,0]+th_data[i,1])*(th_dot_data[i,0]+th_dot_data[i,1]) # end_eff_y\n",
    "        X[i,6] = -l1*np.sin(th_data[i,0])*th_dot_data[i,0] #jt_x\n",
    "        X[i,7] = l1*np.cos(th_data[i,0])*th_dot_data[i,0] #jt_y\n",
    "    return X"
   ]
  },
  {
   "cell_type": "code",
   "execution_count": null,
   "metadata": {
    "pycharm": {
     "name": "#%%\n"
    }
   },
   "outputs": [],
   "source": [
    "# theta to end effector positions\n",
    "# Function for dynamics\n",
    "def forward_map_2r(th_data, robot_pars):\n",
    "    #define parameters\n",
    "    # link lengths\n",
    "    l1 = robot_pars['l1']\n",
    "    l2 = robot_pars['l2']\n",
    "    #link masses\n",
    "    m1 = robot_pars['m1']\n",
    "    m2 = robot_pars['m2']\n",
    "    # link inertias\n",
    "    I1 = robot_pars['I1']\n",
    "    I2 = robot_pars['I1']\n",
    "    # theta_data = (num_snaps, num_states)\n",
    "    \n",
    "    # X  = rows are joint and effector positions and velocities\n",
    "    num_states = 4\n",
    "    num_snaps = 1\n",
    "    X = np.empty((num_states,)) # cartesian state matrix\n",
    "\n",
    "    # time evolution\n",
    "    X[0] = l1*np.cos(th_data[0]) + l2*np.cos(th_data[0]+th_data[1]) # end_eff_x\n",
    "    X[1] = l1*np.sin(th_data[0]) + l2*np.sin(th_data[0]+th_data[1]) # end_eff_y\n",
    "    X[2] = l1*np.cos(th_data[0]) #jt_x\n",
    "    X[3] = l1*np.sin(th_data[0]) #jt_y  \n",
    "    \n",
    "    return X"
   ]
  },
  {
   "cell_type": "code",
   "execution_count": null,
   "metadata": {
    "pycharm": {
     "name": "#%%\n"
    }
   },
   "outputs": [],
   "source": [
    "def Jacobian_2r(th_data, robot_pars):\n",
    "    #define parameters\n",
    "    # link lengths\n",
    "    l1 = robot_pars['l1']\n",
    "    l2 = robot_pars['l2']\n",
    "    #link masses\n",
    "    m1 = robot_pars['m1']\n",
    "    m2 = robot_pars['m2']\n",
    "    # link inertias\n",
    "    I1 = robot_pars['I1']\n",
    "    I2 = robot_pars['I1']\n",
    "    # theta_data = (num_snaps, num_states)\n",
    "    \n",
    "    # X  = rows are joint and effector positions and velocities\n",
    "    J = np.empty((2,2)) # cartesian state matrix\n",
    "\n",
    "    # time evolution\n",
    "    J[0,0] = -l1*np.sin(th_data[0]) - l2*np.sin(th_data[0]+th_data[1]) # end_eff_x\n",
    "    J[0,1] = -l2*np.sin(th_data[0]+th_data[1])\n",
    "    J[1,0] = l1*np.cos(th_data[0]) + l2*np.cos(th_data[0]+th_data[1])\n",
    "    J[1,1] = l2*np.cos(th_data[0]+th_data[1])\n",
    "    \n",
    "    return J"
   ]
  },
  {
   "cell_type": "code",
   "execution_count": null,
   "metadata": {
    "pycharm": {
     "name": "#%%\n"
    }
   },
   "outputs": [],
   "source": [
    "#function for dynamics in tau to theta conversion\n",
    "def dynamics_2R(dt, u, th, th_dot, robot_pars):\n",
    "    #define parameters\n",
    "    # link lengths\n",
    "    l1 = robot_pars['l1']\n",
    "    l2 = robot_pars['l2']\n",
    "    #link masses\n",
    "    m1 = robot_pars['m1']\n",
    "    m2 = robot_pars['m2']\n",
    "    # link inertias\n",
    "    I1 = robot_pars['I1']\n",
    "    I2 = robot_pars['I1']\n",
    "\n",
    "    # gravity\n",
    "    g = 9.81*0\n",
    "    # matrix initializations\n",
    "    tau = u.reshape(-1,1)\n",
    "    # mass matrix\n",
    "    m11 = (I1+I2+m1*l1**2) + (m2*l2**2/4+m1*l1**2)/4 + (2*m2*l1*l2*np.cos(th[1]));\n",
    "    m12 = I2+(m2*l2**2)/4 + m2*l1*l2*np.cos(th[1])/2;\n",
    "    m21=m12;\n",
    "    m22 = I2 + (m2*l2**2)/4;\n",
    "\n",
    "    M = np.array([[m11,m12],[m21,m22]])\n",
    "\n",
    "    # coriolis tersms\n",
    "    c1 = -m2*l1*l2*0.5*np.sin(th[1])*(2*th_dot[0]*th_dot[1]+th_dot[1]**2);\n",
    "    c2 = m2*l1*l2*np.sin(th[1])*th_dot[1]**2;\n",
    "\n",
    "    C = np.array([[c1],[c2]]) \n",
    "\n",
    "    # gravity terms     \n",
    "    g1 = m2*g*(l1*np.cos(th[0])+l2*np.cos(th[0]+th[1]))+m1*g*l1*0.5*np.cos(th[0]);\n",
    "    g2 = m2*g*l2*0.5*np.cos(th[0]+th[1]);\n",
    "\n",
    "    G = np.array([[g1],[g2]]) \n",
    "\n",
    "    # inputs\n",
    "    \n",
    "    # theta evolution\n",
    "    th_ddot = np.matmul(np.linalg.inv(M),(tau-G-C)).reshape(2,)\n",
    "    th_dot_next = th_dot + th_ddot*dt\n",
    "    th_next = th + th_dot*dt + (1/2)*th_ddot*dt**2\n",
    "\n",
    "    return th_next, th_dot_next"
   ]
  },
  {
   "cell_type": "markdown",
   "metadata": {
    "pycharm": {
     "name": "#%% md\n"
    }
   },
   "source": [
    "## Noise Generation"
   ]
  },
  {
   "cell_type": "code",
   "execution_count": null,
   "metadata": {
    "pycharm": {
     "name": "#%%\n"
    }
   },
   "outputs": [],
   "source": [
    "def gen_noise(t,amp,state,noise_nature):\n",
    "    num_states = int(state.shape[0])\n",
    "    noise = np.empty((1,num_states))\n",
    "    if noise_nature == 'constant':\n",
    "        noise[0,:] = np.ones((1,num_states))*ep\n",
    "    elif noise_nature == 'sinosoidal':\n",
    "        for j in range(num_states):\n",
    "            if j%2 == 0:\n",
    "                noise[0,j] = ep*np.sin(4*np.pi*t)\n",
    "            else:\n",
    "                noise[0,j] = ep*np.cos(4*np.pi*t)\n",
    "    elif noise_nature == 'state_dependent':\n",
    "        noise[0,0] = ep*np.sin(4*np.pi*t*state[0])\n",
    "        noise[0,1] = ep*np.cos(4*np.pi*t*state[0])\n",
    "        noise[0,2] = ep*np.sin(4*np.pi*t)\n",
    "        noise[0,3] = ep*np.cos(4*np.pi*t)\n",
    "    else:\n",
    "        noise[0,:] = np.zeros((1,num_states))\n",
    "    return noise\n",
    "        \n",
    "        "
   ]
  },
  {
   "cell_type": "markdown",
   "metadata": {
    "pycharm": {
     "name": "#%% md\n"
    }
   },
   "source": [
    "## Control Parameters"
   ]
  },
  {
   "cell_type": "code",
   "execution_count": null,
   "metadata": {
    "pycharm": {
     "name": "#%%\n"
    }
   },
   "outputs": [],
   "source": [
    "# initialize parameters\n",
    "# control process pars\n",
    "t_run = 10\n",
    "n_p = 1 #no of periods\n",
    "t_sim = n_p*t_run \n",
    "num_snaps_sim = int(t_sim/dt) # no. of snapshots\n",
    "T = np.linspace(0,num_snaps_sim*dt, num_snaps_sim+1)\n",
    "num_cont_outs = 2 # no of controllable outputs\n",
    "gamma_traced = 10\n",
    "gamma_res = 40\n",
    "\n",
    "l = 1\n",
    "c = 0.02;\n",
    "\n",
    "# noise parameters\n",
    "noise = False\n",
    "noise_nature = 'constant'\n",
    "if noise:\n",
    "    ep = 0.01 # amplitude of noise\n",
    "else:\n",
    "    ep = 0"
   ]
  },
  {
   "cell_type": "code",
   "execution_count": null,
   "metadata": {
    "pycharm": {
     "name": "#%%\n"
    }
   },
   "outputs": [],
   "source": [
    "#initialize matricies\n",
    "# comparison of continious and discreate matricies\n",
    "# initilizations\n",
    "z = np.empty((n_obs,num_snaps_sim+1)).T # from the measurement\n",
    "z_dot_est = np.empty((n_obs,num_snaps_sim)).T # from the measurement\n",
    "z_dot_actual = np.empty((n_obs,num_snaps_sim)).T # from the measurement\n",
    "z_m = np.empty((n_obs,num_snaps_sim+1)).T # from the model\n",
    "u = np.zeros((num_inputs,num_snaps_sim)).T\n",
    "#\n",
    "# initial values\n",
    "th = np.zeros((num_states,num_snaps_sim+1)).T #[th th_dot]\n",
    "th_actual = np.empty((num_states,num_snaps_sim+1)).T\n",
    "# considering only the end effecctor\n",
    "x_desired = np.empty((num_cont_outs,num_snaps_sim+1)).T\n",
    "x_desired_dot = np.empty((num_cont_outs,num_snaps_sim+1)).T\n",
    "x_traced = np.empty((num_cont_outs,num_snaps_sim+1)).T\n",
    "x_actual = np.empty((num_cont_outs,num_snaps_sim+1)).T\n",
    "error_traced = np.zeros((num_cont_outs,num_snaps_sim)).T\n",
    "#considering the full state matrix\n",
    "x_actual = np.empty((num_states,num_snaps_sim+1)).T\n",
    "noise = np.empty((num_states,num_snaps_sim+1)).T #full states\n",
    "# residual initialization\n",
    "rd = np.empty((n_obs,num_snaps_sim+1)).T\n",
    "rd_dot = np.empty((n_obs,num_snaps_sim)).T"
   ]
  },
  {
   "cell_type": "code",
   "execution_count": null,
   "metadata": {
    "pycharm": {
     "name": "#%%\n"
    }
   },
   "outputs": [],
   "source": [
    "# set initial values\n",
    "th[0,:2] = np.array([0.1, np.pi*0.9])\n",
    "th[0,2:4] = np.zeros((2,))\n",
    "# end effector quantities\n",
    "x_actual[0,:] = forward_map_2r(th[0,:2],robot_pars)\n",
    "print(x_actual[0,:])\n",
    "\n",
    "#noise addition\n",
    "noise[0,:] = gen_noise(0,ep,x_actual[0,:],noise_nature)\n",
    "x_actual[0,:] += noise[0,:]\n",
    "print(x_actual[0,:])\n",
    "x_traced[0,:] = x_actual[0,:2]\n",
    "x_desired[0,:] = x_traced[0,:]\n",
    "\n",
    "\n",
    "# inputs\n",
    "u[0,:] = np.zeros((1,num_inputs))\n",
    "x_desired_dot[0,0] = -2*c*2*np.pi*np.sin(2*np.pi*0/t_run)/t_run+c*4*np.pi*np.sin(4*np.pi*0/t_run)/t_run;\n",
    "x_desired_dot[0,1] =  2*c*2*np.pi*np.cos(2*np.pi*0/t_run)/t_run-c*4*np.pi*np.cos(4*np.pi*0/t_run)/t_run\n",
    "\n",
    "#lifted quantities\n",
    "z[0,:] = lift(th[0,:],model_koop_dnn, first_obs_const, override_C) # estimated lifed state        \n",
    "z_m[0,:] = z[0,:]\n",
    "# residual\n",
    "rd[0,:] = np.zeros((n_obs,1)).T"
   ]
  },
  {
   "cell_type": "code",
   "execution_count": null,
   "metadata": {
    "pycharm": {
     "name": "#%%\n"
    }
   },
   "outputs": [],
   "source": [
    "for i in range(num_snaps_sim):\n",
    "  #bilinear\n",
    "    t = T[i+1]\n",
    "    # desired positions\n",
    "    x_desired[i+1,0] = 2*c*np.cos(2*np.pi*t/t_run)-c*np.cos(4*np.pi*t/t_run) + x_desired[0,0] - c\n",
    "    x_desired[i+1,1] = 2*c*np.sin(2*np.pi*t/t_run)-c*np.sin(4*np.pi*t/t_run) + x_desired[0,1]\n",
    "    # desirded velocities\n",
    "    x_desired_dot[i+1,0] = -2*c*2*np.pi*np.sin(2*np.pi*t/t_run)/t_run+c*4*np.pi*np.sin(4*np.pi*t/t_run)/t_run;\n",
    "    x_desired_dot[i+1,1] =  2*c*2*np.pi*np.cos(2*np.pi*t/t_run)/t_run-c*4*np.pi*np.cos(4*np.pi*t/t_run)/t_run\n",
    "    \n",
    "    # tracking error\n",
    "    error_traced[i,:] = x_actual[i,0:2] - x_desired[i,:]\n",
    "    u[i,:] = np.matmul(np.linalg.pinv(np.matmul(Jacobian_2r(th[i,:2], robot_pars),\n",
    "                np.matmul(Crc,np.matmul(Bc,np.kron(np.identity(2),z[i,:]).T)))),\n",
    "                (x_desired_dot[i,:].T - np.matmul(Jacobian_2r(th[i,:2],robot_pars),\n",
    "                np.matmul(Crc,np.matmul(Ac,z[i,:].T))) - np.matmul(Jacobian_2r(th[i,:2],robot_pars),\n",
    "                np.matmul(Crc,rd[i,:].T)) \n",
    "                 - gamma_traced*error_traced[i,:].T))                                    \n",
    "    \n",
    "    \n",
    "    #u[i,:] = gamma_traced*error_traced[i,:].T # proportional control\n",
    "    # lifted state velocities\n",
    "    z_dot_est[i,:] = np.matmul(z[i,:],Ac.T) + np.matmul(np.kron(u[i,:],z[i,:]),Bc.T) + rd[i,:]\n",
    "    if i == 0:\n",
    "        z_dot_actual[i,:] = np.zeros((1,n_obs))\n",
    "    else:\n",
    "        z_dot_actual[i,:] = (z[i,:]-z[i-1,:])/dt\n",
    "    \n",
    "    rd_dot[i,:] = gamma_res*(z_dot_actual[i,:] - z_dot_est[i-1,:])\n",
    "    rd[i+1,:] = rd[i,:] + rd_dot[i,:]*dt\n",
    "    \n",
    "\n",
    "    \n",
    "   # next state raise\n",
    "    th[i+1,:2],th[i+1,2:] = dynamics_2R(dt, u[i,:], th[i,:2], th[i,2:], robot_pars)\n",
    "    z[i+1,:] = lift(th[i+1,:],model_koop_dnn, first_obs_const, override_C)\n",
    "    x_actual[i+1,:] = forward_map_2r(th[i+1,:2],robot_pars)\n",
    "    noise[i+1,:] = gen_noise(t,ep,x_actual[i+1,:],noise_nature)\n",
    "    x_actual[i+1,:] += noise[i+1,:]\n",
    "    \n",
    "    # model states\n",
    "    z_m[i+1,:] = z[i,:] + z_dot_est[i,:]*dt            \n",
    "    th_traced_full = np.matmul(z_m[i+1,:],Crc.T)\n",
    "    x_traced_full = forward_map_2r(th_traced_full[:2],robot_pars)\n",
    "    x_traced[i+1,:] = x_traced_full[:2]"
   ]
  },
  {
   "cell_type": "code",
   "execution_count": null,
   "metadata": {
    "collapsed": false,
    "jupyter": {
     "outputs_hidden": false
    },
    "pycharm": {
     "name": "#%%\n"
    }
   },
   "outputs": [],
   "source": [
    "print(A)"
   ]
  },
  {
   "cell_type": "code",
   "execution_count": null,
   "metadata": {
    "pycharm": {
     "name": "#%%\n"
    }
   },
   "outputs": [],
   "source": [
    "plt.figure()\n",
    "plt.plot(x_desired[:,0],x_desired[:,1],label ='desired')\n",
    "plt.plot(x_traced[:,0],x_traced[:,1],'r--',label = 'esimated(bilinear)', )\n",
    "plt.xlabel('x')\n",
    "plt.ylabel('y')\n",
    "plt.title('end effector position comparison')\n",
    "plt.legend()"
   ]
  },
  {
   "cell_type": "code",
   "execution_count": null,
   "metadata": {
    "pycharm": {
     "name": "#%%\n"
    }
   },
   "outputs": [],
   "source": [
    "plt.figure()\n",
    "plt.plot(x_desired[:,0],x_desired[:,1],label ='desired')\n",
    "plt.plot(x_actual[:,0],x_actual[:,1],'r--',label = 'Actual Model' )\n",
    "plt.xlabel('x')\n",
    "plt.ylabel('y')\n",
    "plt.title('end effector position comparison')\n",
    "plt.legend()"
   ]
  },
  {
   "cell_type": "code",
   "execution_count": null,
   "metadata": {
    "pycharm": {
     "name": "#%%\n"
    }
   },
   "outputs": [],
   "source": [
    "plt.figure()\n",
    "plt.plot(x_actual[:,0],x_actual[:,1],label ='Actual')\n",
    "plt.plot(x_traced[:,0],x_traced[:,1],'r--',label = 'esimated(bilinear)')\n",
    "plt.xlabel('x')\n",
    "plt.ylabel('y')\n",
    "plt.title('end effector position comparison')\n",
    "plt.legend()"
   ]
  },
  {
   "cell_type": "code",
   "execution_count": null,
   "metadata": {
    "pycharm": {
     "name": "#%%\n"
    }
   },
   "outputs": [],
   "source": [
    "u_norm = np.sqrt(np.square(u).mean(axis=1))"
   ]
  },
  {
   "cell_type": "code",
   "execution_count": null,
   "metadata": {
    "pycharm": {
     "name": "#%%\n"
    }
   },
   "outputs": [],
   "source": [
    "plt.figure()\n",
    "plt.plot(T[:-1],u_norm)\n",
    "plt.xlabel('t')\n",
    "plt.ylabel('||u||')\n",
    "plt.title('control norm evolution')"
   ]
  },
  {
   "cell_type": "code",
   "execution_count": null,
   "metadata": {
    "pycharm": {
     "name": "#%%\n"
    }
   },
   "outputs": [],
   "source": [
    "plt.figure()\n",
    "plt.plot(T,x_actual[:,0],label = 'x')\n",
    "plt.plot(T,x_actual[:,1],label = 'y')"
   ]
  },
  {
   "cell_type": "code",
   "execution_count": null,
   "metadata": {
    "pycharm": {
     "name": "#%%\n"
    }
   },
   "outputs": [],
   "source": [
    "error_model = np.sqrt(np.square(x_traced-x_actual[:,:2]).mean(axis=1))\n",
    "error_tracking = np.sqrt(np.square(x_actual[:,:2]-x_desired).mean(axis=1))"
   ]
  },
  {
   "cell_type": "code",
   "execution_count": null,
   "metadata": {
    "pycharm": {
     "name": "#%%\n"
    }
   },
   "outputs": [],
   "source": [
    "plt.figure()\n",
    "plt.plot(T[:],error_model)\n",
    "plt.xlabel('t')\n",
    "plt.ylabel('error_model')\n",
    "plt.title('model error evolution')"
   ]
  },
  {
   "cell_type": "code",
   "execution_count": null,
   "metadata": {
    "pycharm": {
     "name": "#%%\n"
    }
   },
   "outputs": [],
   "source": [
    "plt.figure()\n",
    "plt.plot(T[:],error_tracking)\n",
    "plt.xlabel('t')\n",
    "plt.ylabel('error_track')\n",
    "plt.title('tracking error evolution')"
   ]
  },
  {
   "cell_type": "code",
   "execution_count": null,
   "metadata": {
    "pycharm": {
     "name": "#%%\n"
    }
   },
   "outputs": [],
   "source": [
    "z_norm = np.sqrt(np.square(z).mean(axis=1))\n",
    "x_norm = np.sqrt(np.square(x_actual).mean(axis=1))\n",
    "noise_norm = np.sqrt(np.square(noise).mean(axis=1))"
   ]
  },
  {
   "cell_type": "code",
   "execution_count": null,
   "metadata": {
    "pycharm": {
     "name": "#%%\n"
    }
   },
   "outputs": [],
   "source": [
    "plt.figure()\n",
    "plt.plot(T[:],x_norm)\n",
    "plt.xlabel('t')\n",
    "plt.ylabel('||x||')\n",
    "plt.title('x norm evolution')"
   ]
  },
  {
   "cell_type": "code",
   "execution_count": null,
   "metadata": {
    "pycharm": {
     "name": "#%%\n"
    }
   },
   "outputs": [],
   "source": [
    "plt.figure()\n",
    "plt.plot(T[:],z_norm)\n",
    "plt.xlabel('t')\n",
    "plt.ylabel('||z||')\n",
    "plt.title('z norm evolution')"
   ]
  },
  {
   "cell_type": "code",
   "execution_count": null,
   "metadata": {
    "pycharm": {
     "name": "#%%\n"
    }
   },
   "outputs": [],
   "source": [
    "plt.figure()\n",
    "plt.plot(T[:],noise_norm)\n",
    "plt.xlabel('t')\n",
    "plt.ylabel('error_model')\n",
    "plt.title('noise norm evolution')"
   ]
  },
  {
   "cell_type": "code",
   "execution_count": null,
   "metadata": {
    "pycharm": {
     "name": "#%%\n"
    }
   },
   "outputs": [],
   "source": [
    "lift(np.array([-1,2,-3,7.4]),model_koop_dnn,first_obs_const,override_C)"
   ]
  },
  {
   "cell_type": "code",
   "execution_count": null,
   "metadata": {
    "collapsed": false,
    "jupyter": {
     "outputs_hidden": false
    },
    "pycharm": {
     "name": "#%%\n"
    }
   },
   "outputs": [],
   "source": []
  }
 ],
 "metadata": {
  "accelerator": "GPU",
  "colab": {
   "collapsed_sections": [],
   "name": "bilinear_autoenc_dynamic_theta_ip.ipynb",
   "provenance": []
  },
  "kernelspec": {
   "display_name": "Python 3 (ipykernel)",
   "language": "python",
   "name": "python3"
  },
  "language_info": {
   "codemirror_mode": {
    "name": "ipython",
    "version": 3
   },
   "file_extension": ".py",
   "mimetype": "text/x-python",
   "name": "python",
   "nbconvert_exporter": "python",
   "pygments_lexer": "ipython3",
   "version": "3.8.10"
  }
 },
 "nbformat": 4,
 "nbformat_minor": 4
}
