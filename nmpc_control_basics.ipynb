{
 "cells": [
  {
   "cell_type": "code",
   "execution_count": 1,
   "id": "e4df5703-f653-41df-bcad-fe2d46638439",
   "metadata": {
    "tags": []
   },
   "outputs": [],
   "source": [
    "import numpy as np \n",
    "import scipy as sp\n",
    "\n",
    "import control as ct\n",
    "from core.utility import Output_Con"
   ]
  },
  {
   "cell_type": "code",
   "execution_count": 2,
   "id": "da29dcd5-78cc-4969-90e5-4fbf223a25ca",
   "metadata": {
    "tags": []
   },
   "outputs": [],
   "source": [
    "A = np.array([[0, 1,0],\n",
    "             [0, 0, 1],\n",
    "             [0, -2, -3]])\n",
    "B = np.array([[0],[0],[1]]).reshape(-1,1)\n",
    "C = np.eye(3)"
   ]
  },
  {
   "cell_type": "code",
   "execution_count": 3,
   "id": "c35b1141-09f0-4548-bf2e-75a76b8f82ae",
   "metadata": {
    "tags": []
   },
   "outputs": [],
   "source": [
    "dt = 0.1"
   ]
  },
  {
   "cell_type": "code",
   "execution_count": 4,
   "id": "d2289bc3-0475-4efa-9ac1-1e2333dd3260",
   "metadata": {
    "tags": []
   },
   "outputs": [],
   "source": [
    "Ad = A*dt + np.eye(A.shape[0])\n",
    "Bd = B*dt\n",
    "Cd  = C"
   ]
  },
  {
   "cell_type": "code",
   "execution_count": 5,
   "id": "94daff81-cb57-45bb-8172-087563fa3d55",
   "metadata": {
    "tags": []
   },
   "outputs": [
    {
     "name": "stdout",
     "output_type": "stream",
     "text": [
      "Rank for state Controllability : 3\n",
      "Rank for Output Controllability : 3\n"
     ]
    }
   ],
   "source": [
    "Con = ct.ctrb(A,B)\n",
    "print(\"Rank for state Controllability :\", np.linalg.matrix_rank(Con))\n",
    "\n",
    "Out_con, Out_rank = Output_Con(A, B, C)\n",
    "print(\"Rank for Output Controllability :\", Out_rank)\n"
   ]
  },
  {
   "cell_type": "code",
   "execution_count": 6,
   "id": "e46da173-35a1-46f2-9a94-5d1f447666d9",
   "metadata": {
    "tags": []
   },
   "outputs": [],
   "source": [
    "# import the libraries\n",
    "from control_files.nmpc_osqp import NonlinearMPCController\n",
    "from dynamics.learned_models_control.linear_dynamics import linear_Dynamics"
   ]
  },
  {
   "cell_type": "code",
   "execution_count": 7,
   "id": "423ecfa7-6726-41d5-876a-7f01493be8e4",
   "metadata": {
    "tags": []
   },
   "outputs": [],
   "source": [
    "linear_model = linear_Dynamics(sp.sparse.csc_matrix(Ad), sp.sparse.csc_matrix(Bd), Cd)"
   ]
  },
  {
   "cell_type": "code",
   "execution_count": 8,
   "id": "f6f08f05-6c3f-4d9a-ab42-876cbc706cc3",
   "metadata": {
    "tags": []
   },
   "outputs": [],
   "source": [
    "solver_settings = {}\n",
    "solver_settings['gen_embedded_ctrl'] = False\n",
    "solver_settings['warm_start'] = True\n",
    "solver_settings['polish'] = True\n",
    "solver_settings['polish_refine_iter'] = 3\n",
    "solver_settings['scaling'] = True\n",
    "solver_settings['adaptive_rho'] = False\n",
    "solver_settings['check_termination'] = 25\n",
    "solver_settings['max_iter'] = 1000\n",
    "solver_settings['eps_abs'] = 1e-6\n",
    "solver_settings['eps_rel'] = 1e-6\n",
    "solver_settings['eps_prim_inf'] = 1e-4\n",
    "solver_settings['eps_dual_inf'] = 1e-4\n",
    "solver_settings['linsys_solver'] = 'qdldl'"
   ]
  },
  {
   "cell_type": "code",
   "execution_count": 9,
   "id": "484af9a5-c09d-438f-8e2e-1197b01b6c7c",
   "metadata": {
    "tags": []
   },
   "outputs": [],
   "source": [
    "# closed loop evaluevation parameters\n",
    "traj_length = 2000\n",
    "max_iter = 100\n",
    "N = 1\n",
    "t_eval = dt*np.arange(traj_length+1)\n",
    "num_input = 1"
   ]
  },
  {
   "cell_type": "code",
   "execution_count": 10,
   "id": "e2e69a06-25fd-4af7-9b0a-1f64da9e260b",
   "metadata": {
    "tags": []
   },
   "outputs": [],
   "source": [
    "Q_mpc = sp.sparse.diags([100,100,100])\n",
    "QN_mpc = sp.sparse.diags([1e3,1e3,1e3])\n",
    "R_mpc = 1*sp.sparse.eye(num_input)                                     # Actuation penalty matrix, trajectory generation\n",
    "R0_mpc = sp.sparse.csc_matrix(np.zeros(num_input))"
   ]
  },
  {
   "cell_type": "code",
   "execution_count": 11,
   "id": "663383ad-8af8-4f79-a4d9-dc42ec7dafc7",
   "metadata": {
    "tags": []
   },
   "outputs": [],
   "source": [
    "\n",
    "# Design trajectory:\n",
    "x0 = np.array([-0.2, 0.1, 0.3])                   # Initial value, closed loop trajectory\n",
    "set_pt = np.array([0, 0, 0])              # Desired final value, closed loop trajectory\n",
    "x_ref = np.tile(set_pt.reshape(-1,1), (1, traj_length))\n",
    "xmax = np.array([5, 5,5])                          # State constraints, trajectory generation\n",
    "xmin = -xmax\n",
    "umax = 10\n",
    "umin = -umax\n",
    "\n",
    "# Define initial solution for SQP algorithm:\n",
    "x_init = np.linspace(x0, x0, N+1)\n",
    "u_init = 1*np.ones((num_input, N)).T\n",
    "z_init = x_init"
   ]
  },
  {
   "cell_type": "code",
   "execution_count": 12,
   "id": "0473c12e-f707-47c7-81f6-a5c3f7bf34b7",
   "metadata": {
    "tags": []
   },
   "outputs": [
    {
     "name": "stdout",
     "output_type": "stream",
     "text": [
      "(6, 7) (1, 7) (6, 7)\n"
     ]
    }
   ],
   "source": [
    "controller_nmpc = NonlinearMPCController(linear_model, N, dt, umin, umax, xmin, xmax, Q_mpc, R_mpc, QN_mpc, solver_settings)\n",
    "controller_nmpc.construct_controller(z_init, u_init,x_ref[:,0])"
   ]
  },
  {
   "cell_type": "code",
   "execution_count": 13,
   "id": "fee6e6ff-b78e-47f9-a3ec-6bcc807abedf",
   "metadata": {
    "tags": []
   },
   "outputs": [
    {
     "name": "stdout",
     "output_type": "stream",
     "text": [
      "(13, 7)\n",
      "(13,)\n",
      "(7, 7)\n",
      "(7,)\n"
     ]
    }
   ],
   "source": [
    "print(controller_nmpc._osqp_A.shape)\n",
    "print(controller_nmpc._osqp_l.shape)\n",
    "print(controller_nmpc._osqp_P.shape)\n",
    "print(controller_nmpc._osqp_q.shape)"
   ]
  },
  {
   "cell_type": "code",
   "execution_count": 14,
   "id": "11288fd6-7d60-4899-97ef-6254b4bf525e",
   "metadata": {},
   "outputs": [
    {
     "name": "stdout",
     "output_type": "stream",
     "text": [
      "3\n",
      "3\n",
      "1\n"
     ]
    }
   ],
   "source": [
    "print(controller_nmpc.nz)\n",
    "print(controller_nmpc.nx)\n",
    "print(controller_nmpc.nu)"
   ]
  },
  {
   "cell_type": "code",
   "execution_count": 15,
   "id": "56bf6df6-d7a5-458e-99bd-3d3e1108d4ea",
   "metadata": {},
   "outputs": [
    {
     "ename": "NameError",
     "evalue": "name 'z0' is not defined",
     "output_type": "error",
     "traceback": [
      "\u001b[0;31m---------------------------------------------------------------------------\u001b[0m",
      "\u001b[0;31mNameError\u001b[0m                                 Traceback (most recent call last)",
      "Cell \u001b[0;32mIn [15], line 1\u001b[0m\n\u001b[0;32m----> 1\u001b[0m controller_nmpc\u001b[38;5;241m.\u001b[39mtrajectory_tracking(x0, \u001b[43mz0\u001b[49m, x_ref\u001b[38;5;241m.\u001b[39mT, max_iter)\n",
      "\u001b[0;31mNameError\u001b[0m: name 'z0' is not defined"
     ]
    }
   ],
   "source": []
  },
  {
   "cell_type": "code",
   "execution_count": null,
   "id": "e8f74955-2b19-49c9-bd1a-121a426125aa",
   "metadata": {},
   "outputs": [],
   "source": []
  },
  {
   "cell_type": "code",
   "execution_count": null,
   "id": "e82b2b8e-c01f-4159-93fb-e5edb50eb5f3",
   "metadata": {},
   "outputs": [],
   "source": []
  }
 ],
 "metadata": {
  "kernelspec": {
   "display_name": "Python 3 (ipykernel)",
   "language": "python",
   "name": "python3"
  },
  "language_info": {
   "codemirror_mode": {
    "name": "ipython",
    "version": 3
   },
   "file_extension": ".py",
   "mimetype": "text/x-python",
   "name": "python",
   "nbconvert_exporter": "python",
   "pygments_lexer": "ipython3",
   "version": "3.8.10"
  }
 },
 "nbformat": 4,
 "nbformat_minor": 5
}
