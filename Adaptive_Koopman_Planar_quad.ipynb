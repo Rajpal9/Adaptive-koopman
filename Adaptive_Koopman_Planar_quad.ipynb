{
 "cells": [
  {
   "cell_type": "code",
   "execution_count": 1,
   "id": "40564ab0-2d8a-4f31-890c-f182661ead2f",
   "metadata": {},
   "outputs": [],
   "source": [
    "# import libraries\n",
    "import math\n",
    "import numpy as np\n",
    "import matplotlib.pyplot as plt\n",
    "import sklearn.preprocessing\n",
    "import itertools\n",
    "import torch\n",
    "import random\n",
    "import time\n",
    "import os\n",
    "import gym\n",
    "import tqdm\n",
    "\n",
    "# import Koopman Libraries\n",
    "from core.koopman_core_linear import KoopDNN_linear, KoopmanNet_linear, KoopmanNetCtrl_linear\n",
    "from sklearn import preprocessing\n",
    "from core.util import fit_standardizer\n",
    "from models.koop_model import model_matricies,lift\n",
    "\n",
    "# drone_dynamics\n",
    "from dynamics.quadsim_2d import QuadSim\n",
    "\n",
    "# Import Adaptive Koopman\n",
    "from core.adapt_net_linear import AdaptNet_linear\n",
    "import scipy.io\n",
    "import scipy.integrate as integrate"
   ]
  },
  {
   "cell_type": "code",
   "execution_count": 2,
   "id": "cd6d0465-b7d6-405e-88bf-77a98ffaa95e",
   "metadata": {},
   "outputs": [],
   "source": [
    "# quad pars # curently not in play\n",
    "quad_params = {}\n",
    "quad_params['m'] = 2\n",
    "quad_params['Ixx'] = 1#0.02\n",
    "quad_params[\"g\"] = 9.81\n",
    "quad_params[\"L\"] = 0.2\n",
    "\n",
    "# quad parameters changed\n",
    "quad_params_changed = {}\n",
    "quad_params_changed['m'] = 2.3 # 2.2\n",
    "quad_params_changed['Ixx'] = 1 #0.02\n",
    "quad_params_changed[\"g\"] = 9.81\n",
    "quad_params_changed[\"L\"] = 0.2\n"
   ]
  },
  {
   "cell_type": "code",
   "execution_count": 3,
   "id": "2d4f56f9-cb3d-41f5-a36f-38322b1187ac",
   "metadata": {},
   "outputs": [
    {
     "name": "stdout",
     "output_type": "stream",
     "text": [
      "10.262164226633699\n",
      "9.199213601288871\n"
     ]
    },
    {
     "name": "stderr",
     "output_type": "stream",
     "text": [
      "/home/rajpal/.local/lib/python3.8/site-packages/gym/spaces/box.py:127: UserWarning: \u001b[33mWARN: Box bound precision lowered by casting to float32\u001b[0m\n",
      "  logger.warn(f\"Box bound precision lowered by casting to {self.dtype}\")\n"
     ]
    }
   ],
   "source": [
    "# load drone\n",
    "env = QuadSim(quad_params)\n",
    "env_changed = QuadSim(quad_params_changed)\n",
    "\n",
    "# Train\n",
    "train = False\n",
    "\n",
    "# data generation parameters\n",
    "dt = env.dt\n",
    "num_train = 100 # no. of training examples\n",
    "num_val = int(0.25*num_train) # no of testing examples\n",
    "num_traj = num_train+num_val\n",
    "num_snaps = 200*3 #1000-> 5sec of data ... (1000/200)\n",
    "num_states = 6\n",
    "num_inputs = 2\n",
    "T = np.linspace(0,num_snaps*dt,num_snaps+1)"
   ]
  },
  {
   "cell_type": "code",
   "execution_count": 5,
   "id": "f155f2dc-2d30-4a88-82a8-40f6252a7c51",
   "metadata": {},
   "outputs": [
    {
     "name": "stderr",
     "output_type": "stream",
     "text": [
      " 10%|████▎                                     | 13/125 [00:05<00:44,  2.50it/s]capi_return is NULL\n",
      "Call-back cb_calcfc_in__cobyla__user__routines failed.\n",
      " 10%|████▎                                     | 13/125 [00:05<00:43,  2.58it/s]\n"
     ]
    },
    {
     "ename": "LinAlgError",
     "evalue": "Singular matrix",
     "output_type": "error",
     "traceback": [
      "\u001b[0;31m---------------------------------------------------------------------------\u001b[0m",
      "\u001b[0;31mLinAlgError\u001b[0m                               Traceback (most recent call last)",
      "Cell \u001b[0;32mIn[5], line 10\u001b[0m\n\u001b[1;32m      8\u001b[0m action_plt \u001b[38;5;241m=\u001b[39m []\n\u001b[1;32m      9\u001b[0m \u001b[38;5;28;01mfor\u001b[39;00m i \u001b[38;5;129;01min\u001b[39;00m tqdm\u001b[38;5;241m.\u001b[39mtqdm(\u001b[38;5;28mrange\u001b[39m(num_traj)):\n\u001b[0;32m---> 10\u001b[0m     obs \u001b[38;5;241m=\u001b[39m \u001b[43menv\u001b[49m\u001b[38;5;241;43m.\u001b[39;49m\u001b[43mreset\u001b[49m\u001b[43m(\u001b[49m\u001b[43m)\u001b[49m\n\u001b[1;32m     11\u001b[0m     done \u001b[38;5;241m=\u001b[39m \u001b[38;5;28;01mFalse\u001b[39;00m\n\u001b[1;32m     13\u001b[0m     \u001b[38;5;66;03m# with open(\"/home/rajpal/koopman/linear_drone_koopman/Trajectory/traj_{}.csv\".format(i+1), \"w\") as f:\u001b[39;00m\n\u001b[1;32m     14\u001b[0m     \u001b[38;5;66;03m#     f.write(\"t,x,y,z,roll,pitch,yaw,vx,vy,vz,roll_rate,pitch_rate,yaw_rate,U,Mx,My,Mz\\n\")\u001b[39;00m\n\u001b[1;32m     15\u001b[0m          \u001b[38;5;66;03m# X[i,0,:] = env.Quadrotor.get_state()\u001b[39;00m\n\u001b[1;32m     16\u001b[0m \u001b[38;5;66;03m#         print(X[i,0,0],X[i,0,1],X[i,0,2],X[i,0,3],X[i,0,4],X[i,0,5],X[i,0,6],X[i,0,7],X[i,0,8],X[i,0,9],X[i,0,10],X[i,0,11])\u001b[39;00m\n\u001b[1;32m     17\u001b[0m         \u001b[38;5;66;03m# f.write(\"{},{},{},{},{},{},{},{},{},{},{},{},{}\\n\".format(env.t, X[i,0,0], X[i,0,1], X[i,0,2], X[i,0,3], X[i,0,4], X[i,0,5], X[i,0,6], X[i,0,7], X[i,0,8], X[i,0,9], X[i,0,10], X[i,0,11]))\u001b[39;00m\n",
      "File \u001b[0;32m~/Projects/Adaptive-koopman/dynamics/quadsim_2d.py:303\u001b[0m, in \u001b[0;36mQuadSim.reset\u001b[0;34m(self)\u001b[0m\n\u001b[1;32m    299\u001b[0m waypoints \u001b[38;5;241m=\u001b[39m random_traj_2d(np\u001b[38;5;241m.\u001b[39mappend(np\u001b[38;5;241m.\u001b[39marray([\u001b[38;5;241m0\u001b[39m]), np\u001b[38;5;241m.\u001b[39marray([random\u001b[38;5;241m.\u001b[39muniform(\u001b[38;5;241m-\u001b[39m\u001b[38;5;241m2\u001b[39m,\u001b[38;5;241m2\u001b[39m), random\u001b[38;5;241m.\u001b[39muniform(\u001b[38;5;241m-\u001b[39m\u001b[38;5;241m2\u001b[39m,\u001b[38;5;241m2\u001b[39m)])), \u001b[38;5;241m3\u001b[39m)\u001b[38;5;66;03m#lemniscate()#line()#Helix_waypoints(5)#\u001b[39;00m\n\u001b[1;32m    300\u001b[0m \u001b[38;5;66;03m#waypoints = random_traj_2d(np.append(np.array([0]), np.array(random.sample(range(-10,10),2))), 1) #line()\u001b[39;00m\n\u001b[1;32m    301\u001b[0m \n\u001b[1;32m    302\u001b[0m \u001b[38;5;66;03m#Generate trajectory through waypoints\u001b[39;00m\n\u001b[0;32m--> 303\u001b[0m traj \u001b[38;5;241m=\u001b[39m \u001b[43mtrajGenerator\u001b[49m\u001b[43m(\u001b[49m\u001b[43mwaypoints\u001b[49m\u001b[43m,\u001b[49m\u001b[43mmax_vel\u001b[49m\u001b[43m \u001b[49m\u001b[38;5;241;43m=\u001b[39;49m\u001b[43m \u001b[49m\u001b[38;5;241;43m3\u001b[39;49m\u001b[43m,\u001b[49m\u001b[43mgamma\u001b[49m\u001b[43m \u001b[49m\u001b[38;5;241;43m=\u001b[39;49m\u001b[43m \u001b[49m\u001b[38;5;241;43m100\u001b[39;49m\u001b[43m)\u001b[49m\n\u001b[1;32m    305\u001b[0m \u001b[38;5;66;03m#initialise simulation with given controller and trajectory\u001b[39;00m\n\u001b[1;32m    306\u001b[0m \u001b[38;5;28mself\u001b[39m\u001b[38;5;241m.\u001b[39mTmax \u001b[38;5;241m=\u001b[39m traj\u001b[38;5;241m.\u001b[39mTS[\u001b[38;5;241m-\u001b[39m\u001b[38;5;241m1\u001b[39m]\n",
      "File \u001b[0;32m~/Projects/Adaptive-koopman/dynamics/TrajGen/trajGen.py:16\u001b[0m, in \u001b[0;36mtrajGenerator.__init__\u001b[0;34m(self, waypoints, max_vel, gamma)\u001b[0m\n\u001b[1;32m     14\u001b[0m \u001b[38;5;28mself\u001b[39m\u001b[38;5;241m.\u001b[39mlen \u001b[38;5;241m=\u001b[39m \u001b[38;5;28mlen\u001b[39m\n\u001b[1;32m     15\u001b[0m \u001b[38;5;28mself\u001b[39m\u001b[38;5;241m.\u001b[39mTS \u001b[38;5;241m=\u001b[39m np\u001b[38;5;241m.\u001b[39mzeros(\u001b[38;5;28mself\u001b[39m\u001b[38;5;241m.\u001b[39mlen)\n\u001b[0;32m---> 16\u001b[0m \u001b[38;5;28;43mself\u001b[39;49m\u001b[38;5;241;43m.\u001b[39;49m\u001b[43moptimize\u001b[49m\u001b[43m(\u001b[49m\u001b[43m)\u001b[49m\n\u001b[1;32m     17\u001b[0m \u001b[38;5;28mself\u001b[39m\u001b[38;5;241m.\u001b[39myaw \u001b[38;5;241m=\u001b[39m \u001b[38;5;241m0\u001b[39m\n\u001b[1;32m     18\u001b[0m \u001b[38;5;28mself\u001b[39m\u001b[38;5;241m.\u001b[39mheading \u001b[38;5;241m=\u001b[39m np\u001b[38;5;241m.\u001b[39mzeros(\u001b[38;5;241m2\u001b[39m)\n",
      "File \u001b[0;32m~/Projects/Adaptive-koopman/dynamics/TrajGen/trajGen.py:28\u001b[0m, in \u001b[0;36mtrajGenerator.optimize\u001b[0;34m(self)\u001b[0m\n\u001b[1;32m     26\u001b[0m diff \u001b[38;5;241m=\u001b[39m \u001b[38;5;28mself\u001b[39m\u001b[38;5;241m.\u001b[39mwaypoints[\u001b[38;5;241m0\u001b[39m:\u001b[38;5;241m-\u001b[39m\u001b[38;5;241m1\u001b[39m] \u001b[38;5;241m-\u001b[39m \u001b[38;5;28mself\u001b[39m\u001b[38;5;241m.\u001b[39mwaypoints[\u001b[38;5;241m1\u001b[39m:]\n\u001b[1;32m     27\u001b[0m Tmin \u001b[38;5;241m=\u001b[39m LA\u001b[38;5;241m.\u001b[39mnorm(diff,axis \u001b[38;5;241m=\u001b[39m \u001b[38;5;241m-\u001b[39m\u001b[38;5;241m1\u001b[39m)\u001b[38;5;241m/\u001b[39m\u001b[38;5;28mself\u001b[39m\u001b[38;5;241m.\u001b[39mmax_vel\n\u001b[0;32m---> 28\u001b[0m T \u001b[38;5;241m=\u001b[39m \u001b[43moptimize\u001b[49m\u001b[38;5;241;43m.\u001b[39;49m\u001b[43mminimize\u001b[49m\u001b[43m(\u001b[49m\u001b[38;5;28;43mself\u001b[39;49m\u001b[38;5;241;43m.\u001b[39;49m\u001b[43mget_cost\u001b[49m\u001b[43m,\u001b[49m\u001b[43mTmin\u001b[49m\u001b[43m,\u001b[49m\u001b[43m \u001b[49m\u001b[43mmethod\u001b[49m\u001b[38;5;241;43m=\u001b[39;49m\u001b[38;5;124;43m\"\u001b[39;49m\u001b[38;5;124;43mCOBYLA\u001b[39;49m\u001b[38;5;124;43m\"\u001b[39;49m\u001b[43m,\u001b[49m\u001b[43mconstraints\u001b[49m\u001b[38;5;241;43m=\u001b[39;49m\u001b[43m \u001b[49m\u001b[43m(\u001b[49m\u001b[43m{\u001b[49m\u001b[38;5;124;43m'\u001b[39;49m\u001b[38;5;124;43mtype\u001b[39;49m\u001b[38;5;124;43m'\u001b[39;49m\u001b[43m:\u001b[49m\u001b[43m \u001b[49m\u001b[38;5;124;43m'\u001b[39;49m\u001b[38;5;124;43mineq\u001b[39;49m\u001b[38;5;124;43m'\u001b[39;49m\u001b[43m,\u001b[49m\u001b[43m \u001b[49m\u001b[38;5;124;43m'\u001b[39;49m\u001b[38;5;124;43mfun\u001b[39;49m\u001b[38;5;124;43m'\u001b[39;49m\u001b[43m:\u001b[49m\u001b[43m \u001b[49m\u001b[38;5;28;43;01mlambda\u001b[39;49;00m\u001b[43m \u001b[49m\u001b[43mT\u001b[49m\u001b[43m:\u001b[49m\u001b[43m \u001b[49m\u001b[43mT\u001b[49m\u001b[38;5;241;43m-\u001b[39;49m\u001b[43mTmin\u001b[49m\u001b[43m}\u001b[49m\u001b[43m)\u001b[49m\u001b[43m)\u001b[49m[\u001b[38;5;124m'\u001b[39m\u001b[38;5;124mx\u001b[39m\u001b[38;5;124m'\u001b[39m]\n\u001b[1;32m     30\u001b[0m \u001b[38;5;28mself\u001b[39m\u001b[38;5;241m.\u001b[39mTS[\u001b[38;5;241m1\u001b[39m:] \u001b[38;5;241m=\u001b[39m np\u001b[38;5;241m.\u001b[39mcumsum(T)\n\u001b[1;32m     31\u001b[0m \u001b[38;5;28mself\u001b[39m\u001b[38;5;241m.\u001b[39mcoeffs, \u001b[38;5;28mself\u001b[39m\u001b[38;5;241m.\u001b[39mcost \u001b[38;5;241m=\u001b[39m \u001b[38;5;28mself\u001b[39m\u001b[38;5;241m.\u001b[39mMinimizeSnap(T)\n",
      "File \u001b[0;32m~/.local/lib/python3.8/site-packages/scipy/optimize/_minimize.py:702\u001b[0m, in \u001b[0;36mminimize\u001b[0;34m(fun, x0, args, method, jac, hess, hessp, bounds, constraints, tol, callback, options)\u001b[0m\n\u001b[1;32m    699\u001b[0m     res \u001b[38;5;241m=\u001b[39m _minimize_tnc(fun, x0, args, jac, bounds, callback\u001b[38;5;241m=\u001b[39mcallback,\n\u001b[1;32m    700\u001b[0m                         \u001b[38;5;241m*\u001b[39m\u001b[38;5;241m*\u001b[39moptions)\n\u001b[1;32m    701\u001b[0m \u001b[38;5;28;01melif\u001b[39;00m meth \u001b[38;5;241m==\u001b[39m \u001b[38;5;124m'\u001b[39m\u001b[38;5;124mcobyla\u001b[39m\u001b[38;5;124m'\u001b[39m:\n\u001b[0;32m--> 702\u001b[0m     res \u001b[38;5;241m=\u001b[39m \u001b[43m_minimize_cobyla\u001b[49m\u001b[43m(\u001b[49m\u001b[43mfun\u001b[49m\u001b[43m,\u001b[49m\u001b[43m \u001b[49m\u001b[43mx0\u001b[49m\u001b[43m,\u001b[49m\u001b[43m \u001b[49m\u001b[43margs\u001b[49m\u001b[43m,\u001b[49m\u001b[43m \u001b[49m\u001b[43mconstraints\u001b[49m\u001b[43m,\u001b[49m\u001b[43m \u001b[49m\u001b[43mcallback\u001b[49m\u001b[38;5;241;43m=\u001b[39;49m\u001b[43mcallback\u001b[49m\u001b[43m,\u001b[49m\n\u001b[1;32m    703\u001b[0m \u001b[43m                            \u001b[49m\u001b[38;5;241;43m*\u001b[39;49m\u001b[38;5;241;43m*\u001b[39;49m\u001b[43moptions\u001b[49m\u001b[43m)\u001b[49m\n\u001b[1;32m    704\u001b[0m \u001b[38;5;28;01melif\u001b[39;00m meth \u001b[38;5;241m==\u001b[39m \u001b[38;5;124m'\u001b[39m\u001b[38;5;124mslsqp\u001b[39m\u001b[38;5;124m'\u001b[39m:\n\u001b[1;32m    705\u001b[0m     res \u001b[38;5;241m=\u001b[39m _minimize_slsqp(fun, x0, args, jac, bounds,\n\u001b[1;32m    706\u001b[0m                           constraints, callback\u001b[38;5;241m=\u001b[39mcallback, \u001b[38;5;241m*\u001b[39m\u001b[38;5;241m*\u001b[39moptions)\n",
      "File \u001b[0;32m~/.local/lib/python3.8/site-packages/scipy/optimize/_cobyla_py.py:34\u001b[0m, in \u001b[0;36msynchronized.<locals>.wrapper\u001b[0;34m(*args, **kwargs)\u001b[0m\n\u001b[1;32m     31\u001b[0m \u001b[38;5;129m@functools\u001b[39m\u001b[38;5;241m.\u001b[39mwraps(func)\n\u001b[1;32m     32\u001b[0m \u001b[38;5;28;01mdef\u001b[39;00m \u001b[38;5;21mwrapper\u001b[39m(\u001b[38;5;241m*\u001b[39margs, \u001b[38;5;241m*\u001b[39m\u001b[38;5;241m*\u001b[39mkwargs):\n\u001b[1;32m     33\u001b[0m     \u001b[38;5;28;01mwith\u001b[39;00m _module_lock:\n\u001b[0;32m---> 34\u001b[0m         \u001b[38;5;28;01mreturn\u001b[39;00m \u001b[43mfunc\u001b[49m\u001b[43m(\u001b[49m\u001b[38;5;241;43m*\u001b[39;49m\u001b[43margs\u001b[49m\u001b[43m,\u001b[49m\u001b[43m \u001b[49m\u001b[38;5;241;43m*\u001b[39;49m\u001b[38;5;241;43m*\u001b[39;49m\u001b[43mkwargs\u001b[49m\u001b[43m)\u001b[49m\n",
      "File \u001b[0;32m~/.local/lib/python3.8/site-packages/scipy/optimize/_cobyla_py.py:270\u001b[0m, in \u001b[0;36m_minimize_cobyla\u001b[0;34m(fun, x0, args, constraints, rhobeg, tol, maxiter, disp, catol, callback, **unknown_options)\u001b[0m\n\u001b[1;32m    267\u001b[0m         callback(np\u001b[38;5;241m.\u001b[39mcopy(x))\n\u001b[1;32m    269\u001b[0m info \u001b[38;5;241m=\u001b[39m np\u001b[38;5;241m.\u001b[39mzeros(\u001b[38;5;241m4\u001b[39m, np\u001b[38;5;241m.\u001b[39mfloat64)\n\u001b[0;32m--> 270\u001b[0m xopt, info \u001b[38;5;241m=\u001b[39m \u001b[43mcobyla\u001b[49m\u001b[38;5;241;43m.\u001b[39;49m\u001b[43mminimize\u001b[49m\u001b[43m(\u001b[49m\u001b[43mcalcfc\u001b[49m\u001b[43m,\u001b[49m\u001b[43m \u001b[49m\u001b[43mm\u001b[49m\u001b[38;5;241;43m=\u001b[39;49m\u001b[43mm\u001b[49m\u001b[43m,\u001b[49m\u001b[43m \u001b[49m\u001b[43mx\u001b[49m\u001b[38;5;241;43m=\u001b[39;49m\u001b[43mnp\u001b[49m\u001b[38;5;241;43m.\u001b[39;49m\u001b[43mcopy\u001b[49m\u001b[43m(\u001b[49m\u001b[43mx0\u001b[49m\u001b[43m)\u001b[49m\u001b[43m,\u001b[49m\u001b[43m \u001b[49m\u001b[43mrhobeg\u001b[49m\u001b[38;5;241;43m=\u001b[39;49m\u001b[43mrhobeg\u001b[49m\u001b[43m,\u001b[49m\n\u001b[1;32m    271\u001b[0m \u001b[43m                              \u001b[49m\u001b[43mrhoend\u001b[49m\u001b[38;5;241;43m=\u001b[39;49m\u001b[43mrhoend\u001b[49m\u001b[43m,\u001b[49m\u001b[43m \u001b[49m\u001b[43miprint\u001b[49m\u001b[38;5;241;43m=\u001b[39;49m\u001b[43miprint\u001b[49m\u001b[43m,\u001b[49m\u001b[43m \u001b[49m\u001b[43mmaxfun\u001b[49m\u001b[38;5;241;43m=\u001b[39;49m\u001b[43mmaxfun\u001b[49m\u001b[43m,\u001b[49m\n\u001b[1;32m    272\u001b[0m \u001b[43m                              \u001b[49m\u001b[43mdinfo\u001b[49m\u001b[38;5;241;43m=\u001b[39;49m\u001b[43minfo\u001b[49m\u001b[43m,\u001b[49m\u001b[43m \u001b[49m\u001b[43mcallback\u001b[49m\u001b[38;5;241;43m=\u001b[39;49m\u001b[43mwrapped_callback\u001b[49m\u001b[43m)\u001b[49m\n\u001b[1;32m    274\u001b[0m \u001b[38;5;28;01mif\u001b[39;00m info[\u001b[38;5;241m3\u001b[39m] \u001b[38;5;241m>\u001b[39m catol:\n\u001b[1;32m    275\u001b[0m     \u001b[38;5;66;03m# Check constraint violation\u001b[39;00m\n\u001b[1;32m    276\u001b[0m     info[\u001b[38;5;241m0\u001b[39m] \u001b[38;5;241m=\u001b[39m \u001b[38;5;241m4\u001b[39m\n",
      "File \u001b[0;32m~/.local/lib/python3.8/site-packages/scipy/optimize/_cobyla_py.py:258\u001b[0m, in \u001b[0;36m_minimize_cobyla.<locals>.calcfc\u001b[0;34m(x, con)\u001b[0m\n\u001b[1;32m    257\u001b[0m \u001b[38;5;28;01mdef\u001b[39;00m \u001b[38;5;21mcalcfc\u001b[39m(x, con):\n\u001b[0;32m--> 258\u001b[0m     f \u001b[38;5;241m=\u001b[39m \u001b[43mfun\u001b[49m\u001b[43m(\u001b[49m\u001b[43mnp\u001b[49m\u001b[38;5;241;43m.\u001b[39;49m\u001b[43mcopy\u001b[49m\u001b[43m(\u001b[49m\u001b[43mx\u001b[49m\u001b[43m)\u001b[49m\u001b[43m,\u001b[49m\u001b[43m \u001b[49m\u001b[38;5;241;43m*\u001b[39;49m\u001b[43margs\u001b[49m\u001b[43m)\u001b[49m\n\u001b[1;32m    259\u001b[0m     i \u001b[38;5;241m=\u001b[39m \u001b[38;5;241m0\u001b[39m\n\u001b[1;32m    260\u001b[0m     \u001b[38;5;28;01mfor\u001b[39;00m size, c \u001b[38;5;129;01min\u001b[39;00m izip(cons_lengths, constraints):\n",
      "File \u001b[0;32m~/Projects/Adaptive-koopman/dynamics/TrajGen/trajGen.py:21\u001b[0m, in \u001b[0;36mtrajGenerator.get_cost\u001b[0;34m(self, T)\u001b[0m\n\u001b[1;32m     20\u001b[0m \u001b[38;5;28;01mdef\u001b[39;00m \u001b[38;5;21mget_cost\u001b[39m(\u001b[38;5;28mself\u001b[39m,T):\n\u001b[0;32m---> 21\u001b[0m     coeffs,cost \u001b[38;5;241m=\u001b[39m \u001b[38;5;28;43mself\u001b[39;49m\u001b[38;5;241;43m.\u001b[39;49m\u001b[43mMinimizeSnap\u001b[49m\u001b[43m(\u001b[49m\u001b[43mT\u001b[49m\u001b[43m)\u001b[49m\n\u001b[1;32m     22\u001b[0m     cost \u001b[38;5;241m=\u001b[39m cost \u001b[38;5;241m+\u001b[39m \u001b[38;5;28mself\u001b[39m\u001b[38;5;241m.\u001b[39mgamma\u001b[38;5;241m*\u001b[39mnp\u001b[38;5;241m.\u001b[39msum(T)\n\u001b[1;32m     23\u001b[0m     \u001b[38;5;28;01mreturn\u001b[39;00m cost\n",
      "File \u001b[0;32m~/Projects/Adaptive-koopman/dynamics/TrajGen/trajGen.py:40\u001b[0m, in \u001b[0;36mtrajGenerator.MinimizeSnap\u001b[0;34m(self, T)\u001b[0m\n\u001b[1;32m     37\u001b[0m Q \u001b[38;5;241m=\u001b[39m Hessian(T)\n\u001b[1;32m     38\u001b[0m A,B \u001b[38;5;241m=\u001b[39m \u001b[38;5;28mself\u001b[39m\u001b[38;5;241m.\u001b[39mget_constraints(T)\n\u001b[0;32m---> 40\u001b[0m invA \u001b[38;5;241m=\u001b[39m \u001b[43mLA\u001b[49m\u001b[38;5;241;43m.\u001b[39;49m\u001b[43minv\u001b[49m\u001b[43m(\u001b[49m\u001b[43mA\u001b[49m\u001b[43m)\u001b[49m\n\u001b[1;32m     42\u001b[0m \u001b[38;5;28;01mif\u001b[39;00m unkns \u001b[38;5;241m!=\u001b[39m \u001b[38;5;241m0\u001b[39m:\n\u001b[1;32m     43\u001b[0m     R \u001b[38;5;241m=\u001b[39m invA\u001b[38;5;241m.\u001b[39mT\u001b[38;5;129m@Q\u001b[39m\u001b[38;5;129m@invA\u001b[39m\n",
      "File \u001b[0;32m<__array_function__ internals>:180\u001b[0m, in \u001b[0;36minv\u001b[0;34m(*args, **kwargs)\u001b[0m\n",
      "File \u001b[0;32m~/.local/lib/python3.8/site-packages/numpy/linalg/linalg.py:552\u001b[0m, in \u001b[0;36minv\u001b[0;34m(a)\u001b[0m\n\u001b[1;32m    550\u001b[0m signature \u001b[38;5;241m=\u001b[39m \u001b[38;5;124m'\u001b[39m\u001b[38;5;124mD->D\u001b[39m\u001b[38;5;124m'\u001b[39m \u001b[38;5;28;01mif\u001b[39;00m isComplexType(t) \u001b[38;5;28;01melse\u001b[39;00m \u001b[38;5;124m'\u001b[39m\u001b[38;5;124md->d\u001b[39m\u001b[38;5;124m'\u001b[39m\n\u001b[1;32m    551\u001b[0m extobj \u001b[38;5;241m=\u001b[39m get_linalg_error_extobj(_raise_linalgerror_singular)\n\u001b[0;32m--> 552\u001b[0m ainv \u001b[38;5;241m=\u001b[39m \u001b[43m_umath_linalg\u001b[49m\u001b[38;5;241;43m.\u001b[39;49m\u001b[43minv\u001b[49m\u001b[43m(\u001b[49m\u001b[43ma\u001b[49m\u001b[43m,\u001b[49m\u001b[43m \u001b[49m\u001b[43msignature\u001b[49m\u001b[38;5;241;43m=\u001b[39;49m\u001b[43msignature\u001b[49m\u001b[43m,\u001b[49m\u001b[43m \u001b[49m\u001b[43mextobj\u001b[49m\u001b[38;5;241;43m=\u001b[39;49m\u001b[43mextobj\u001b[49m\u001b[43m)\u001b[49m\n\u001b[1;32m    553\u001b[0m \u001b[38;5;28;01mreturn\u001b[39;00m wrap(ainv\u001b[38;5;241m.\u001b[39mastype(result_t, copy\u001b[38;5;241m=\u001b[39m\u001b[38;5;28;01mFalse\u001b[39;00m))\n",
      "File \u001b[0;32m~/.local/lib/python3.8/site-packages/numpy/linalg/linalg.py:89\u001b[0m, in \u001b[0;36m_raise_linalgerror_singular\u001b[0;34m(err, flag)\u001b[0m\n\u001b[1;32m     88\u001b[0m \u001b[38;5;28;01mdef\u001b[39;00m \u001b[38;5;21m_raise_linalgerror_singular\u001b[39m(err, flag):\n\u001b[0;32m---> 89\u001b[0m     \u001b[38;5;28;01mraise\u001b[39;00m LinAlgError(\u001b[38;5;124m\"\u001b[39m\u001b[38;5;124mSingular matrix\u001b[39m\u001b[38;5;124m\"\u001b[39m)\n",
      "\u001b[0;31mLinAlgError\u001b[0m: Singular matrix"
     ]
    }
   ],
   "source": [
    "# generate data\n",
    "X = np.empty((num_traj,num_snaps+1,num_states)) # cartesian state matrix\n",
    "# X_des = np.empty((num_traj,num_snaps,num_states)) # cartesian state matrix\n",
    "U = np.empty((num_traj,num_snaps,num_inputs)) # input matrix\n",
    "curr_state = []\n",
    "# curr_state_noise = []\n",
    "des_state = []\n",
    "action_plt = []\n",
    "for i in tqdm.tqdm(range(num_traj)):\n",
    "    obs = env.reset()\n",
    "    done = False\n",
    "    \n",
    "    # with open(\"/home/rajpal/koopman/linear_drone_koopman/Trajectory/traj_{}.csv\".format(i+1), \"w\") as f:\n",
    "    #     f.write(\"t,x,y,z,roll,pitch,yaw,vx,vy,vz,roll_rate,pitch_rate,yaw_rate,U,Mx,My,Mz\\n\")\n",
    "         # X[i,0,:] = env.Quadrotor.get_state()\n",
    "#         print(X[i,0,0],X[i,0,1],X[i,0,2],X[i,0,3],X[i,0,4],X[i,0,5],X[i,0,6],X[i,0,7],X[i,0,8],X[i,0,9],X[i,0,10],X[i,0,11])\n",
    "        # f.write(\"{},{},{},{},{},{},{},{},{},{},{},{},{}\\n\".format(env.t, X[i,0,0], X[i,0,1], X[i,0,2], X[i,0,3], X[i,0,4], X[i,0,5], X[i,0,6], X[i,0,7], X[i,0,8], X[i,0,9], X[i,0,10], X[i,0,11]))\n",
    "\n",
    "    for j in range(num_snaps):\n",
    "        action = env.action_space.sample()\n",
    "        #env.render()\\n\",  \n",
    "        #action, _states = model.predict(obs)\n",
    "#             U[i,j,:] = action[0], action[1]\n",
    "        obs, reward, done, info = env.step(action)\n",
    "        if j == 0:\n",
    "            X[i,j,:] = env.Quadrotor.get_state()\n",
    "        des_state = env.get_des_state()\n",
    "        # curr_state.append(state)\n",
    "        # curr_state_noise.append(state)\n",
    "        # des_state.append(env.get_des_state())\n",
    "        action_plt.append(env.get_action())\n",
    "        # #print(action)\\n\",\n",
    "        # print(env.get_action().reshape(-1))\n",
    "        U[i,j,:] = env.get_action()#.reshape(-1)\n",
    "        X[i,j+1,:] = env.Quadrotor.get_state()\n",
    "        # X_des[i,j+1,:] = des_state[:6]\n",
    "        # f.write(\"{},{},{},{},{},{},{},{},{},{},{},{},{},{},{},{},{}\\n\".format(env.t, X[i,j+1,0], X[i,j+1,1], X[i,j+1,2], X[i,j+1,3], X[i,j+1,4], X[i,j+1,5], X[i,j+1,6], X[i,j+1,7], X[i,j+1,8], X[i,j+1,9], X[i,j+1,10], X[i,j+1,11], U[i,j,0], U[i,j,1], U[i,j,2], U[i,j,3]))\n",
    "        #plot_act.append(f)\n",
    "        #print(reward)\n",
    "        #plot_ep.append(episode)\\n\",\n",
    "    #print(\\\"Episode - {} Score - {}\\\".format(episode, score))\\n\",\n",
    "\n",
    "        "
   ]
  },
  {
   "cell_type": "code",
   "execution_count": null,
   "id": "54ba3e01-fa84-4e65-a0e8-63520091da80",
   "metadata": {},
   "outputs": [],
   "source": [
    "print(X.shape, U.shape)\n",
    "\n",
    "# Check for nan values\n",
    "print(sum(sum(sum(np.isnan(X)))))"
   ]
  },
  {
   "cell_type": "code",
   "execution_count": null,
   "id": "2e1fa7d2-8c94-4e3f-885c-17187d52a7bc",
   "metadata": {},
   "outputs": [],
   "source": [
    "# Overall data\n",
    "plt.figure(figsize = (20,10))\n",
    "for j in range(num_traj):\n",
    "    for i in range(int(num_states)):\n",
    "        plt.plot(X[j,:,0], X[j,:,1])\n",
    "        plt.xlabel(\"y\")\n",
    "        plt.xlabel(\"z\")\n",
    "plt.suptitle(\"System Trajectories\", fontsize=30)"
   ]
  },
  {
   "cell_type": "code",
   "execution_count": null,
   "id": "d769899c-e438-4bab-b4fb-1d059b9b4d06",
   "metadata": {},
   "outputs": [],
   "source": [
    "# Overall data\n",
    "plt.figure(figsize = (20,10))\n",
    "label_list = [\"y\", \"z\", \"yaw\", \"y_dot\", \"z_dot\", \"yaw_dot\"]\n",
    "\n",
    "for j in range(num_traj):\n",
    "    for i in range(int(num_states)):\n",
    "        plt.subplot(3,2,i+1)\n",
    "        plt.xlabel(\"t\")\n",
    "        plt.ylabel(label_list[i])\n",
    "        plt.plot(T,X[j,:,i])\n",
    "plt.suptitle(\"Original Dynamics\", fontsize=30)"
   ]
  },
  {
   "cell_type": "code",
   "execution_count": null,
   "id": "9fa99b73-3d40-4f84-9436-b969e9d14772",
   "metadata": {},
   "outputs": [],
   "source": [
    "plt.figure(figsize = (20,10))\n",
    "for j in range(num_traj):\n",
    "    for i in range(int(num_inputs)):\n",
    "        plt.subplot(num_inputs,1,i+1)\n",
    "        plt.xlabel(\"t\")\n",
    "        plt.ylabel(\"tau\"+str(i+1))\n",
    "        plt.plot(T[:-1],U[j,:,i])\n",
    "plt.suptitle(\"Control Inputs\", fontsize=30)"
   ]
  },
  {
   "cell_type": "code",
   "execution_count": null,
   "id": "cdef757f-580d-407a-98cf-b11efbe6b29a",
   "metadata": {},
   "outputs": [],
   "source": [
    "# split training and vaidation datasets\n",
    "xs_train, us_train = X[:num_train,:,:],U[:num_train,:,:]\n",
    "xs_val, us_val = X[num_train:,:,:],U[num_train:,:,:]"
   ]
  },
  {
   "cell_type": "code",
   "execution_count": null,
   "id": "848602b0-99b5-44ff-8571-c71ed856ebe1",
   "metadata": {},
   "outputs": [],
   "source": [
    "# auto encoder parameters\n",
    "net_params = {}\n",
    "net_params['state_dim'] = num_states\n",
    "net_params['ctrl_dim'] = num_inputs\n",
    "net_params['encoder_hidden_width'] = 20\n",
    "net_params['encoder_hidden_depth'] = 2\n",
    "net_params['encoder_output_dim'] = 10\n",
    "net_params['optimizer'] = 'adam'\n",
    "net_params['activation_type'] = 'tanh'\n",
    "net_params['lr'] = 5e-4 # 5e-4\n",
    "net_params['epochs'] = 200\n",
    "net_params['batch_size'] = 256\n",
    "net_params['lifted_loss_penalty'] = 0.3\n",
    "net_params['l2_reg'] = 0.0         \n",
    "net_params['l1_reg'] = 0.0\n",
    "net_params['first_obs_const'] = True\n",
    "net_params['override_C'] = True # this makes the state a part of lifted state\n",
    "net_params['dt'] = dt"
   ]
  },
  {
   "cell_type": "code",
   "execution_count": null,
   "id": "39320f3c-c4ee-4170-9b12-e3a1d9f528a5",
   "metadata": {},
   "outputs": [],
   "source": [
    "# Koopman Model\n",
    "file = 'saved_models/planar_quad/linear/Koop_arch.pth'\n",
    "if train == True:\n",
    "    net = KoopmanNetCtrl_linear(net_params)\n",
    "    model_koop_dnn = KoopDNN_linear(net)\n",
    "    model_koop_dnn.set_datasets(xs_train, u_train=us_train, x_val=xs_val, u_val=us_val)\n",
    "    model_koop_dnn.model_pipeline(net_params)\n",
    "    model_koop_dnn.construct_koopman_model()\n",
    "    torch.save(model_koop_dnn,file)\n",
    "else:\n",
    "    model_koop_dnn = torch.load(file)"
   ]
  },
  {
   "cell_type": "code",
   "execution_count": null,
   "id": "3ee0cae0-f108-40c1-a506-ba0d1a90e959",
   "metadata": {},
   "outputs": [],
   "source": [
    "train_loss = [l[0] for l in model_koop_dnn.train_loss_hist]\n",
    "train_pred_loss = [l[1] for l in model_koop_dnn.train_loss_hist]\n",
    "train_lifted_loss = [l[2] for l in model_koop_dnn.train_loss_hist]\n",
    "val_loss = [l[0] for l in model_koop_dnn.val_loss_hist]\n",
    "val_pred_loss = [l[1] for l in model_koop_dnn.val_loss_hist]\n",
    "val_lifted_loss = [l[2] for l in model_koop_dnn.val_loss_hist]\n",
    "epochs = np.arange(0, net_params['epochs'])\n",
    "\n",
    "plt.figure(figsize=(15,8))\n",
    "plt.plot(epochs, train_loss, color='tab:orange', label='Training loss')\n",
    "plt.plot(epochs, train_pred_loss, '--', color='tab:orange', label='Training prediction loss')\n",
    "plt.plot(epochs, train_lifted_loss, ':', color='tab:orange', label='Training lifted loss')\n",
    "plt.plot(epochs, val_loss, color='tab:blue', label='Validation loss')\n",
    "plt.plot(epochs, val_pred_loss, '--', color='tab:blue', label='Validation prediction loss')\n",
    "plt.plot(epochs, val_lifted_loss, ':', color='tab:blue', label='Validation lifted loss')\n",
    "plt.legend()\n",
    "plt.xlabel('Epoch')\n",
    "plt.ylabel('Loss')\n",
    "plt.yscale('log')\n",
    "plt.show()"
   ]
  },
  {
   "cell_type": "markdown",
   "id": "a5e0805f-b6ec-4380-8ac2-e3fcb22b8b9d",
   "metadata": {},
   "source": [
    "## Koopman Model Parameters"
   ]
  },
  {
   "cell_type": "code",
   "execution_count": null,
   "id": "512aa873-dfe2-47e2-98e5-bb2200ca5f09",
   "metadata": {},
   "outputs": [],
   "source": [
    "A = np.array(model_koop_dnn.A)\n",
    "B = np.array(model_koop_dnn.B)\n",
    "C = np.array(model_koop_dnn.C)\n",
    "\n",
    "print(A.shape, B.shape, C.shape)"
   ]
  },
  {
   "cell_type": "markdown",
   "id": "4950defe-00e8-4a6b-9b93-cea189dd7ea5",
   "metadata": {},
   "source": [
    "## Testing"
   ]
  },
  {
   "cell_type": "code",
   "execution_count": null,
   "id": "9e5a6ade-36ea-4798-9590-079e1920e732",
   "metadata": {},
   "outputs": [],
   "source": [
    "# test data parameters\n",
    "num_snaps_test = 200 # no. of snapshots\n",
    "T_test = np.linspace(0,num_snaps_test*dt, num_snaps_test)\n",
    "num_traj_test = 1 # no. of training examples\n",
    "first_obs_const = int(net_params['first_obs_const']) #only one state\n",
    "override_C = net_params['override_C']\n",
    "if override_C:\n",
    "    n_obs = int(net_params['encoder_output_dim']) + num_states + first_obs_const \n",
    "else:\n",
    "    n_obs = int(net_params['encoder_output_dim']) + first_obs_const "
   ]
  },
  {
   "cell_type": "code",
   "execution_count": null,
   "id": "239af54f-d964-4eca-88d6-f0ca800ccbe9",
   "metadata": {},
   "outputs": [],
   "source": [
    "# generate data\n",
    "x_test = np.empty((num_traj_test,num_snaps_test+1,num_states)) # cartesian state matrix\n",
    "u_test = np.empty((num_traj_test,num_snaps_test,num_inputs)) # input matrix\n",
    "curr_state = []\n",
    "# curr_state_noise = []\n",
    "des_state = []\n",
    "action_plt = []\n",
    "for i in tqdm.tqdm(range(num_traj_test)):\n",
    "    obs = env.reset()\n",
    "    done = False\n",
    "    \n",
    "    # with open(\"/home/rajpal/koopman/linear_drone_koopman/Trajectory/traj_{}.csv\".format(i+1), \"w\") as f:\n",
    "    #     f.write(\"t,x,y,z,roll,pitch,yaw,vx,vy,vz,roll_rate,pitch_rate,yaw_rate,U,Mx,My,Mz\\n\")\n",
    "         # X[i,0,:] = env.Quadrotor.get_state()\n",
    "#         print(X[i,0,0],X[i,0,1],X[i,0,2],X[i,0,3],X[i,0,4],X[i,0,5],X[i,0,6],X[i,0,7],X[i,0,8],X[i,0,9],X[i,0,10],X[i,0,11])\n",
    "        # f.write(\"{},{},{},{},{},{},{},{},{},{},{},{},{}\\n\".format(env.t, X[i,0,0], X[i,0,1], X[i,0,2], X[i,0,3], X[i,0,4], X[i,0,5], X[i,0,6], X[i,0,7], X[i,0,8], X[i,0,9], X[i,0,10], X[i,0,11]))\n",
    "\n",
    "    for j in range(num_snaps_test):\n",
    "        #env.render()\\n\",\n",
    "        action = env.action_space.sample()\n",
    "        #action, _states = model.predict(obs)\n",
    "#             U[i,j,:] = action[0], action[1]\n",
    "        obs, reward, done, info = env.step(action)\n",
    "        if j == 0:\n",
    "            x_test[i,j,:] = env.Quadrotor.get_state()   \n",
    "        # curr_state.append(state)\n",
    "        # curr_state_noise.append(state)\n",
    "        # des_state.append(env.get_des_state())\n",
    "        action_plt.append(env.get_action())\n",
    "        # #print(action)\\n\",\n",
    "        # print(env.get_action().reshape(-1))\n",
    "        u_test[i,j,:] = env.get_action()#.reshape(-1)\n",
    "        x_test[i,j+1,:] = env.Quadrotor.get_state()\n",
    "            \n",
    "        # f.write(\"{},{},{},{},{},{},{},{},{},{},{},{},{},{},{},{},{}\\n\".format(env.t, X[i,j+1,0], X[i,j+1,1], X[i,j+1,2], X[i,j+1,3], X[i,j+1,4], X[i,j+1,5], X[i,j+1,6], X[i,j+1,7], X[i,j+1,8], X[i,j+1,9], X[i,j+1,10], X[i,j+1,11], U[i,j,0], U[i,j,1], U[i,j,2], U[i,j,3]))\n",
    "        #plot_act.append(f)\n",
    "        #print(reward)\n",
    "        #plot_ep.append(episode)\\n\",\n",
    "    #print(\\\"Episode - {} Score - {}\\\".format(episode, score))\\n\",\n",
    "\n",
    "        \n",
    "env.close()"
   ]
  },
  {
   "cell_type": "code",
   "execution_count": null,
   "id": "25eefd8b-a22a-4d59-88ca-f0af136eef7e",
   "metadata": {},
   "outputs": [],
   "source": [
    "print(x_test.shape, j)"
   ]
  },
  {
   "cell_type": "code",
   "execution_count": null,
   "id": "2f6fe731-54fd-4b0e-8ab3-c6d95e55983a",
   "metadata": {},
   "outputs": [],
   "source": [
    "# Use the preprocessing if available\n",
    "X_t,_ = model_koop_dnn.net.process(x_test,data_u = u_test)"
   ]
  },
  {
   "cell_type": "code",
   "execution_count": null,
   "id": "05372cd1-d1f0-4041-8567-fb8a8bf18a71",
   "metadata": {},
   "outputs": [],
   "source": [
    "X_t.shape"
   ]
  },
  {
   "cell_type": "code",
   "execution_count": null,
   "id": "c60a2d67-9b15-4bdf-862a-c452e5891eb1",
   "metadata": {},
   "outputs": [],
   "source": [
    "# flatten vector\n",
    "x_t = X_t[:, :num_states]\n",
    "u_t = X_t[:, num_states:num_states+num_inputs]\n",
    "x_prime_t = X_t[:,num_states+num_inputs:]\n",
    "\n",
    "\n",
    "print(x_t.shape, u_t.shape, x_prime_t.shape)"
   ]
  },
  {
   "cell_type": "code",
   "execution_count": null,
   "id": "b603323c-fb00-42b2-a07b-7356aeb89071",
   "metadata": {},
   "outputs": [],
   "source": [
    "# initialize states\n",
    "# initialize the matricies\n",
    "z_t = np.empty((n_obs,num_snaps_test)).T   #lifted state\n",
    "x_est_t = np.zeros((num_states,num_snaps_test)).T #estimated values\n",
    "\n",
    "# actual lift\n",
    "z_t[0,:] = lift(x_t[0,:],model_koop_dnn, net_params)\n",
    "x_est_t[0,:] = x_t[0,:]\n",
    "\n",
    "# changed dynamics\n",
    "obs = env_changed.reset()\n",
    "x_actual_t = np.zeros((num_states,num_snaps_test)).T #estimated values\n",
    "x_actual_t[0,:] = x_t[0,:]\n",
    "env_changed.Quadrotor.state = x_actual_t[0,:]\n"
   ]
  },
  {
   "cell_type": "code",
   "execution_count": null,
   "id": "12b024cb-657b-435c-b4db-b36bf863254c",
   "metadata": {},
   "outputs": [],
   "source": [
    "for i in range(num_snaps_test-1):\n",
    "  #bilinear\n",
    "    z_t[i+1,:] = np.matmul(z_t[i,:],A.T)+np.matmul(u_t[i,:],B.T)\n",
    "    x_est_t[i+1,:] = np.matmul(z_t[i+1,:],C.T)\n",
    "\n",
    "    u1 = 0.5*(u_t[i, 0] - u_t[i, 1]/env_changed.L)\n",
    "    u2 = 0.5*(u_t[i, 0] + u_t[i, 1]/env_changed.L)\n",
    "\n",
    "    u1_clamped = min(max(0, u1), 30)\n",
    "    u2_clamped = min(max(0, u2), 30)\n",
    "    \n",
    "    env_changed.Quadrotor.update(env.dt, u1_clamped, u2_clamped)\n",
    "    x_actual_t[i+1,:] = env_changed.Quadrotor.get_state()"
   ]
  },
  {
   "cell_type": "code",
   "execution_count": null,
   "id": "fc7bcc3a-593b-4760-bece-e86052b2773a",
   "metadata": {},
   "outputs": [],
   "source": [
    "# state estimation evolution\n",
    "plt.figure(figsize=(20, 10)) \n",
    "\n",
    "for i in range(num_states):\n",
    "    plt.subplot(3, 2, i +1)\n",
    "    plt.plot(T_test[:],x_t[:,i],label ='Original Dynamics')\n",
    "    plt.plot(T_test[:],x_est_t[:,i],label = 'estimated Original (linear)')\n",
    "    plt.plot(T_test[:],x_actual_t[:,i],label = 'Changed Dynamics')\n",
    "    plt.xlabel('t')\n",
    "    plt.ylabel(label_list[i])\n",
    "    plt.legend()\n",
    "plt.suptitle(\"Testing Performance\", fontsize=30)\n"
   ]
  },
  {
   "cell_type": "code",
   "execution_count": null,
   "id": "e6d389e3-5f66-45ff-8518-d5470ae436d4",
   "metadata": {},
   "outputs": [],
   "source": [
    "for i in range(num_inputs):\n",
    "    plt.subplot(num_inputs, 1, i +1)\n",
    "    plt.plot(T_test[:],u_t[:,i],label ='Original Dynamics')\n",
    "    plt.xlabel('t')\n",
    "    plt.ylabel(\"tau\" + str(i))\n",
    "    plt.legend()\n",
    "plt.suptitle(\"Testing Performance\", fontsize=30)"
   ]
  },
  {
   "cell_type": "code",
   "execution_count": null,
   "id": "f9fbdaf3-af99-4b2a-b975-671498f29cc1",
   "metadata": {},
   "outputs": [],
   "source": [
    "# error estimation\n",
    "error_model_t = np.linalg.norm((x_est_t[:,:]-x_t[:,:]),axis=1)\n",
    "\n",
    "plt.figure()\n",
    "plt.plot(T_test[:],error_model_t)\n",
    "plt.xlabel('t')\n",
    "plt.ylabel('e')\n",
    "plt.title('Model error evolution')\n",
    "plt.show()"
   ]
  },
  {
   "cell_type": "code",
   "execution_count": null,
   "id": "4025a5d3-644a-401c-b528-086568ab9c8d",
   "metadata": {},
   "outputs": [],
   "source": [
    "# error estimation\n",
    "error_actual_t = np.linalg.norm((x_est_t[:,:]-x_actual_t[:,:]),axis=1)\n",
    "\n",
    "plt.figure()\n",
    "plt.plot(T_test[:],error_actual_t)\n",
    "plt.xlabel('t')\n",
    "plt.ylabel('e')\n",
    "plt.title('Model error evolution')\n",
    "plt.show()"
   ]
  },
  {
   "cell_type": "markdown",
   "id": "7d2d22c2-010a-4bcc-af34-e3a8532392b9",
   "metadata": {},
   "source": [
    "## Controller"
   ]
  },
  {
   "cell_type": "code",
   "execution_count": null,
   "id": "308cf98b-d4fa-474c-8da4-7da539046809",
   "metadata": {},
   "outputs": [],
   "source": [
    "traj_length = 1000\n",
    "# generate data\n",
    "x_ref = np.empty((num_states, traj_length+1)) # cartesian state matrix\n",
    "\n",
    "obs = env.reset()\n",
    "done = False\n",
    "    \n",
    "for j in range(traj_length):\n",
    "    action = env.action_space.sample()\n",
    "    obs, reward, done, info = env.step(action)\n",
    "    if j == 0:\n",
    "        x_ref[:,j] = env.Quadrotor.get_state()   \n",
    "    x_ref[:,j+1] = env.Quadrotor.get_state() \n",
    "env.close()"
   ]
  },
  {
   "cell_type": "code",
   "execution_count": null,
   "id": "cb78cedc-951c-4b2a-aec5-cd767cab91c8",
   "metadata": {},
   "outputs": [],
   "source": [
    "x_ref.shape"
   ]
  },
  {
   "cell_type": "code",
   "execution_count": null,
   "id": "6f83d35f-981e-46da-8889-daacfc7b9722",
   "metadata": {},
   "outputs": [],
   "source": [
    "plt.figure(figsize=(10, 10) )\n",
    "plt.plot(x_ref[0,:], x_ref[1,:], label='reference',linewidth = 2.0)\n",
    "plt.legend()"
   ]
  },
  {
   "cell_type": "code",
   "execution_count": null,
   "id": "6622ec19-874c-4b47-b40d-8408390af0a9",
   "metadata": {},
   "outputs": [],
   "source": [
    "# adaptive net parameters\n",
    "adap_window = 10 #20 #hyperparameter\n",
    "\n",
    "adapt_net_params = {}\n",
    "adapt_net_params['state_dim'] = num_states\n",
    "adapt_net_params['ctrl_dim'] = num_inputs\n",
    "adapt_net_params['lift_dim'] = net_params[\"encoder_output_dim\"]\n",
    "adapt_net_params['optimizer'] = 'adam'\n",
    "adapt_net_params['lr'] = 2e-4 # 5e-3\n",
    "adapt_net_params['epochs'] = 10 #30\n",
    "adapt_net_params['batch_size'] = adap_window\n",
    "adapt_net_params['l2_reg'] = 1\n",
    "adapt_net_params['l1_reg'] = 1\n",
    "adapt_net_params['first_obs_const'] = net_params[\"first_obs_const\"]\n",
    "adapt_net_params['override_C'] = net_params[\"override_C\"] # this makes the state a part of lifted state\n",
    "adapt_net_params['warm_start'] = False\n",
    "\n",
    "del_A = np.zeros_like(A)\n",
    "del_B = np.zeros_like(B)\n",
    "\n",
    "adapt_net_params['del_A_prev'] = del_A\n",
    "adapt_net_params['del_B_prev'] = del_B\n",
    "\n",
    "time_delay = 0"
   ]
  },
  {
   "cell_type": "code",
   "execution_count": null,
   "id": "7abd1d5b-7a47-492a-b68f-7011ce7daa5a",
   "metadata": {},
   "outputs": [],
   "source": [
    "from control_files.nmpc_osqp_adapt import NonlinearMPCController\n",
    "from dynamics.learned_models_control.linear_dynamics import linear_Dynamics\n",
    "import scipy"
   ]
  },
  {
   "cell_type": "code",
   "execution_count": null,
   "id": "d9d0a04e-afc7-4adb-8499-f97089806cff",
   "metadata": {},
   "outputs": [],
   "source": [
    "# model objects for MPC\n",
    "linear_model = linear_Dynamics(scipy.sparse.csc_matrix(A),scipy.sparse.csc_matrix(B), C)\n",
    "linear_model_no_adapt = linear_Dynamics(scipy.sparse.csc_matrix(A),scipy.sparse.csc_matrix(B), C)\n",
    "linear_model.A"
   ]
  },
  {
   "cell_type": "code",
   "execution_count": null,
   "id": "4b89b5cc-3fc8-4fc6-a443-77d535f9b750",
   "metadata": {},
   "outputs": [],
   "source": [
    "# OSQP solver setting\n",
    "solver_settings = {}\n",
    "solver_settings['gen_embedded_ctrl'] = False\n",
    "solver_settings['warm_start'] = True\n",
    "solver_settings['polish'] = True\n",
    "solver_settings['polish_refine_iter'] = 3\n",
    "solver_settings['scaling'] = True\n",
    "solver_settings['adaptive_rho'] = False\n",
    "solver_settings['check_termination'] = 25\n",
    "solver_settings['max_iter'] = 1000\n",
    "solver_settings['eps_abs'] = 1e-5\n",
    "solver_settings['eps_rel'] = 1e-6\n",
    "solver_settings['eps_prim_inf'] = 1e-4\n",
    "solver_settings['eps_dual_inf'] = 1e-4\n",
    "solver_settings['linsys_solver'] = 'qdldl'"
   ]
  },
  {
   "cell_type": "code",
   "execution_count": null,
   "id": "129dea3d-aae2-429f-80d4-93672fb11ff2",
   "metadata": {},
   "outputs": [],
   "source": [
    "#Closed loop performance evaluation parameters:\n",
    "\n",
    "max_iter = 1\n",
    "N =  15 #length of horizon\n",
    "t_eval = dt * np.arange(traj_length+1)                       # Simulation time points, closed loop\n",
    "Q_mpc = 1e4*scipy.sparse.diags(np.ones(num_states))    #(np.array([1, 1, 1, 1, 1, 1]))                      # State penalty matrix, trajectory generation\n",
    "QN_mpc = 1e3*scipy.sparse.diags(np.ones(num_states))    #(np.array([1, 1, 1, 1, 1, 1]))         # Final state penalty matrix, trajectory generation\n",
    "R_mpc = 1*scipy.sparse.eye(num_inputs)                                     # Actuation penalty matrix, trajectory generation\n",
    "R0_mpc = 0*scipy.sparse.csc_matrix(np.ones(num_inputs))"
   ]
  },
  {
   "cell_type": "code",
   "execution_count": null,
   "id": "25df73b2-e0f8-42b3-9f36-a3b1770aa41a",
   "metadata": {},
   "outputs": [],
   "source": [
    "Q_mpc"
   ]
  },
  {
   "cell_type": "code",
   "execution_count": null,
   "id": "bde1604e-3437-44a3-a3c5-8d3963081c7d",
   "metadata": {},
   "outputs": [],
   "source": [
    "# Design trajectory:\n",
    "xt = np.empty((traj_length+1, num_states))\n",
    "xt[0,:] = x_ref[:,0]             # Initial value, closed loop trajectory\n",
    "\n",
    "# x_r = np.array([0., 0.])              # Desired final value, closed loop trajectory\n",
    "# x_ref = np.tile(x_r.reshape(-1,1), (1, traj_length))\n",
    "umax = 30*np.ones((num_inputs,))\n",
    "umin = -umax\n",
    "\n",
    "xmax =  20*(np.ones(num_states))    #np.array([1, 1, 1, 1, 1, 1])\n",
    "xmin = -xmax\n",
    "\n",
    "# Define initial solution for SQP algorithm:\n",
    "x_init = np.linspace(xt[0,:], xt[0,:], N+1) + 0.1\n",
    "u_init = 1*np.ones((num_inputs, N)).T"
   ]
  },
  {
   "cell_type": "code",
   "execution_count": null,
   "id": "699c201d-bb6b-407c-8232-036b89e5e6fb",
   "metadata": {},
   "outputs": [],
   "source": [
    "n_lift = A.shape[0]\n",
    "z_init = np.empty((N+1, n_lift))\n",
    "z0 = lift(xt[0,:], model_koop_dnn, net_params)\n",
    "for i in range(N+1):\n",
    "    z_init[i,:] = lift(x_init[i,:], model_koop_dnn, net_params)"
   ]
  },
  {
   "cell_type": "code",
   "execution_count": null,
   "id": "48c1d169-1b6b-4acd-8713-4a88f3fa51b4",
   "metadata": {},
   "outputs": [],
   "source": [
    "# initialize state matricies\n",
    "u = np.empty((traj_length, num_inputs))\n",
    "tau_adapt_app = np.empty((traj_length, num_inputs))\n",
    "z_new_dyn = np.empty((n_obs, traj_length+1)).T   #lifted state\n",
    "zt_old_dyn = np.empty((n_obs, traj_length+1)).T #actual lifted state\n",
    "del_z_prime = np.empty((n_obs, traj_length)).T\n",
    "zu_old_dyn = np.empty((n_obs*num_inputs, traj_length)).T\n",
    "x_new_dyn = np.empty((num_states, traj_length+1)).T #estimated values\n",
    "xt_old = np.empty((num_states, traj_length+1)).T\n",
    "del_A_norm = np.zeros((traj_length,1))\n",
    "del_B_norm = np.zeros((traj_length,1))\n",
    "\n",
    "# initialize\n",
    "z_new_dyn[0,:] = zt_old_dyn[0,:] = z0\n",
    "x_new_dyn[0,:] = xt_old[0,:] = xt[0,:]\n",
    "\n",
    "# initilize the env\n",
    "obs = env.reset()\n",
    "env.Quadrotor.state = xt[0,:]\n",
    "\n",
    "\n",
    "obs_changed = env_changed.reset()\n",
    "env_changed.Quadrotor.state = xt[0,:]\n"
   ]
  },
  {
   "cell_type": "code",
   "execution_count": null,
   "id": "ccece741-4d4e-48bc-a0e8-8ab3c432bae8",
   "metadata": {},
   "outputs": [],
   "source": [
    "controller_nmpc_adapt = NonlinearMPCController(linear_model, N, dt, umin, umax, xmin, xmax, Q_mpc, R_mpc, QN_mpc, solver_settings)\n",
    "controller_nmpc_adapt.construct_controller(z_init, u_init, x_ref[:,0])"
   ]
  },
  {
   "cell_type": "code",
   "execution_count": null,
   "id": "99b2d1d2-dc4a-49f2-b007-3c3900b06539",
   "metadata": {},
   "outputs": [],
   "source": [
    "total_time = 0\n",
    "algo_start_time = time.time()\n",
    "\n",
    "for i in range(traj_length):\n",
    "  # incorrect dynamics\n",
    "    start_time = time.time()\n",
    "    z_new_dyn[i,:] = lift(x_new_dyn[i,:], model_koop_dnn, net_params)\n",
    "    \n",
    "    del_z_prime[i,:] = z_new_dyn[i,:] - zt_old_dyn[i,:]\n",
    "    zu_old_dyn[i,:] = np.kron(u[i,:], zt_old_dyn[i,:])\n",
    "\n",
    "    if i < adap_window + 1 :\n",
    "        del_A = np.zeros_like(A)\n",
    "        del_B = np.zeros_like(B)\n",
    "    else:\n",
    "        del_Z_prime = del_z_prime[i-adap_window:i,:].T\n",
    "        Z_old = zt_old_dyn[i-(adap_window+1):i-1].T\n",
    "        U_old = u[i-(adap_window+1):i-1].T\n",
    "\n",
    "        #invoke neural net for adapation\n",
    "        adapt_network = AdaptNet_linear(adapt_net_params)\n",
    "\n",
    "        adapt_network.model_pipeline(Z_old, U_old, del_Z_prime, print_epoch = True)\n",
    "\n",
    "        del_A, del_B = adapt_network.get_del_matrices()\n",
    "\n",
    "    del_A_norm[i] = np.linalg.norm(del_A)\n",
    "    del_B_norm[i] = np.linalg.norm(del_B)\n",
    "\n",
    "    # linear_model.A = scipy.sparse.csc_matrix(A + del_A)\n",
    "    # linear_model.B = scipy.sparse.csc_matrix(B + del_B)\n",
    "\n",
    "    linear_model.A = scipy.sparse.csc_matrix(linear_model.A.toarray() + del_A)\n",
    "    linear_model.B = scipy.sparse.csc_matrix(linear_model.B.toarray() + del_B)\n",
    "\n",
    "    \n",
    "    controller_nmpc_adapt.solve_to_convergence(x_ref[:,i+1], z_new_dyn[i,:], controller_nmpc_adapt.z_init, controller_nmpc_adapt.u_init, max_iter = max_iter, eps = 1e-3)\n",
    "    controller_nmpc_adapt.update_initial_guess_()\n",
    "    u[i,:] = controller_nmpc_adapt.cur_u[0,:]\n",
    "    end_time = time.time()\n",
    "\n",
    "    total_time = total_time + end_time-start_time\n",
    "    \n",
    "    if sum(np.isnan(u[i,:])) > 0:\n",
    "        break\n",
    "\n",
    "    # adapted model\n",
    "    zt_old_dyn[i+1,:] = controller_nmpc_adapt.z_N0\n",
    "    #zt_old_dyn[i+1,:] = np.matmul(z_new_dyn[i,:],A.T+del_A.T)+np.matmul(u[i,:],B.T+del_B.T)\n",
    "    xt[i+1,:] = np.matmul(zt_old_dyn[i+1,:],C.T)\n",
    "    \n",
    "    algo_time = time.time()-algo_start_time\n",
    "    end_time = time.time()\n",
    "    \n",
    "    u1 = 0.5*(u[i, 0] - u[i, 1]/env.L)\n",
    "    u2 = 0.5*(u[i, 0] + u[i, 1]/env.L)\n",
    "\n",
    "    u1_clamped = min(max(0, u1), 30)\n",
    "    u2_clamped = min(max(0, u2), 30)\n",
    "    \n",
    "    env.Quadrotor.update(env.dt, u1_clamped, u2_clamped)\n",
    "    \n",
    "    xt_old[i+1,:] = env.Quadrotor.get_state() \n",
    "\n",
    "   \n",
    "\n",
    "\n",
    "    total_time = total_time + end_time-start_time\n",
    "\n",
    "    u1 = 0.5*(u[i, 0] - u[i, 1]/env_changed.L)\n",
    "    u2 = 0.5*(u[i, 0] + u[i, 1]/env_changed.L)\n",
    "\n",
    "    u1_clamped = min(max(0, u1), 30)\n",
    "    u2_clamped = min(max(0, u2), 30)\n",
    "    \n",
    "    env_changed.Quadrotor.update(env.dt, u1_clamped, u2_clamped)\n",
    "    \n",
    "\n",
    "\n",
    "    x_new_dyn[i+1,:] = env_changed.Quadrotor.get_state() \n",
    "    \n",
    "    adapt_net_params['del_A_prev'] = del_A\n",
    "    adapt_net_params['del_B_prev'] = del_B\n",
    "    \n",
    "\n",
    "print('Time Taken', total_time)"
   ]
  },
  {
   "cell_type": "code",
   "execution_count": null,
   "id": "fa81dc82-8a09-4e3a-b4b3-8565112be40d",
   "metadata": {},
   "outputs": [],
   "source": [
    "i"
   ]
  },
  {
   "cell_type": "code",
   "execution_count": null,
   "id": "dacff8e8-ac1d-45fb-ae2c-dff3556c6c2a",
   "metadata": {},
   "outputs": [],
   "source": [
    "print('iterations',i , 'time_per_iter = ', total_time/i)"
   ]
  },
  {
   "cell_type": "code",
   "execution_count": null,
   "id": "f58b4ccb-1bb7-4c64-9f25-39bb42bf70fa",
   "metadata": {},
   "outputs": [],
   "source": [
    "algo_time"
   ]
  },
  {
   "cell_type": "code",
   "execution_count": null,
   "id": "33055ca6-bf49-4b4d-a4f5-0a8e60ddfb94",
   "metadata": {},
   "outputs": [],
   "source": [
    "#controller that works on old model (unadapted)\n",
    "N_noadapt = N #length of horizon\n",
    "Q_mpc_noadapt = 1e4*scipy.sparse.diags(np.ones(num_states))                       # State penalty matrix, trajectory generation\n",
    "QN_mpc_noadapt = 1e3*scipy.sparse.diags(np.ones(num_states))         # Final state penalty matrix, trajectory generation\n",
    "R_mpc_noadapt = 1*scipy.sparse.eye(num_inputs)                                     # Actuation penalty matrix, trajectory generation\n",
    "R0_mpc_noadapt = 0*scipy.sparse.csc_matrix(np.ones(num_inputs))\n",
    "\n",
    "# x_r = np.array([0., 0.])              # Desired final value, closed loop trajectory\n",
    "# x_ref = np.tile(x_r.reshape(-1,1), (1, traj_length))\n",
    "umax_noadapt = 30*np.ones((num_inputs,))\n",
    "umin_noadapt = -umax\n",
    "\n",
    "xmax_noadapt =  20*np.ones((num_states,))\n",
    "xmin_noadapt = -xmax"
   ]
  },
  {
   "cell_type": "code",
   "execution_count": null,
   "id": "0179b8fb-58ff-4786-a22d-a8db2fd9de88",
   "metadata": {},
   "outputs": [],
   "source": [
    "controller_nmpc_noadapt = NonlinearMPCController(linear_model_no_adapt, N_noadapt, dt, umin_noadapt, umax_noadapt, xmin_noadapt, xmax_noadapt, Q_mpc_noadapt, R_mpc_noadapt, QN_mpc_noadapt, solver_settings)\n",
    "controller_nmpc_noadapt.construct_controller(z_init, u_init, x_ref[:,0])\n",
    "# controller_nmpc_noadapt.trajectory_tracking(xt[0,:], z0, x_ref.T, max_iter)"
   ]
  },
  {
   "cell_type": "code",
   "execution_count": null,
   "id": "dcbe737d-39ad-451f-ba4c-0f579682d8e7",
   "metadata": {},
   "outputs": [],
   "source": [
    "xt_no_adapt = np.empty((num_states,traj_length+1)).T\n",
    "x_new_noadapt = np.empty((num_states,traj_length+1)).T\n",
    "xt_no_adapt[0,:] = x_new_noadapt[0,:] = xt[0,:]\n",
    "u_no_adapt = np.empty((num_inputs, traj_length)).T\n",
    "tau_no_adapt_app = np.empty((num_inputs, traj_length)).T\n",
    "z_no_adapt = np.empty((n_obs, traj_length+1)).T\n",
    "\n",
    "obs = env.reset()\n",
    "env.Quadrotor.state = xt[0,:]\n",
    "\n",
    "\n",
    "obs_changed = env_changed.reset()\n",
    "env_changed.Quadrotor.state = xt[0,:]\n",
    "\n",
    "algo_start_time = time.time()\n",
    "total_time = 0\n",
    "for i in range(traj_length):\n",
    "    # incorrect dynamics\n",
    "    start_time = time.time()\n",
    "    z_no_adapt[i,:] = lift(x_new_noadapt[i,:], model_koop_dnn, net_params)\n",
    "\n",
    "    controller_nmpc_noadapt.solve_to_convergence(x_ref[:,i+1], z_no_adapt[i,:], controller_nmpc_noadapt.z_init, controller_nmpc_noadapt.u_init, max_iter = max_iter, eps = 1e-3)\n",
    "    controller_nmpc_noadapt.update_initial_guess_()\n",
    "    u_no_adapt[i,:] = controller_nmpc_noadapt.cur_u[0,:]\n",
    "    \n",
    "    if sum(np.isnan(u_no_adapt[i,:])) > 0:\n",
    "        break\n",
    "    \n",
    "    \n",
    "    xt_no_adapt[i+1,:] = np.matmul(controller_nmpc_noadapt.z_N0, C.T)\n",
    "    \n",
    "    algo_time = time.time()-algo_start_time\n",
    "    end_time = time.time()\n",
    "\n",
    "    total_time = total_time + end_time-start_time\n",
    "\n",
    "    u1 = 0.5*(u_no_adapt[i, 0] - u_no_adapt[i, 1]/env_changed.L)\n",
    "    u2 = 0.5*(u_no_adapt[i, 0] + u_no_adapt[i, 1]/env_changed.L)\n",
    "\n",
    "    u1_clamped = min(max(0, u1), 30)\n",
    "    u2_clamped = min(max(0, u2), 30)\n",
    "    \n",
    "    env_changed.Quadrotor.update(env.dt, u1_clamped, u2_clamped)\n",
    "    \n",
    "    x_new_noadapt[i+1,:] = env_changed.Quadrotor.get_state() \n",
    "    \n",
    "print('Time Taken', total_time)"
   ]
  },
  {
   "cell_type": "code",
   "execution_count": null,
   "id": "defafe4d-2def-4789-9dcc-25582882431c",
   "metadata": {},
   "outputs": [],
   "source": [
    "i"
   ]
  },
  {
   "cell_type": "code",
   "execution_count": null,
   "id": "fb9d8e4f-e12c-4646-a204-aac00fbf9f4d",
   "metadata": {},
   "outputs": [],
   "source": [
    "print('iterations',i ,'time_per_iter = ', total_time/i)"
   ]
  },
  {
   "cell_type": "code",
   "execution_count": null,
   "id": "97a45046-856d-498b-9696-85601be676f6",
   "metadata": {},
   "outputs": [],
   "source": [
    "plt.figure(figsize=(10, 10) )\n",
    "plt.plot(x_ref[0,0], x_ref[1,0],'c*', label='start_point',linewidth = 6.0)\n",
    "plt.plot(x_new_dyn[:,0], x_new_dyn[:,1], label='path traced (adaptation)',linewidth = 2.0)\n",
    "plt.plot(x_new_noadapt[:,0], x_new_noadapt[:,1], label='path traced (nominal)',linewidth = 2.0)\n",
    "plt.plot(x_ref[0,:], x_ref[1,:], label='reference',linewidth = 2.0)\n",
    "plt.legend()"
   ]
  },
  {
   "cell_type": "code",
   "execution_count": null,
   "id": "988bf407-78f7-4c87-8b3e-f94bca7ed6a8",
   "metadata": {},
   "outputs": [],
   "source": [
    "plt.figure(figsize=(20, 10) )\n",
    "for i in range(num_states):\n",
    "    plt.subplot(3,2,i+1)\n",
    "    plt.plot(t_eval, x_new_dyn[:,i], label='path traced(adapt)',linewidth = 2.0)\n",
    "    plt.plot(t_eval, x_new_noadapt[:,i], label='path traced(no adapt)',linewidth = 2.0)\n",
    "    plt.plot(t_eval, x_ref[i,:], label=\"reference\",linewidth = 2.0)\n",
    "    plt.xlabel('t')\n",
    "    plt.ylabel(label_list[i])\n",
    "    plt.legend()"
   ]
  },
  {
   "cell_type": "code",
   "execution_count": null,
   "id": "dea345f9-dcfb-4bd0-8659-72cb2419ee79",
   "metadata": {},
   "outputs": [],
   "source": [
    "plt.figure(figsize=(20, 10) )\n",
    "for i in range(num_inputs):\n",
    "    plt.subplot(2,2,2*i+1)\n",
    "    plt.plot(t_eval[:-1], u[:,i], label='Adaptive',linewidth = 2.0)\n",
    "    plt.xlabel('t')\n",
    "    plt.legend()\n",
    "    plt.ylabel(label_list[i])\n",
    "\n",
    "    plt.subplot(2,2,2*i+2)\n",
    "    plt.plot(t_eval[:-1], u_no_adapt[:,i], label='Nominal',linewidth = 2.0)\n",
    "    plt.xlabel('t')\n",
    "    plt.ylabel(label_list[i])\n",
    "\n",
    "    \n",
    "    plt.legend()"
   ]
  },
  {
   "cell_type": "code",
   "execution_count": null,
   "id": "918eeb2e-2a53-46eb-9cf0-e0ef52d16273",
   "metadata": {},
   "outputs": [],
   "source": [
    "plt.figure(figsize = (20,10))\n",
    "\n",
    "plt.subplot(1,2,1)\n",
    "plt.plot(t_eval[:-1],del_A_norm)\n",
    "plt.xlabel('t')\n",
    "plt.ylabel('||del_A||')\n",
    "plt.title(\" ||del_A|| Evolution\")\n",
    "\n",
    "plt.subplot(1,2,2)\n",
    "plt.plot(t_eval[:-1],del_B_norm)\n",
    "plt.xlabel('t')\n",
    "plt.ylabel('||del_B||')\n",
    "plt.title(\"||del_B|| Evolution\")"
   ]
  },
  {
   "cell_type": "code",
   "execution_count": null,
   "id": "e851d7ec-6020-4bcb-bad4-b83297953fbf",
   "metadata": {},
   "outputs": [],
   "source": [
    "plt.figure(figsize = (20,10))\n",
    "\n",
    "plt.subplot(1,2,1)\n",
    "plt.plot(t_eval[:-1],del_A_norm/np.linalg.norm(A))\n",
    "plt.xlabel('t')\n",
    "plt.ylabel('||del_A||/||A||')\n",
    "plt.title(\" ||del_A||/||A|| Evolution\")\n",
    "\n",
    "plt.subplot(1,2,2)\n",
    "plt.plot(t_eval[:-1],del_B_norm/np.linalg.norm(A))\n",
    "plt.xlabel('t')\n",
    "plt.ylabel('||del_B||/|||B||')\n",
    "plt.title(\"||del_B||/||B|| Evolution\")"
   ]
  },
  {
   "cell_type": "code",
   "execution_count": null,
   "id": "903bc14a-f7ee-4c6e-acce-709e39c4d975",
   "metadata": {},
   "outputs": [],
   "source": [
    "error_dynamics_adapt = np.linalg.norm((xt.T-x_ref),axis=0)\n",
    "error_dynamics_no_adapt = np.linalg.norm((xt_no_adapt.T-x_ref),axis=0)\n",
    "\n",
    "plt.figure(figsize = (20,10))\n",
    "\n",
    "plt.subplot(1,2,1)\n",
    "plt.plot(t_eval,error_dynamics_adapt)\n",
    "plt.xlabel('t')\n",
    "plt.ylabel('error')\n",
    "plt.title(\"Error in Adaptive Model\")\n",
    "\n",
    "plt.subplot(1,2,2)\n",
    "plt.plot(t_eval,error_dynamics_no_adapt)\n",
    "plt.xlabel('t')\n",
    "plt.ylabel('error')\n",
    "plt.title(\"Error in Non-Adaptive Model\")"
   ]
  },
  {
   "cell_type": "code",
   "execution_count": null,
   "id": "98a504fd-63d6-4f45-ac6f-12eabe0112a7",
   "metadata": {},
   "outputs": [],
   "source": [
    "plt.figure(figsize = (20,10))\n",
    "\n",
    "plt.plot(t_eval,error_dynamics_adapt, label = 'Adapt')\n",
    "plt.plot(t_eval,error_dynamics_no_adapt, label = 'No Adapt')\n",
    "\n",
    "plt.xlabel('t')\n",
    "plt.ylabel('error')\n",
    "plt.title(\"Error in Adaptive Model\")\n",
    "plt.legend()"
   ]
  },
  {
   "cell_type": "code",
   "execution_count": null,
   "id": "6224d861-8346-42b7-a338-fcf80ee5d80d",
   "metadata": {},
   "outputs": [],
   "source": [
    "error_dynamics_adapt_rmse = np.linalg.norm(error_dynamics_adapt)\n",
    "error_dynamics_no_adapt_rmse = np.linalg.norm(error_dynamics_no_adapt)\n",
    "\n",
    "print(\"RMSE Error in Adaptive Model\", error_dynamics_adapt_rmse)\n",
    "print(\"RMSE Error in Non-Adaptive Model\", error_dynamics_no_adapt_rmse)"
   ]
  },
  {
   "cell_type": "code",
   "execution_count": null,
   "id": "26ea0749-d381-47a5-9494-4fa82a6326d4",
   "metadata": {},
   "outputs": [],
   "source": []
  }
 ],
 "metadata": {
  "kernelspec": {
   "display_name": "Python 3 (ipykernel)",
   "language": "python",
   "name": "python3"
  },
  "language_info": {
   "codemirror_mode": {
    "name": "ipython",
    "version": 3
   },
   "file_extension": ".py",
   "mimetype": "text/x-python",
   "name": "python",
   "nbconvert_exporter": "python",
   "pygments_lexer": "ipython3",
   "version": "3.8.10"
  }
 },
 "nbformat": 4,
 "nbformat_minor": 5
}
