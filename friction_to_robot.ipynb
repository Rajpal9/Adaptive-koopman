{
 "cells": [
  {
   "cell_type": "code",
   "execution_count": 61,
   "id": "799dabc0-6acb-449a-9b4a-711c51af8667",
   "metadata": {},
   "outputs": [],
   "source": [
    "import roboticstoolbox as rtb\n",
    "import numpy as np"
   ]
  },
  {
   "cell_type": "code",
   "execution_count": 62,
   "id": "ae6bdae9-5b2c-47bc-aeb9-6b61961bc107",
   "metadata": {},
   "outputs": [],
   "source": [
    "robot_pars = {}\n",
    "m = 0.1\n",
    "I = np.eye(3)\n",
    "l = 0.33\n",
    "B = 1 ##motor viscous friction\n",
    "T = [2,-2] ## motor dry friction\n"
   ]
  },
  {
   "cell_type": "code",
   "execution_count": 63,
   "id": "50878d46-3a27-4ae8-a0e4-e8159692b208",
   "metadata": {},
   "outputs": [],
   "source": [
    "robot = rtb.robot.DHRobot([rtb.robot.DHLink(a = l, alpha = 0,  d = 0,theta = 0, r = [l/2,0,0], m = m, I = I, B = B, T =T),\n",
    "                           rtb.robot.DHLink(a = l, alpha = 0, d = 0, theta = 0, r = [l/2,0,0], m = m, I = I, B = B, T =T),               \n",
    "        ], name=\"2R_2D\") "
   ]
  },
  {
   "cell_type": "code",
   "execution_count": 64,
   "id": "42c37804-723a-4485-a5c8-bc9cee26449a",
   "metadata": {},
   "outputs": [
    {
     "name": "stdout",
     "output_type": "stream",
     "text": [
      "DHRobot: 2R_2D, 2 joints (RR), dynamics, standard DH parameters\n",
      "┌────┬────┬──────┬──────┐\n",
      "│θⱼ  │ dⱼ │  aⱼ  │  ⍺ⱼ  │\n",
      "├────┼────┼──────┼──────┤\n",
      "│ q1\u001b[0m │  0\u001b[0m │ 0.33\u001b[0m │ 0.0°\u001b[0m │\n",
      "│ q2\u001b[0m │  0\u001b[0m │ 0.33\u001b[0m │ 0.0°\u001b[0m │\n",
      "└────┴────┴──────┴──────┘\n",
      "\n",
      "┌─┬──┐\n",
      "└─┴──┘\n",
      "\n"
     ]
    }
   ],
   "source": [
    "print(robot)"
   ]
  },
  {
   "cell_type": "code",
   "execution_count": 65,
   "id": "c3a2c9e6-34f3-4c65-be52-a492a7956624",
   "metadata": {},
   "outputs": [
    {
     "name": "stdout",
     "output_type": "stream",
     "text": [
      "True\n"
     ]
    }
   ],
   "source": [
    "print(robot[0].isjoint)"
   ]
  },
  {
   "cell_type": "code",
   "execution_count": 66,
   "id": "6b312b0d-c818-4545-b48a-21830b100c39",
   "metadata": {},
   "outputs": [
    {
     "name": "stdout",
     "output_type": "stream",
     "text": [
      "0\n"
     ]
    }
   ],
   "source": [
    "print(robot[0].sigma)\n"
   ]
  },
  {
   "cell_type": "code",
   "execution_count": 67,
   "id": "0a4f80ef-1e7c-48e3-9086-9310b8ed912b",
   "metadata": {},
   "outputs": [
    {
     "data": {
      "text/plain": [
       "DHLink(d=0, a=0.33, ⍺=0, name = \"link1\", m=0.1, r=[0.165, 0, 0], I=[1, 1, 1, 0, 0, 0], Jm=0, B=1, Tc=[0, 0], G=0)"
      ]
     },
     "execution_count": 67,
     "metadata": {},
     "output_type": "execute_result"
    }
   ],
   "source": [
    "robot[0]"
   ]
  },
  {
   "cell_type": "code",
   "execution_count": 60,
   "id": "ea3939c7-928a-4e99-a0bd-1ac45992670c",
   "metadata": {},
   "outputs": [
    {
     "data": {
      "text/plain": [
       "array([-1., -1.])"
      ]
     },
     "execution_count": 60,
     "metadata": {},
     "output_type": "execute_result"
    }
   ],
   "source": [
    "robot.friction([1,1])"
   ]
  },
  {
   "cell_type": "code",
   "execution_count": null,
   "id": "f2e8fda6-89ae-40b2-85b3-71a890429af3",
   "metadata": {},
   "outputs": [],
   "source": []
  },
  {
   "cell_type": "code",
   "execution_count": null,
   "id": "eb83cc9f-a76a-4110-a029-7372d71726a7",
   "metadata": {},
   "outputs": [],
   "source": []
  }
 ],
 "metadata": {
  "kernelspec": {
   "display_name": "Python 3 (ipykernel)",
   "language": "python",
   "name": "python3"
  },
  "language_info": {
   "codemirror_mode": {
    "name": "ipython",
    "version": 3
   },
   "file_extension": ".py",
   "mimetype": "text/x-python",
   "name": "python",
   "nbconvert_exporter": "python",
   "pygments_lexer": "ipython3",
   "version": "3.8.10"
  }
 },
 "nbformat": 4,
 "nbformat_minor": 5
}
