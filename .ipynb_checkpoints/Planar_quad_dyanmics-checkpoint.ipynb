{
 "cells": [
  {
   "cell_type": "code",
   "execution_count": 7,
   "id": "40564ab0-2d8a-4f31-890c-f182661ead2f",
   "metadata": {},
   "outputs": [],
   "source": [
    "# import libraries\n",
    "import math\n",
    "import numpy as np\n",
    "import matplotlib.pyplot as plt\n",
    "import sklearn.preprocessing\n",
    "import itertools\n",
    "import torch\n",
    "import random\n",
    "import time\n",
    "\n",
    "# import Koopman Libraries\n",
    "from core.koopman_core_linear import KoopDNN_linear, KoopmanNet_linear, KoopmanNetCtrl_linear\n",
    "from sklearn import preprocessing\n",
    "from core.util import fit_standardizer\n",
    "from models.koop_model import model_matricies,lift\n",
    "\n",
    "# Import Adaptive Koopman\n",
    "from core.adapt_net_linear import AdaptNet_linear\n",
    "import scipy.io"
   ]
  },
  {
   "cell_type": "code",
   "execution_count": 8,
   "id": "cd6d0465-b7d6-405e-88bf-77a98ffaa95e",
   "metadata": {},
   "outputs": [],
   "source": [
    "# quad pars\n",
    "quad_pars = {}\n",
    "quad_pars['m'] = 2.0\n",
    "quad_pars['l'] = 0.2\n",
    "quad_pars['I'] = 1.0\n",
    "\n",
    "# quad parameters changed\n",
    "quad_pars_changed = {}\n",
    "quad_pars_changed ['m'] = 1.0 #0.1\n",
    "quad_pars_changed ['l'] = 1 # 2\n",
    "quad_pars_changed ['I'] = 1.0#\n",
    "\n",
    "quad_pars_changed ['ext_torque'] = False\n",
    "SNR_DB = 10\n",
    "quad_pars_changed ['ext_torque_type'] = 'gaussian' # constant, sinosoidal, gaussian, 'random'\n",
    "quad_pars_changed ['SN'] = (10**(SNR_DB/10))"
   ]
  },
  {
   "cell_type": "code",
   "execution_count": 40,
   "id": "3db423bd-b4cc-43e8-bac5-0c84d1932cb2",
   "metadata": {},
   "outputs": [],
   "source": [
    "def quad_dynamics(dt, x, T, pars):\n",
    "    \"\"\"\n",
    "    dt = timestep\n",
    "    x = [y, z, theta, y_d, z_d, theta_d];\n",
    "    F = Force Input\n",
    "    pars = system parameters\n",
    "    \"\"\"\n",
    "\n",
    "    m = pars['m']  # mass of the drone\n",
    "    l = pars['l']  # length of the drone arm\n",
    "    I = pars['I']  # Inertia (I_xx) for the drone\n",
    "\n",
    "    g = 9.81 \n",
    "\n",
    "    ## dynamics of the system\n",
    "\n",
    "    y_ddot = (-1/m)*np.sin(x[2])*(T[0] + T[1])\n",
    "    z_ddot = -g + (1/m)*np.cos(x[2])*(T[0] + T[1])\n",
    "    th_ddot = (l/I)*(-T[0] + T[1])\n",
    "\n",
    "    y_d = y_ddot*dt + x[0]\n",
    "    z_d = z_ddot*dt + x[1]\n",
    "    th_d = th_ddot*dt + x[2]\n",
    "\n",
    "    y = (1/2)*y_ddot*(dt**2) + x[0]*dt + x[3]\n",
    "    z = (1/2)*z_ddot*(dt**2) + x[1]*dt + x[4]\n",
    "    th = (1/2)*th_ddot*(dt**2) + x[2]*dt + x[5]\n",
    "\n",
    "    return np.array([y,z,th,y_d,z_d,th_d])\n",
    "\n",
    "def quad_inverse_dyn(x,x_ddot, pars):\n",
    "    m = pars['m']  # mass of the drone\n",
    "    l = pars['l']  # length of the drone arm\n",
    "    I = pars['I']  # Inertia (I_xx) for the drone\n",
    "\n",
    "    g = np.array([0, 9.81, 0])\n",
    "    M = np.array([[(-1/m)*np.sin(x[2]), (-1/m)*np.sin(x[2])],\n",
    "                  [(1/m)*np.cos(x[2]), (1/m)*np.cos(x[2])],\n",
    "                  [(-l/I), (l/I)]]);\n",
    "\n",
    "    T = np.matmul(np.linalg.pinv(M), (x_ddot-g).reshape(-1,1))\n",
    "\n",
    "    return T.reshape(-1,)\n",
    "\n",
    "    \n",
    "    \n",
    "\n",
    "    "
   ]
  },
  {
   "cell_type": "code",
   "execution_count": 41,
   "id": "2d4f56f9-cb3d-41f5-a36f-38322b1187ac",
   "metadata": {},
   "outputs": [],
   "source": [
    "from dynamics.path_generator import cubic_spline_interpolation"
   ]
  },
  {
   "cell_type": "code",
   "execution_count": 42,
   "id": "7f1ba8eb-3214-41da-bf50-e74132116315",
   "metadata": {},
   "outputs": [],
   "source": [
    "num_states = 3\n",
    "dt = 0.01\n",
    "num_snaps = 100\n",
    "num_wp = 10\n",
    "\n",
    "# generate path\n",
    "t_end = dt*num_snaps; \n",
    "t_wp = np.zeros((num_wp,))\n",
    "q_wp = np.zeros((num_states, num_wp))\n",
    "for s in range(num_wp):\n",
    "    if s == 0:\n",
    "        q_wp[0,0] = 2*np.random.rand(1,) - 1\n",
    "        q_wp[1,0] = (np.pi/2)*(2*np.random.rand(1,) - 1)\n",
    "        q_wp[2,0] = 0.1*(2*np.random.rand(1,) - 1)\n",
    "        t_wp[s] = 0;\n",
    "        q_wp_dot = 0.7*(2*np.random.rand(num_states,) - 1);\n",
    "    else:\n",
    "        t_wp[s] = s*t_end/num_wp;\n",
    "        q_wp[:,s] = q_wp[:,s-1] + q_wp_dot*(t_wp[s]-t_wp[s-1]);\n",
    "        q_wp_dot[0:2] = 0.5*(2*np.random.rand(2,) - 1);\n",
    "        q_wp_dot[2] = 0.5*(2*np.random.rand(1,) - 1);\n",
    "\n",
    "\n",
    "q_traj, qd_traj, qddot_traj = cubic_spline_interpolation(np.transpose(q_wp),t_end,num_snaps-1);"
   ]
  },
  {
   "cell_type": "code",
   "execution_count": 43,
   "id": "3fd47880-88c3-4cf2-90ec-4b23dafe2896",
   "metadata": {},
   "outputs": [
    {
     "data": {
      "text/plain": [
       "array([-0.24264857, -0.24194929, -0.24138203, -0.24096348, -0.24071037,\n",
       "       -0.2406394 , -0.24076727, -0.24111069, -0.24168636, -0.242511  ,\n",
       "       -0.2436013 , -0.24497399, -0.24662932, -0.24850185, -0.25050971,\n",
       "       -0.25257099, -0.25460383, -0.25652633, -0.25825662, -0.25971282,\n",
       "       -0.26081303, -0.26147538, -0.26161799, -0.26118572, -0.2602305 ,\n",
       "       -0.25883098, -0.25706584, -0.25501375, -0.25275337, -0.25036338,\n",
       "       -0.24792245, -0.24550923, -0.24320241, -0.24108064, -0.23920976,\n",
       "       -0.23760419, -0.23626552, -0.23519533, -0.23439521, -0.23386675,\n",
       "       -0.23361152, -0.23363112, -0.23392712, -0.23450112, -0.23535469,\n",
       "       -0.23648738, -0.23789052, -0.23955338, -0.24146525, -0.24361543,\n",
       "       -0.24599318, -0.24858779, -0.25138856, -0.25438475, -0.25756565,\n",
       "       -0.26092056, -0.26442693, -0.26801503, -0.27160329, -0.27511016,\n",
       "       -0.27845407, -0.28155346, -0.28432678, -0.28669247, -0.28856897,\n",
       "       -0.28987472, -0.29052816, -0.29048383, -0.28984062, -0.28873352,\n",
       "       -0.28729751, -0.2856676 , -0.28397876, -0.28236598, -0.28096426,\n",
       "       -0.27990858, -0.27933393, -0.2793753 , -0.28011944, -0.28146008,\n",
       "       -0.28324274, -0.28531293, -0.28751614, -0.28969788, -0.29170366,\n",
       "       -0.29337898, -0.29456934, -0.29512026, -0.29487722, -0.29356188,\n",
       "       -0.29121369, -0.28794741, -0.2838778 , -0.27911962, -0.27378763,\n",
       "       -0.26799659, -0.26186128, -0.25549643, -0.24901683])"
      ]
     },
     "execution_count": 43,
     "metadata": {},
     "output_type": "execute_result"
    }
   ],
   "source": [
    "q_traj[1,:]"
   ]
  },
  {
   "cell_type": "code",
   "execution_count": 44,
   "id": "855106d3-f051-46e0-aa85-4bcd91bc84a8",
   "metadata": {},
   "outputs": [
    {
     "ename": "KeyError",
     "evalue": "'m_p'",
     "output_type": "error",
     "traceback": [
      "\u001b[0;31m---------------------------------------------------------------------------\u001b[0m",
      "\u001b[0;31mKeyError\u001b[0m                                  Traceback (most recent call last)",
      "Cell \u001b[0;32mIn[44], line 16\u001b[0m\n\u001b[1;32m     14\u001b[0m \u001b[38;5;28;01mfor\u001b[39;00m j \u001b[38;5;129;01min\u001b[39;00m \u001b[38;5;28mrange\u001b[39m(num_snaps\u001b[38;5;241m-\u001b[39m\u001b[38;5;241m1\u001b[39m):\n\u001b[1;32m     15\u001b[0m     F_dash[:,j] \u001b[38;5;241m=\u001b[39m qddot_traj[:,j] \u001b[38;5;241m+\u001b[39m Kv\u001b[38;5;241m*\u001b[39m(qd_traj[:,j] \u001b[38;5;241m-\u001b[39m X[j,num_states:]) \u001b[38;5;241m+\u001b[39m Kp\u001b[38;5;241m*\u001b[39m(q_traj[:,j] \u001b[38;5;241m-\u001b[39m X[j,:num_states]);\n\u001b[0;32m---> 16\u001b[0m     F[j,:] \u001b[38;5;241m=\u001b[39m  (\u001b[43mpars\u001b[49m\u001b[43m[\u001b[49m\u001b[38;5;124;43m'\u001b[39;49m\u001b[38;5;124;43mm_p\u001b[39;49m\u001b[38;5;124;43m'\u001b[39;49m\u001b[43m]\u001b[49m\u001b[38;5;241m+\u001b[39m pars[\u001b[38;5;124m'\u001b[39m\u001b[38;5;124mm_c\u001b[39m\u001b[38;5;124m'\u001b[39m])\u001b[38;5;241m*\u001b[39mF_dash[\u001b[38;5;241m0\u001b[39m,j]\n\u001b[1;32m     18\u001b[0m     X[i,j\u001b[38;5;241m+\u001b[39m\u001b[38;5;241m1\u001b[39m,:] \u001b[38;5;241m=\u001b[39m cart_pole_dyn(dt, X[i,j,:], F[i,j,:], pars);\n",
      "\u001b[0;31mKeyError\u001b[0m: 'm_p'"
     ]
    }
   ],
   "source": [
    "num_inputs = 2\n",
    "X = np.zeros((num_snaps, 2*num_states))\n",
    "F= np.zeros((num_snaps-1, num_inputs))\n",
    "\n",
    "pars = quad_pars\n",
    "\n",
    "X[0,:num_states] = q_traj[:,0];\n",
    "X[0,num_states:] = qd_traj[:,0];\n",
    "\n",
    "\n",
    "Kp = 16;\n",
    "Kv = 8;\n",
    "F_dash = np.zeros((num_states,num_snaps))\n",
    "for j in range(num_snaps-1):\n",
    "    F_dash[:,j] = qddot_traj[:,j] + Kv*(qd_traj[:,j] - X[j,num_states:]) + Kp*(q_traj[:,j] - X[j,:num_states]);\n",
    "    F[j,:] =  quad_inverse_dyn(X[i,j,:], F_dash[:,j], pars)\n",
    "\n",
    "    X[i,j+1,:] = quad_dyn(dt, X[i,j,:], F[i,j,:], pars);\n",
    "    "
   ]
  },
  {
   "cell_type": "code",
   "execution_count": null,
   "id": "1dcf82bc-47ef-4069-8a30-4baf5d63ef5c",
   "metadata": {},
   "outputs": [],
   "source": []
  },
  {
   "cell_type": "code",
   "execution_count": null,
   "id": "ff4ee66f-a776-425c-8263-d088c56694d0",
   "metadata": {},
   "outputs": [],
   "source": []
  }
 ],
 "metadata": {
  "kernelspec": {
   "display_name": "Python 3 (ipykernel)",
   "language": "python",
   "name": "python3"
  },
  "language_info": {
   "codemirror_mode": {
    "name": "ipython",
    "version": 3
   },
   "file_extension": ".py",
   "mimetype": "text/x-python",
   "name": "python",
   "nbconvert_exporter": "python",
   "pygments_lexer": "ipython3",
   "version": "3.8.10"
  }
 },
 "nbformat": 4,
 "nbformat_minor": 5
}
