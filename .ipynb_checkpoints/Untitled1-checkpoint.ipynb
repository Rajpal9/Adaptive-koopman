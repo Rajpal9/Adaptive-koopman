{
 "cells": [
  {
   "cell_type": "code",
   "execution_count": 1,
   "id": "d9ddf7da-3bc7-4a7e-8271-b4c4cf173e79",
   "metadata": {},
   "outputs": [
    {
     "name": "stdout",
     "output_type": "stream",
     "text": [
      "PID params\n"
     ]
    }
   ],
   "source": [
    "import dynamics.params_2d as params"
   ]
  },
  {
   "cell_type": "code",
   "execution_count": 4,
   "id": "ce6facbb-3f41-4bc2-baaa-8565203d626b",
   "metadata": {},
   "outputs": [
    {
     "data": {
      "text/plain": [
       "0.2"
      ]
     },
     "execution_count": 4,
     "metadata": {},
     "output_type": "execute_result"
    }
   ],
   "source": [
    "params = {}\n",
    "params['m'] = 2\n",
    "params['Ixx'] = 1#0.02\n",
    "params[\"g\"] = 9.81\n",
    "params[\"L\"] = 0.2"
   ]
  },
  {
   "cell_type": "code",
   "execution_count": null,
   "id": "f59f391a-dc84-480b-9bcc-b1312f07923d",
   "metadata": {},
   "outputs": [],
   "source": []
  }
 ],
 "metadata": {
  "kernelspec": {
   "display_name": "Python 3 (ipykernel)",
   "language": "python",
   "name": "python3"
  },
  "language_info": {
   "codemirror_mode": {
    "name": "ipython",
    "version": 3
   },
   "file_extension": ".py",
   "mimetype": "text/x-python",
   "name": "python",
   "nbconvert_exporter": "python",
   "pygments_lexer": "ipython3",
   "version": "3.8.10"
  }
 },
 "nbformat": 4,
 "nbformat_minor": 5
}
