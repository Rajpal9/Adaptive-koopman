{
 "cells": [
  {
   "cell_type": "code",
   "execution_count": 2,
   "id": "e4df5703-f653-41df-bcad-fe2d46638439",
   "metadata": {},
   "outputs": [],
   "source": [
    "import numpy as np \n",
    "import scipy as sp\n",
    "\n",
    "import control as ct\n",
    "from core.utility import Output_Con"
   ]
  },
  {
   "cell_type": "code",
   "execution_count": 12,
   "id": "da29dcd5-78cc-4969-90e5-4fbf223a25ca",
   "metadata": {},
   "outputs": [],
   "source": [
    "A = np.eye(2)\n",
    "B = np.array([[0],[1]])\n",
    "C = np.eye(2)"
   ]
  },
  {
   "cell_type": "code",
   "execution_count": 13,
   "id": "c35b1141-09f0-4548-bf2e-75a76b8f82ae",
   "metadata": {},
   "outputs": [],
   "source": [
    "dt = 0.1"
   ]
  },
  {
   "cell_type": "code",
   "execution_count": 14,
   "id": "d2289bc3-0475-4efa-9ac1-1e2333dd3260",
   "metadata": {},
   "outputs": [],
   "source": [
    "Ad = A*dt + np.eye(A.shape[0])\n",
    "Bd = B*dt\n",
    "Cd  = C"
   ]
  },
  {
   "cell_type": "code",
   "execution_count": 15,
   "id": "94daff81-cb57-45bb-8172-087563fa3d55",
   "metadata": {},
   "outputs": [
    {
     "name": "stdout",
     "output_type": "stream",
     "text": [
      "Rank for state Controllability : 1\n",
      "Rank for Output Controllability : 1\n"
     ]
    }
   ],
   "source": [
    "Con = ct.ctrb(A,B)\n",
    "print(\"Rank for state Controllability :\", np.linalg.matrix_rank(Con))\n",
    "\n",
    "Out_con, Out_rank = Output_Con(A, B, C)\n",
    "print(\"Rank for Output Controllability :\", Out_rank)\n"
   ]
  },
  {
   "cell_type": "code",
   "execution_count": 16,
   "id": "e46da173-35a1-46f2-9a94-5d1f447666d9",
   "metadata": {},
   "outputs": [
    {
     "data": {
      "text/plain": [
       "array([[1., 0.],\n",
       "       [0., 1.]])"
      ]
     },
     "execution_count": 16,
     "metadata": {},
     "output_type": "execute_result"
    }
   ],
   "source": [
    "A"
   ]
  },
  {
   "cell_type": "code",
   "execution_count": 17,
   "id": "423ecfa7-6726-41d5-876a-7f01493be8e4",
   "metadata": {},
   "outputs": [
    {
     "data": {
      "text/plain": [
       "array([[0],\n",
       "       [1]])"
      ]
     },
     "execution_count": 17,
     "metadata": {},
     "output_type": "execute_result"
    }
   ],
   "source": [
    "B"
   ]
  },
  {
   "cell_type": "code",
   "execution_count": null,
   "id": "f6f08f05-6c3f-4d9a-ab42-876cbc706cc3",
   "metadata": {},
   "outputs": [],
   "source": []
  }
 ],
 "metadata": {
  "kernelspec": {
   "display_name": "Python 3 (ipykernel)",
   "language": "python",
   "name": "python3"
  },
  "language_info": {
   "codemirror_mode": {
    "name": "ipython",
    "version": 3
   },
   "file_extension": ".py",
   "mimetype": "text/x-python",
   "name": "python",
   "nbconvert_exporter": "python",
   "pygments_lexer": "ipython3",
   "version": "3.8.10"
  }
 },
 "nbformat": 4,
 "nbformat_minor": 5
}
